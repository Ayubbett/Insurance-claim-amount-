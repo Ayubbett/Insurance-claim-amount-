{
  "nbformat": 4,
  "nbformat_minor": 0,
  "metadata": {
    "colab": {
      "name": "Zindi 2.ipynb",
      "provenance": [],
      "authorship_tag": "ABX9TyNiRjU1si7Kz07JaPfEb/Mr",
      "include_colab_link": true
    },
    "kernelspec": {
      "name": "python3",
      "display_name": "Python 3"
    },
    "language_info": {
      "name": "python"
    },
    "widgets": {
      "application/vnd.jupyter.widget-state+json": {
        "fe87370d0d2846ca8d8553a8ef3e6988": {
          "model_module": "catboost-widget",
          "model_name": "CatboostWidgetModel",
          "model_module_version": "^1.0.0",
          "state": {
            "_dom_classes": [],
            "_model_module": "catboost-widget",
            "_model_module_version": "^1.0.0",
            "_model_name": "CatboostWidgetModel",
            "_view_count": null,
            "_view_module": "catboost-widget",
            "_view_module_version": "^1.0.0",
            "_view_name": "CatboostWidgetView",
            "data": {
              "catboost_info": {
                "path": "catboost_info",
                "name": "catboost_info",
                "content": {
                  "passed_iterations": 999,
                  "total_iterations": 1000,
                  "data": {
                    "iterations": [
                      {
                        "learn": [
                          8399.176714
                        ],
                        "iteration": 0,
                        "passed_time": 0.04856578502,
                        "remaining_time": 48.51721923,
                        "test": [
                          8698.741811
                        ]
                      },
                      {
                        "learn": [
                          8223.890099
                        ],
                        "iteration": 1,
                        "passed_time": 0.05105877317,
                        "remaining_time": 25.47832781,
                        "test": [
                          8520.16734
                        ]
                      },
                      {
                        "learn": [
                          8063.278884
                        ],
                        "iteration": 2,
                        "passed_time": 0.05346742437,
                        "remaining_time": 17.76900737,
                        "test": [
                          8373.393266
                        ]
                      },
                      {
                        "learn": [
                          7935.379056
                        ],
                        "iteration": 3,
                        "passed_time": 0.0558084653,
                        "remaining_time": 13.89630786,
                        "test": [
                          8253.466911
                        ]
                      },
                      {
                        "learn": [
                          7809.877548
                        ],
                        "iteration": 4,
                        "passed_time": 0.05823829459,
                        "remaining_time": 11.58942062,
                        "test": [
                          8129.070987
                        ]
                      },
                      {
                        "learn": [
                          7678.056693
                        ],
                        "iteration": 5,
                        "passed_time": 0.0607426999,
                        "remaining_time": 10.06304062,
                        "test": [
                          8004.689404
                        ]
                      },
                      {
                        "learn": [
                          7552.952217
                        ],
                        "iteration": 6,
                        "passed_time": 0.06317036302,
                        "remaining_time": 8.961167211,
                        "test": [
                          7891.407684
                        ]
                      },
                      {
                        "learn": [
                          7442.950762
                        ],
                        "iteration": 7,
                        "passed_time": 0.06558297296,
                        "remaining_time": 8.132288647,
                        "test": [
                          7791.068397
                        ]
                      },
                      {
                        "learn": [
                          7349.537992
                        ],
                        "iteration": 8,
                        "passed_time": 0.06798511747,
                        "remaining_time": 7.485916824,
                        "test": [
                          7701.854629
                        ]
                      },
                      {
                        "learn": [
                          7259.139187
                        ],
                        "iteration": 9,
                        "passed_time": 0.07033314595,
                        "remaining_time": 6.962981449,
                        "test": [
                          7626.089046
                        ]
                      },
                      {
                        "learn": [
                          7183.002901
                        ],
                        "iteration": 10,
                        "passed_time": 0.07266619306,
                        "remaining_time": 6.533351358,
                        "test": [
                          7559.165619
                        ]
                      },
                      {
                        "learn": [
                          7105.131924
                        ],
                        "iteration": 11,
                        "passed_time": 0.0750653842,
                        "remaining_time": 6.180383299,
                        "test": [
                          7470.581232
                        ]
                      },
                      {
                        "learn": [
                          7031.840379
                        ],
                        "iteration": 12,
                        "passed_time": 0.07743367086,
                        "remaining_time": 5.879002549,
                        "test": [
                          7403.372463
                        ]
                      },
                      {
                        "learn": [
                          6967.018889
                        ],
                        "iteration": 13,
                        "passed_time": 0.07984645714,
                        "remaining_time": 5.62347191,
                        "test": [
                          7337.769221
                        ]
                      },
                      {
                        "learn": [
                          6905.127536
                        ],
                        "iteration": 14,
                        "passed_time": 0.08225343486,
                        "remaining_time": 5.401308889,
                        "test": [
                          7287.940699
                        ]
                      },
                      {
                        "learn": [
                          6853.833146
                        ],
                        "iteration": 15,
                        "passed_time": 0.08459176876,
                        "remaining_time": 5.202393779,
                        "test": [
                          7233.880456
                        ]
                      },
                      {
                        "learn": [
                          6809.455255
                        ],
                        "iteration": 16,
                        "passed_time": 0.08699982638,
                        "remaining_time": 5.030637019,
                        "test": [
                          7189.64438
                        ]
                      },
                      {
                        "learn": [
                          6730.141046
                        ],
                        "iteration": 17,
                        "passed_time": 0.08954479257,
                        "remaining_time": 4.885165906,
                        "test": [
                          7120.165075
                        ]
                      },
                      {
                        "learn": [
                          6689.736343
                        ],
                        "iteration": 18,
                        "passed_time": 0.09208067777,
                        "remaining_time": 4.754270784,
                        "test": [
                          7086.00723
                        ]
                      },
                      {
                        "learn": [
                          6641.986363
                        ],
                        "iteration": 19,
                        "passed_time": 0.09455846819,
                        "remaining_time": 4.633364942,
                        "test": [
                          7036.952597
                        ]
                      },
                      {
                        "learn": [
                          6584.30554
                        ],
                        "iteration": 20,
                        "passed_time": 0.09698273708,
                        "remaining_time": 4.521242838,
                        "test": [
                          6962.843361
                        ]
                      },
                      {
                        "learn": [
                          6530.079089
                        ],
                        "iteration": 21,
                        "passed_time": 0.09939718231,
                        "remaining_time": 4.418656559,
                        "test": [
                          6912.851549
                        ]
                      },
                      {
                        "learn": [
                          6494.812107
                        ],
                        "iteration": 22,
                        "passed_time": 0.101722801,
                        "remaining_time": 4.321007677,
                        "test": [
                          6874.302561
                        ]
                      },
                      {
                        "learn": [
                          6455.32179
                        ],
                        "iteration": 23,
                        "passed_time": 0.1040312803,
                        "remaining_time": 4.230605399,
                        "test": [
                          6840.169631
                        ]
                      },
                      {
                        "learn": [
                          6412.168317
                        ],
                        "iteration": 24,
                        "passed_time": 0.1063153818,
                        "remaining_time": 4.146299891,
                        "test": [
                          6780.219448
                        ]
                      },
                      {
                        "learn": [
                          6380.652746
                        ],
                        "iteration": 25,
                        "passed_time": 0.1086688307,
                        "remaining_time": 4.070901582,
                        "test": [
                          6750.651295
                        ]
                      },
                      {
                        "learn": [
                          6334.403042
                        ],
                        "iteration": 26,
                        "passed_time": 0.1110486118,
                        "remaining_time": 4.001862936,
                        "test": [
                          6716.98142
                        ]
                      },
                      {
                        "learn": [
                          6302.734109
                        ],
                        "iteration": 27,
                        "passed_time": 0.1133196954,
                        "remaining_time": 3.933812283,
                        "test": [
                          6692.110679
                        ]
                      },
                      {
                        "learn": [
                          6258.072103
                        ],
                        "iteration": 28,
                        "passed_time": 0.1157154578,
                        "remaining_time": 3.874472741,
                        "test": [
                          6652.210402
                        ]
                      },
                      {
                        "learn": [
                          6232.255584
                        ],
                        "iteration": 29,
                        "passed_time": 0.1180572768,
                        "remaining_time": 3.817185283,
                        "test": [
                          6632.028125
                        ]
                      },
                      {
                        "learn": [
                          6190.991188
                        ],
                        "iteration": 30,
                        "passed_time": 0.1204773079,
                        "remaining_time": 3.765887462,
                        "test": [
                          6594.858589
                        ]
                      },
                      {
                        "learn": [
                          6170.607705
                        ],
                        "iteration": 31,
                        "passed_time": 0.1228246719,
                        "remaining_time": 3.715446324,
                        "test": [
                          6563.432181
                        ]
                      },
                      {
                        "learn": [
                          6142.971966
                        ],
                        "iteration": 32,
                        "passed_time": 0.1252320286,
                        "remaining_time": 3.66967793,
                        "test": [
                          6537.076856
                        ]
                      },
                      {
                        "learn": [
                          6106.794591
                        ],
                        "iteration": 33,
                        "passed_time": 0.1276603663,
                        "remaining_time": 3.627056288,
                        "test": [
                          6512.424461
                        ]
                      },
                      {
                        "learn": [
                          6085.001813
                        ],
                        "iteration": 34,
                        "passed_time": 0.1300120362,
                        "remaining_time": 3.58461757,
                        "test": [
                          6491.883002
                        ]
                      },
                      {
                        "learn": [
                          6056.094158
                        ],
                        "iteration": 35,
                        "passed_time": 0.1322799674,
                        "remaining_time": 3.542163571,
                        "test": [
                          6469.420556
                        ]
                      },
                      {
                        "learn": [
                          6033.515683
                        ],
                        "iteration": 36,
                        "passed_time": 0.1347490859,
                        "remaining_time": 3.5071181,
                        "test": [
                          6442.707927
                        ]
                      },
                      {
                        "learn": [
                          6006.166323
                        ],
                        "iteration": 37,
                        "passed_time": 0.1371660772,
                        "remaining_time": 3.472467534,
                        "test": [
                          6419.221491
                        ]
                      },
                      {
                        "learn": [
                          5988.608523
                        ],
                        "iteration": 38,
                        "passed_time": 0.1395405915,
                        "remaining_time": 3.438423293,
                        "test": [
                          6404.417577
                        ]
                      },
                      {
                        "learn": [
                          5951.552956
                        ],
                        "iteration": 39,
                        "passed_time": 0.1418888954,
                        "remaining_time": 3.40533349,
                        "test": [
                          6374.426546
                        ]
                      },
                      {
                        "learn": [
                          5919.645648
                        ],
                        "iteration": 40,
                        "passed_time": 0.1442895646,
                        "remaining_time": 3.374968109,
                        "test": [
                          6344.234897
                        ]
                      },
                      {
                        "learn": [
                          5899.366816
                        ],
                        "iteration": 41,
                        "passed_time": 0.1466598511,
                        "remaining_time": 3.345241365,
                        "test": [
                          6315.79445
                        ]
                      },
                      {
                        "learn": [
                          5885.960704
                        ],
                        "iteration": 42,
                        "passed_time": 0.1490866815,
                        "remaining_time": 3.318045448,
                        "test": [
                          6305.105372
                        ]
                      },
                      {
                        "learn": [
                          5865.949542
                        ],
                        "iteration": 43,
                        "passed_time": 0.1514120657,
                        "remaining_time": 3.289771246,
                        "test": [
                          6285.328756
                        ]
                      },
                      {
                        "learn": [
                          5843.517035
                        ],
                        "iteration": 44,
                        "passed_time": 0.1538317014,
                        "remaining_time": 3.264650551,
                        "test": [
                          6269.046163
                        ]
                      },
                      {
                        "learn": [
                          5826.349759
                        ],
                        "iteration": 45,
                        "passed_time": 0.1560503497,
                        "remaining_time": 3.236348557,
                        "test": [
                          6247.045451
                        ]
                      },
                      {
                        "learn": [
                          5809.130662
                        ],
                        "iteration": 46,
                        "passed_time": 0.1584220333,
                        "remaining_time": 3.212259527,
                        "test": [
                          6233.247672
                        ]
                      },
                      {
                        "learn": [
                          5792.232415
                        ],
                        "iteration": 47,
                        "passed_time": 0.1607652022,
                        "remaining_time": 3.188509844,
                        "test": [
                          6208.141654
                        ]
                      },
                      {
                        "learn": [
                          5766.694094
                        ],
                        "iteration": 48,
                        "passed_time": 0.1631108882,
                        "remaining_time": 3.165682749,
                        "test": [
                          6182.317271
                        ]
                      },
                      {
                        "learn": [
                          5745.164692
                        ],
                        "iteration": 49,
                        "passed_time": 0.1654269332,
                        "remaining_time": 3.143111731,
                        "test": [
                          6162.829479
                        ]
                      },
                      {
                        "learn": [
                          5718.33246
                        ],
                        "iteration": 50,
                        "passed_time": 0.1678043045,
                        "remaining_time": 3.122476176,
                        "test": [
                          6141.641902
                        ]
                      },
                      {
                        "learn": [
                          5697.510839
                        ],
                        "iteration": 51,
                        "passed_time": 0.1702203723,
                        "remaining_time": 3.103248326,
                        "test": [
                          6122.48574
                        ]
                      },
                      {
                        "learn": [
                          5674.898307
                        ],
                        "iteration": 52,
                        "passed_time": 0.1727026169,
                        "remaining_time": 3.085837324,
                        "test": [
                          6095.729522
                        ]
                      },
                      {
                        "learn": [
                          5659.422743
                        ],
                        "iteration": 53,
                        "passed_time": 0.1750936178,
                        "remaining_time": 3.067380787,
                        "test": [
                          6078.020618
                        ]
                      },
                      {
                        "learn": [
                          5634.622535
                        ],
                        "iteration": 54,
                        "passed_time": 0.1775982259,
                        "remaining_time": 3.051460426,
                        "test": [
                          6054.125313
                        ]
                      },
                      {
                        "learn": [
                          5606.903507
                        ],
                        "iteration": 55,
                        "passed_time": 0.1799814021,
                        "remaining_time": 3.033972206,
                        "test": [
                          6027.595501
                        ]
                      },
                      {
                        "learn": [
                          5594.843532
                        ],
                        "iteration": 56,
                        "passed_time": 0.1823225112,
                        "remaining_time": 3.016318036,
                        "test": [
                          6014.645328
                        ]
                      },
                      {
                        "learn": [
                          5575.018109
                        ],
                        "iteration": 57,
                        "passed_time": 0.184723844,
                        "remaining_time": 3.000170017,
                        "test": [
                          5995.907809
                        ]
                      },
                      {
                        "learn": [
                          5539.333978
                        ],
                        "iteration": 58,
                        "passed_time": 0.187173516,
                        "remaining_time": 2.985258959,
                        "test": [
                          5966.553056
                        ]
                      },
                      {
                        "learn": [
                          5523.822279
                        ],
                        "iteration": 59,
                        "passed_time": 0.1924915188,
                        "remaining_time": 3.015700461,
                        "test": [
                          5947.103379
                        ]
                      },
                      {
                        "learn": [
                          5511.905843
                        ],
                        "iteration": 60,
                        "passed_time": 0.1981639614,
                        "remaining_time": 3.05042557,
                        "test": [
                          5936.082136
                        ]
                      },
                      {
                        "learn": [
                          5494.14218
                        ],
                        "iteration": 61,
                        "passed_time": 0.2005302364,
                        "remaining_time": 3.033828415,
                        "test": [
                          5926.808211
                        ]
                      },
                      {
                        "learn": [
                          5480.454497
                        ],
                        "iteration": 62,
                        "passed_time": 0.2028235135,
                        "remaining_time": 3.016597335,
                        "test": [
                          5911.2657
                        ]
                      },
                      {
                        "learn": [
                          5465.817081
                        ],
                        "iteration": 63,
                        "passed_time": 0.2051618974,
                        "remaining_time": 3.000492749,
                        "test": [
                          5891.316345
                        ]
                      },
                      {
                        "learn": [
                          5448.253295
                        ],
                        "iteration": 64,
                        "passed_time": 0.2074866407,
                        "remaining_time": 2.984615523,
                        "test": [
                          5866.890609
                        ]
                      },
                      {
                        "learn": [
                          5425.971293
                        ],
                        "iteration": 65,
                        "passed_time": 0.2098163226,
                        "remaining_time": 2.969218869,
                        "test": [
                          5848.187672
                        ]
                      },
                      {
                        "learn": [
                          5405.657477
                        ],
                        "iteration": 66,
                        "passed_time": 0.2122665164,
                        "remaining_time": 2.955890445,
                        "test": [
                          5829.798558
                        ]
                      },
                      {
                        "learn": [
                          5394.440089
                        ],
                        "iteration": 67,
                        "passed_time": 0.2146278055,
                        "remaining_time": 2.941663453,
                        "test": [
                          5820.152845
                        ]
                      },
                      {
                        "learn": [
                          5374.605925
                        ],
                        "iteration": 68,
                        "passed_time": 0.2169952077,
                        "remaining_time": 2.927862875,
                        "test": [
                          5797.232119
                        ]
                      },
                      {
                        "learn": [
                          5369.693859
                        ],
                        "iteration": 69,
                        "passed_time": 0.2192351187,
                        "remaining_time": 2.912695148,
                        "test": [
                          5786.67635
                        ]
                      },
                      {
                        "learn": [
                          5355.068364
                        ],
                        "iteration": 70,
                        "passed_time": 0.221774979,
                        "remaining_time": 2.901816274,
                        "test": [
                          5770.227921
                        ]
                      },
                      {
                        "learn": [
                          5333.942706
                        ],
                        "iteration": 71,
                        "passed_time": 0.2241968335,
                        "remaining_time": 2.889648077,
                        "test": [
                          5746.166423
                        ]
                      },
                      {
                        "learn": [
                          5318.909639
                        ],
                        "iteration": 72,
                        "passed_time": 0.2265684008,
                        "remaining_time": 2.877108323,
                        "test": [
                          5737.131278
                        ]
                      },
                      {
                        "learn": [
                          5305.525437
                        ],
                        "iteration": 73,
                        "passed_time": 0.2288300443,
                        "remaining_time": 2.863467852,
                        "test": [
                          5725.547623
                        ]
                      },
                      {
                        "learn": [
                          5290.070485
                        ],
                        "iteration": 74,
                        "passed_time": 0.2312047604,
                        "remaining_time": 2.851525379,
                        "test": [
                          5703.709473
                        ]
                      },
                      {
                        "learn": [
                          5273.581038
                        ],
                        "iteration": 75,
                        "passed_time": 0.2336263759,
                        "remaining_time": 2.840404886,
                        "test": [
                          5685.302102
                        ]
                      },
                      {
                        "learn": [
                          5254.607685
                        ],
                        "iteration": 76,
                        "passed_time": 0.2359530536,
                        "remaining_time": 2.828372318,
                        "test": [
                          5665.524116
                        ]
                      },
                      {
                        "learn": [
                          5238.418619
                        ],
                        "iteration": 77,
                        "passed_time": 0.2384057381,
                        "remaining_time": 2.818078084,
                        "test": [
                          5651.993185
                        ]
                      },
                      {
                        "learn": [
                          5224.355219
                        ],
                        "iteration": 78,
                        "passed_time": 0.2407173753,
                        "remaining_time": 2.806338008,
                        "test": [
                          5632.539636
                        ]
                      },
                      {
                        "learn": [
                          5212.208498
                        ],
                        "iteration": 79,
                        "passed_time": 0.2431365692,
                        "remaining_time": 2.796070546,
                        "test": [
                          5623.083804
                        ]
                      },
                      {
                        "learn": [
                          5201.898666
                        ],
                        "iteration": 80,
                        "passed_time": 0.2451667209,
                        "remaining_time": 2.781582919,
                        "test": [
                          5615.447688
                        ]
                      },
                      {
                        "learn": [
                          5188.505374
                        ],
                        "iteration": 81,
                        "passed_time": 0.2474576336,
                        "remaining_time": 2.770318386,
                        "test": [
                          5603.015315
                        ]
                      },
                      {
                        "learn": [
                          5182.527857
                        ],
                        "iteration": 82,
                        "passed_time": 0.2498135441,
                        "remaining_time": 2.759988192,
                        "test": [
                          5592.050552
                        ]
                      },
                      {
                        "learn": [
                          5163.529345
                        ],
                        "iteration": 83,
                        "passed_time": 0.2521857858,
                        "remaining_time": 2.75002595,
                        "test": [
                          5578.066296
                        ]
                      },
                      {
                        "learn": [
                          5148.775258
                        ],
                        "iteration": 84,
                        "passed_time": 0.25454129,
                        "remaining_time": 2.740062122,
                        "test": [
                          5567.699988
                        ]
                      },
                      {
                        "learn": [
                          5135.719223
                        ],
                        "iteration": 85,
                        "passed_time": 0.2569163133,
                        "remaining_time": 2.730482679,
                        "test": [
                          5558.851322
                        ]
                      },
                      {
                        "learn": [
                          5116.496125
                        ],
                        "iteration": 86,
                        "passed_time": 0.2592856144,
                        "remaining_time": 2.721008804,
                        "test": [
                          5538.582627
                        ]
                      },
                      {
                        "learn": [
                          5104.72161
                        ],
                        "iteration": 87,
                        "passed_time": 0.2615372634,
                        "remaining_time": 2.710477094,
                        "test": [
                          5523.044919
                        ]
                      },
                      {
                        "learn": [
                          5090.895905
                        ],
                        "iteration": 88,
                        "passed_time": 0.263891695,
                        "remaining_time": 2.701183529,
                        "test": [
                          5515.222586
                        ]
                      },
                      {
                        "learn": [
                          5069.594575
                        ],
                        "iteration": 89,
                        "passed_time": 0.2662576418,
                        "remaining_time": 2.692160601,
                        "test": [
                          5495.587264
                        ]
                      },
                      {
                        "learn": [
                          5063.954789
                        ],
                        "iteration": 90,
                        "passed_time": 0.2686049295,
                        "remaining_time": 2.683097592,
                        "test": [
                          5489.854436
                        ]
                      },
                      {
                        "learn": [
                          5048.197021
                        ],
                        "iteration": 91,
                        "passed_time": 0.2709880584,
                        "remaining_time": 2.674534316,
                        "test": [
                          5474.744298
                        ]
                      },
                      {
                        "learn": [
                          5032.442244
                        ],
                        "iteration": 92,
                        "passed_time": 0.2733337007,
                        "remaining_time": 2.66573835,
                        "test": [
                          5459.397559
                        ]
                      },
                      {
                        "learn": [
                          5024.11326
                        ],
                        "iteration": 93,
                        "passed_time": 0.2756014392,
                        "remaining_time": 2.656328765,
                        "test": [
                          5446.69183
                        ]
                      },
                      {
                        "learn": [
                          5005.138542
                        ],
                        "iteration": 94,
                        "passed_time": 0.2781865981,
                        "remaining_time": 2.650093382,
                        "test": [
                          5436.502606
                        ]
                      },
                      {
                        "learn": [
                          4995.937647
                        ],
                        "iteration": 95,
                        "passed_time": 0.2807279292,
                        "remaining_time": 2.643521333,
                        "test": [
                          5425.263804
                        ]
                      },
                      {
                        "learn": [
                          4984.209502
                        ],
                        "iteration": 96,
                        "passed_time": 0.2830467694,
                        "remaining_time": 2.634961163,
                        "test": [
                          5413.120974
                        ]
                      },
                      {
                        "learn": [
                          4974.877749
                        ],
                        "iteration": 97,
                        "passed_time": 0.2853944688,
                        "remaining_time": 2.626793988,
                        "test": [
                          5404.515947
                        ]
                      },
                      {
                        "learn": [
                          4961.137605
                        ],
                        "iteration": 98,
                        "passed_time": 0.2877568224,
                        "remaining_time": 2.618877747,
                        "test": [
                          5383.595566
                        ]
                      },
                      {
                        "learn": [
                          4947.45328
                        ],
                        "iteration": 99,
                        "passed_time": 0.2914040574,
                        "remaining_time": 2.622636517,
                        "test": [
                          5376.454644
                        ]
                      },
                      {
                        "learn": [
                          4930.453689
                        ],
                        "iteration": 100,
                        "passed_time": 0.2959505161,
                        "remaining_time": 2.634252613,
                        "test": [
                          5361.313895
                        ]
                      },
                      {
                        "learn": [
                          4910.145189
                        ],
                        "iteration": 101,
                        "passed_time": 0.2983860848,
                        "remaining_time": 2.626967688,
                        "test": [
                          5339.454418
                        ]
                      },
                      {
                        "learn": [
                          4900.615549
                        ],
                        "iteration": 102,
                        "passed_time": 0.3007408245,
                        "remaining_time": 2.619073006,
                        "test": [
                          5328.173021
                        ]
                      },
                      {
                        "learn": [
                          4884.941492
                        ],
                        "iteration": 103,
                        "passed_time": 0.3031541835,
                        "remaining_time": 2.611789889,
                        "test": [
                          5316.459226
                        ]
                      },
                      {
                        "learn": [
                          4855.38359
                        ],
                        "iteration": 104,
                        "passed_time": 0.3055903849,
                        "remaining_time": 2.604794234,
                        "test": [
                          5291.597646
                        ]
                      },
                      {
                        "learn": [
                          4838.381097
                        ],
                        "iteration": 105,
                        "passed_time": 0.307893412,
                        "remaining_time": 2.596761418,
                        "test": [
                          5277.687804
                        ]
                      },
                      {
                        "learn": [
                          4828.402036
                        ],
                        "iteration": 106,
                        "passed_time": 0.3102858183,
                        "remaining_time": 2.589581643,
                        "test": [
                          5269.090361
                        ]
                      },
                      {
                        "learn": [
                          4816.749349
                        ],
                        "iteration": 107,
                        "passed_time": 0.312648141,
                        "remaining_time": 2.582242053,
                        "test": [
                          5263.428814
                        ]
                      },
                      {
                        "learn": [
                          4807.258887
                        ],
                        "iteration": 108,
                        "passed_time": 0.3150910591,
                        "remaining_time": 2.575652602,
                        "test": [
                          5250.396057
                        ]
                      },
                      {
                        "learn": [
                          4799.650107
                        ],
                        "iteration": 109,
                        "passed_time": 0.3174005365,
                        "remaining_time": 2.568058886,
                        "test": [
                          5242.956945
                        ]
                      },
                      {
                        "learn": [
                          4780.17257
                        ],
                        "iteration": 110,
                        "passed_time": 0.3198063189,
                        "remaining_time": 2.561331689,
                        "test": [
                          5227.564056
                        ]
                      },
                      {
                        "learn": [
                          4772.678268
                        ],
                        "iteration": 111,
                        "passed_time": 0.3221833629,
                        "remaining_time": 2.554453806,
                        "test": [
                          5216.895006
                        ]
                      },
                      {
                        "learn": [
                          4767.156839
                        ],
                        "iteration": 112,
                        "passed_time": 0.3244611068,
                        "remaining_time": 2.546876122,
                        "test": [
                          5208.275252
                        ]
                      },
                      {
                        "learn": [
                          4755.664153
                        ],
                        "iteration": 113,
                        "passed_time": 0.3269015715,
                        "remaining_time": 2.540656073,
                        "test": [
                          5197.266643
                        ]
                      },
                      {
                        "learn": [
                          4746.604877
                        ],
                        "iteration": 114,
                        "passed_time": 0.3292508626,
                        "remaining_time": 2.533800117,
                        "test": [
                          5189.894636
                        ]
                      },
                      {
                        "learn": [
                          4737.104784
                        ],
                        "iteration": 115,
                        "passed_time": 0.3315548278,
                        "remaining_time": 2.526676446,
                        "test": [
                          5178.606076
                        ]
                      },
                      {
                        "learn": [
                          4726.636133
                        ],
                        "iteration": 116,
                        "passed_time": 0.333878963,
                        "remaining_time": 2.519787387,
                        "test": [
                          5166.710248
                        ]
                      },
                      {
                        "learn": [
                          4713.810167
                        ],
                        "iteration": 117,
                        "passed_time": 0.3362374614,
                        "remaining_time": 2.513232551,
                        "test": [
                          5156.701473
                        ]
                      },
                      {
                        "learn": [
                          4705.399292
                        ],
                        "iteration": 118,
                        "passed_time": 0.3385966271,
                        "remaining_time": 2.50675318,
                        "test": [
                          5149.47816
                        ]
                      },
                      {
                        "learn": [
                          4679.912175
                        ],
                        "iteration": 119,
                        "passed_time": 0.3409546019,
                        "remaining_time": 2.500333748,
                        "test": [
                          5128.66877
                        ]
                      },
                      {
                        "learn": [
                          4668.110999
                        ],
                        "iteration": 120,
                        "passed_time": 0.3433462619,
                        "remaining_time": 2.494226151,
                        "test": [
                          5120.225993
                        ]
                      },
                      {
                        "learn": [
                          4661.989688
                        ],
                        "iteration": 121,
                        "passed_time": 0.345606921,
                        "remaining_time": 2.487236694,
                        "test": [
                          5113.592017
                        ]
                      },
                      {
                        "learn": [
                          4648.974386
                        ],
                        "iteration": 122,
                        "passed_time": 0.3479968239,
                        "remaining_time": 2.481245647,
                        "test": [
                          5099.370119
                        ]
                      },
                      {
                        "learn": [
                          4641.730993
                        ],
                        "iteration": 123,
                        "passed_time": 0.3503480076,
                        "remaining_time": 2.47503915,
                        "test": [
                          5094.761749
                        ]
                      },
                      {
                        "learn": [
                          4630.939342
                        ],
                        "iteration": 124,
                        "passed_time": 0.3527189803,
                        "remaining_time": 2.469032862,
                        "test": [
                          5086.219646
                        ]
                      },
                      {
                        "learn": [
                          4622.652796
                        ],
                        "iteration": 125,
                        "passed_time": 0.3551555208,
                        "remaining_time": 2.463539089,
                        "test": [
                          5076.948658
                        ]
                      },
                      {
                        "learn": [
                          4613.981374
                        ],
                        "iteration": 126,
                        "passed_time": 0.3579225379,
                        "remaining_time": 2.460365162,
                        "test": [
                          5065.599015
                        ]
                      },
                      {
                        "learn": [
                          4601.088222
                        ],
                        "iteration": 127,
                        "passed_time": 0.3607482198,
                        "remaining_time": 2.457597247,
                        "test": [
                          5053.15315
                        ]
                      },
                      {
                        "learn": [
                          4587.237849
                        ],
                        "iteration": 128,
                        "passed_time": 0.363161216,
                        "remaining_time": 2.452042009,
                        "test": [
                          5039.463569
                        ]
                      },
                      {
                        "learn": [
                          4576.661397
                        ],
                        "iteration": 129,
                        "passed_time": 0.365550469,
                        "remaining_time": 2.446376215,
                        "test": [
                          5034.509906
                        ]
                      },
                      {
                        "learn": [
                          4563.605521
                        ],
                        "iteration": 130,
                        "passed_time": 0.3678915981,
                        "remaining_time": 2.440441212,
                        "test": [
                          5022.500278
                        ]
                      },
                      {
                        "learn": [
                          4557.794917
                        ],
                        "iteration": 131,
                        "passed_time": 0.3702708674,
                        "remaining_time": 2.434811461,
                        "test": [
                          5015.262182
                        ]
                      },
                      {
                        "learn": [
                          4534.890028
                        ],
                        "iteration": 132,
                        "passed_time": 0.3726196076,
                        "remaining_time": 2.429031577,
                        "test": [
                          4996.975121
                        ]
                      },
                      {
                        "learn": [
                          4522.120841
                        ],
                        "iteration": 133,
                        "passed_time": 0.374970484,
                        "remaining_time": 2.42331671,
                        "test": [
                          4982.149684
                        ]
                      },
                      {
                        "learn": [
                          4515.254484
                        ],
                        "iteration": 134,
                        "passed_time": 0.3772428375,
                        "remaining_time": 2.417148551,
                        "test": [
                          4972.887905
                        ]
                      },
                      {
                        "learn": [
                          4507.538974
                        ],
                        "iteration": 135,
                        "passed_time": 0.3797638731,
                        "remaining_time": 2.412617547,
                        "test": [
                          4966.231918
                        ]
                      },
                      {
                        "learn": [
                          4490.850336
                        ],
                        "iteration": 136,
                        "passed_time": 0.382107272,
                        "remaining_time": 2.406996903,
                        "test": [
                          4950.994811
                        ]
                      },
                      {
                        "learn": [
                          4474.402974
                        ],
                        "iteration": 137,
                        "passed_time": 0.3853729797,
                        "remaining_time": 2.407184844,
                        "test": [
                          4932.768863
                        ]
                      },
                      {
                        "learn": [
                          4450.918988
                        ],
                        "iteration": 138,
                        "passed_time": 0.3890273305,
                        "remaining_time": 2.409730443,
                        "test": [
                          4911.481971
                        ]
                      },
                      {
                        "learn": [
                          4437.106647
                        ],
                        "iteration": 139,
                        "passed_time": 0.3949939684,
                        "remaining_time": 2.42639152,
                        "test": [
                          4898.385421
                        ]
                      },
                      {
                        "learn": [
                          4428.757799
                        ],
                        "iteration": 140,
                        "passed_time": 0.4005376299,
                        "remaining_time": 2.440154781,
                        "test": [
                          4892.215807
                        ]
                      },
                      {
                        "learn": [
                          4422.446446
                        ],
                        "iteration": 141,
                        "passed_time": 0.4028954366,
                        "remaining_time": 2.434396371,
                        "test": [
                          4887.493097
                        ]
                      },
                      {
                        "learn": [
                          4405.614842
                        ],
                        "iteration": 142,
                        "passed_time": 0.4053053832,
                        "remaining_time": 2.428997996,
                        "test": [
                          4869.028749
                        ]
                      },
                      {
                        "learn": [
                          4390.850455
                        ],
                        "iteration": 143,
                        "passed_time": 0.4076516264,
                        "remaining_time": 2.423262446,
                        "test": [
                          4852.171826
                        ]
                      },
                      {
                        "learn": [
                          4380.316646
                        ],
                        "iteration": 144,
                        "passed_time": 0.4101831501,
                        "remaining_time": 2.418666161,
                        "test": [
                          4841.236157
                        ]
                      },
                      {
                        "learn": [
                          4372.025483
                        ],
                        "iteration": 145,
                        "passed_time": 0.4125686907,
                        "remaining_time": 2.413244259,
                        "test": [
                          4832.739521
                        ]
                      },
                      {
                        "learn": [
                          4365.488434
                        ],
                        "iteration": 146,
                        "passed_time": 0.4148879481,
                        "remaining_time": 2.407479046,
                        "test": [
                          4824.916291
                        ]
                      },
                      {
                        "learn": [
                          4359.045377
                        ],
                        "iteration": 147,
                        "passed_time": 0.4172076019,
                        "remaining_time": 2.401762681,
                        "test": [
                          4818.52337
                        ]
                      },
                      {
                        "learn": [
                          4350.530874
                        ],
                        "iteration": 148,
                        "passed_time": 0.4196260049,
                        "remaining_time": 2.396655907,
                        "test": [
                          4812.240266
                        ]
                      },
                      {
                        "learn": [
                          4343.992918
                        ],
                        "iteration": 149,
                        "passed_time": 0.4219714818,
                        "remaining_time": 2.39117173,
                        "test": [
                          4806.217632
                        ]
                      },
                      {
                        "learn": [
                          4339.662117
                        ],
                        "iteration": 150,
                        "passed_time": 0.4242743017,
                        "remaining_time": 2.385489285,
                        "test": [
                          4803.383432
                        ]
                      },
                      {
                        "learn": [
                          4329.85079
                        ],
                        "iteration": 151,
                        "passed_time": 0.426668865,
                        "remaining_time": 2.380363142,
                        "test": [
                          4792.70279
                        ]
                      },
                      {
                        "learn": [
                          4318.040597
                        ],
                        "iteration": 152,
                        "passed_time": 0.4289907713,
                        "remaining_time": 2.374870479,
                        "test": [
                          4782.580286
                        ]
                      },
                      {
                        "learn": [
                          4298.612993
                        ],
                        "iteration": 153,
                        "passed_time": 0.4314121914,
                        "remaining_time": 2.369965675,
                        "test": [
                          4765.485822
                        ]
                      },
                      {
                        "learn": [
                          4292.047035
                        ],
                        "iteration": 154,
                        "passed_time": 0.4337714298,
                        "remaining_time": 2.364753923,
                        "test": [
                          4755.349058
                        ]
                      },
                      {
                        "learn": [
                          4281.798765
                        ],
                        "iteration": 155,
                        "passed_time": 0.436093616,
                        "remaining_time": 2.359378282,
                        "test": [
                          4743.079566
                        ]
                      },
                      {
                        "learn": [
                          4265.157587
                        ],
                        "iteration": 156,
                        "passed_time": 0.4384140306,
                        "remaining_time": 2.354032024,
                        "test": [
                          4726.133673
                        ]
                      },
                      {
                        "learn": [
                          4249.996574
                        ],
                        "iteration": 157,
                        "passed_time": 0.4407832336,
                        "remaining_time": 2.348984067,
                        "test": [
                          4710.026632
                        ]
                      },
                      {
                        "learn": [
                          4238.085399
                        ],
                        "iteration": 158,
                        "passed_time": 0.443131023,
                        "remaining_time": 2.343856543,
                        "test": [
                          4701.075678
                        ]
                      },
                      {
                        "learn": [
                          4227.18803
                        ],
                        "iteration": 159,
                        "passed_time": 0.4455958846,
                        "remaining_time": 2.339378394,
                        "test": [
                          4688.943325
                        ]
                      },
                      {
                        "learn": [
                          4218.383598
                        ],
                        "iteration": 160,
                        "passed_time": 0.4478932167,
                        "remaining_time": 2.334052229,
                        "test": [
                          4679.11993
                        ]
                      },
                      {
                        "learn": [
                          4205.612358
                        ],
                        "iteration": 161,
                        "passed_time": 0.4502867838,
                        "remaining_time": 2.329261264,
                        "test": [
                          4666.96408
                        ]
                      },
                      {
                        "learn": [
                          4183.556196
                        ],
                        "iteration": 162,
                        "passed_time": 0.4526764594,
                        "remaining_time": 2.324479733,
                        "test": [
                          4650.468048
                        ]
                      },
                      {
                        "learn": [
                          4171.286665
                        ],
                        "iteration": 163,
                        "passed_time": 0.4550466659,
                        "remaining_time": 2.319628126,
                        "test": [
                          4641.866606
                        ]
                      },
                      {
                        "learn": [
                          4151.905404
                        ],
                        "iteration": 164,
                        "passed_time": 0.4574459652,
                        "remaining_time": 2.314953824,
                        "test": [
                          4623.790622
                        ]
                      },
                      {
                        "learn": [
                          4144.149648
                        ],
                        "iteration": 165,
                        "passed_time": 0.4598025875,
                        "remaining_time": 2.310092518,
                        "test": [
                          4615.057297
                        ]
                      },
                      {
                        "learn": [
                          4137.569012
                        ],
                        "iteration": 166,
                        "passed_time": 0.4633955693,
                        "remaining_time": 2.311428199,
                        "test": [
                          4610.645507
                        ]
                      },
                      {
                        "learn": [
                          4115.790919
                        ],
                        "iteration": 167,
                        "passed_time": 0.4658165485,
                        "remaining_time": 2.306901002,
                        "test": [
                          4594.74351
                        ]
                      },
                      {
                        "learn": [
                          4107.688758
                        ],
                        "iteration": 168,
                        "passed_time": 0.4682441016,
                        "remaining_time": 2.302431056,
                        "test": [
                          4587.715544
                        ]
                      },
                      {
                        "learn": [
                          4099.462911
                        ],
                        "iteration": 169,
                        "passed_time": 0.4705401248,
                        "remaining_time": 2.297342962,
                        "test": [
                          4578.348402
                        ]
                      },
                      {
                        "learn": [
                          4092.911058
                        ],
                        "iteration": 170,
                        "passed_time": 0.4729279278,
                        "remaining_time": 2.292732469,
                        "test": [
                          4573.448654
                        ]
                      },
                      {
                        "learn": [
                          4083.624917
                        ],
                        "iteration": 171,
                        "passed_time": 0.4752588815,
                        "remaining_time": 2.28787415,
                        "test": [
                          4565.825214
                        ]
                      },
                      {
                        "learn": [
                          4064.595338
                        ],
                        "iteration": 172,
                        "passed_time": 0.4776396316,
                        "remaining_time": 2.283283094,
                        "test": [
                          4552.207684
                        ]
                      },
                      {
                        "learn": [
                          4055.788702
                        ],
                        "iteration": 173,
                        "passed_time": 0.4799867456,
                        "remaining_time": 2.278557769,
                        "test": [
                          4544.940588
                        ]
                      },
                      {
                        "learn": [
                          4049.067658
                        ],
                        "iteration": 174,
                        "passed_time": 0.4822928015,
                        "remaining_time": 2.273666064,
                        "test": [
                          4542.747054
                        ]
                      },
                      {
                        "learn": [
                          4042.196427
                        ],
                        "iteration": 175,
                        "passed_time": 0.4846681166,
                        "remaining_time": 2.269128001,
                        "test": [
                          4535.619396
                        ]
                      },
                      {
                        "learn": [
                          4027.906953
                        ],
                        "iteration": 176,
                        "passed_time": 0.487164919,
                        "remaining_time": 2.265179256,
                        "test": [
                          4523.926717
                        ]
                      },
                      {
                        "learn": [
                          4021.767808
                        ],
                        "iteration": 177,
                        "passed_time": 0.4895260263,
                        "remaining_time": 2.260620189,
                        "test": [
                          4521.420241
                        ]
                      },
                      {
                        "learn": [
                          4015.53764
                        ],
                        "iteration": 178,
                        "passed_time": 0.4918233511,
                        "remaining_time": 2.255793136,
                        "test": [
                          4515.516676
                        ]
                      },
                      {
                        "learn": [
                          4007.478672
                        ],
                        "iteration": 179,
                        "passed_time": 0.4943118451,
                        "remaining_time": 2.251865072,
                        "test": [
                          4507.470637
                        ]
                      },
                      {
                        "learn": [
                          3999.680752
                        ],
                        "iteration": 180,
                        "passed_time": 0.4966913635,
                        "remaining_time": 2.247459816,
                        "test": [
                          4503.883847
                        ]
                      },
                      {
                        "learn": [
                          3993.061566
                        ],
                        "iteration": 181,
                        "passed_time": 0.4989249187,
                        "remaining_time": 2.242420788,
                        "test": [
                          4494.964743
                        ]
                      },
                      {
                        "learn": [
                          3982.041219
                        ],
                        "iteration": 182,
                        "passed_time": 0.5013273204,
                        "remaining_time": 2.238166234,
                        "test": [
                          4484.807271
                        ]
                      },
                      {
                        "learn": [
                          3965.885875
                        ],
                        "iteration": 183,
                        "passed_time": 0.5037384605,
                        "remaining_time": 2.233970564,
                        "test": [
                          4470.713861
                        ]
                      },
                      {
                        "learn": [
                          3961.469981
                        ],
                        "iteration": 184,
                        "passed_time": 0.5060927012,
                        "remaining_time": 2.229543521,
                        "test": [
                          4466.582256
                        ]
                      },
                      {
                        "learn": [
                          3951.708641
                        ],
                        "iteration": 185,
                        "passed_time": 0.5084717714,
                        "remaining_time": 2.22524743,
                        "test": [
                          4457.477587
                        ]
                      },
                      {
                        "learn": [
                          3944.580984
                        ],
                        "iteration": 186,
                        "passed_time": 0.5107749103,
                        "remaining_time": 2.220641722,
                        "test": [
                          4446.120038
                        ]
                      },
                      {
                        "learn": [
                          3933.599977
                        ],
                        "iteration": 187,
                        "passed_time": 0.5131760249,
                        "remaining_time": 2.216483682,
                        "test": [
                          4436.517629
                        ]
                      },
                      {
                        "learn": [
                          3924.915125
                        ],
                        "iteration": 188,
                        "passed_time": 0.5177114563,
                        "remaining_time": 2.221502598,
                        "test": [
                          4425.359099
                        ]
                      },
                      {
                        "learn": [
                          3909.510614
                        ],
                        "iteration": 189,
                        "passed_time": 0.5205107369,
                        "remaining_time": 2.219019457,
                        "test": [
                          4412.618767
                        ]
                      },
                      {
                        "learn": [
                          3905.421496
                        ],
                        "iteration": 190,
                        "passed_time": 0.5241546886,
                        "remaining_time": 2.220110697,
                        "test": [
                          4406.666816
                        ]
                      },
                      {
                        "learn": [
                          3899.555907
                        ],
                        "iteration": 191,
                        "passed_time": 0.5264632825,
                        "remaining_time": 2.21553298,
                        "test": [
                          4397.535531
                        ]
                      },
                      {
                        "learn": [
                          3891.278454
                        ],
                        "iteration": 192,
                        "passed_time": 0.5287996811,
                        "remaining_time": 2.21109504,
                        "test": [
                          4392.513545
                        ]
                      },
                      {
                        "learn": [
                          3882.052953
                        ],
                        "iteration": 193,
                        "passed_time": 0.5311991813,
                        "remaining_time": 2.206940928,
                        "test": [
                          4384.841253
                        ]
                      },
                      {
                        "learn": [
                          3871.771438
                        ],
                        "iteration": 194,
                        "passed_time": 0.5335826393,
                        "remaining_time": 2.202738588,
                        "test": [
                          4376.748932
                        ]
                      },
                      {
                        "learn": [
                          3864.857653
                        ],
                        "iteration": 195,
                        "passed_time": 0.5359520477,
                        "remaining_time": 2.198497175,
                        "test": [
                          4373.702974
                        ]
                      },
                      {
                        "learn": [
                          3848.180833
                        ],
                        "iteration": 196,
                        "passed_time": 0.538391347,
                        "remaining_time": 2.194559653,
                        "test": [
                          4357.338175
                        ]
                      },
                      {
                        "learn": [
                          3842.54787
                        ],
                        "iteration": 197,
                        "passed_time": 0.5406722443,
                        "remaining_time": 2.189995656,
                        "test": [
                          4352.008176
                        ]
                      },
                      {
                        "learn": [
                          3834.582794
                        ],
                        "iteration": 198,
                        "passed_time": 0.543169303,
                        "remaining_time": 2.186324682,
                        "test": [
                          4348.218
                        ]
                      },
                      {
                        "learn": [
                          3831.626809
                        ],
                        "iteration": 199,
                        "passed_time": 0.5454107092,
                        "remaining_time": 2.181642837,
                        "test": [
                          4346.401228
                        ]
                      },
                      {
                        "learn": [
                          3826.409705
                        ],
                        "iteration": 200,
                        "passed_time": 0.5478095641,
                        "remaining_time": 2.177611153,
                        "test": [
                          4343.615992
                        ]
                      },
                      {
                        "learn": [
                          3819.753928
                        ],
                        "iteration": 201,
                        "passed_time": 0.5502476826,
                        "remaining_time": 2.173750746,
                        "test": [
                          4338.50329
                        ]
                      },
                      {
                        "learn": [
                          3813.594163
                        ],
                        "iteration": 202,
                        "passed_time": 0.5525484426,
                        "remaining_time": 2.169365068,
                        "test": [
                          4328.776123
                        ]
                      },
                      {
                        "learn": [
                          3807.99337
                        ],
                        "iteration": 203,
                        "passed_time": 0.5548807289,
                        "remaining_time": 2.165122844,
                        "test": [
                          4323.755369
                        ]
                      },
                      {
                        "learn": [
                          3798.871051
                        ],
                        "iteration": 204,
                        "passed_time": 0.5572846051,
                        "remaining_time": 2.161176883,
                        "test": [
                          4315.949944
                        ]
                      },
                      {
                        "learn": [
                          3794.240592
                        ],
                        "iteration": 205,
                        "passed_time": 0.5595643297,
                        "remaining_time": 2.156767368,
                        "test": [
                          4311.637993
                        ]
                      },
                      {
                        "learn": [
                          3788.382028
                        ],
                        "iteration": 206,
                        "passed_time": 0.5619495585,
                        "remaining_time": 2.152782608,
                        "test": [
                          4307.276319
                        ]
                      },
                      {
                        "learn": [
                          3782.429693
                        ],
                        "iteration": 207,
                        "passed_time": 0.5683693765,
                        "remaining_time": 2.164175703,
                        "test": [
                          4303.110445
                        ]
                      },
                      {
                        "learn": [
                          3772.614591
                        ],
                        "iteration": 208,
                        "passed_time": 0.5707546344,
                        "remaining_time": 2.160128784,
                        "test": [
                          4295.248148
                        ]
                      },
                      {
                        "learn": [
                          3765.200003
                        ],
                        "iteration": 209,
                        "passed_time": 0.573078116,
                        "remaining_time": 2.155865293,
                        "test": [
                          4292.365613
                        ]
                      },
                      {
                        "learn": [
                          3758.630183
                        ],
                        "iteration": 210,
                        "passed_time": 0.575376478,
                        "remaining_time": 2.151526261,
                        "test": [
                          4286.646985
                        ]
                      },
                      {
                        "learn": [
                          3745.078562
                        ],
                        "iteration": 211,
                        "passed_time": 0.577809038,
                        "remaining_time": 2.147705292,
                        "test": [
                          4273.297599
                        ]
                      },
                      {
                        "learn": [
                          3729.934313
                        ],
                        "iteration": 212,
                        "passed_time": 0.5858911008,
                        "remaining_time": 2.164771344,
                        "test": [
                          4258.75982
                        ]
                      },
                      {
                        "learn": [
                          3720.778605
                        ],
                        "iteration": 213,
                        "passed_time": 0.5898660855,
                        "remaining_time": 2.166517491,
                        "test": [
                          4248.545001
                        ]
                      },
                      {
                        "learn": [
                          3713.954855
                        ],
                        "iteration": 214,
                        "passed_time": 0.5922357511,
                        "remaining_time": 2.162349138,
                        "test": [
                          4240.126826
                        ]
                      },
                      {
                        "learn": [
                          3709.897948
                        ],
                        "iteration": 215,
                        "passed_time": 0.5945969393,
                        "remaining_time": 2.158166668,
                        "test": [
                          4238.145474
                        ]
                      },
                      {
                        "learn": [
                          3703.81918
                        ],
                        "iteration": 216,
                        "passed_time": 0.5969466958,
                        "remaining_time": 2.153959736,
                        "test": [
                          4232.895833
                        ]
                      },
                      {
                        "learn": [
                          3695.766768
                        ],
                        "iteration": 217,
                        "passed_time": 0.599289442,
                        "remaining_time": 2.149744696,
                        "test": [
                          4226.601121
                        ]
                      },
                      {
                        "learn": [
                          3692.520974
                        ],
                        "iteration": 218,
                        "passed_time": 0.6014983921,
                        "remaining_time": 2.145069608,
                        "test": [
                          4224.482944
                        ]
                      },
                      {
                        "learn": [
                          3679.440704
                        ],
                        "iteration": 219,
                        "passed_time": 0.604063212,
                        "remaining_time": 2.141678661,
                        "test": [
                          4210.798617
                        ]
                      },
                      {
                        "learn": [
                          3674.877493
                        ],
                        "iteration": 220,
                        "passed_time": 0.6069109227,
                        "remaining_time": 2.139292348,
                        "test": [
                          4205.221547
                        ]
                      },
                      {
                        "learn": [
                          3663.602879
                        ],
                        "iteration": 221,
                        "passed_time": 0.6092934045,
                        "remaining_time": 2.13527148,
                        "test": [
                          4197.086026
                        ]
                      },
                      {
                        "learn": [
                          3655.764736
                        ],
                        "iteration": 222,
                        "passed_time": 0.6116736719,
                        "remaining_time": 2.131257592,
                        "test": [
                          4185.904206
                        ]
                      },
                      {
                        "learn": [
                          3648.559472
                        ],
                        "iteration": 223,
                        "passed_time": 0.6140379252,
                        "remaining_time": 2.127202812,
                        "test": [
                          4179.989609
                        ]
                      },
                      {
                        "learn": [
                          3641.153683
                        ],
                        "iteration": 224,
                        "passed_time": 0.6164192616,
                        "remaining_time": 2.123221901,
                        "test": [
                          4174.536234
                        ]
                      },
                      {
                        "learn": [
                          3634.231022
                        ],
                        "iteration": 225,
                        "passed_time": 0.6190165331,
                        "remaining_time": 2.119994675,
                        "test": [
                          4163.154696
                        ]
                      },
                      {
                        "learn": [
                          3630.48691
                        ],
                        "iteration": 226,
                        "passed_time": 0.6213246588,
                        "remaining_time": 2.115788376,
                        "test": [
                          4161.177625
                        ]
                      },
                      {
                        "learn": [
                          3617.425386
                        ],
                        "iteration": 227,
                        "passed_time": 0.6237371215,
                        "remaining_time": 2.111952008,
                        "test": [
                          4153.984926
                        ]
                      },
                      {
                        "learn": [
                          3602.624146
                        ],
                        "iteration": 228,
                        "passed_time": 0.6261739629,
                        "remaining_time": 2.108210155,
                        "test": [
                          4142.916963
                        ]
                      },
                      {
                        "learn": [
                          3597.425872
                        ],
                        "iteration": 229,
                        "passed_time": 0.6284518568,
                        "remaining_time": 2.103947521,
                        "test": [
                          4134.778537
                        ]
                      },
                      {
                        "learn": [
                          3585.394355
                        ],
                        "iteration": 230,
                        "passed_time": 0.6308378782,
                        "remaining_time": 2.100062027,
                        "test": [
                          4124.773356
                        ]
                      },
                      {
                        "learn": [
                          3578.012564
                        ],
                        "iteration": 231,
                        "passed_time": 0.6331879756,
                        "remaining_time": 2.09607054,
                        "test": [
                          4119.139249
                        ]
                      },
                      {
                        "learn": [
                          3571.942939
                        ],
                        "iteration": 232,
                        "passed_time": 0.6354943678,
                        "remaining_time": 2.091949271,
                        "test": [
                          4113.381338
                        ]
                      },
                      {
                        "learn": [
                          3565.125882
                        ],
                        "iteration": 233,
                        "passed_time": 0.6378636089,
                        "remaining_time": 2.08804925,
                        "test": [
                          4110.148675
                        ]
                      },
                      {
                        "learn": [
                          3559.180949
                        ],
                        "iteration": 234,
                        "passed_time": 0.6402317038,
                        "remaining_time": 2.084158525,
                        "test": [
                          4105.295262
                        ]
                      },
                      {
                        "learn": [
                          3549.03146
                        ],
                        "iteration": 235,
                        "passed_time": 0.6425552608,
                        "remaining_time": 2.080136522,
                        "test": [
                          4096.257461
                        ]
                      },
                      {
                        "learn": [
                          3543.608461
                        ],
                        "iteration": 236,
                        "passed_time": 0.6449185652,
                        "remaining_time": 2.076256815,
                        "test": [
                          4093.952938
                        ]
                      },
                      {
                        "learn": [
                          3535.488323
                        ],
                        "iteration": 237,
                        "passed_time": 0.6473910879,
                        "remaining_time": 2.072739534,
                        "test": [
                          4087.614928
                        ]
                      },
                      {
                        "learn": [
                          3530.222763
                        ],
                        "iteration": 238,
                        "passed_time": 0.64967914,
                        "remaining_time": 2.068643622,
                        "test": [
                          4079.232815
                        ]
                      },
                      {
                        "learn": [
                          3526.971612
                        ],
                        "iteration": 239,
                        "passed_time": 0.6520785193,
                        "remaining_time": 2.064915311,
                        "test": [
                          4076.123546
                        ]
                      },
                      {
                        "learn": [
                          3521.395949
                        ],
                        "iteration": 240,
                        "passed_time": 0.6544291585,
                        "remaining_time": 2.061044528,
                        "test": [
                          4072.109525
                        ]
                      },
                      {
                        "learn": [
                          3517.75783
                        ],
                        "iteration": 241,
                        "passed_time": 0.6567886286,
                        "remaining_time": 2.057213969,
                        "test": [
                          4070.729312
                        ]
                      },
                      {
                        "learn": [
                          3513.074527
                        ],
                        "iteration": 242,
                        "passed_time": 0.6590616721,
                        "remaining_time": 2.053126279,
                        "test": [
                          4066.732469
                        ]
                      },
                      {
                        "learn": [
                          3509.063567
                        ],
                        "iteration": 243,
                        "passed_time": 0.6613407886,
                        "remaining_time": 2.049072279,
                        "test": [
                          4064.066587
                        ]
                      },
                      {
                        "learn": [
                          3505.642057
                        ],
                        "iteration": 244,
                        "passed_time": 0.663738309,
                        "remaining_time": 2.045397646,
                        "test": [
                          4060.779325
                        ]
                      },
                      {
                        "learn": [
                          3499.088611
                        ],
                        "iteration": 245,
                        "passed_time": 0.6662167693,
                        "remaining_time": 2.04198148,
                        "test": [
                          4057.292018
                        ]
                      },
                      {
                        "learn": [
                          3491.567602
                        ],
                        "iteration": 246,
                        "passed_time": 0.6685197891,
                        "remaining_time": 2.038038062,
                        "test": [
                          4050.80981
                        ]
                      },
                      {
                        "learn": [
                          3483.176233
                        ],
                        "iteration": 247,
                        "passed_time": 0.6708656387,
                        "remaining_time": 2.034237743,
                        "test": [
                          4044.900339
                        ]
                      },
                      {
                        "learn": [
                          3479.739618
                        ],
                        "iteration": 248,
                        "passed_time": 0.6732015928,
                        "remaining_time": 2.030419262,
                        "test": [
                          4043.202891
                        ]
                      },
                      {
                        "learn": [
                          3466.762383
                        ],
                        "iteration": 249,
                        "passed_time": 0.6756335628,
                        "remaining_time": 2.026900689,
                        "test": [
                          4032.603537
                        ]
                      },
                      {
                        "learn": [
                          3463.527294
                        ],
                        "iteration": 250,
                        "passed_time": 0.6779913368,
                        "remaining_time": 2.023169368,
                        "test": [
                          4028.088752
                        ]
                      },
                      {
                        "learn": [
                          3460.41575
                        ],
                        "iteration": 251,
                        "passed_time": 0.6802972709,
                        "remaining_time": 2.019295074,
                        "test": [
                          4026.422702
                        ]
                      },
                      {
                        "learn": [
                          3456.254319
                        ],
                        "iteration": 252,
                        "passed_time": 0.6827056603,
                        "remaining_time": 2.015735685,
                        "test": [
                          4023.994988
                        ]
                      },
                      {
                        "learn": [
                          3451.165884
                        ],
                        "iteration": 253,
                        "passed_time": 0.6850804482,
                        "remaining_time": 2.012086671,
                        "test": [
                          4019.695105
                        ]
                      },
                      {
                        "learn": [
                          3446.504004
                        ],
                        "iteration": 254,
                        "passed_time": 0.6873903674,
                        "remaining_time": 2.008258132,
                        "test": [
                          4017.119431
                        ]
                      },
                      {
                        "learn": [
                          3441.337755
                        ],
                        "iteration": 255,
                        "passed_time": 0.6897135754,
                        "remaining_time": 2.004480078,
                        "test": [
                          4013.223168
                        ]
                      },
                      {
                        "learn": [
                          3431.668737
                        ],
                        "iteration": 256,
                        "passed_time": 0.692173382,
                        "remaining_time": 2.00110826,
                        "test": [
                          4002.241069
                        ]
                      },
                      {
                        "learn": [
                          3422.809245
                        ],
                        "iteration": 257,
                        "passed_time": 0.6946073045,
                        "remaining_time": 1.99766907,
                        "test": [
                          3994.102808
                        ]
                      },
                      {
                        "learn": [
                          3418.487664
                        ],
                        "iteration": 258,
                        "passed_time": 0.6969793118,
                        "remaining_time": 1.994060502,
                        "test": [
                          3990.649267
                        ]
                      },
                      {
                        "learn": [
                          3407.002829
                        ],
                        "iteration": 259,
                        "passed_time": 0.6993177238,
                        "remaining_time": 1.990365829,
                        "test": [
                          3979.064044
                        ]
                      },
                      {
                        "learn": [
                          3399.770078
                        ],
                        "iteration": 260,
                        "passed_time": 0.701775207,
                        "remaining_time": 1.98701869,
                        "test": [
                          3973.596331
                        ]
                      },
                      {
                        "learn": [
                          3393.703942
                        ],
                        "iteration": 261,
                        "passed_time": 0.7041318183,
                        "remaining_time": 1.983394206,
                        "test": [
                          3966.016339
                        ]
                      },
                      {
                        "learn": [
                          3387.506451
                        ],
                        "iteration": 262,
                        "passed_time": 0.7064975689,
                        "remaining_time": 1.979804974,
                        "test": [
                          3961.637314
                        ]
                      },
                      {
                        "learn": [
                          3381.768816
                        ],
                        "iteration": 263,
                        "passed_time": 0.7088620204,
                        "remaining_time": 1.97622139,
                        "test": [
                          3954.557527
                        ]
                      },
                      {
                        "learn": [
                          3378.303437
                        ],
                        "iteration": 264,
                        "passed_time": 0.711242446,
                        "remaining_time": 1.972691312,
                        "test": [
                          3951.432142
                        ]
                      },
                      {
                        "learn": [
                          3367.894701
                        ],
                        "iteration": 265,
                        "passed_time": 0.7136013826,
                        "remaining_time": 1.969110582,
                        "test": [
                          3941.388595
                        ]
                      },
                      {
                        "learn": [
                          3360.80935
                        ],
                        "iteration": 266,
                        "passed_time": 0.7159150778,
                        "remaining_time": 1.965414802,
                        "test": [
                          3933.818463
                        ]
                      },
                      {
                        "learn": [
                          3356.715101
                        ],
                        "iteration": 267,
                        "passed_time": 0.7182568814,
                        "remaining_time": 1.961806109,
                        "test": [
                          3931.697895
                        ]
                      },
                      {
                        "learn": [
                          3352.251093
                        ],
                        "iteration": 268,
                        "passed_time": 0.7206876869,
                        "remaining_time": 1.958448696,
                        "test": [
                          3930.120597
                        ]
                      },
                      {
                        "learn": [
                          3348.314038
                        ],
                        "iteration": 269,
                        "passed_time": 0.7230270217,
                        "remaining_time": 1.954850836,
                        "test": [
                          3926.98426
                        ]
                      },
                      {
                        "learn": [
                          3344.573173
                        ],
                        "iteration": 270,
                        "passed_time": 0.7253874517,
                        "remaining_time": 1.951319012,
                        "test": [
                          3923.735084
                        ]
                      },
                      {
                        "learn": [
                          3341.666983
                        ],
                        "iteration": 271,
                        "passed_time": 0.7277330986,
                        "remaining_time": 1.947756235,
                        "test": [
                          3920.175827
                        ]
                      },
                      {
                        "learn": [
                          3334.463041
                        ],
                        "iteration": 272,
                        "passed_time": 0.7301033006,
                        "remaining_time": 1.944267764,
                        "test": [
                          3913.999242
                        ]
                      },
                      {
                        "learn": [
                          3327.284741
                        ],
                        "iteration": 273,
                        "passed_time": 0.732540581,
                        "remaining_time": 1.940965189,
                        "test": [
                          3910.174073
                        ]
                      },
                      {
                        "learn": [
                          3323.207386
                        ],
                        "iteration": 274,
                        "passed_time": 0.7348940244,
                        "remaining_time": 1.937447883,
                        "test": [
                          3906.164864
                        ]
                      },
                      {
                        "learn": [
                          3317.59413
                        ],
                        "iteration": 275,
                        "passed_time": 0.7372583633,
                        "remaining_time": 1.933967591,
                        "test": [
                          3900.535937
                        ]
                      },
                      {
                        "learn": [
                          3314.758887
                        ],
                        "iteration": 276,
                        "passed_time": 0.7395647664,
                        "remaining_time": 1.930344138,
                        "test": [
                          3896.113624
                        ]
                      },
                      {
                        "learn": [
                          3305.232913
                        ],
                        "iteration": 277,
                        "passed_time": 0.7420675937,
                        "remaining_time": 1.927240297,
                        "test": [
                          3888.296862
                        ]
                      },
                      {
                        "learn": [
                          3300.897991
                        ],
                        "iteration": 278,
                        "passed_time": 0.7443886446,
                        "remaining_time": 1.923671013,
                        "test": [
                          3885.684973
                        ]
                      },
                      {
                        "learn": [
                          3294.370377
                        ],
                        "iteration": 279,
                        "passed_time": 0.7467946688,
                        "remaining_time": 1.920329148,
                        "test": [
                          3879.418025
                        ]
                      },
                      {
                        "learn": [
                          3287.416003
                        ],
                        "iteration": 280,
                        "passed_time": 0.7491609392,
                        "remaining_time": 1.916892225,
                        "test": [
                          3874.514867
                        ]
                      },
                      {
                        "learn": [
                          3284.293295
                        ],
                        "iteration": 281,
                        "passed_time": 0.7515869543,
                        "remaining_time": 1.913615011,
                        "test": [
                          3871.684957
                        ]
                      },
                      {
                        "learn": [
                          3273.019285
                        ],
                        "iteration": 282,
                        "passed_time": 0.7546072868,
                        "remaining_time": 1.911849557,
                        "test": [
                          3864.041942
                        ]
                      },
                      {
                        "learn": [
                          3268.966944
                        ],
                        "iteration": 283,
                        "passed_time": 0.7569947872,
                        "remaining_time": 1.908479816,
                        "test": [
                          3858.558467
                        ]
                      },
                      {
                        "learn": [
                          3266.123272
                        ],
                        "iteration": 284,
                        "passed_time": 0.7594004968,
                        "remaining_time": 1.90516265,
                        "test": [
                          3855.474883
                        ]
                      },
                      {
                        "learn": [
                          3261.080737
                        ],
                        "iteration": 285,
                        "passed_time": 0.7617750247,
                        "remaining_time": 1.901774013,
                        "test": [
                          3850.707424
                        ]
                      },
                      {
                        "learn": [
                          3251.224089
                        ],
                        "iteration": 286,
                        "passed_time": 0.764240879,
                        "remaining_time": 1.898619326,
                        "test": [
                          3840.713004
                        ]
                      },
                      {
                        "learn": [
                          3241.971154
                        ],
                        "iteration": 287,
                        "passed_time": 0.7666748842,
                        "remaining_time": 1.895390686,
                        "test": [
                          3834.004454
                        ]
                      },
                      {
                        "learn": [
                          3238.469595
                        ],
                        "iteration": 288,
                        "passed_time": 0.7690483704,
                        "remaining_time": 1.892018655,
                        "test": [
                          3831.507145
                        ]
                      },
                      {
                        "learn": [
                          3234.877097
                        ],
                        "iteration": 289,
                        "passed_time": 0.7713322765,
                        "remaining_time": 1.888434194,
                        "test": [
                          3828.695238
                        ]
                      },
                      {
                        "learn": [
                          3231.445676
                        ],
                        "iteration": 290,
                        "passed_time": 0.7736918349,
                        "remaining_time": 1.885042993,
                        "test": [
                          3827.102177
                        ]
                      },
                      {
                        "learn": [
                          3228.689562
                        ],
                        "iteration": 291,
                        "passed_time": 0.7760580281,
                        "remaining_time": 1.881674945,
                        "test": [
                          3825.76066
                        ]
                      },
                      {
                        "learn": [
                          3225.49786
                        ],
                        "iteration": 292,
                        "passed_time": 0.780255279,
                        "remaining_time": 1.882732021,
                        "test": [
                          3823.286482
                        ]
                      },
                      {
                        "learn": [
                          3218.34936
                        ],
                        "iteration": 293,
                        "passed_time": 0.785821863,
                        "remaining_time": 1.887041617,
                        "test": [
                          3815.798864
                        ]
                      },
                      {
                        "learn": [
                          3214.446938
                        ],
                        "iteration": 294,
                        "passed_time": 0.7891454936,
                        "remaining_time": 1.885923976,
                        "test": [
                          3811.485076
                        ]
                      },
                      {
                        "learn": [
                          3205.715055
                        ],
                        "iteration": 295,
                        "passed_time": 0.7932494376,
                        "remaining_time": 1.886647311,
                        "test": [
                          3805.756575
                        ]
                      },
                      {
                        "learn": [
                          3200.966718
                        ],
                        "iteration": 296,
                        "passed_time": 0.7956379724,
                        "remaining_time": 1.88327776,
                        "test": [
                          3801.731715
                        ]
                      },
                      {
                        "learn": [
                          3189.65185
                        ],
                        "iteration": 297,
                        "passed_time": 0.7980257073,
                        "remaining_time": 1.879912908,
                        "test": [
                          3794.118326
                        ]
                      },
                      {
                        "learn": [
                          3186.13262
                        ],
                        "iteration": 298,
                        "passed_time": 0.8003492616,
                        "remaining_time": 1.876404122,
                        "test": [
                          3791.245398
                        ]
                      },
                      {
                        "learn": [
                          3178.646766
                        ],
                        "iteration": 299,
                        "passed_time": 0.8027059693,
                        "remaining_time": 1.872980595,
                        "test": [
                          3783.015776
                        ]
                      },
                      {
                        "learn": [
                          3176.788337
                        ],
                        "iteration": 300,
                        "passed_time": 0.8049576683,
                        "remaining_time": 1.8693203,
                        "test": [
                          3781.312137
                        ]
                      },
                      {
                        "learn": [
                          3172.542571
                        ],
                        "iteration": 301,
                        "passed_time": 0.8073302691,
                        "remaining_time": 1.865948768,
                        "test": [
                          3776.73412
                        ]
                      },
                      {
                        "learn": [
                          3160.898731
                        ],
                        "iteration": 302,
                        "passed_time": 0.8097617546,
                        "remaining_time": 1.862719284,
                        "test": [
                          3769.161046
                        ]
                      },
                      {
                        "learn": [
                          3158.198863
                        ],
                        "iteration": 303,
                        "passed_time": 0.8121330174,
                        "remaining_time": 1.859357171,
                        "test": [
                          3765.598898
                        ]
                      },
                      {
                        "learn": [
                          3150.633176
                        ],
                        "iteration": 304,
                        "passed_time": 0.8145549919,
                        "remaining_time": 1.856117113,
                        "test": [
                          3759.648764
                        ]
                      },
                      {
                        "learn": [
                          3147.591012
                        ],
                        "iteration": 305,
                        "passed_time": 0.816899058,
                        "remaining_time": 1.852705707,
                        "test": [
                          3758.221111
                        ]
                      },
                      {
                        "learn": [
                          3139.095897
                        ],
                        "iteration": 306,
                        "passed_time": 0.8193150531,
                        "remaining_time": 1.849463622,
                        "test": [
                          3749.610643
                        ]
                      },
                      {
                        "learn": [
                          3137.084638
                        ],
                        "iteration": 307,
                        "passed_time": 0.8216556996,
                        "remaining_time": 1.846057611,
                        "test": [
                          3747.82007
                        ]
                      },
                      {
                        "learn": [
                          3132.579966
                        ],
                        "iteration": 308,
                        "passed_time": 0.8239866487,
                        "remaining_time": 1.84263681,
                        "test": [
                          3744.150179
                        ]
                      },
                      {
                        "learn": [
                          3122.194568
                        ],
                        "iteration": 309,
                        "passed_time": 0.8264484787,
                        "remaining_time": 1.839514356,
                        "test": [
                          3733.250592
                        ]
                      },
                      {
                        "learn": [
                          3118.282735
                        ],
                        "iteration": 310,
                        "passed_time": 0.8287799614,
                        "remaining_time": 1.836107374,
                        "test": [
                          3729.876515
                        ]
                      },
                      {
                        "learn": [
                          3112.824326
                        ],
                        "iteration": 311,
                        "passed_time": 0.8311449611,
                        "remaining_time": 1.832781196,
                        "test": [
                          3724.080638
                        ]
                      },
                      {
                        "learn": [
                          3108.874224
                        ],
                        "iteration": 312,
                        "passed_time": 0.833527811,
                        "remaining_time": 1.829500339,
                        "test": [
                          3719.226431
                        ]
                      },
                      {
                        "learn": [
                          3104.117228
                        ],
                        "iteration": 313,
                        "passed_time": 0.8359163094,
                        "remaining_time": 1.826237542,
                        "test": [
                          3714.979494
                        ]
                      },
                      {
                        "learn": [
                          3099.96231
                        ],
                        "iteration": 314,
                        "passed_time": 0.838230181,
                        "remaining_time": 1.822818013,
                        "test": [
                          3708.444187
                        ]
                      },
                      {
                        "learn": [
                          3096.455742
                        ],
                        "iteration": 315,
                        "passed_time": 0.8405900321,
                        "remaining_time": 1.819505006,
                        "test": [
                          3704.748259
                        ]
                      },
                      {
                        "learn": [
                          3086.489028
                        ],
                        "iteration": 316,
                        "passed_time": 0.8430057708,
                        "remaining_time": 1.816318427,
                        "test": [
                          3695.368675
                        ]
                      },
                      {
                        "learn": [
                          3081.327101
                        ],
                        "iteration": 317,
                        "passed_time": 0.8453396397,
                        "remaining_time": 1.812961114,
                        "test": [
                          3694.322399
                        ]
                      },
                      {
                        "learn": [
                          3077.080116
                        ],
                        "iteration": 318,
                        "passed_time": 0.8477746048,
                        "remaining_time": 1.809826037,
                        "test": [
                          3692.820249
                        ]
                      },
                      {
                        "learn": [
                          3073.235523
                        ],
                        "iteration": 319,
                        "passed_time": 0.8501061939,
                        "remaining_time": 1.806475662,
                        "test": [
                          3689.259164
                        ]
                      },
                      {
                        "learn": [
                          3068.421896
                        ],
                        "iteration": 320,
                        "passed_time": 0.8524220516,
                        "remaining_time": 1.803098358,
                        "test": [
                          3687.85562
                        ]
                      },
                      {
                        "learn": [
                          3063.781954
                        ],
                        "iteration": 321,
                        "passed_time": 0.8547848415,
                        "remaining_time": 1.799826468,
                        "test": [
                          3681.470964
                        ]
                      },
                      {
                        "learn": [
                          3061.194143
                        ],
                        "iteration": 322,
                        "passed_time": 0.8571171596,
                        "remaining_time": 1.796496338,
                        "test": [
                          3679.690712
                        ]
                      },
                      {
                        "learn": [
                          3055.367141
                        ],
                        "iteration": 323,
                        "passed_time": 0.8595421993,
                        "remaining_time": 1.793365823,
                        "test": [
                          3673.832278
                        ]
                      },
                      {
                        "learn": [
                          3053.534492
                        ],
                        "iteration": 324,
                        "passed_time": 0.8640254527,
                        "remaining_time": 1.794514402,
                        "test": [
                          3672.306855
                        ]
                      },
                      {
                        "learn": [
                          3050.892857
                        ],
                        "iteration": 325,
                        "passed_time": 0.8674132121,
                        "remaining_time": 1.793363512,
                        "test": [
                          3670.045801
                        ]
                      },
                      {
                        "learn": [
                          3044.888059
                        ],
                        "iteration": 326,
                        "passed_time": 0.8708982463,
                        "remaining_time": 1.792399143,
                        "test": [
                          3665.591104
                        ]
                      },
                      {
                        "learn": [
                          3037.568036
                        ],
                        "iteration": 327,
                        "passed_time": 0.8743503944,
                        "remaining_time": 1.791352028,
                        "test": [
                          3658.900755
                        ]
                      },
                      {
                        "learn": [
                          3035.888698
                        ],
                        "iteration": 328,
                        "passed_time": 0.8779384076,
                        "remaining_time": 1.790567391,
                        "test": [
                          3657.596971
                        ]
                      },
                      {
                        "learn": [
                          3028.710515
                        ],
                        "iteration": 329,
                        "passed_time": 0.8853478719,
                        "remaining_time": 1.797524467,
                        "test": [
                          3649.317525
                        ]
                      },
                      {
                        "learn": [
                          3022.468647
                        ],
                        "iteration": 330,
                        "passed_time": 0.892121329,
                        "remaining_time": 1.803109272,
                        "test": [
                          3641.660128
                        ]
                      },
                      {
                        "learn": [
                          3015.636995
                        ],
                        "iteration": 331,
                        "passed_time": 0.8946350517,
                        "remaining_time": 1.800048839,
                        "test": [
                          3634.27642
                        ]
                      },
                      {
                        "learn": [
                          3012.080275
                        ],
                        "iteration": 332,
                        "passed_time": 0.8969729647,
                        "remaining_time": 1.796639542,
                        "test": [
                          3631.07341
                        ]
                      },
                      {
                        "learn": [
                          3006.03359
                        ],
                        "iteration": 333,
                        "passed_time": 0.8993305614,
                        "remaining_time": 1.79327591,
                        "test": [
                          3624.44376
                        ]
                      },
                      {
                        "learn": [
                          3001.596666
                        ],
                        "iteration": 334,
                        "passed_time": 0.9017208861,
                        "remaining_time": 1.789983251,
                        "test": [
                          3620.922187
                        ]
                      },
                      {
                        "learn": [
                          2995.81503
                        ],
                        "iteration": 335,
                        "passed_time": 0.9041232624,
                        "remaining_time": 1.78671978,
                        "test": [
                          3619.07491
                        ]
                      },
                      {
                        "learn": [
                          2989.860237
                        ],
                        "iteration": 336,
                        "passed_time": 0.906497314,
                        "remaining_time": 1.783405695,
                        "test": [
                          3614.447272
                        ]
                      },
                      {
                        "learn": [
                          2985.992625
                        ],
                        "iteration": 337,
                        "passed_time": 0.908765836,
                        "remaining_time": 1.779890484,
                        "test": [
                          3611.096987
                        ]
                      },
                      {
                        "learn": [
                          2980.921803
                        ],
                        "iteration": 338,
                        "passed_time": 0.9111934546,
                        "remaining_time": 1.776692842,
                        "test": [
                          3606.518056
                        ]
                      },
                      {
                        "learn": [
                          2974.904239
                        ],
                        "iteration": 339,
                        "passed_time": 0.9136088352,
                        "remaining_time": 1.773475974,
                        "test": [
                          3599.513767
                        ]
                      },
                      {
                        "learn": [
                          2969.266833
                        ],
                        "iteration": 340,
                        "passed_time": 0.9159740448,
                        "remaining_time": 1.770166849,
                        "test": [
                          3596.653302
                        ]
                      },
                      {
                        "learn": [
                          2965.625871
                        ],
                        "iteration": 341,
                        "passed_time": 0.9183118488,
                        "remaining_time": 1.766810516,
                        "test": [
                          3594.56468
                        ]
                      },
                      {
                        "learn": [
                          2961.457227
                        ],
                        "iteration": 342,
                        "passed_time": 0.9206032042,
                        "remaining_time": 1.763371152,
                        "test": [
                          3591.338521
                        ]
                      },
                      {
                        "learn": [
                          2958.349402
                        ],
                        "iteration": 343,
                        "passed_time": 0.9228906399,
                        "remaining_time": 1.759930988,
                        "test": [
                          3588.398199
                        ]
                      },
                      {
                        "learn": [
                          2955.49368
                        ],
                        "iteration": 344,
                        "passed_time": 0.9252065649,
                        "remaining_time": 1.756551594,
                        "test": [
                          3586.931232
                        ]
                      },
                      {
                        "learn": [
                          2951.379898
                        ],
                        "iteration": 345,
                        "passed_time": 0.9276140408,
                        "remaining_time": 1.753351395,
                        "test": [
                          3580.660609
                        ]
                      },
                      {
                        "learn": [
                          2949.2643
                        ],
                        "iteration": 346,
                        "passed_time": 0.94627235,
                        "remaining_time": 1.780737304,
                        "test": [
                          3578.6817
                        ]
                      },
                      {
                        "learn": [
                          2944.082914
                        ],
                        "iteration": 347,
                        "passed_time": 0.949776108,
                        "remaining_time": 1.779465582,
                        "test": [
                          3572.963934
                        ]
                      },
                      {
                        "learn": [
                          2936.574167
                        ],
                        "iteration": 348,
                        "passed_time": 0.9529495267,
                        "remaining_time": 1.777564876,
                        "test": [
                          3565.711393
                        ]
                      },
                      {
                        "learn": [
                          2931.774599
                        ],
                        "iteration": 349,
                        "passed_time": 0.9571675012,
                        "remaining_time": 1.777596788,
                        "test": [
                          3561.381287
                        ]
                      },
                      {
                        "learn": [
                          2928.818477
                        ],
                        "iteration": 350,
                        "passed_time": 0.9607635228,
                        "remaining_time": 1.776454491,
                        "test": [
                          3560.22236
                        ]
                      },
                      {
                        "learn": [
                          2923.022641
                        ],
                        "iteration": 351,
                        "passed_time": 0.9666567446,
                        "remaining_time": 1.779527189,
                        "test": [
                          3559.043674
                        ]
                      },
                      {
                        "learn": [
                          2920.324944
                        ],
                        "iteration": 352,
                        "passed_time": 0.9731233221,
                        "remaining_time": 1.78359997,
                        "test": [
                          3557.979431
                        ]
                      },
                      {
                        "learn": [
                          2916.095781
                        ],
                        "iteration": 353,
                        "passed_time": 0.9763607368,
                        "remaining_time": 1.781720441,
                        "test": [
                          3554.364974
                        ]
                      },
                      {
                        "learn": [
                          2910.180152
                        ],
                        "iteration": 354,
                        "passed_time": 0.9828217748,
                        "remaining_time": 1.785690267,
                        "test": [
                          3547.367203
                        ]
                      },
                      {
                        "learn": [
                          2901.443774
                        ],
                        "iteration": 355,
                        "passed_time": 0.9904881114,
                        "remaining_time": 1.791781864,
                        "test": [
                          3540.09498
                        ]
                      },
                      {
                        "learn": [
                          2892.57733
                        ],
                        "iteration": 356,
                        "passed_time": 0.9974921905,
                        "remaining_time": 1.796603581,
                        "test": [
                          3535.994187
                        ]
                      },
                      {
                        "learn": [
                          2885.093093
                        ],
                        "iteration": 357,
                        "passed_time": 1.00047666,
                        "remaining_time": 1.794150882,
                        "test": [
                          3531.250651
                        ]
                      },
                      {
                        "learn": [
                          2878.509922
                        ],
                        "iteration": 358,
                        "passed_time": 1.002620704,
                        "remaining_time": 1.790194627,
                        "test": [
                          3526.336101
                        ]
                      },
                      {
                        "learn": [
                          2872.549782
                        ],
                        "iteration": 359,
                        "passed_time": 1.005056861,
                        "remaining_time": 1.786767753,
                        "test": [
                          3520.634469
                        ]
                      },
                      {
                        "learn": [
                          2870.711355
                        ],
                        "iteration": 360,
                        "passed_time": 1.007385486,
                        "remaining_time": 1.783156026,
                        "test": [
                          3519.707492
                        ]
                      },
                      {
                        "learn": [
                          2867.786828
                        ],
                        "iteration": 361,
                        "passed_time": 1.009816705,
                        "remaining_time": 1.779732203,
                        "test": [
                          3516.942124
                        ]
                      },
                      {
                        "learn": [
                          2862.39556
                        ],
                        "iteration": 362,
                        "passed_time": 1.012318225,
                        "remaining_time": 1.776437216,
                        "test": [
                          3512.085411
                        ]
                      },
                      {
                        "learn": [
                          2856.328754
                        ],
                        "iteration": 363,
                        "passed_time": 1.014857608,
                        "remaining_time": 1.773212744,
                        "test": [
                          3507.128457
                        ]
                      },
                      {
                        "learn": [
                          2854.140063
                        ],
                        "iteration": 364,
                        "passed_time": 1.017237891,
                        "remaining_time": 1.769715235,
                        "test": [
                          3503.406916
                        ]
                      },
                      {
                        "learn": [
                          2847.804159
                        ],
                        "iteration": 365,
                        "passed_time": 1.019585679,
                        "remaining_time": 1.766167543,
                        "test": [
                          3499.523718
                        ]
                      },
                      {
                        "learn": [
                          2845.179558
                        ],
                        "iteration": 366,
                        "passed_time": 1.021942826,
                        "remaining_time": 1.762642531,
                        "test": [
                          3498.319411
                        ]
                      },
                      {
                        "learn": [
                          2843.073299
                        ],
                        "iteration": 367,
                        "passed_time": 1.02426259,
                        "remaining_time": 1.759059665,
                        "test": [
                          3496.86429
                        ]
                      },
                      {
                        "learn": [
                          2835.54396
                        ],
                        "iteration": 368,
                        "passed_time": 1.026709436,
                        "remaining_time": 1.755700959,
                        "test": [
                          3491.850565
                        ]
                      },
                      {
                        "learn": [
                          2829.799728
                        ],
                        "iteration": 369,
                        "passed_time": 1.029054426,
                        "remaining_time": 1.752173753,
                        "test": [
                          3484.802492
                        ]
                      },
                      {
                        "learn": [
                          2822.091413
                        ],
                        "iteration": 370,
                        "passed_time": 1.031455705,
                        "remaining_time": 1.748748352,
                        "test": [
                          3481.098075
                        ]
                      },
                      {
                        "learn": [
                          2820.139163
                        ],
                        "iteration": 371,
                        "passed_time": 1.033688334,
                        "remaining_time": 1.745043747,
                        "test": [
                          3479.092532
                        ]
                      },
                      {
                        "learn": [
                          2818.251181
                        ],
                        "iteration": 372,
                        "passed_time": 1.036160498,
                        "remaining_time": 1.741749684,
                        "test": [
                          3477.787118
                        ]
                      },
                      {
                        "learn": [
                          2813.320702
                        ],
                        "iteration": 373,
                        "passed_time": 1.038535083,
                        "remaining_time": 1.73829669,
                        "test": [
                          3472.281571
                        ]
                      },
                      {
                        "learn": [
                          2807.705021
                        ],
                        "iteration": 374,
                        "passed_time": 1.040933121,
                        "remaining_time": 1.734888535,
                        "test": [
                          3468.129498
                        ]
                      },
                      {
                        "learn": [
                          2802.588871
                        ],
                        "iteration": 375,
                        "passed_time": 1.043285119,
                        "remaining_time": 1.731409346,
                        "test": [
                          3463.638727
                        ]
                      },
                      {
                        "learn": [
                          2799.720812
                        ],
                        "iteration": 376,
                        "passed_time": 1.045601428,
                        "remaining_time": 1.72787716,
                        "test": [
                          3462.586762
                        ]
                      },
                      {
                        "learn": [
                          2797.175159
                        ],
                        "iteration": 377,
                        "passed_time": 1.047846909,
                        "remaining_time": 1.724234861,
                        "test": [
                          3457.037134
                        ]
                      },
                      {
                        "learn": [
                          2792.112758
                        ],
                        "iteration": 378,
                        "passed_time": 1.050213822,
                        "remaining_time": 1.720798901,
                        "test": [
                          3453.030711
                        ]
                      },
                      {
                        "learn": [
                          2788.132752
                        ],
                        "iteration": 379,
                        "passed_time": 1.052566839,
                        "remaining_time": 1.717345895,
                        "test": [
                          3450.762171
                        ]
                      },
                      {
                        "learn": [
                          2786.797438
                        ],
                        "iteration": 380,
                        "passed_time": 1.054933724,
                        "remaining_time": 1.713921195,
                        "test": [
                          3449.304112
                        ]
                      },
                      {
                        "learn": [
                          2785.091642
                        ],
                        "iteration": 381,
                        "passed_time": 1.057219958,
                        "remaining_time": 1.710371555,
                        "test": [
                          3448.140945
                        ]
                      },
                      {
                        "learn": [
                          2778.549951
                        ],
                        "iteration": 382,
                        "passed_time": 1.05956564,
                        "remaining_time": 1.706924282,
                        "test": [
                          3444.471211
                        ]
                      },
                      {
                        "learn": [
                          2775.328433
                        ],
                        "iteration": 383,
                        "passed_time": 1.061988496,
                        "remaining_time": 1.703606545,
                        "test": [
                          3442.293591
                        ]
                      },
                      {
                        "learn": [
                          2769.567157
                        ],
                        "iteration": 384,
                        "passed_time": 1.064325116,
                        "remaining_time": 1.700155705,
                        "test": [
                          3440.138546
                        ]
                      },
                      {
                        "learn": [
                          2764.574768
                        ],
                        "iteration": 385,
                        "passed_time": 1.066666979,
                        "remaining_time": 1.696718977,
                        "test": [
                          3436.208854
                        ]
                      },
                      {
                        "learn": [
                          2760.482196
                        ],
                        "iteration": 386,
                        "passed_time": 1.069047533,
                        "remaining_time": 1.693349193,
                        "test": [
                          3433.003942
                        ]
                      },
                      {
                        "learn": [
                          2755.967909
                        ],
                        "iteration": 387,
                        "passed_time": 1.071381669,
                        "remaining_time": 1.689911292,
                        "test": [
                          3428.905643
                        ]
                      },
                      {
                        "learn": [
                          2751.407236
                        ],
                        "iteration": 388,
                        "passed_time": 1.073762409,
                        "remaining_time": 1.686552267,
                        "test": [
                          3423.052803
                        ]
                      },
                      {
                        "learn": [
                          2744.490891
                        ],
                        "iteration": 389,
                        "passed_time": 1.076161777,
                        "remaining_time": 1.683227395,
                        "test": [
                          3415.743637
                        ]
                      },
                      {
                        "learn": [
                          2741.680012
                        ],
                        "iteration": 390,
                        "passed_time": 1.078461705,
                        "remaining_time": 1.679752374,
                        "test": [
                          3411.49887
                        ]
                      },
                      {
                        "learn": [
                          2738.763648
                        ],
                        "iteration": 391,
                        "passed_time": 1.080794621,
                        "remaining_time": 1.676334514,
                        "test": [
                          3408.972382
                        ]
                      },
                      {
                        "learn": [
                          2735.79753
                        ],
                        "iteration": 392,
                        "passed_time": 1.083086166,
                        "remaining_time": 1.672858277,
                        "test": [
                          3407.575697
                        ]
                      },
                      {
                        "learn": [
                          2730.643706
                        ],
                        "iteration": 393,
                        "passed_time": 1.087266045,
                        "remaining_time": 1.672292445,
                        "test": [
                          3405.452349
                        ]
                      },
                      {
                        "learn": [
                          2726.079
                        ],
                        "iteration": 394,
                        "passed_time": 1.090632281,
                        "remaining_time": 1.670462101,
                        "test": [
                          3403.191784
                        ]
                      },
                      {
                        "learn": [
                          2720.744083
                        ],
                        "iteration": 395,
                        "passed_time": 1.093887915,
                        "remaining_time": 1.668455305,
                        "test": [
                          3400.031772
                        ]
                      },
                      {
                        "learn": [
                          2717.246354
                        ],
                        "iteration": 396,
                        "passed_time": 1.099217674,
                        "remaining_time": 1.669592588,
                        "test": [
                          3396.384022
                        ]
                      },
                      {
                        "learn": [
                          2714.509156
                        ],
                        "iteration": 397,
                        "passed_time": 1.101622767,
                        "remaining_time": 1.666273633,
                        "test": [
                          3396.470574
                        ]
                      },
                      {
                        "learn": [
                          2711.880025
                        ],
                        "iteration": 398,
                        "passed_time": 1.103931551,
                        "remaining_time": 1.662814191,
                        "test": [
                          3394.241943
                        ]
                      },
                      {
                        "learn": [
                          2708.18653
                        ],
                        "iteration": 399,
                        "passed_time": 1.106279116,
                        "remaining_time": 1.659418674,
                        "test": [
                          3395.427856
                        ]
                      },
                      {
                        "learn": [
                          2703.542974
                        ],
                        "iteration": 400,
                        "passed_time": 1.110031547,
                        "remaining_time": 1.658126924,
                        "test": [
                          3394.774999
                        ]
                      },
                      {
                        "learn": [
                          2698.364239
                        ],
                        "iteration": 401,
                        "passed_time": 1.116213058,
                        "remaining_time": 1.660436341,
                        "test": [
                          3389.170471
                        ]
                      },
                      {
                        "learn": [
                          2695.146676
                        ],
                        "iteration": 402,
                        "passed_time": 1.118483339,
                        "remaining_time": 1.656909562,
                        "test": [
                          3386.0155
                        ]
                      },
                      {
                        "learn": [
                          2691.967987
                        ],
                        "iteration": 403,
                        "passed_time": 1.120843303,
                        "remaining_time": 1.653521309,
                        "test": [
                          3382.192718
                        ]
                      },
                      {
                        "learn": [
                          2688.992747
                        ],
                        "iteration": 404,
                        "passed_time": 1.12315775,
                        "remaining_time": 1.650071262,
                        "test": [
                          3378.467255
                        ]
                      },
                      {
                        "learn": [
                          2686.11128
                        ],
                        "iteration": 405,
                        "passed_time": 1.125540348,
                        "remaining_time": 1.646726519,
                        "test": [
                          3376.044434
                        ]
                      },
                      {
                        "learn": [
                          2684.137383
                        ],
                        "iteration": 406,
                        "passed_time": 1.127813579,
                        "remaining_time": 1.643227155,
                        "test": [
                          3373.101057
                        ]
                      },
                      {
                        "learn": [
                          2682.867067
                        ],
                        "iteration": 407,
                        "passed_time": 1.130086747,
                        "remaining_time": 1.639733711,
                        "test": [
                          3372.336446
                        ]
                      },
                      {
                        "learn": [
                          2679.824691
                        ],
                        "iteration": 408,
                        "passed_time": 1.132475678,
                        "remaining_time": 1.63641351,
                        "test": [
                          3368.159933
                        ]
                      },
                      {
                        "learn": [
                          2675.123755
                        ],
                        "iteration": 409,
                        "passed_time": 1.135080053,
                        "remaining_time": 1.633407882,
                        "test": [
                          3364.648868
                        ]
                      },
                      {
                        "learn": [
                          2667.408737
                        ],
                        "iteration": 410,
                        "passed_time": 1.137422757,
                        "remaining_time": 1.630029206,
                        "test": [
                          3358.296941
                        ]
                      },
                      {
                        "learn": [
                          2662.801542
                        ],
                        "iteration": 411,
                        "passed_time": 1.13975127,
                        "remaining_time": 1.626635307,
                        "test": [
                          3355.349955
                        ]
                      },
                      {
                        "learn": [
                          2661.606541
                        ],
                        "iteration": 412,
                        "passed_time": 1.142090659,
                        "remaining_time": 1.623262026,
                        "test": [
                          3354.424524
                        ]
                      },
                      {
                        "learn": [
                          2655.271834
                        ],
                        "iteration": 413,
                        "passed_time": 1.144518039,
                        "remaining_time": 1.620018286,
                        "test": [
                          3351.652528
                        ]
                      },
                      {
                        "learn": [
                          2652.826506
                        ],
                        "iteration": 414,
                        "passed_time": 1.147053944,
                        "remaining_time": 1.616931463,
                        "test": [
                          3349.785315
                        ]
                      },
                      {
                        "learn": [
                          2650.660206
                        ],
                        "iteration": 415,
                        "passed_time": 1.149338703,
                        "remaining_time": 1.613494718,
                        "test": [
                          3348.157795
                        ]
                      },
                      {
                        "learn": [
                          2647.066908
                        ],
                        "iteration": 416,
                        "passed_time": 1.151688994,
                        "remaining_time": 1.610155117,
                        "test": [
                          3345.965271
                        ]
                      },
                      {
                        "learn": [
                          2644.64339
                        ],
                        "iteration": 417,
                        "passed_time": 1.153975654,
                        "remaining_time": 1.606731652,
                        "test": [
                          3345.507973
                        ]
                      },
                      {
                        "learn": [
                          2640.348377
                        ],
                        "iteration": 418,
                        "passed_time": 1.156358697,
                        "remaining_time": 1.603447263,
                        "test": [
                          3340.471584
                        ]
                      },
                      {
                        "learn": [
                          2635.911727
                        ],
                        "iteration": 419,
                        "passed_time": 1.158706692,
                        "remaining_time": 1.600118765,
                        "test": [
                          3338.009944
                        ]
                      },
                      {
                        "learn": [
                          2631.963391
                        ],
                        "iteration": 420,
                        "passed_time": 1.161052592,
                        "remaining_time": 1.596792044,
                        "test": [
                          3337.044807
                        ]
                      },
                      {
                        "learn": [
                          2629.146777
                        ],
                        "iteration": 421,
                        "passed_time": 1.163367239,
                        "remaining_time": 1.593427166,
                        "test": [
                          3334.360078
                        ]
                      },
                      {
                        "learn": [
                          2626.914473
                        ],
                        "iteration": 422,
                        "passed_time": 1.165651957,
                        "remaining_time": 1.590026428,
                        "test": [
                          3333.462657
                        ]
                      },
                      {
                        "learn": [
                          2622.813518
                        ],
                        "iteration": 423,
                        "passed_time": 1.167946095,
                        "remaining_time": 1.586643752,
                        "test": [
                          3328.961025
                        ]
                      },
                      {
                        "learn": [
                          2620.41573
                        ],
                        "iteration": 424,
                        "passed_time": 1.170306861,
                        "remaining_time": 1.583356341,
                        "test": [
                          3326.34013
                        ]
                      },
                      {
                        "learn": [
                          2617.443453
                        ],
                        "iteration": 425,
                        "passed_time": 1.174308162,
                        "remaining_time": 1.582283768,
                        "test": [
                          3323.411113
                        ]
                      },
                      {
                        "learn": [
                          2615.411938
                        ],
                        "iteration": 426,
                        "passed_time": 1.178807558,
                        "remaining_time": 1.58186588,
                        "test": [
                          3322.225977
                        ]
                      },
                      {
                        "learn": [
                          2612.986354
                        ],
                        "iteration": 427,
                        "passed_time": 1.185046469,
                        "remaining_time": 1.583753693,
                        "test": [
                          3319.173931
                        ]
                      },
                      {
                        "learn": [
                          2608.753101
                        ],
                        "iteration": 428,
                        "passed_time": 1.188020831,
                        "remaining_time": 1.581258495,
                        "test": [
                          3315.80603
                        ]
                      },
                      {
                        "learn": [
                          2606.063238
                        ],
                        "iteration": 429,
                        "passed_time": 1.190278144,
                        "remaining_time": 1.577810562,
                        "test": [
                          3313.140658
                        ]
                      },
                      {
                        "learn": [
                          2602.003411
                        ],
                        "iteration": 430,
                        "passed_time": 1.192678702,
                        "remaining_time": 1.574557265,
                        "test": [
                          3310.006683
                        ]
                      },
                      {
                        "learn": [
                          2599.645445
                        ],
                        "iteration": 431,
                        "passed_time": 1.195041383,
                        "remaining_time": 1.571258114,
                        "test": [
                          3307.346199
                        ]
                      },
                      {
                        "learn": [
                          2596.183941
                        ],
                        "iteration": 432,
                        "passed_time": 1.197340771,
                        "remaining_time": 1.567880409,
                        "test": [
                          3308.565415
                        ]
                      },
                      {
                        "learn": [
                          2590.503465
                        ],
                        "iteration": 433,
                        "passed_time": 1.199789,
                        "remaining_time": 1.564701783,
                        "test": [
                          3304.790343
                        ]
                      },
                      {
                        "learn": [
                          2588.282171
                        ],
                        "iteration": 434,
                        "passed_time": 1.202049115,
                        "remaining_time": 1.561282184,
                        "test": [
                          3303.199207
                        ]
                      },
                      {
                        "learn": [
                          2585.674053
                        ],
                        "iteration": 435,
                        "passed_time": 1.204355392,
                        "remaining_time": 1.557927617,
                        "test": [
                          3300.573366
                        ]
                      },
                      {
                        "learn": [
                          2583.143678
                        ],
                        "iteration": 436,
                        "passed_time": 1.206612798,
                        "remaining_time": 1.554514886,
                        "test": [
                          3298.05969
                        ]
                      },
                      {
                        "learn": [
                          2582.063337
                        ],
                        "iteration": 437,
                        "passed_time": 1.208828178,
                        "remaining_time": 1.551053507,
                        "test": [
                          3297.478689
                        ]
                      },
                      {
                        "learn": [
                          2579.684522
                        ],
                        "iteration": 438,
                        "passed_time": 1.211121247,
                        "remaining_time": 1.547697083,
                        "test": [
                          3293.455397
                        ]
                      },
                      {
                        "learn": [
                          2575.370207
                        ],
                        "iteration": 439,
                        "passed_time": 1.21348395,
                        "remaining_time": 1.544434118,
                        "test": [
                          3290.164875
                        ]
                      },
                      {
                        "learn": [
                          2571.219521
                        ],
                        "iteration": 440,
                        "passed_time": 1.215824654,
                        "remaining_time": 1.541147351,
                        "test": [
                          3285.861976
                        ]
                      },
                      {
                        "learn": [
                          2568.639841
                        ],
                        "iteration": 441,
                        "passed_time": 1.218124169,
                        "remaining_time": 1.537812865,
                        "test": [
                          3287.170286
                        ]
                      },
                      {
                        "learn": [
                          2565.277819
                        ],
                        "iteration": 442,
                        "passed_time": 1.220437716,
                        "remaining_time": 1.534500695,
                        "test": [
                          3284.934672
                        ]
                      },
                      {
                        "learn": [
                          2560.99172
                        ],
                        "iteration": 443,
                        "passed_time": 1.22278052,
                        "remaining_time": 1.53122966,
                        "test": [
                          3282.145264
                        ]
                      },
                      {
                        "learn": [
                          2557.113896
                        ],
                        "iteration": 444,
                        "passed_time": 1.225081667,
                        "remaining_time": 1.527910844,
                        "test": [
                          3279.601981
                        ]
                      },
                      {
                        "learn": [
                          2552.755318
                        ],
                        "iteration": 445,
                        "passed_time": 1.227395119,
                        "remaining_time": 1.524611874,
                        "test": [
                          3273.696543
                        ]
                      },
                      {
                        "learn": [
                          2550.45985
                        ],
                        "iteration": 446,
                        "passed_time": 1.229665298,
                        "remaining_time": 1.521263781,
                        "test": [
                          3271.648732
                        ]
                      },
                      {
                        "learn": [
                          2544.610441
                        ],
                        "iteration": 447,
                        "passed_time": 1.232045022,
                        "remaining_time": 1.518055474,
                        "test": [
                          3266.042568
                        ]
                      },
                      {
                        "learn": [
                          2539.358642
                        ],
                        "iteration": 448,
                        "passed_time": 1.234397605,
                        "remaining_time": 1.51481755,
                        "test": [
                          3261.721424
                        ]
                      },
                      {
                        "learn": [
                          2535.482198
                        ],
                        "iteration": 449,
                        "passed_time": 1.23671917,
                        "remaining_time": 1.511545652,
                        "test": [
                          3256.416314
                        ]
                      },
                      {
                        "learn": [
                          2532.775514
                        ],
                        "iteration": 450,
                        "passed_time": 1.239001336,
                        "remaining_time": 1.508230008,
                        "test": [
                          3253.205662
                        ]
                      },
                      {
                        "learn": [
                          2525.06139
                        ],
                        "iteration": 451,
                        "passed_time": 1.241383027,
                        "remaining_time": 1.505039599,
                        "test": [
                          3248.704901
                        ]
                      },
                      {
                        "learn": [
                          2520.764288
                        ],
                        "iteration": 452,
                        "passed_time": 1.243721979,
                        "remaining_time": 1.501801154,
                        "test": [
                          3244.507916
                        ]
                      },
                      {
                        "learn": [
                          2518.345041
                        ],
                        "iteration": 453,
                        "passed_time": 1.246062357,
                        "remaining_time": 1.498568386,
                        "test": [
                          3241.291829
                        ]
                      },
                      {
                        "learn": [
                          2517.267073
                        ],
                        "iteration": 454,
                        "passed_time": 1.248385563,
                        "remaining_time": 1.495318971,
                        "test": [
                          3240.200399
                        ]
                      },
                      {
                        "learn": [
                          2509.889957
                        ],
                        "iteration": 455,
                        "passed_time": 1.250781219,
                        "remaining_time": 1.49216005,
                        "test": [
                          3233.317482
                        ]
                      },
                      {
                        "learn": [
                          2505.734739
                        ],
                        "iteration": 456,
                        "passed_time": 1.253247186,
                        "remaining_time": 1.489088013,
                        "test": [
                          3228.60647
                        ]
                      },
                      {
                        "learn": [
                          2500.981951
                        ],
                        "iteration": 457,
                        "passed_time": 1.255580424,
                        "remaining_time": 1.485861549,
                        "test": [
                          3226.305364
                        ]
                      },
                      {
                        "learn": [
                          2496.127299
                        ],
                        "iteration": 458,
                        "passed_time": 1.257877266,
                        "remaining_time": 1.48259608,
                        "test": [
                          3221.620746
                        ]
                      },
                      {
                        "learn": [
                          2494.402826
                        ],
                        "iteration": 459,
                        "passed_time": 1.260204123,
                        "remaining_time": 1.479370057,
                        "test": [
                          3220.038363
                        ]
                      },
                      {
                        "learn": [
                          2486.691511
                        ],
                        "iteration": 460,
                        "passed_time": 1.262578472,
                        "remaining_time": 1.476203463,
                        "test": [
                          3211.823075
                        ]
                      },
                      {
                        "learn": [
                          2485.772517
                        ],
                        "iteration": 461,
                        "passed_time": 1.26480188,
                        "remaining_time": 1.472864527,
                        "test": [
                          3211.193878
                        ]
                      },
                      {
                        "learn": [
                          2480.673337
                        ],
                        "iteration": 462,
                        "passed_time": 1.267206017,
                        "remaining_time": 1.469740024,
                        "test": [
                          3209.411714
                        ]
                      },
                      {
                        "learn": [
                          2479.9279
                        ],
                        "iteration": 463,
                        "passed_time": 1.269467169,
                        "remaining_time": 1.466453454,
                        "test": [
                          3208.751725
                        ]
                      },
                      {
                        "learn": [
                          2477.002097
                        ],
                        "iteration": 464,
                        "passed_time": 1.271769128,
                        "remaining_time": 1.463218244,
                        "test": [
                          3205.943954
                        ]
                      },
                      {
                        "learn": [
                          2471.004302
                        ],
                        "iteration": 465,
                        "passed_time": 1.274160722,
                        "remaining_time": 1.460089754,
                        "test": [
                          3201.175915
                        ]
                      },
                      {
                        "learn": [
                          2467.069079
                        ],
                        "iteration": 466,
                        "passed_time": 1.276543938,
                        "remaining_time": 1.456954858,
                        "test": [
                          3198.970797
                        ]
                      },
                      {
                        "learn": [
                          2465.311318
                        ],
                        "iteration": 467,
                        "passed_time": 1.278838168,
                        "remaining_time": 1.45372202,
                        "test": [
                          3197.086377
                        ]
                      },
                      {
                        "learn": [
                          2462.31582
                        ],
                        "iteration": 468,
                        "passed_time": 1.281192078,
                        "remaining_time": 1.450560754,
                        "test": [
                          3192.744386
                        ]
                      },
                      {
                        "learn": [
                          2459.389244
                        ],
                        "iteration": 469,
                        "passed_time": 1.283527393,
                        "remaining_time": 1.447381954,
                        "test": [
                          3191.821697
                        ]
                      },
                      {
                        "learn": [
                          2455.815211
                        ],
                        "iteration": 470,
                        "passed_time": 1.285847294,
                        "remaining_time": 1.444189424,
                        "test": [
                          3189.048332
                        ]
                      },
                      {
                        "learn": [
                          2452.988451
                        ],
                        "iteration": 471,
                        "passed_time": 1.288195516,
                        "remaining_time": 1.441032273,
                        "test": [
                          3186.785919
                        ]
                      },
                      {
                        "learn": [
                          2451.404461
                        ],
                        "iteration": 472,
                        "passed_time": 1.290534472,
                        "remaining_time": 1.437868217,
                        "test": [
                          3184.735989
                        ]
                      },
                      {
                        "learn": [
                          2446.720726
                        ],
                        "iteration": 473,
                        "passed_time": 1.292897307,
                        "remaining_time": 1.434734143,
                        "test": [
                          3180.966112
                        ]
                      },
                      {
                        "learn": [
                          2442.001337
                        ],
                        "iteration": 474,
                        "passed_time": 1.295264086,
                        "remaining_time": 1.431607674,
                        "test": [
                          3176.116621
                        ]
                      },
                      {
                        "learn": [
                          2438.640688
                        ],
                        "iteration": 475,
                        "passed_time": 1.297656807,
                        "remaining_time": 1.428512956,
                        "test": [
                          3172.88753
                        ]
                      },
                      {
                        "learn": [
                          2434.806046
                        ],
                        "iteration": 476,
                        "passed_time": 1.299995848,
                        "remaining_time": 1.425362324,
                        "test": [
                          3168.603431
                        ]
                      },
                      {
                        "learn": [
                          2427.755014
                        ],
                        "iteration": 477,
                        "passed_time": 1.302415431,
                        "remaining_time": 1.422303044,
                        "test": [
                          3163.711466
                        ]
                      },
                      {
                        "learn": [
                          2425.089094
                        ],
                        "iteration": 478,
                        "passed_time": 1.304713564,
                        "remaining_time": 1.419114336,
                        "test": [
                          3162.909369
                        ]
                      },
                      {
                        "learn": [
                          2423.017668
                        ],
                        "iteration": 479,
                        "passed_time": 1.307093787,
                        "remaining_time": 1.416018269,
                        "test": [
                          3159.425519
                        ]
                      },
                      {
                        "learn": [
                          2422.126868
                        ],
                        "iteration": 480,
                        "passed_time": 1.309367951,
                        "remaining_time": 1.412810741,
                        "test": [
                          3158.214219
                        ]
                      },
                      {
                        "learn": [
                          2418.028654
                        ],
                        "iteration": 481,
                        "passed_time": 1.311730395,
                        "remaining_time": 1.409701959,
                        "test": [
                          3154.435061
                        ]
                      },
                      {
                        "learn": [
                          2414.697598
                        ],
                        "iteration": 482,
                        "passed_time": 1.313992498,
                        "remaining_time": 1.406488864,
                        "test": [
                          3151.8815
                        ]
                      },
                      {
                        "learn": [
                          2412.557597
                        ],
                        "iteration": 483,
                        "passed_time": 1.31626824,
                        "remaining_time": 1.40329424,
                        "test": [
                          3149.945218
                        ]
                      },
                      {
                        "learn": [
                          2411.090943
                        ],
                        "iteration": 484,
                        "passed_time": 1.318536591,
                        "remaining_time": 1.400095556,
                        "test": [
                          3147.896456
                        ]
                      },
                      {
                        "learn": [
                          2409.217398
                        ],
                        "iteration": 485,
                        "passed_time": 1.320824746,
                        "remaining_time": 1.396921645,
                        "test": [
                          3146.047818
                        ]
                      },
                      {
                        "learn": [
                          2405.647199
                        ],
                        "iteration": 486,
                        "passed_time": 1.323179563,
                        "remaining_time": 1.393821593,
                        "test": [
                          3144.119056
                        ]
                      },
                      {
                        "learn": [
                          2404.172395
                        ],
                        "iteration": 487,
                        "passed_time": 1.325517034,
                        "remaining_time": 1.390706397,
                        "test": [
                          3143.330402
                        ]
                      },
                      {
                        "learn": [
                          2402.469095
                        ],
                        "iteration": 488,
                        "passed_time": 1.327811048,
                        "remaining_time": 1.387548968,
                        "test": [
                          3141.418286
                        ]
                      },
                      {
                        "learn": [
                          2400.725035
                        ],
                        "iteration": 489,
                        "passed_time": 1.330088492,
                        "remaining_time": 1.384377818,
                        "test": [
                          3139.651108
                        ]
                      },
                      {
                        "learn": [
                          2394.488003
                        ],
                        "iteration": 490,
                        "passed_time": 1.332520063,
                        "remaining_time": 1.381370085,
                        "test": [
                          3135.555427
                        ]
                      },
                      {
                        "learn": [
                          2390.447195
                        ],
                        "iteration": 491,
                        "passed_time": 1.334937339,
                        "remaining_time": 1.378349935,
                        "test": [
                          3132.645137
                        ]
                      },
                      {
                        "learn": [
                          2388.020578
                        ],
                        "iteration": 492,
                        "passed_time": 1.337216691,
                        "remaining_time": 1.375190391,
                        "test": [
                          3130.722026
                        ]
                      },
                      {
                        "learn": [
                          2382.013548
                        ],
                        "iteration": 493,
                        "passed_time": 1.339647637,
                        "remaining_time": 1.372189685,
                        "test": [
                          3128.252335
                        ]
                      },
                      {
                        "learn": [
                          2379.930832
                        ],
                        "iteration": 494,
                        "passed_time": 1.341942687,
                        "remaining_time": 1.369052641,
                        "test": [
                          3126.848724
                        ]
                      },
                      {
                        "learn": [
                          2378.295949
                        ],
                        "iteration": 495,
                        "passed_time": 1.34423086,
                        "remaining_time": 1.365912003,
                        "test": [
                          3126.213482
                        ]
                      },
                      {
                        "learn": [
                          2376.70419
                        ],
                        "iteration": 496,
                        "passed_time": 1.346509079,
                        "remaining_time": 1.362764722,
                        "test": [
                          3124.826664
                        ]
                      },
                      {
                        "learn": [
                          2372.822401
                        ],
                        "iteration": 497,
                        "passed_time": 1.348944352,
                        "remaining_time": 1.359779247,
                        "test": [
                          3121.952297
                        ]
                      },
                      {
                        "learn": [
                          2370.73613
                        ],
                        "iteration": 498,
                        "passed_time": 1.351285479,
                        "remaining_time": 1.356701452,
                        "test": [
                          3120.187346
                        ]
                      },
                      {
                        "learn": [
                          2367.525104
                        ],
                        "iteration": 499,
                        "passed_time": 1.353571094,
                        "remaining_time": 1.353571094,
                        "test": [
                          3116.332741
                        ]
                      },
                      {
                        "learn": [
                          2365.01536
                        ],
                        "iteration": 500,
                        "passed_time": 1.355904523,
                        "remaining_time": 1.350491731,
                        "test": [
                          3114.770164
                        ]
                      },
                      {
                        "learn": [
                          2362.883075
                        ],
                        "iteration": 501,
                        "passed_time": 1.358253469,
                        "remaining_time": 1.347430732,
                        "test": [
                          3113.286904
                        ]
                      },
                      {
                        "learn": [
                          2353.484551
                        ],
                        "iteration": 502,
                        "passed_time": 1.360651212,
                        "remaining_time": 1.34442078,
                        "test": [
                          3103.263236
                        ]
                      },
                      {
                        "learn": [
                          2349.453809
                        ],
                        "iteration": 503,
                        "passed_time": 1.363061265,
                        "remaining_time": 1.341425372,
                        "test": [
                          3100.387455
                        ]
                      },
                      {
                        "learn": [
                          2348.461262
                        ],
                        "iteration": 504,
                        "passed_time": 1.365379868,
                        "remaining_time": 1.338342643,
                        "test": [
                          3099.451692
                        ]
                      },
                      {
                        "learn": [
                          2344.671147
                        ],
                        "iteration": 505,
                        "passed_time": 1.36779499,
                        "remaining_time": 1.335357164,
                        "test": [
                          3096.680358
                        ]
                      },
                      {
                        "learn": [
                          2342.848575
                        ],
                        "iteration": 506,
                        "passed_time": 1.370025815,
                        "remaining_time": 1.332194727,
                        "test": [
                          3093.097323
                        ]
                      },
                      {
                        "learn": [
                          2340.849457
                        ],
                        "iteration": 507,
                        "passed_time": 1.375435825,
                        "remaining_time": 1.332115011,
                        "test": [
                          3091.355464
                        ]
                      },
                      {
                        "learn": [
                          2340.055517
                        ],
                        "iteration": 508,
                        "passed_time": 1.379987431,
                        "remaining_time": 1.331186304,
                        "test": [
                          3090.247834
                        ]
                      },
                      {
                        "learn": [
                          2338.388013
                        ],
                        "iteration": 509,
                        "passed_time": 1.382147053,
                        "remaining_time": 1.327945208,
                        "test": [
                          3089.342598
                        ]
                      },
                      {
                        "learn": [
                          2334.997283
                        ],
                        "iteration": 510,
                        "passed_time": 1.384403438,
                        "remaining_time": 1.324800942,
                        "test": [
                          3087.098748
                        ]
                      },
                      {
                        "learn": [
                          2330.823206
                        ],
                        "iteration": 511,
                        "passed_time": 1.386828985,
                        "remaining_time": 1.321821376,
                        "test": [
                          3085.243887
                        ]
                      },
                      {
                        "learn": [
                          2327.731938
                        ],
                        "iteration": 512,
                        "passed_time": 1.389213043,
                        "remaining_time": 1.318804585,
                        "test": [
                          3081.64353
                        ]
                      },
                      {
                        "learn": [
                          2322.859274
                        ],
                        "iteration": 513,
                        "passed_time": 1.3916359,
                        "remaining_time": 1.31582694,
                        "test": [
                          3076.871538
                        ]
                      },
                      {
                        "learn": [
                          2318.769372
                        ],
                        "iteration": 514,
                        "passed_time": 1.394110497,
                        "remaining_time": 1.312900177,
                        "test": [
                          3072.235902
                        ]
                      },
                      {
                        "learn": [
                          2314.091411
                        ],
                        "iteration": 515,
                        "passed_time": 1.396580571,
                        "remaining_time": 1.309970923,
                        "test": [
                          3065.153098
                        ]
                      },
                      {
                        "learn": [
                          2310.83964
                        ],
                        "iteration": 516,
                        "passed_time": 1.398939042,
                        "remaining_time": 1.306939183,
                        "test": [
                          3063.41558
                        ]
                      },
                      {
                        "learn": [
                          2307.954282
                        ],
                        "iteration": 517,
                        "passed_time": 1.401245166,
                        "remaining_time": 1.303861332,
                        "test": [
                          3060.04
                        ]
                      },
                      {
                        "learn": [
                          2303.374271
                        ],
                        "iteration": 518,
                        "passed_time": 1.403609764,
                        "remaining_time": 1.300840648,
                        "test": [
                          3056.4782
                        ]
                      },
                      {
                        "learn": [
                          2297.894594
                        ],
                        "iteration": 519,
                        "passed_time": 1.40612331,
                        "remaining_time": 1.297959979,
                        "test": [
                          3050.141054
                        ]
                      },
                      {
                        "learn": [
                          2292.067928
                        ],
                        "iteration": 520,
                        "passed_time": 1.408751139,
                        "remaining_time": 1.295185788,
                        "test": [
                          3046.00051
                        ]
                      },
                      {
                        "learn": [
                          2289.730053
                        ],
                        "iteration": 521,
                        "passed_time": 1.411414844,
                        "remaining_time": 1.29244501,
                        "test": [
                          3043.147139
                        ]
                      },
                      {
                        "learn": [
                          2288.275073
                        ],
                        "iteration": 522,
                        "passed_time": 1.413680317,
                        "remaining_time": 1.289341322,
                        "test": [
                          3042.236004
                        ]
                      },
                      {
                        "learn": [
                          2285.932957
                        ],
                        "iteration": 523,
                        "passed_time": 1.416062181,
                        "remaining_time": 1.286346561,
                        "test": [
                          3038.524709
                        ]
                      },
                      {
                        "learn": [
                          2283.260932
                        ],
                        "iteration": 524,
                        "passed_time": 1.418373682,
                        "remaining_time": 1.283290474,
                        "test": [
                          3034.421996
                        ]
                      },
                      {
                        "learn": [
                          2282.01644
                        ],
                        "iteration": 525,
                        "passed_time": 1.420680555,
                        "remaining_time": 1.280233048,
                        "test": [
                          3032.683735
                        ]
                      },
                      {
                        "learn": [
                          2278.697979
                        ],
                        "iteration": 526,
                        "passed_time": 1.42298321,
                        "remaining_time": 1.277174684,
                        "test": [
                          3030.427079
                        ]
                      },
                      {
                        "learn": [
                          2274.060685
                        ],
                        "iteration": 527,
                        "passed_time": 1.425291466,
                        "remaining_time": 1.27412419,
                        "test": [
                          3026.476483
                        ]
                      },
                      {
                        "learn": [
                          2272.028198
                        ],
                        "iteration": 528,
                        "passed_time": 1.427583922,
                        "remaining_time": 1.271062433,
                        "test": [
                          3024.572099
                        ]
                      },
                      {
                        "learn": [
                          2270.944305
                        ],
                        "iteration": 529,
                        "passed_time": 1.429805952,
                        "remaining_time": 1.267941128,
                        "test": [
                          3024.427904
                        ]
                      },
                      {
                        "learn": [
                          2268.959963
                        ],
                        "iteration": 530,
                        "passed_time": 1.432036506,
                        "remaining_time": 1.264830737,
                        "test": [
                          3026.070076
                        ]
                      },
                      {
                        "learn": [
                          2267.858956
                        ],
                        "iteration": 531,
                        "passed_time": 1.434354396,
                        "remaining_time": 1.261800484,
                        "test": [
                          3025.135392
                        ]
                      },
                      {
                        "learn": [
                          2263.703712
                        ],
                        "iteration": 532,
                        "passed_time": 1.436836454,
                        "remaining_time": 1.258916743,
                        "test": [
                          3023.430036
                        ]
                      },
                      {
                        "learn": [
                          2260.772561
                        ],
                        "iteration": 533,
                        "passed_time": 1.439148671,
                        "remaining_time": 1.255886293,
                        "test": [
                          3020.949231
                        ]
                      },
                      {
                        "learn": [
                          2257.470099
                        ],
                        "iteration": 534,
                        "passed_time": 1.441485246,
                        "remaining_time": 1.2528797,
                        "test": [
                          3019.852653
                        ]
                      },
                      {
                        "learn": [
                          2255.554748
                        ],
                        "iteration": 535,
                        "passed_time": 1.443780906,
                        "remaining_time": 1.249840188,
                        "test": [
                          3019.013394
                        ]
                      },
                      {
                        "learn": [
                          2252.274973
                        ],
                        "iteration": 536,
                        "passed_time": 1.446141726,
                        "remaining_time": 1.246859626,
                        "test": [
                          3015.426009
                        ]
                      },
                      {
                        "learn": [
                          2249.855854
                        ],
                        "iteration": 537,
                        "passed_time": 1.448479831,
                        "remaining_time": 1.243861862,
                        "test": [
                          3014.103743
                        ]
                      },
                      {
                        "learn": [
                          2247.601283
                        ],
                        "iteration": 538,
                        "passed_time": 1.45079722,
                        "remaining_time": 1.240848828,
                        "test": [
                          3012.269622
                        ]
                      },
                      {
                        "learn": [
                          2245.905463
                        ],
                        "iteration": 539,
                        "passed_time": 1.453067931,
                        "remaining_time": 1.237798608,
                        "test": [
                          3010.515767
                        ]
                      },
                      {
                        "learn": [
                          2244.592826
                        ],
                        "iteration": 540,
                        "passed_time": 1.456674558,
                        "remaining_time": 1.235884699,
                        "test": [
                          3009.522989
                        ]
                      },
                      {
                        "learn": [
                          2241.304042
                        ],
                        "iteration": 541,
                        "passed_time": 1.460314174,
                        "remaining_time": 1.23399242,
                        "test": [
                          3007.545833
                        ]
                      },
                      {
                        "learn": [
                          2238.059506
                        ],
                        "iteration": 542,
                        "passed_time": 1.463689433,
                        "remaining_time": 1.231871217,
                        "test": [
                          3004.0155
                        ]
                      },
                      {
                        "learn": [
                          2233.216006
                        ],
                        "iteration": 543,
                        "passed_time": 1.466802591,
                        "remaining_time": 1.229525701,
                        "test": [
                          2998.306612
                        ]
                      },
                      {
                        "learn": [
                          2228.655567
                        ],
                        "iteration": 544,
                        "passed_time": 1.469252858,
                        "remaining_time": 1.226623946,
                        "test": [
                          2993.52466
                        ]
                      },
                      {
                        "learn": [
                          2226.701347
                        ],
                        "iteration": 545,
                        "passed_time": 1.471548949,
                        "remaining_time": 1.223595647,
                        "test": [
                          2993.370454
                        ]
                      },
                      {
                        "learn": [
                          2224.247883
                        ],
                        "iteration": 546,
                        "passed_time": 1.47394385,
                        "remaining_time": 1.220651854,
                        "test": [
                          2992.160944
                        ]
                      },
                      {
                        "learn": [
                          2220.901481
                        ],
                        "iteration": 547,
                        "passed_time": 1.476232784,
                        "remaining_time": 1.217622661,
                        "test": [
                          2990.694952
                        ]
                      },
                      {
                        "learn": [
                          2219.077243
                        ],
                        "iteration": 548,
                        "passed_time": 1.478589129,
                        "remaining_time": 1.214651543,
                        "test": [
                          2989.491317
                        ]
                      },
                      {
                        "learn": [
                          2216.565006
                        ],
                        "iteration": 549,
                        "passed_time": 1.480961324,
                        "remaining_time": 1.211695629,
                        "test": [
                          2988.104221
                        ]
                      },
                      {
                        "learn": [
                          2214.797547
                        ],
                        "iteration": 550,
                        "passed_time": 1.48324753,
                        "remaining_time": 1.208671762,
                        "test": [
                          2986.455536
                        ]
                      },
                      {
                        "learn": [
                          2213.277918
                        ],
                        "iteration": 551,
                        "passed_time": 1.48555949,
                        "remaining_time": 1.20567147,
                        "test": [
                          2984.856037
                        ]
                      },
                      {
                        "learn": [
                          2210.863687
                        ],
                        "iteration": 552,
                        "passed_time": 1.487946469,
                        "remaining_time": 1.202734306,
                        "test": [
                          2986.552556
                        ]
                      },
                      {
                        "learn": [
                          2209.290628
                        ],
                        "iteration": 553,
                        "passed_time": 1.49020769,
                        "remaining_time": 1.199697888,
                        "test": [
                          2985.533862
                        ]
                      },
                      {
                        "learn": [
                          2206.190208
                        ],
                        "iteration": 554,
                        "passed_time": 1.492527709,
                        "remaining_time": 1.196711406,
                        "test": [
                          2982.264
                        ]
                      },
                      {
                        "learn": [
                          2204.034083
                        ],
                        "iteration": 555,
                        "passed_time": 1.494915782,
                        "remaining_time": 1.193781667,
                        "test": [
                          2980.662605
                        ]
                      },
                      {
                        "learn": [
                          2199.280191
                        ],
                        "iteration": 556,
                        "passed_time": 1.497396399,
                        "remaining_time": 1.190927477,
                        "test": [
                          2977.279723
                        ]
                      },
                      {
                        "learn": [
                          2195.853657
                        ],
                        "iteration": 557,
                        "passed_time": 1.499784721,
                        "remaining_time": 1.188001518,
                        "test": [
                          2974.764119
                        ]
                      },
                      {
                        "learn": [
                          2193.00424
                        ],
                        "iteration": 558,
                        "passed_time": 1.502106312,
                        "remaining_time": 1.185024837,
                        "test": [
                          2974.256751
                        ]
                      },
                      {
                        "learn": [
                          2188.402716
                        ],
                        "iteration": 559,
                        "passed_time": 1.504469056,
                        "remaining_time": 1.182082829,
                        "test": [
                          2968.284251
                        ]
                      },
                      {
                        "learn": [
                          2186.435508
                        ],
                        "iteration": 560,
                        "passed_time": 1.506740376,
                        "remaining_time": 1.179071346,
                        "test": [
                          2965.999813
                        ]
                      },
                      {
                        "learn": [
                          2181.975685
                        ],
                        "iteration": 561,
                        "passed_time": 1.509135305,
                        "remaining_time": 1.176158832,
                        "test": [
                          2961.257031
                        ]
                      },
                      {
                        "learn": [
                          2181.334975
                        ],
                        "iteration": 562,
                        "passed_time": 1.511371069,
                        "remaining_time": 1.173124613,
                        "test": [
                          2960.769752
                        ]
                      },
                      {
                        "learn": [
                          2180.683526
                        ],
                        "iteration": 563,
                        "passed_time": 1.513606555,
                        "remaining_time": 1.170093011,
                        "test": [
                          2960.274876
                        ]
                      },
                      {
                        "learn": [
                          2177.221732
                        ],
                        "iteration": 564,
                        "passed_time": 1.515975075,
                        "remaining_time": 1.16716665,
                        "test": [
                          2957.566334
                        ]
                      },
                      {
                        "learn": [
                          2176.603962
                        ],
                        "iteration": 565,
                        "passed_time": 1.51821124,
                        "remaining_time": 1.164140774,
                        "test": [
                          2957.093408
                        ]
                      },
                      {
                        "learn": [
                          2174.261779
                        ],
                        "iteration": 566,
                        "passed_time": 1.520485456,
                        "remaining_time": 1.161146741,
                        "test": [
                          2954.464215
                        ]
                      },
                      {
                        "learn": [
                          2171.485068
                        ],
                        "iteration": 567,
                        "passed_time": 1.522985876,
                        "remaining_time": 1.158327286,
                        "test": [
                          2952.7281
                        ]
                      },
                      {
                        "learn": [
                          2168.89853
                        ],
                        "iteration": 568,
                        "passed_time": 1.525268652,
                        "remaining_time": 1.155344093,
                        "test": [
                          2950.883657
                        ]
                      },
                      {
                        "learn": [
                          2165.734167
                        ],
                        "iteration": 569,
                        "passed_time": 1.527674909,
                        "remaining_time": 1.15245651,
                        "test": [
                          2949.408533
                        ]
                      },
                      {
                        "learn": [
                          2163.974729
                        ],
                        "iteration": 570,
                        "passed_time": 1.529979883,
                        "remaining_time": 1.149494518,
                        "test": [
                          2948.972846
                        ]
                      },
                      {
                        "learn": [
                          2161.377533
                        ],
                        "iteration": 571,
                        "passed_time": 1.532354303,
                        "remaining_time": 1.146586786,
                        "test": [
                          2947.200579
                        ]
                      },
                      {
                        "learn": [
                          2157.19967
                        ],
                        "iteration": 572,
                        "passed_time": 1.534712063,
                        "remaining_time": 1.143668501,
                        "test": [
                          2941.76826
                        ]
                      },
                      {
                        "learn": [
                          2156.34981
                        ],
                        "iteration": 573,
                        "passed_time": 1.537257061,
                        "remaining_time": 1.140891129,
                        "test": [
                          2941.325161
                        ]
                      },
                      {
                        "learn": [
                          2153.478633
                        ],
                        "iteration": 574,
                        "passed_time": 1.539682537,
                        "remaining_time": 1.138026223,
                        "test": [
                          2939.772796
                        ]
                      },
                      {
                        "learn": [
                          2149.375324
                        ],
                        "iteration": 575,
                        "passed_time": 1.542108546,
                        "remaining_time": 1.135163235,
                        "test": [
                          2935.510603
                        ]
                      },
                      {
                        "learn": [
                          2146.316212
                        ],
                        "iteration": 576,
                        "passed_time": 1.544477974,
                        "remaining_time": 1.132260283,
                        "test": [
                          2933.122171
                        ]
                      },
                      {
                        "learn": [
                          2144.604639
                        ],
                        "iteration": 577,
                        "passed_time": 1.546773929,
                        "remaining_time": 1.129305533,
                        "test": [
                          2931.162403
                        ]
                      },
                      {
                        "learn": [
                          2142.924168
                        ],
                        "iteration": 578,
                        "passed_time": 1.5490989,
                        "remaining_time": 1.126374157,
                        "test": [
                          2930.376849
                        ]
                      },
                      {
                        "learn": [
                          2139.318147
                        ],
                        "iteration": 579,
                        "passed_time": 1.551548871,
                        "remaining_time": 1.123535389,
                        "test": [
                          2927.05068
                        ]
                      },
                      {
                        "learn": [
                          2136.427006
                        ],
                        "iteration": 580,
                        "passed_time": 1.553912168,
                        "remaining_time": 1.120635453,
                        "test": [
                          2925.804803
                        ]
                      },
                      {
                        "learn": [
                          2134.007011
                        ],
                        "iteration": 581,
                        "passed_time": 1.556229127,
                        "remaining_time": 1.117704081,
                        "test": [
                          2923.585762
                        ]
                      },
                      {
                        "learn": [
                          2130.858156
                        ],
                        "iteration": 582,
                        "passed_time": 1.558658203,
                        "remaining_time": 1.11485501,
                        "test": [
                          2923.999519
                        ]
                      },
                      {
                        "learn": [
                          2127.488057
                        ],
                        "iteration": 583,
                        "passed_time": 1.566575282,
                        "remaining_time": 1.115916639,
                        "test": [
                          2920.228919
                        ]
                      },
                      {
                        "learn": [
                          2124.473631
                        ],
                        "iteration": 584,
                        "passed_time": 1.569820769,
                        "remaining_time": 1.113633537,
                        "test": [
                          2918.069592
                        ]
                      },
                      {
                        "learn": [
                          2120.709285
                        ],
                        "iteration": 585,
                        "passed_time": 1.572262712,
                        "remaining_time": 1.110779459,
                        "test": [
                          2914.888575
                        ]
                      },
                      {
                        "learn": [
                          2117.939311
                        ],
                        "iteration": 586,
                        "passed_time": 1.574590739,
                        "remaining_time": 1.107846636,
                        "test": [
                          2912.856747
                        ]
                      },
                      {
                        "learn": [
                          2115.759322
                        ],
                        "iteration": 587,
                        "passed_time": 1.57682585,
                        "remaining_time": 1.104850766,
                        "test": [
                          2911.477471
                        ]
                      },
                      {
                        "learn": [
                          2107.333559
                        ],
                        "iteration": 588,
                        "passed_time": 1.579212377,
                        "remaining_time": 1.101963136,
                        "test": [
                          2903.742749
                        ]
                      },
                      {
                        "learn": [
                          2105.728734
                        ],
                        "iteration": 589,
                        "passed_time": 1.58143767,
                        "remaining_time": 1.098965161,
                        "test": [
                          2902.919247
                        ]
                      },
                      {
                        "learn": [
                          2103.8428
                        ],
                        "iteration": 590,
                        "passed_time": 1.583727286,
                        "remaining_time": 1.096014314,
                        "test": [
                          2899.958287
                        ]
                      },
                      {
                        "learn": [
                          2102.467298
                        ],
                        "iteration": 591,
                        "passed_time": 1.58596725,
                        "remaining_time": 1.093031483,
                        "test": [
                          2898.746863
                        ]
                      },
                      {
                        "learn": [
                          2100.285438
                        ],
                        "iteration": 592,
                        "passed_time": 1.588331557,
                        "remaining_time": 1.090136499,
                        "test": [
                          2898.59633
                        ]
                      },
                      {
                        "learn": [
                          2097.701725
                        ],
                        "iteration": 593,
                        "passed_time": 1.590682266,
                        "remaining_time": 1.087234006,
                        "test": [
                          2897.294325
                        ]
                      },
                      {
                        "learn": [
                          2095.586734
                        ],
                        "iteration": 594,
                        "passed_time": 1.592965154,
                        "remaining_time": 1.084287205,
                        "test": [
                          2895.89705
                        ]
                      },
                      {
                        "learn": [
                          2093.388593
                        ],
                        "iteration": 595,
                        "passed_time": 1.595261668,
                        "remaining_time": 1.081351869,
                        "test": [
                          2894.204994
                        ]
                      },
                      {
                        "learn": [
                          2090.2984
                        ],
                        "iteration": 596,
                        "passed_time": 1.597501653,
                        "remaining_time": 1.078380513,
                        "test": [
                          2892.036667
                        ]
                      },
                      {
                        "learn": [
                          2087.921269
                        ],
                        "iteration": 597,
                        "passed_time": 1.599914824,
                        "remaining_time": 1.075528025,
                        "test": [
                          2890.941926
                        ]
                      },
                      {
                        "learn": [
                          2084.985211
                        ],
                        "iteration": 598,
                        "passed_time": 1.602281722,
                        "remaining_time": 1.072646027,
                        "test": [
                          2888.858119
                        ]
                      },
                      {
                        "learn": [
                          2082.385786
                        ],
                        "iteration": 599,
                        "passed_time": 1.604737755,
                        "remaining_time": 1.06982517,
                        "test": [
                          2887.29461
                        ]
                      },
                      {
                        "learn": [
                          2080.80237
                        ],
                        "iteration": 600,
                        "passed_time": 1.607061239,
                        "remaining_time": 1.066917528,
                        "test": [
                          2886.204565
                        ]
                      },
                      {
                        "learn": [
                          2079.436386
                        ],
                        "iteration": 601,
                        "passed_time": 1.609373307,
                        "remaining_time": 1.06400428,
                        "test": [
                          2886.149755
                        ]
                      },
                      {
                        "learn": [
                          2077.156058
                        ],
                        "iteration": 602,
                        "passed_time": 1.611796644,
                        "remaining_time": 1.061166282,
                        "test": [
                          2885.369342
                        ]
                      },
                      {
                        "learn": [
                          2075.692013
                        ],
                        "iteration": 603,
                        "passed_time": 1.614070727,
                        "remaining_time": 1.058231801,
                        "test": [
                          2883.911904
                        ]
                      },
                      {
                        "learn": [
                          2073.212858
                        ],
                        "iteration": 604,
                        "passed_time": 1.616447291,
                        "remaining_time": 1.055366413,
                        "test": [
                          2880.86409
                        ]
                      },
                      {
                        "learn": [
                          2071.918581
                        ],
                        "iteration": 605,
                        "passed_time": 1.618716228,
                        "remaining_time": 1.052432663,
                        "test": [
                          2879.530764
                        ]
                      },
                      {
                        "learn": [
                          2070.390169
                        ],
                        "iteration": 606,
                        "passed_time": 1.620994748,
                        "remaining_time": 1.049507308,
                        "test": [
                          2879.088082
                        ]
                      },
                      {
                        "learn": [
                          2069.202967
                        ],
                        "iteration": 607,
                        "passed_time": 1.623300165,
                        "remaining_time": 1.046601422,
                        "test": [
                          2877.862535
                        ]
                      },
                      {
                        "learn": [
                          2067.685588
                        ],
                        "iteration": 608,
                        "passed_time": 1.625703474,
                        "remaining_time": 1.043760359,
                        "test": [
                          2877.294368
                        ]
                      },
                      {
                        "learn": [
                          2066.914432
                        ],
                        "iteration": 609,
                        "passed_time": 1.627923976,
                        "remaining_time": 1.040803854,
                        "test": [
                          2877.121582
                        ]
                      },
                      {
                        "learn": [
                          2065.945012
                        ],
                        "iteration": 610,
                        "passed_time": 1.630190043,
                        "remaining_time": 1.037878767,
                        "test": [
                          2875.391736
                        ]
                      },
                      {
                        "learn": [
                          2064.283336
                        ],
                        "iteration": 611,
                        "passed_time": 1.632515593,
                        "remaining_time": 1.034993546,
                        "test": [
                          2873.560293
                        ]
                      },
                      {
                        "learn": [
                          2062.923425
                        ],
                        "iteration": 612,
                        "passed_time": 1.634781738,
                        "remaining_time": 1.032072647,
                        "test": [
                          2872.581536
                        ]
                      },
                      {
                        "learn": [
                          2061.240672
                        ],
                        "iteration": 613,
                        "passed_time": 1.63713934,
                        "remaining_time": 1.029211376,
                        "test": [
                          2871.487177
                        ]
                      },
                      {
                        "learn": [
                          2055.169715
                        ],
                        "iteration": 614,
                        "passed_time": 1.639589251,
                        "remaining_time": 1.026409531,
                        "test": [
                          2866.222925
                        ]
                      },
                      {
                        "learn": [
                          2053.313909
                        ],
                        "iteration": 615,
                        "passed_time": 1.641961884,
                        "remaining_time": 1.023560655,
                        "test": [
                          2865.279671
                        ]
                      },
                      {
                        "learn": [
                          2049.712606
                        ],
                        "iteration": 616,
                        "passed_time": 1.644347066,
                        "remaining_time": 1.020721112,
                        "test": [
                          2862.867168
                        ]
                      },
                      {
                        "learn": [
                          2048.633187
                        ],
                        "iteration": 617,
                        "passed_time": 1.646550354,
                        "remaining_time": 1.017770607,
                        "test": [
                          2861.867838
                        ]
                      },
                      {
                        "learn": [
                          2043.794694
                        ],
                        "iteration": 618,
                        "passed_time": 1.648864364,
                        "remaining_time": 1.014890667,
                        "test": [
                          2857.605865
                        ]
                      },
                      {
                        "learn": [
                          2039.897769
                        ],
                        "iteration": 619,
                        "passed_time": 1.651109941,
                        "remaining_time": 1.011970609,
                        "test": [
                          2851.962499
                        ]
                      },
                      {
                        "learn": [
                          2037.936274
                        ],
                        "iteration": 620,
                        "passed_time": 1.653447735,
                        "remaining_time": 1.009109004,
                        "test": [
                          2849.546309
                        ]
                      },
                      {
                        "learn": [
                          2036.177522
                        ],
                        "iteration": 621,
                        "passed_time": 1.655741082,
                        "remaining_time": 1.006222072,
                        "test": [
                          2848.27416
                        ]
                      },
                      {
                        "learn": [
                          2035.628339
                        ],
                        "iteration": 622,
                        "passed_time": 1.657963089,
                        "remaining_time": 1.003293876,
                        "test": [
                          2848.249772
                        ]
                      },
                      {
                        "learn": [
                          2034.571191
                        ],
                        "iteration": 623,
                        "passed_time": 1.660243786,
                        "remaining_time": 1.000403307,
                        "test": [
                          2847.035665
                        ]
                      },
                      {
                        "learn": [
                          2030.897262
                        ],
                        "iteration": 624,
                        "passed_time": 1.662798603,
                        "remaining_time": 0.9976791616,
                        "test": [
                          2843.276594
                        ]
                      },
                      {
                        "learn": [
                          2028.393419
                        ],
                        "iteration": 625,
                        "passed_time": 1.665112913,
                        "remaining_time": 0.9948118683,
                        "test": [
                          2841.476621
                        ]
                      },
                      {
                        "learn": [
                          2027.911985
                        ],
                        "iteration": 626,
                        "passed_time": 1.667387467,
                        "remaining_time": 0.9919226875,
                        "test": [
                          2841.124913
                        ]
                      },
                      {
                        "learn": [
                          2024.756415
                        ],
                        "iteration": 627,
                        "passed_time": 1.669786737,
                        "remaining_time": 0.9891093409,
                        "test": [
                          2837.162907
                        ]
                      },
                      {
                        "learn": [
                          2022.188959
                        ],
                        "iteration": 628,
                        "passed_time": 1.672163326,
                        "remaining_time": 0.9862839334,
                        "test": [
                          2835.127085
                        ]
                      },
                      {
                        "learn": [
                          2020.061226
                        ],
                        "iteration": 629,
                        "passed_time": 1.674482217,
                        "remaining_time": 0.9834260642,
                        "test": [
                          2835.020668
                        ]
                      },
                      {
                        "learn": [
                          2019.064879
                        ],
                        "iteration": 630,
                        "passed_time": 1.676712014,
                        "remaining_time": 0.9805178021,
                        "test": [
                          2834.564541
                        ]
                      },
                      {
                        "learn": [
                          2017.667067
                        ],
                        "iteration": 631,
                        "passed_time": 1.679004816,
                        "remaining_time": 0.9776483736,
                        "test": [
                          2833.267764
                        ]
                      },
                      {
                        "learn": [
                          2016.96763
                        ],
                        "iteration": 632,
                        "passed_time": 1.681266899,
                        "remaining_time": 0.9747629573,
                        "test": [
                          2833.004782
                        ]
                      },
                      {
                        "learn": [
                          2015.379877
                        ],
                        "iteration": 633,
                        "passed_time": 1.683559625,
                        "remaining_time": 0.9718971969,
                        "test": [
                          2831.571864
                        ]
                      },
                      {
                        "learn": [
                          2013.45206
                        ],
                        "iteration": 634,
                        "passed_time": 1.685871852,
                        "remaining_time": 0.9690444506,
                        "test": [
                          2830.261692
                        ]
                      },
                      {
                        "learn": [
                          2011.622236
                        ],
                        "iteration": 635,
                        "passed_time": 1.688144731,
                        "remaining_time": 0.9661708839,
                        "test": [
                          2831.690806
                        ]
                      },
                      {
                        "learn": [
                          2008.93134
                        ],
                        "iteration": 636,
                        "passed_time": 1.69046642,
                        "remaining_time": 0.9633270182,
                        "test": [
                          2831.187591
                        ]
                      },
                      {
                        "learn": [
                          2007.062937
                        ],
                        "iteration": 637,
                        "passed_time": 1.692770497,
                        "remaining_time": 0.9604747963,
                        "test": [
                          2830.813419
                        ]
                      },
                      {
                        "learn": [
                          2004.609934
                        ],
                        "iteration": 638,
                        "passed_time": 1.695177579,
                        "remaining_time": 0.9576824818,
                        "test": [
                          2828.243167
                        ]
                      },
                      {
                        "learn": [
                          2001.357784
                        ],
                        "iteration": 639,
                        "passed_time": 1.697531611,
                        "remaining_time": 0.9548615312,
                        "test": [
                          2826.815399
                        ]
                      },
                      {
                        "learn": [
                          1999.19839
                        ],
                        "iteration": 640,
                        "passed_time": 1.7005886,
                        "remaining_time": 0.9524357371,
                        "test": [
                          2825.550118
                        ]
                      },
                      {
                        "learn": [
                          1997.881881
                        ],
                        "iteration": 641,
                        "passed_time": 1.702748501,
                        "remaining_time": 0.9495077312,
                        "test": [
                          2825.121922
                        ]
                      },
                      {
                        "learn": [
                          1994.697503
                        ],
                        "iteration": 642,
                        "passed_time": 1.705090691,
                        "remaining_time": 0.946683323,
                        "test": [
                          2822.626848
                        ]
                      },
                      {
                        "learn": [
                          1992.255237
                        ],
                        "iteration": 643,
                        "passed_time": 1.707548479,
                        "remaining_time": 0.9439243143,
                        "test": [
                          2821.530236
                        ]
                      },
                      {
                        "learn": [
                          1990.501489
                        ],
                        "iteration": 644,
                        "passed_time": 1.70987964,
                        "remaining_time": 0.9410965459,
                        "test": [
                          2819.984376
                        ]
                      },
                      {
                        "learn": [
                          1989.332276
                        ],
                        "iteration": 645,
                        "passed_time": 1.712153871,
                        "remaining_time": 0.9382391183,
                        "test": [
                          2819.156498
                        ]
                      },
                      {
                        "learn": [
                          1986.883278
                        ],
                        "iteration": 646,
                        "passed_time": 1.714545194,
                        "remaining_time": 0.9354473778,
                        "test": [
                          2817.441896
                        ]
                      },
                      {
                        "learn": [
                          1983.266563
                        ],
                        "iteration": 647,
                        "passed_time": 1.716900506,
                        "remaining_time": 0.9326373121,
                        "test": [
                          2815.108122
                        ]
                      },
                      {
                        "learn": [
                          1979.833753
                        ],
                        "iteration": 648,
                        "passed_time": 1.719294247,
                        "remaining_time": 0.929849431,
                        "test": [
                          2812.316431
                        ]
                      },
                      {
                        "learn": [
                          1977.833841
                        ],
                        "iteration": 649,
                        "passed_time": 1.721613255,
                        "remaining_time": 0.9270225221,
                        "test": [
                          2809.501922
                        ]
                      },
                      {
                        "learn": [
                          1975.639907
                        ],
                        "iteration": 650,
                        "passed_time": 1.723800455,
                        "remaining_time": 0.9241265111,
                        "test": [
                          2807.186187
                        ]
                      },
                      {
                        "learn": [
                          1969.470506
                        ],
                        "iteration": 651,
                        "passed_time": 1.726147884,
                        "remaining_time": 0.9213181958,
                        "test": [
                          2800.539899
                        ]
                      },
                      {
                        "learn": [
                          1966.114876
                        ],
                        "iteration": 652,
                        "passed_time": 1.728536344,
                        "remaining_time": 0.9185330958,
                        "test": [
                          2798.10279
                        ]
                      },
                      {
                        "learn": [
                          1964.292218
                        ],
                        "iteration": 653,
                        "passed_time": 1.730834367,
                        "remaining_time": 0.9157013626,
                        "test": [
                          2795.925934
                        ]
                      },
                      {
                        "learn": [
                          1962.248115
                        ],
                        "iteration": 654,
                        "passed_time": 1.733075215,
                        "remaining_time": 0.9128411436,
                        "test": [
                          2794.111897
                        ]
                      },
                      {
                        "learn": [
                          1959.751815
                        ],
                        "iteration": 655,
                        "passed_time": 1.735534399,
                        "remaining_time": 0.9100973071,
                        "test": [
                          2793.008029
                        ]
                      },
                      {
                        "learn": [
                          1956.310951
                        ],
                        "iteration": 656,
                        "passed_time": 1.737985907,
                        "remaining_time": 0.9073503288,
                        "test": [
                          2790.828807
                        ]
                      },
                      {
                        "learn": [
                          1955.178957
                        ],
                        "iteration": 657,
                        "passed_time": 1.741393369,
                        "remaining_time": 0.9051011128,
                        "test": [
                          2789.793559
                        ]
                      },
                      {
                        "learn": [
                          1953.749627
                        ],
                        "iteration": 658,
                        "passed_time": 1.743714473,
                        "remaining_time": 0.9022862446,
                        "test": [
                          2789.054617
                        ]
                      },
                      {
                        "learn": [
                          1951.609656
                        ],
                        "iteration": 659,
                        "passed_time": 1.746039866,
                        "remaining_time": 0.8994750824,
                        "test": [
                          2786.869349
                        ]
                      },
                      {
                        "learn": [
                          1949.48478
                        ],
                        "iteration": 660,
                        "passed_time": 1.748344905,
                        "remaining_time": 0.8966549515,
                        "test": [
                          2785.170084
                        ]
                      },
                      {
                        "learn": [
                          1946.380796
                        ],
                        "iteration": 661,
                        "passed_time": 1.750732451,
                        "remaining_time": 0.8938785023,
                        "test": [
                          2782.94035
                        ]
                      },
                      {
                        "learn": [
                          1945.464506
                        ],
                        "iteration": 662,
                        "passed_time": 1.752943611,
                        "remaining_time": 0.8910135701,
                        "test": [
                          2782.310746
                        ]
                      },
                      {
                        "learn": [
                          1944.432742
                        ],
                        "iteration": 663,
                        "passed_time": 1.755170332,
                        "remaining_time": 0.888158481,
                        "test": [
                          2781.847152
                        ]
                      },
                      {
                        "learn": [
                          1942.564136
                        ],
                        "iteration": 664,
                        "passed_time": 1.758568422,
                        "remaining_time": 0.8858953704,
                        "test": [
                          2781.944862
                        ]
                      },
                      {
                        "learn": [
                          1939.701757
                        ],
                        "iteration": 665,
                        "passed_time": 1.767779499,
                        "remaining_time": 0.8865440732,
                        "test": [
                          2780.410124
                        ]
                      },
                      {
                        "learn": [
                          1937.805309
                        ],
                        "iteration": 666,
                        "passed_time": 1.769872775,
                        "remaining_time": 0.8836096464,
                        "test": [
                          2777.748727
                        ]
                      },
                      {
                        "learn": [
                          1933.865346
                        ],
                        "iteration": 667,
                        "passed_time": 1.772256926,
                        "remaining_time": 0.8808223045,
                        "test": [
                          2773.802297
                        ]
                      },
                      {
                        "learn": [
                          1931.645337
                        ],
                        "iteration": 668,
                        "passed_time": 1.774715872,
                        "remaining_time": 0.8780731742,
                        "test": [
                          2771.433528
                        ]
                      },
                      {
                        "learn": [
                          1929.444253
                        ],
                        "iteration": 669,
                        "passed_time": 1.777150761,
                        "remaining_time": 0.8753130616,
                        "test": [
                          2770.150083
                        ]
                      },
                      {
                        "learn": [
                          1927.363349
                        ],
                        "iteration": 670,
                        "passed_time": 1.779427396,
                        "remaining_time": 0.872476324,
                        "test": [
                          2768.865627
                        ]
                      },
                      {
                        "learn": [
                          1925.314539
                        ],
                        "iteration": 671,
                        "passed_time": 1.781865969,
                        "remaining_time": 0.8697202942,
                        "test": [
                          2767.698123
                        ]
                      },
                      {
                        "learn": [
                          1923.267828
                        ],
                        "iteration": 672,
                        "passed_time": 1.784201415,
                        "remaining_time": 0.8669151008,
                        "test": [
                          2764.787205
                        ]
                      },
                      {
                        "learn": [
                          1921.678895
                        ],
                        "iteration": 673,
                        "passed_time": 1.786487434,
                        "remaining_time": 0.8640873939,
                        "test": [
                          2762.844868
                        ]
                      },
                      {
                        "learn": [
                          1918.204169
                        ],
                        "iteration": 674,
                        "passed_time": 1.788832196,
                        "remaining_time": 0.8612895761,
                        "test": [
                          2759.184677
                        ]
                      },
                      {
                        "learn": [
                          1916.456201
                        ],
                        "iteration": 675,
                        "passed_time": 1.791140653,
                        "remaining_time": 0.8584756976,
                        "test": [
                          2756.803134
                        ]
                      },
                      {
                        "learn": [
                          1914.264926
                        ],
                        "iteration": 676,
                        "passed_time": 1.793441182,
                        "remaining_time": 0.85565953,
                        "test": [
                          2755.438146
                        ]
                      },
                      {
                        "learn": [
                          1912.157833
                        ],
                        "iteration": 677,
                        "passed_time": 1.795740282,
                        "remaining_time": 0.8528442049,
                        "test": [
                          2754.097045
                        ]
                      },
                      {
                        "learn": [
                          1909.029977
                        ],
                        "iteration": 678,
                        "passed_time": 1.798092116,
                        "remaining_time": 0.8500553302,
                        "test": [
                          2750.962162
                        ]
                      },
                      {
                        "learn": [
                          1907.860287
                        ],
                        "iteration": 679,
                        "passed_time": 1.800314815,
                        "remaining_time": 0.8472069716,
                        "test": [
                          2750.04919
                        ]
                      },
                      {
                        "learn": [
                          1904.760719
                        ],
                        "iteration": 680,
                        "passed_time": 1.802614554,
                        "remaining_time": 0.8443965385,
                        "test": [
                          2748.185015
                        ]
                      },
                      {
                        "learn": [
                          1904.074663
                        ],
                        "iteration": 681,
                        "passed_time": 1.804916869,
                        "remaining_time": 0.8415888041,
                        "test": [
                          2747.545723
                        ]
                      },
                      {
                        "learn": [
                          1903.182743
                        ],
                        "iteration": 682,
                        "passed_time": 1.807245725,
                        "remaining_time": 0.8387948679,
                        "test": [
                          2747.668149
                        ]
                      },
                      {
                        "learn": [
                          1899.349197
                        ],
                        "iteration": 683,
                        "passed_time": 1.809690543,
                        "remaining_time": 0.8360558648,
                        "test": [
                          2745.810758
                        ]
                      },
                      {
                        "learn": [
                          1896.860881
                        ],
                        "iteration": 684,
                        "passed_time": 1.812028794,
                        "remaining_time": 0.8332687155,
                        "test": [
                          2742.212561
                        ]
                      },
                      {
                        "learn": [
                          1896.109633
                        ],
                        "iteration": 685,
                        "passed_time": 1.814348188,
                        "remaining_time": 0.8304742434,
                        "test": [
                          2741.926265
                        ]
                      },
                      {
                        "learn": [
                          1893.66289
                        ],
                        "iteration": 686,
                        "passed_time": 1.816770921,
                        "remaining_time": 0.827728236,
                        "test": [
                          2739.633448
                        ]
                      },
                      {
                        "learn": [
                          1890.766206
                        ],
                        "iteration": 687,
                        "passed_time": 1.819155042,
                        "remaining_time": 0.8249656586,
                        "test": [
                          2737.719727
                        ]
                      },
                      {
                        "learn": [
                          1887.853592
                        ],
                        "iteration": 688,
                        "passed_time": 1.821500374,
                        "remaining_time": 0.8221866712,
                        "test": [
                          2734.603643
                        ]
                      },
                      {
                        "learn": [
                          1885.619431
                        ],
                        "iteration": 689,
                        "passed_time": 1.823768525,
                        "remaining_time": 0.8193742647,
                        "test": [
                          2733.484002
                        ]
                      },
                      {
                        "learn": [
                          1880.770053
                        ],
                        "iteration": 690,
                        "passed_time": 1.826214363,
                        "remaining_time": 0.8166428915,
                        "test": [
                          2730.211414
                        ]
                      },
                      {
                        "learn": [
                          1878.239845
                        ],
                        "iteration": 691,
                        "passed_time": 1.828575441,
                        "remaining_time": 0.8138746181,
                        "test": [
                          2729.013805
                        ]
                      },
                      {
                        "learn": [
                          1874.947657
                        ],
                        "iteration": 692,
                        "passed_time": 1.830923578,
                        "remaining_time": 0.8111017872,
                        "test": [
                          2727.07346
                        ]
                      },
                      {
                        "learn": [
                          1873.150136
                        ],
                        "iteration": 693,
                        "passed_time": 1.833188011,
                        "remaining_time": 0.8082932727,
                        "test": [
                          2726.067225
                        ]
                      },
                      {
                        "learn": [
                          1870.523077
                        ],
                        "iteration": 694,
                        "passed_time": 1.835653411,
                        "remaining_time": 0.8055745186,
                        "test": [
                          2723.713419
                        ]
                      },
                      {
                        "learn": [
                          1868.711687
                        ],
                        "iteration": 695,
                        "passed_time": 1.838093493,
                        "remaining_time": 0.8028454339,
                        "test": [
                          2722.978154
                        ]
                      },
                      {
                        "learn": [
                          1868.296748
                        ],
                        "iteration": 696,
                        "passed_time": 1.840303466,
                        "remaining_time": 0.8000171452,
                        "test": [
                          2722.660185
                        ]
                      },
                      {
                        "learn": [
                          1867.465874
                        ],
                        "iteration": 697,
                        "passed_time": 1.842578158,
                        "remaining_time": 0.7972186298,
                        "test": [
                          2722.439579
                        ]
                      },
                      {
                        "learn": [
                          1866.42823
                        ],
                        "iteration": 698,
                        "passed_time": 1.844768438,
                        "remaining_time": 0.7943852646,
                        "test": [
                          2721.730637
                        ]
                      },
                      {
                        "learn": [
                          1865.113612
                        ],
                        "iteration": 699,
                        "passed_time": 1.84705158,
                        "remaining_time": 0.7915935343,
                        "test": [
                          2721.45236
                        ]
                      },
                      {
                        "learn": [
                          1861.650171
                        ],
                        "iteration": 700,
                        "passed_time": 1.849377448,
                        "remaining_time": 0.7888214791,
                        "test": [
                          2718.143462
                        ]
                      },
                      {
                        "learn": [
                          1859.795285
                        ],
                        "iteration": 701,
                        "passed_time": 1.851670918,
                        "remaining_time": 0.7860369422,
                        "test": [
                          2716.146265
                        ]
                      },
                      {
                        "learn": [
                          1858.397348
                        ],
                        "iteration": 702,
                        "passed_time": 1.85394427,
                        "remaining_time": 0.7832453033,
                        "test": [
                          2715.601047
                        ]
                      },
                      {
                        "learn": [
                          1857.857909
                        ],
                        "iteration": 703,
                        "passed_time": 1.856223535,
                        "remaining_time": 0.7804576225,
                        "test": [
                          2715.135872
                        ]
                      },
                      {
                        "learn": [
                          1852.344816
                        ],
                        "iteration": 704,
                        "passed_time": 1.85858957,
                        "remaining_time": 0.7777076923,
                        "test": [
                          2709.549886
                        ]
                      },
                      {
                        "learn": [
                          1851.029237
                        ],
                        "iteration": 705,
                        "passed_time": 1.860924745,
                        "remaining_time": 0.7749459985,
                        "test": [
                          2708.795219
                        ]
                      },
                      {
                        "learn": [
                          1850.364721
                        ],
                        "iteration": 706,
                        "passed_time": 1.863119627,
                        "remaining_time": 0.7721273702,
                        "test": [
                          2708.276657
                        ]
                      },
                      {
                        "learn": [
                          1847.723422
                        ],
                        "iteration": 707,
                        "passed_time": 1.865421364,
                        "remaining_time": 0.769354574,
                        "test": [
                          2705.871381
                        ]
                      },
                      {
                        "learn": [
                          1845.950719
                        ],
                        "iteration": 708,
                        "passed_time": 1.867723299,
                        "remaining_time": 0.7665831875,
                        "test": [
                          2704.705452
                        ]
                      },
                      {
                        "learn": [
                          1843.26178
                        ],
                        "iteration": 709,
                        "passed_time": 1.870102255,
                        "remaining_time": 0.7638445832,
                        "test": [
                          2702.761211
                        ]
                      },
                      {
                        "learn": [
                          1840.608178
                        ],
                        "iteration": 710,
                        "passed_time": 1.872439239,
                        "remaining_time": 0.7610899299,
                        "test": [
                          2699.865043
                        ]
                      },
                      {
                        "learn": [
                          1838.020425
                        ],
                        "iteration": 711,
                        "passed_time": 1.874773189,
                        "remaining_time": 0.7583352226,
                        "test": [
                          2696.706329
                        ]
                      },
                      {
                        "learn": [
                          1836.439462
                        ],
                        "iteration": 712,
                        "passed_time": 1.87707835,
                        "remaining_time": 0.7555701071,
                        "test": [
                          2695.669305
                        ]
                      },
                      {
                        "learn": [
                          1834.325094
                        ],
                        "iteration": 713,
                        "passed_time": 1.879393573,
                        "remaining_time": 0.7528103107,
                        "test": [
                          2693.810948
                        ]
                      },
                      {
                        "learn": [
                          1832.911146
                        ],
                        "iteration": 714,
                        "passed_time": 1.881654525,
                        "remaining_time": 0.7500301252,
                        "test": [
                          2691.900191
                        ]
                      },
                      {
                        "learn": [
                          1828.045524
                        ],
                        "iteration": 715,
                        "passed_time": 1.884055377,
                        "remaining_time": 0.7473068816,
                        "test": [
                          2686.893679
                        ]
                      },
                      {
                        "learn": [
                          1826.329977
                        ],
                        "iteration": 716,
                        "passed_time": 1.886359571,
                        "remaining_time": 0.7445463857,
                        "test": [
                          2685.730921
                        ]
                      },
                      {
                        "learn": [
                          1822.935812
                        ],
                        "iteration": 717,
                        "passed_time": 1.888727761,
                        "remaining_time": 0.7418122961,
                        "test": [
                          2683.451086
                        ]
                      },
                      {
                        "learn": [
                          1818.31612
                        ],
                        "iteration": 718,
                        "passed_time": 1.92583554,
                        "remaining_time": 0.7526561708,
                        "test": [
                          2678.665264
                        ]
                      },
                      {
                        "learn": [
                          1816.917018
                        ],
                        "iteration": 719,
                        "passed_time": 1.929014569,
                        "remaining_time": 0.7501723325,
                        "test": [
                          2676.996317
                        ]
                      },
                      {
                        "learn": [
                          1814.152993
                        ],
                        "iteration": 720,
                        "passed_time": 1.936481948,
                        "remaining_time": 0.7493459966,
                        "test": [
                          2674.365768
                        ]
                      },
                      {
                        "learn": [
                          1812.499341
                        ],
                        "iteration": 721,
                        "passed_time": 1.944990168,
                        "remaining_time": 0.7489020315,
                        "test": [
                          2673.473675
                        ]
                      },
                      {
                        "learn": [
                          1809.157699
                        ],
                        "iteration": 722,
                        "passed_time": 1.951760283,
                        "remaining_time": 0.7477698456,
                        "test": [
                          2670.108371
                        ]
                      },
                      {
                        "learn": [
                          1807.539565
                        ],
                        "iteration": 723,
                        "passed_time": 1.961902108,
                        "remaining_time": 0.7479074336,
                        "test": [
                          2668.4831
                        ]
                      },
                      {
                        "learn": [
                          1806.017462
                        ],
                        "iteration": 724,
                        "passed_time": 1.967367349,
                        "remaining_time": 0.7462427875,
                        "test": [
                          2667.706499
                        ]
                      },
                      {
                        "learn": [
                          1804.831619
                        ],
                        "iteration": 725,
                        "passed_time": 1.974920866,
                        "remaining_time": 0.7453558088,
                        "test": [
                          2665.79749
                        ]
                      },
                      {
                        "learn": [
                          1801.648637
                        ],
                        "iteration": 726,
                        "passed_time": 1.985833027,
                        "remaining_time": 0.7457117145,
                        "test": [
                          2662.676464
                        ]
                      },
                      {
                        "learn": [
                          1799.50572
                        ],
                        "iteration": 727,
                        "passed_time": 1.990746121,
                        "remaining_time": 0.743795254,
                        "test": [
                          2660.666419
                        ]
                      },
                      {
                        "learn": [
                          1798.073231
                        ],
                        "iteration": 728,
                        "passed_time": 1.994394142,
                        "remaining_time": 0.7414002916,
                        "test": [
                          2660.067789
                        ]
                      },
                      {
                        "learn": [
                          1796.25602
                        ],
                        "iteration": 729,
                        "passed_time": 1.996697817,
                        "remaining_time": 0.7385046722,
                        "test": [
                          2658.784586
                        ]
                      },
                      {
                        "learn": [
                          1794.785611
                        ],
                        "iteration": 730,
                        "passed_time": 1.99922842,
                        "remaining_time": 0.7356941793,
                        "test": [
                          2657.872739
                        ]
                      },
                      {
                        "learn": [
                          1792.101193
                        ],
                        "iteration": 731,
                        "passed_time": 2.00158347,
                        "remaining_time": 0.7328201776,
                        "test": [
                          2658.800851
                        ]
                      },
                      {
                        "learn": [
                          1790.266102
                        ],
                        "iteration": 732,
                        "passed_time": 2.003913291,
                        "remaining_time": 0.7299384021,
                        "test": [
                          2657.216785
                        ]
                      },
                      {
                        "learn": [
                          1786.174153
                        ],
                        "iteration": 733,
                        "passed_time": 2.006370418,
                        "remaining_time": 0.7271042659,
                        "test": [
                          2653.997585
                        ]
                      },
                      {
                        "learn": [
                          1783.937325
                        ],
                        "iteration": 734,
                        "passed_time": 2.008636756,
                        "remaining_time": 0.7242023677,
                        "test": [
                          2651.957987
                        ]
                      },
                      {
                        "learn": [
                          1779.435448
                        ],
                        "iteration": 735,
                        "passed_time": 2.010980677,
                        "remaining_time": 0.7213300255,
                        "test": [
                          2647.936651
                        ]
                      },
                      {
                        "learn": [
                          1777.697222
                        ],
                        "iteration": 736,
                        "passed_time": 2.013239846,
                        "remaining_time": 0.718428873,
                        "test": [
                          2647.558447
                        ]
                      },
                      {
                        "learn": [
                          1776.648278
                        ],
                        "iteration": 737,
                        "passed_time": 2.015570447,
                        "remaining_time": 0.7155548201,
                        "test": [
                          2647.007608
                        ]
                      },
                      {
                        "learn": [
                          1774.54295
                        ],
                        "iteration": 738,
                        "passed_time": 2.017899948,
                        "remaining_time": 0.7126818489,
                        "test": [
                          2646.481048
                        ]
                      },
                      {
                        "learn": [
                          1771.532329
                        ],
                        "iteration": 739,
                        "passed_time": 2.022753679,
                        "remaining_time": 0.7106972387,
                        "test": [
                          2644.86946
                        ]
                      },
                      {
                        "learn": [
                          1770.203158
                        ],
                        "iteration": 740,
                        "passed_time": 2.026429881,
                        "remaining_time": 0.7082933052,
                        "test": [
                          2643.436411
                        ]
                      },
                      {
                        "learn": [
                          1768.414889
                        ],
                        "iteration": 741,
                        "passed_time": 2.028545645,
                        "remaining_time": 0.7053433644,
                        "test": [
                          2641.130502
                        ]
                      },
                      {
                        "learn": [
                          1766.791053
                        ],
                        "iteration": 742,
                        "passed_time": 2.031074248,
                        "remaining_time": 0.702538468,
                        "test": [
                          2640.362908
                        ]
                      },
                      {
                        "learn": [
                          1764.165363
                        ],
                        "iteration": 743,
                        "passed_time": 2.033458118,
                        "remaining_time": 0.6996845137,
                        "test": [
                          2637.930586
                        ]
                      },
                      {
                        "learn": [
                          1763.793025
                        ],
                        "iteration": 744,
                        "passed_time": 2.035723542,
                        "remaining_time": 0.6967912794,
                        "test": [
                          2637.387764
                        ]
                      },
                      {
                        "learn": [
                          1763.419921
                        ],
                        "iteration": 745,
                        "passed_time": 2.03799743,
                        "remaining_time": 0.6939026101,
                        "test": [
                          2636.522751
                        ]
                      },
                      {
                        "learn": [
                          1760.792238
                        ],
                        "iteration": 746,
                        "passed_time": 2.040411163,
                        "remaining_time": 0.6910629509,
                        "test": [
                          2634.679616
                        ]
                      },
                      {
                        "learn": [
                          1759.536258
                        ],
                        "iteration": 747,
                        "passed_time": 2.04269184,
                        "remaining_time": 0.6881796037,
                        "test": [
                          2634.395318
                        ]
                      },
                      {
                        "learn": [
                          1757.701664
                        ],
                        "iteration": 748,
                        "passed_time": 2.045032742,
                        "remaining_time": 0.6853180485,
                        "test": [
                          2632.963602
                        ]
                      },
                      {
                        "learn": [
                          1756.457575
                        ],
                        "iteration": 749,
                        "passed_time": 2.047316214,
                        "remaining_time": 0.682438738,
                        "test": [
                          2631.451686
                        ]
                      },
                      {
                        "learn": [
                          1754.618563
                        ],
                        "iteration": 750,
                        "passed_time": 2.04966512,
                        "remaining_time": 0.6795827094,
                        "test": [
                          2629.38715
                        ]
                      },
                      {
                        "learn": [
                          1753.58531
                        ],
                        "iteration": 751,
                        "passed_time": 2.051997736,
                        "remaining_time": 0.6767226576,
                        "test": [
                          2628.94956
                        ]
                      },
                      {
                        "learn": [
                          1751.268832
                        ],
                        "iteration": 752,
                        "passed_time": 2.054404663,
                        "remaining_time": 0.6738883821,
                        "test": [
                          2626.793205
                        ]
                      },
                      {
                        "learn": [
                          1749.512848
                        ],
                        "iteration": 753,
                        "passed_time": 2.056787061,
                        "remaining_time": 0.6710472373,
                        "test": [
                          2626.422445
                        ]
                      },
                      {
                        "learn": [
                          1747.462816
                        ],
                        "iteration": 754,
                        "passed_time": 2.059240383,
                        "remaining_time": 0.6682303231,
                        "test": [
                          2624.046316
                        ]
                      },
                      {
                        "learn": [
                          1746.421877
                        ],
                        "iteration": 755,
                        "passed_time": 2.061536872,
                        "remaining_time": 0.6653637523,
                        "test": [
                          2623.052415
                        ]
                      },
                      {
                        "learn": [
                          1744.230437
                        ],
                        "iteration": 756,
                        "passed_time": 2.063957719,
                        "remaining_time": 0.6625386074,
                        "test": [
                          2621.029888
                        ]
                      },
                      {
                        "learn": [
                          1743.813698
                        ],
                        "iteration": 757,
                        "passed_time": 2.066209777,
                        "remaining_time": 0.6596606411,
                        "test": [
                          2620.680247
                        ]
                      },
                      {
                        "learn": [
                          1743.144909
                        ],
                        "iteration": 758,
                        "passed_time": 2.068430144,
                        "remaining_time": 0.6567742617,
                        "test": [
                          2620.752811
                        ]
                      },
                      {
                        "learn": [
                          1742.223464
                        ],
                        "iteration": 759,
                        "passed_time": 2.070671408,
                        "remaining_time": 0.6538962342,
                        "test": [
                          2620.237924
                        ]
                      },
                      {
                        "learn": [
                          1739.270951
                        ],
                        "iteration": 760,
                        "passed_time": 2.07307297,
                        "remaining_time": 0.6510702232,
                        "test": [
                          2619.264236
                        ]
                      },
                      {
                        "learn": [
                          1737.205544
                        ],
                        "iteration": 761,
                        "passed_time": 2.075457614,
                        "remaining_time": 0.6482400423,
                        "test": [
                          2616.633637
                        ]
                      },
                      {
                        "learn": [
                          1734.789844
                        ],
                        "iteration": 762,
                        "passed_time": 2.077890122,
                        "remaining_time": 0.6454258965,
                        "test": [
                          2615.560718
                        ]
                      },
                      {
                        "learn": [
                          1733.903556
                        ],
                        "iteration": 763,
                        "passed_time": 2.079991794,
                        "remaining_time": 0.6425105542,
                        "test": [
                          2615.32079
                        ]
                      },
                      {
                        "learn": [
                          1731.940528
                        ],
                        "iteration": 764,
                        "passed_time": 2.082439602,
                        "remaining_time": 0.6397036685,
                        "test": [
                          2613.499214
                        ]
                      },
                      {
                        "learn": [
                          1731.604987
                        ],
                        "iteration": 765,
                        "passed_time": 2.084746452,
                        "remaining_time": 0.6368546603,
                        "test": [
                          2613.322392
                        ]
                      },
                      {
                        "learn": [
                          1730.718824
                        ],
                        "iteration": 766,
                        "passed_time": 2.087105416,
                        "remaining_time": 0.6340228969,
                        "test": [
                          2613.253646
                        ]
                      },
                      {
                        "learn": [
                          1728.865517
                        ],
                        "iteration": 767,
                        "passed_time": 2.089642906,
                        "remaining_time": 0.6312462947,
                        "test": [
                          2612.247391
                        ]
                      },
                      {
                        "learn": [
                          1727.704701
                        ],
                        "iteration": 768,
                        "passed_time": 2.091990188,
                        "remaining_time": 0.6284131773,
                        "test": [
                          2611.607393
                        ]
                      },
                      {
                        "learn": [
                          1726.026676
                        ],
                        "iteration": 769,
                        "passed_time": 2.094461997,
                        "remaining_time": 0.6256185186,
                        "test": [
                          2610.971627
                        ]
                      },
                      {
                        "learn": [
                          1724.655192
                        ],
                        "iteration": 770,
                        "passed_time": 2.096767934,
                        "remaining_time": 0.6227754304,
                        "test": [
                          2610.586016
                        ]
                      },
                      {
                        "learn": [
                          1723.006807
                        ],
                        "iteration": 771,
                        "passed_time": 2.099035098,
                        "remaining_time": 0.6199222827,
                        "test": [
                          2609.713573
                        ]
                      },
                      {
                        "learn": [
                          1721.955285
                        ],
                        "iteration": 772,
                        "passed_time": 2.101346175,
                        "remaining_time": 0.6170835468,
                        "test": [
                          2608.823187
                        ]
                      },
                      {
                        "learn": [
                          1720.713404
                        ],
                        "iteration": 773,
                        "passed_time": 2.10378556,
                        "remaining_time": 0.6142836389,
                        "test": [
                          2607.624582
                        ]
                      },
                      {
                        "learn": [
                          1718.301967
                        ],
                        "iteration": 774,
                        "passed_time": 2.106309606,
                        "remaining_time": 0.6115092405,
                        "test": [
                          2605.342869
                        ]
                      },
                      {
                        "learn": [
                          1715.502421
                        ],
                        "iteration": 775,
                        "passed_time": 2.108680379,
                        "remaining_time": 0.6086912434,
                        "test": [
                          2603.195134
                        ]
                      },
                      {
                        "learn": [
                          1713.776132
                        ],
                        "iteration": 776,
                        "passed_time": 2.111052142,
                        "remaining_time": 0.6058746818,
                        "test": [
                          2602.307754
                        ]
                      },
                      {
                        "learn": [
                          1712.096633
                        ],
                        "iteration": 777,
                        "passed_time": 2.113396327,
                        "remaining_time": 0.603051394,
                        "test": [
                          2601.452003
                        ]
                      },
                      {
                        "learn": [
                          1710.797154
                        ],
                        "iteration": 778,
                        "passed_time": 2.115630961,
                        "remaining_time": 0.6001982572,
                        "test": [
                          2600.6488
                        ]
                      },
                      {
                        "learn": [
                          1708.078575
                        ],
                        "iteration": 779,
                        "passed_time": 2.117956641,
                        "remaining_time": 0.597372386,
                        "test": [
                          2596.448472
                        ]
                      },
                      {
                        "learn": [
                          1705.189488
                        ],
                        "iteration": 780,
                        "passed_time": 2.120291208,
                        "remaining_time": 0.5945502876,
                        "test": [
                          2589.793914
                        ]
                      },
                      {
                        "learn": [
                          1704.031624
                        ],
                        "iteration": 781,
                        "passed_time": 2.122570077,
                        "remaining_time": 0.5917139088,
                        "test": [
                          2589.249179
                        ]
                      },
                      {
                        "learn": [
                          1703.415159
                        ],
                        "iteration": 782,
                        "passed_time": 2.124874416,
                        "remaining_time": 0.5888860132,
                        "test": [
                          2589.433492
                        ]
                      },
                      {
                        "learn": [
                          1700.944147
                        ],
                        "iteration": 783,
                        "passed_time": 2.127325905,
                        "remaining_time": 0.5860999941,
                        "test": [
                          2588.095345
                        ]
                      },
                      {
                        "learn": [
                          1699.03758
                        ],
                        "iteration": 784,
                        "passed_time": 2.129716673,
                        "remaining_time": 0.583298197,
                        "test": [
                          2585.849953
                        ]
                      },
                      {
                        "learn": [
                          1697.806975
                        ],
                        "iteration": 785,
                        "passed_time": 2.131998573,
                        "remaining_time": 0.5804678048,
                        "test": [
                          2585.798367
                        ]
                      },
                      {
                        "learn": [
                          1696.243212
                        ],
                        "iteration": 786,
                        "passed_time": 2.134311563,
                        "remaining_time": 0.5776472209,
                        "test": [
                          2584.57986
                        ]
                      },
                      {
                        "learn": [
                          1695.848565
                        ],
                        "iteration": 787,
                        "passed_time": 2.136550168,
                        "remaining_time": 0.5748079133,
                        "test": [
                          2584.501957
                        ]
                      },
                      {
                        "learn": [
                          1694.542124
                        ],
                        "iteration": 788,
                        "passed_time": 2.143002358,
                        "remaining_time": 0.573096955,
                        "test": [
                          2583.833157
                        ]
                      },
                      {
                        "learn": [
                          1691.831185
                        ],
                        "iteration": 789,
                        "passed_time": 2.146323334,
                        "remaining_time": 0.5705416458,
                        "test": [
                          2581.055619
                        ]
                      },
                      {
                        "learn": [
                          1690.298018
                        ],
                        "iteration": 790,
                        "passed_time": 2.151602796,
                        "remaining_time": 0.5685018765,
                        "test": [
                          2579.991059
                        ]
                      },
                      {
                        "learn": [
                          1689.200294
                        ],
                        "iteration": 791,
                        "passed_time": 2.154714515,
                        "remaining_time": 0.56588462,
                        "test": [
                          2580.687194
                        ]
                      },
                      {
                        "learn": [
                          1688.610387
                        ],
                        "iteration": 792,
                        "passed_time": 2.157004697,
                        "remaining_time": 0.5630516675,
                        "test": [
                          2580.681324
                        ]
                      },
                      {
                        "learn": [
                          1686.826003
                        ],
                        "iteration": 793,
                        "passed_time": 2.159323669,
                        "remaining_time": 0.5602275515,
                        "test": [
                          2579.52918
                        ]
                      },
                      {
                        "learn": [
                          1685.343244
                        ],
                        "iteration": 794,
                        "passed_time": 2.161690513,
                        "remaining_time": 0.5574170504,
                        "test": [
                          2578.962525
                        ]
                      },
                      {
                        "learn": [
                          1685.08052
                        ],
                        "iteration": 795,
                        "passed_time": 2.163887778,
                        "remaining_time": 0.5545642045,
                        "test": [
                          2578.985585
                        ]
                      },
                      {
                        "learn": [
                          1684.8335
                        ],
                        "iteration": 796,
                        "passed_time": 2.166093946,
                        "remaining_time": 0.551715271,
                        "test": [
                          2579.016867
                        ]
                      },
                      {
                        "learn": [
                          1683.10145
                        ],
                        "iteration": 797,
                        "passed_time": 2.168403761,
                        "remaining_time": 0.548894185,
                        "test": [
                          2578.196823
                        ]
                      },
                      {
                        "learn": [
                          1681.40906
                        ],
                        "iteration": 798,
                        "passed_time": 2.17075277,
                        "remaining_time": 0.5460842387,
                        "test": [
                          2577.660103
                        ]
                      },
                      {
                        "learn": [
                          1680.756327
                        ],
                        "iteration": 799,
                        "passed_time": 2.172973517,
                        "remaining_time": 0.5432433793,
                        "test": [
                          2576.979717
                        ]
                      },
                      {
                        "learn": [
                          1679.136969
                        ],
                        "iteration": 800,
                        "passed_time": 2.175285884,
                        "remaining_time": 0.5404268302,
                        "test": [
                          2576.786645
                        ]
                      },
                      {
                        "learn": [
                          1677.521738
                        ],
                        "iteration": 801,
                        "passed_time": 2.177623844,
                        "remaining_time": 0.5376178566,
                        "test": [
                          2576.031511
                        ]
                      },
                      {
                        "learn": [
                          1675.784171
                        ],
                        "iteration": 802,
                        "passed_time": 2.179990748,
                        "remaining_time": 0.5348171573,
                        "test": [
                          2575.479939
                        ]
                      },
                      {
                        "learn": [
                          1673.053203
                        ],
                        "iteration": 803,
                        "passed_time": 2.182400459,
                        "remaining_time": 0.5320279725,
                        "test": [
                          2573.570483
                        ]
                      },
                      {
                        "learn": [
                          1671.207718
                        ],
                        "iteration": 804,
                        "passed_time": 2.184783621,
                        "remaining_time": 0.5292332996,
                        "test": [
                          2572.252344
                        ]
                      },
                      {
                        "learn": [
                          1669.836827
                        ],
                        "iteration": 805,
                        "passed_time": 2.18715114,
                        "remaining_time": 0.5264358823,
                        "test": [
                          2571.314052
                        ]
                      },
                      {
                        "learn": [
                          1667.343212
                        ],
                        "iteration": 806,
                        "passed_time": 2.18959491,
                        "remaining_time": 0.5236577665,
                        "test": [
                          2569.125632
                        ]
                      },
                      {
                        "learn": [
                          1667.059639
                        ],
                        "iteration": 807,
                        "passed_time": 2.191778198,
                        "remaining_time": 0.5208185818,
                        "test": [
                          2569.250971
                        ]
                      },
                      {
                        "learn": [
                          1665.361798
                        ],
                        "iteration": 808,
                        "passed_time": 2.194097724,
                        "remaining_time": 0.5180131833,
                        "test": [
                          2567.025156
                        ]
                      },
                      {
                        "learn": [
                          1664.225488
                        ],
                        "iteration": 809,
                        "passed_time": 2.196377662,
                        "remaining_time": 0.5151996986,
                        "test": [
                          2566.284411
                        ]
                      },
                      {
                        "learn": [
                          1662.492789
                        ],
                        "iteration": 810,
                        "passed_time": 2.198746833,
                        "remaining_time": 0.5124083247,
                        "test": [
                          2564.690065
                        ]
                      },
                      {
                        "learn": [
                          1662.202694
                        ],
                        "iteration": 811,
                        "passed_time": 2.200951817,
                        "remaining_time": 0.5095799773,
                        "test": [
                          2564.789313
                        ]
                      },
                      {
                        "learn": [
                          1660.776935
                        ],
                        "iteration": 812,
                        "passed_time": 2.203248892,
                        "remaining_time": 0.5067743453,
                        "test": [
                          2564.68195
                        ]
                      },
                      {
                        "learn": [
                          1658.425096
                        ],
                        "iteration": 813,
                        "passed_time": 2.205565036,
                        "remaining_time": 0.5039743202,
                        "test": [
                          2562.10359
                        ]
                      },
                      {
                        "learn": [
                          1656.83288
                        ],
                        "iteration": 814,
                        "passed_time": 2.207880318,
                        "remaining_time": 0.5011752869,
                        "test": [
                          2560.276909
                        ]
                      },
                      {
                        "learn": [
                          1655.369674
                        ],
                        "iteration": 815,
                        "passed_time": 2.2103297,
                        "remaining_time": 0.4984076775,
                        "test": [
                          2558.817256
                        ]
                      },
                      {
                        "learn": [
                          1654.367201
                        ],
                        "iteration": 816,
                        "passed_time": 2.21266976,
                        "remaining_time": 0.49561636,
                        "test": [
                          2556.813872
                        ]
                      },
                      {
                        "learn": [
                          1654.182647
                        ],
                        "iteration": 817,
                        "passed_time": 2.214919038,
                        "remaining_time": 0.4928059474,
                        "test": [
                          2556.86043
                        ]
                      },
                      {
                        "learn": [
                          1651.916873
                        ],
                        "iteration": 818,
                        "passed_time": 2.217326739,
                        "remaining_time": 0.4900319166,
                        "test": [
                          2556.976902
                        ]
                      },
                      {
                        "learn": [
                          1647.970285
                        ],
                        "iteration": 819,
                        "passed_time": 2.219742011,
                        "remaining_time": 0.4872604415,
                        "test": [
                          2553.244572
                        ]
                      },
                      {
                        "learn": [
                          1646.186595
                        ],
                        "iteration": 820,
                        "passed_time": 2.222067105,
                        "remaining_time": 0.4844701726,
                        "test": [
                          2550.560118
                        ]
                      },
                      {
                        "learn": [
                          1645.109055
                        ],
                        "iteration": 821,
                        "passed_time": 2.224386647,
                        "remaining_time": 0.4816798336,
                        "test": [
                          2550.260239
                        ]
                      },
                      {
                        "learn": [
                          1643.239238
                        ],
                        "iteration": 822,
                        "passed_time": 2.226779646,
                        "remaining_time": 0.4789064367,
                        "test": [
                          2550.283649
                        ]
                      },
                      {
                        "learn": [
                          1643.028746
                        ],
                        "iteration": 823,
                        "passed_time": 2.229070006,
                        "remaining_time": 0.4761120402,
                        "test": [
                          2550.250919
                        ]
                      },
                      {
                        "learn": [
                          1639.818
                        ],
                        "iteration": 824,
                        "passed_time": 2.231516673,
                        "remaining_time": 0.4733520216,
                        "test": [
                          2548.799628
                        ]
                      },
                      {
                        "learn": [
                          1637.819804
                        ],
                        "iteration": 825,
                        "passed_time": 2.233908446,
                        "remaining_time": 0.4705811981,
                        "test": [
                          2547.274247
                        ]
                      },
                      {
                        "learn": [
                          1635.772743
                        ],
                        "iteration": 826,
                        "passed_time": 2.236255625,
                        "remaining_time": 0.4678019626,
                        "test": [
                          2546.252236
                        ]
                      },
                      {
                        "learn": [
                          1634.725478
                        ],
                        "iteration": 827,
                        "passed_time": 2.238564909,
                        "remaining_time": 0.465015899,
                        "test": [
                          2545.739675
                        ]
                      },
                      {
                        "learn": [
                          1633.180652
                        ],
                        "iteration": 828,
                        "passed_time": 2.240897175,
                        "remaining_time": 0.4622357262,
                        "test": [
                          2544.78893
                        ]
                      },
                      {
                        "learn": [
                          1632.187568
                        ],
                        "iteration": 829,
                        "passed_time": 2.243219486,
                        "remaining_time": 0.4594545936,
                        "test": [
                          2543.607816
                        ]
                      },
                      {
                        "learn": [
                          1630.669117
                        ],
                        "iteration": 830,
                        "passed_time": 2.245543371,
                        "remaining_time": 0.4566748854,
                        "test": [
                          2542.176097
                        ]
                      },
                      {
                        "learn": [
                          1628.76098
                        ],
                        "iteration": 831,
                        "passed_time": 2.24779472,
                        "remaining_time": 0.4538816261,
                        "test": [
                          2540.608082
                        ]
                      },
                      {
                        "learn": [
                          1627.213546
                        ],
                        "iteration": 832,
                        "passed_time": 2.250201779,
                        "remaining_time": 0.4511208849,
                        "test": [
                          2539.484937
                        ]
                      },
                      {
                        "learn": [
                          1625.914123
                        ],
                        "iteration": 833,
                        "passed_time": 2.252628716,
                        "remaining_time": 0.4483649483,
                        "test": [
                          2538.917866
                        ]
                      },
                      {
                        "learn": [
                          1624.921642
                        ],
                        "iteration": 834,
                        "passed_time": 2.254910142,
                        "remaining_time": 0.4455810461,
                        "test": [
                          2537.781218
                        ]
                      },
                      {
                        "learn": [
                          1624.627425
                        ],
                        "iteration": 835,
                        "passed_time": 2.257222155,
                        "remaining_time": 0.4428043462,
                        "test": [
                          2537.662904
                        ]
                      },
                      {
                        "learn": [
                          1624.175308
                        ],
                        "iteration": 836,
                        "passed_time": 2.259528331,
                        "remaining_time": 0.44002762,
                        "test": [
                          2538.274741
                        ]
                      },
                      {
                        "learn": [
                          1622.178631
                        ],
                        "iteration": 837,
                        "passed_time": 2.261985612,
                        "remaining_time": 0.4372812281,
                        "test": [
                          2535.674967
                        ]
                      },
                      {
                        "learn": [
                          1620.463389
                        ],
                        "iteration": 838,
                        "passed_time": 2.264392074,
                        "remaining_time": 0.4345257735,
                        "test": [
                          2535.41769
                        ]
                      },
                      {
                        "learn": [
                          1619.768327
                        ],
                        "iteration": 839,
                        "passed_time": 2.266637085,
                        "remaining_time": 0.4317403971,
                        "test": [
                          2534.91555
                        ]
                      },
                      {
                        "learn": [
                          1616.477796
                        ],
                        "iteration": 840,
                        "passed_time": 2.269051604,
                        "remaining_time": 0.4289883532,
                        "test": [
                          2531.820019
                        ]
                      },
                      {
                        "learn": [
                          1615.629924
                        ],
                        "iteration": 841,
                        "passed_time": 2.271381379,
                        "remaining_time": 0.426221209,
                        "test": [
                          2531.436763
                        ]
                      },
                      {
                        "learn": [
                          1612.618928
                        ],
                        "iteration": 842,
                        "passed_time": 2.27380905,
                        "remaining_time": 0.4234733343,
                        "test": [
                          2528.575949
                        ]
                      },
                      {
                        "learn": [
                          1611.815493
                        ],
                        "iteration": 843,
                        "passed_time": 2.27608793,
                        "remaining_time": 0.4206987169,
                        "test": [
                          2527.906611
                        ]
                      },
                      {
                        "learn": [
                          1609.879279
                        ],
                        "iteration": 844,
                        "passed_time": 2.278401748,
                        "remaining_time": 0.4179316816,
                        "test": [
                          2526.288566
                        ]
                      },
                      {
                        "learn": [
                          1608.942823
                        ],
                        "iteration": 845,
                        "passed_time": 2.280732654,
                        "remaining_time": 0.4151688283,
                        "test": [
                          2525.034436
                        ]
                      },
                      {
                        "learn": [
                          1606.051266
                        ],
                        "iteration": 846,
                        "passed_time": 2.283152831,
                        "remaining_time": 0.4124231206,
                        "test": [
                          2523.043283
                        ]
                      },
                      {
                        "learn": [
                          1603.274957
                        ],
                        "iteration": 847,
                        "passed_time": 2.285523603,
                        "remaining_time": 0.409669325,
                        "test": [
                          2521.737681
                        ]
                      },
                      {
                        "learn": [
                          1602.044943
                        ],
                        "iteration": 848,
                        "passed_time": 2.287844228,
                        "remaining_time": 0.4069075129,
                        "test": [
                          2521.827912
                        ]
                      },
                      {
                        "learn": [
                          1600.780995
                        ],
                        "iteration": 849,
                        "passed_time": 2.290180773,
                        "remaining_time": 0.4041495482,
                        "test": [
                          2520.541402
                        ]
                      },
                      {
                        "learn": [
                          1599.631495
                        ],
                        "iteration": 850,
                        "passed_time": 2.292591749,
                        "remaining_time": 0.4014056058,
                        "test": [
                          2520.070401
                        ]
                      },
                      {
                        "learn": [
                          1597.964114
                        ],
                        "iteration": 851,
                        "passed_time": 2.294952611,
                        "remaining_time": 0.39865374,
                        "test": [
                          2518.630389
                        ]
                      },
                      {
                        "learn": [
                          1595.084812
                        ],
                        "iteration": 852,
                        "passed_time": 2.297294152,
                        "remaining_time": 0.3958994612,
                        "test": [
                          2515.35298
                        ]
                      },
                      {
                        "learn": [
                          1593.562634
                        ],
                        "iteration": 853,
                        "passed_time": 2.299569973,
                        "remaining_time": 0.3931349134,
                        "test": [
                          2514.696824
                        ]
                      },
                      {
                        "learn": [
                          1592.342771
                        ],
                        "iteration": 854,
                        "passed_time": 2.301837172,
                        "remaining_time": 0.3903700467,
                        "test": [
                          2514.671746
                        ]
                      },
                      {
                        "learn": [
                          1591.12215
                        ],
                        "iteration": 855,
                        "passed_time": 2.304237536,
                        "remaining_time": 0.3876287444,
                        "test": [
                          2513.584674
                        ]
                      },
                      {
                        "learn": [
                          1588.853341
                        ],
                        "iteration": 856,
                        "passed_time": 2.306590951,
                        "remaining_time": 0.3848804038,
                        "test": [
                          2512.143886
                        ]
                      },
                      {
                        "learn": [
                          1586.258264
                        ],
                        "iteration": 857,
                        "passed_time": 2.30898115,
                        "remaining_time": 0.3821390714,
                        "test": [
                          2509.969729
                        ]
                      },
                      {
                        "learn": [
                          1584.078205
                        ],
                        "iteration": 858,
                        "passed_time": 2.311315913,
                        "remaining_time": 0.3793894572,
                        "test": [
                          2508.578698
                        ]
                      },
                      {
                        "learn": [
                          1582.338734
                        ],
                        "iteration": 859,
                        "passed_time": 2.313714324,
                        "remaining_time": 0.376651169,
                        "test": [
                          2506.894065
                        ]
                      },
                      {
                        "learn": [
                          1581.17409
                        ],
                        "iteration": 860,
                        "passed_time": 2.316081684,
                        "remaining_time": 0.3739086574,
                        "test": [
                          2505.868146
                        ]
                      },
                      {
                        "learn": [
                          1578.334589
                        ],
                        "iteration": 861,
                        "passed_time": 2.318447707,
                        "remaining_time": 0.3711668022,
                        "test": [
                          2504.167483
                        ]
                      },
                      {
                        "learn": [
                          1576.487465
                        ],
                        "iteration": 862,
                        "passed_time": 2.320813834,
                        "remaining_time": 0.3684258347,
                        "test": [
                          2502.853681
                        ]
                      },
                      {
                        "learn": [
                          1575.219869
                        ],
                        "iteration": 863,
                        "passed_time": 2.323140631,
                        "remaining_time": 0.3656795438,
                        "test": [
                          2501.099507
                        ]
                      },
                      {
                        "learn": [
                          1574.999278
                        ],
                        "iteration": 864,
                        "passed_time": 2.325448206,
                        "remaining_time": 0.3629312229,
                        "test": [
                          2501.016032
                        ]
                      },
                      {
                        "learn": [
                          1573.799821
                        ],
                        "iteration": 865,
                        "passed_time": 2.327765757,
                        "remaining_time": 0.3601854636,
                        "test": [
                          2500.418235
                        ]
                      },
                      {
                        "learn": [
                          1572.885917
                        ],
                        "iteration": 866,
                        "passed_time": 2.330104383,
                        "remaining_time": 0.357443925,
                        "test": [
                          2499.590372
                        ]
                      },
                      {
                        "learn": [
                          1571.084772
                        ],
                        "iteration": 867,
                        "passed_time": 2.332482204,
                        "remaining_time": 0.3547092753,
                        "test": [
                          2500.866264
                        ]
                      },
                      {
                        "learn": [
                          1568.608299
                        ],
                        "iteration": 868,
                        "passed_time": 2.334911988,
                        "remaining_time": 0.3519832801,
                        "test": [
                          2499.128664
                        ]
                      },
                      {
                        "learn": [
                          1566.571142
                        ],
                        "iteration": 869,
                        "passed_time": 2.339666228,
                        "remaining_time": 0.3496052984,
                        "test": [
                          2498.404823
                        ]
                      },
                      {
                        "learn": [
                          1565.247167
                        ],
                        "iteration": 870,
                        "passed_time": 2.344548393,
                        "remaining_time": 0.3472408067,
                        "test": [
                          2497.838759
                        ]
                      },
                      {
                        "learn": [
                          1561.789454
                        ],
                        "iteration": 871,
                        "passed_time": 2.349050433,
                        "remaining_time": 0.3448147424,
                        "test": [
                          2495.038362
                        ]
                      },
                      {
                        "learn": [
                          1560.392876
                        ],
                        "iteration": 872,
                        "passed_time": 2.35116044,
                        "remaining_time": 0.3420359403,
                        "test": [
                          2494.142643
                        ]
                      },
                      {
                        "learn": [
                          1558.035055
                        ],
                        "iteration": 873,
                        "passed_time": 2.353517199,
                        "remaining_time": 0.3392942416,
                        "test": [
                          2492.193483
                        ]
                      },
                      {
                        "learn": [
                          1556.023287
                        ],
                        "iteration": 874,
                        "passed_time": 2.355977146,
                        "remaining_time": 0.3365681637,
                        "test": [
                          2491.84647
                        ]
                      },
                      {
                        "learn": [
                          1554.577992
                        ],
                        "iteration": 875,
                        "passed_time": 2.358346814,
                        "remaining_time": 0.3338299144,
                        "test": [
                          2490.260039
                        ]
                      },
                      {
                        "learn": [
                          1552.582824
                        ],
                        "iteration": 876,
                        "passed_time": 2.360829251,
                        "remaining_time": 0.3311083214,
                        "test": [
                          2489.447281
                        ]
                      },
                      {
                        "learn": [
                          1552.241091
                        ],
                        "iteration": 877,
                        "passed_time": 2.363089736,
                        "remaining_time": 0.3283564326,
                        "test": [
                          2489.177007
                        ]
                      },
                      {
                        "learn": [
                          1551.0183
                        ],
                        "iteration": 878,
                        "passed_time": 2.365408089,
                        "remaining_time": 0.3256136277,
                        "test": [
                          2489.120047
                        ]
                      },
                      {
                        "learn": [
                          1549.816677
                        ],
                        "iteration": 879,
                        "passed_time": 2.367705317,
                        "remaining_time": 0.3228689068,
                        "test": [
                          2488.618625
                        ]
                      },
                      {
                        "learn": [
                          1548.885696
                        ],
                        "iteration": 880,
                        "passed_time": 2.370012242,
                        "remaining_time": 0.3201265116,
                        "test": [
                          2486.399193
                        ]
                      },
                      {
                        "learn": [
                          1546.680587
                        ],
                        "iteration": 881,
                        "passed_time": 2.372531601,
                        "remaining_time": 0.3174135249,
                        "test": [
                          2483.838579
                        ]
                      },
                      {
                        "learn": [
                          1545.094928
                        ],
                        "iteration": 882,
                        "passed_time": 2.374877201,
                        "remaining_time": 0.314677953,
                        "test": [
                          2483.070947
                        ]
                      },
                      {
                        "learn": [
                          1544.124183
                        ],
                        "iteration": 883,
                        "passed_time": 2.377162334,
                        "remaining_time": 0.3119353289,
                        "test": [
                          2482.592101
                        ]
                      },
                      {
                        "learn": [
                          1543.227682
                        ],
                        "iteration": 884,
                        "passed_time": 2.37945789,
                        "remaining_time": 0.309195093,
                        "test": [
                          2482.150939
                        ]
                      },
                      {
                        "learn": [
                          1541.896536
                        ],
                        "iteration": 885,
                        "passed_time": 2.381817629,
                        "remaining_time": 0.3064641193,
                        "test": [
                          2481.382868
                        ]
                      },
                      {
                        "learn": [
                          1539.923144
                        ],
                        "iteration": 886,
                        "passed_time": 2.384143052,
                        "remaining_time": 0.3037296109,
                        "test": [
                          2479.087077
                        ]
                      },
                      {
                        "learn": [
                          1538.830729
                        ],
                        "iteration": 887,
                        "passed_time": 2.386396789,
                        "remaining_time": 0.3009869824,
                        "test": [
                          2478.97074
                        ]
                      },
                      {
                        "learn": [
                          1537.557499
                        ],
                        "iteration": 888,
                        "passed_time": 2.388688535,
                        "remaining_time": 0.2982501995,
                        "test": [
                          2477.647001
                        ]
                      },
                      {
                        "learn": [
                          1536.362896
                        ],
                        "iteration": 889,
                        "passed_time": 2.390966019,
                        "remaining_time": 0.2955126541,
                        "test": [
                          2477.146449
                        ]
                      },
                      {
                        "learn": [
                          1534.312907
                        ],
                        "iteration": 890,
                        "passed_time": 2.393472471,
                        "remaining_time": 0.2928041519,
                        "test": [
                          2476.300296
                        ]
                      },
                      {
                        "learn": [
                          1532.655957
                        ],
                        "iteration": 891,
                        "passed_time": 2.395979829,
                        "remaining_time": 0.2900962124,
                        "test": [
                          2474.604599
                        ]
                      },
                      {
                        "learn": [
                          1531.850195
                        ],
                        "iteration": 892,
                        "passed_time": 2.398317965,
                        "remaining_time": 0.287368446,
                        "test": [
                          2474.399993
                        ]
                      },
                      {
                        "learn": [
                          1529.892037
                        ],
                        "iteration": 893,
                        "passed_time": 2.400778528,
                        "remaining_time": 0.2846560671,
                        "test": [
                          2473.183039
                        ]
                      },
                      {
                        "learn": [
                          1527.855954
                        ],
                        "iteration": 894,
                        "passed_time": 2.403063173,
                        "remaining_time": 0.2819236125,
                        "test": [
                          2472.022805
                        ]
                      },
                      {
                        "learn": [
                          1526.754846
                        ],
                        "iteration": 895,
                        "passed_time": 2.40536637,
                        "remaining_time": 0.2791943107,
                        "test": [
                          2470.449287
                        ]
                      },
                      {
                        "learn": [
                          1526.094276
                        ],
                        "iteration": 896,
                        "passed_time": 2.407709826,
                        "remaining_time": 0.276470582,
                        "test": [
                          2470.357691
                        ]
                      },
                      {
                        "learn": [
                          1524.797722
                        ],
                        "iteration": 897,
                        "passed_time": 2.409967477,
                        "remaining_time": 0.2737379539,
                        "test": [
                          2469.291168
                        ]
                      },
                      {
                        "learn": [
                          1522.740049
                        ],
                        "iteration": 898,
                        "passed_time": 2.412320628,
                        "remaining_time": 0.2710171117,
                        "test": [
                          2468.007898
                        ]
                      },
                      {
                        "learn": [
                          1522.053052
                        ],
                        "iteration": 899,
                        "passed_time": 2.414602657,
                        "remaining_time": 0.2682891841,
                        "test": [
                          2467.687862
                        ]
                      },
                      {
                        "learn": [
                          1520.423088
                        ],
                        "iteration": 900,
                        "passed_time": 2.416949492,
                        "remaining_time": 0.265569367,
                        "test": [
                          2466.82584
                        ]
                      },
                      {
                        "learn": [
                          1519.89547
                        ],
                        "iteration": 901,
                        "passed_time": 2.419221203,
                        "remaining_time": 0.262842215,
                        "test": [
                          2466.629753
                        ]
                      },
                      {
                        "learn": [
                          1518.695124
                        ],
                        "iteration": 902,
                        "passed_time": 2.421604191,
                        "remaining_time": 0.260128025,
                        "test": [
                          2466.079562
                        ]
                      },
                      {
                        "learn": [
                          1516.717162
                        ],
                        "iteration": 903,
                        "passed_time": 2.424111909,
                        "remaining_time": 0.2574278133,
                        "test": [
                          2463.780595
                        ]
                      },
                      {
                        "learn": [
                          1514.752638
                        ],
                        "iteration": 904,
                        "passed_time": 2.426505219,
                        "remaining_time": 0.2547160175,
                        "test": [
                          2462.266658
                        ]
                      },
                      {
                        "learn": [
                          1512.215845
                        ],
                        "iteration": 905,
                        "passed_time": 2.428855355,
                        "remaining_time": 0.2520004453,
                        "test": [
                          2456.58952
                        ]
                      },
                      {
                        "learn": [
                          1510.736022
                        ],
                        "iteration": 906,
                        "passed_time": 2.431277294,
                        "remaining_time": 0.2492930412,
                        "test": [
                          2455.249824
                        ]
                      },
                      {
                        "learn": [
                          1507.884382
                        ],
                        "iteration": 907,
                        "passed_time": 2.433689296,
                        "remaining_time": 0.2465852591,
                        "test": [
                          2450.361704
                        ]
                      },
                      {
                        "learn": [
                          1506.794973
                        ],
                        "iteration": 908,
                        "passed_time": 2.435957768,
                        "remaining_time": 0.243863759,
                        "test": [
                          2449.902386
                        ]
                      },
                      {
                        "learn": [
                          1505.444401
                        ],
                        "iteration": 909,
                        "passed_time": 2.43838328,
                        "remaining_time": 0.2411587859,
                        "test": [
                          2448.917513
                        ]
                      },
                      {
                        "learn": [
                          1503.187023
                        ],
                        "iteration": 910,
                        "passed_time": 2.440798442,
                        "remaining_time": 0.2384534153,
                        "test": [
                          2448.119459
                        ]
                      },
                      {
                        "learn": [
                          1500.863884
                        ],
                        "iteration": 911,
                        "passed_time": 2.443199774,
                        "remaining_time": 0.2357473466,
                        "test": [
                          2445.982797
                        ]
                      },
                      {
                        "learn": [
                          1499.695535
                        ],
                        "iteration": 912,
                        "passed_time": 2.445586666,
                        "remaining_time": 0.2330405695,
                        "test": [
                          2445.048062
                        ]
                      },
                      {
                        "learn": [
                          1498.261724
                        ],
                        "iteration": 913,
                        "passed_time": 2.447908383,
                        "remaining_time": 0.2303283599,
                        "test": [
                          2444.507853
                        ]
                      },
                      {
                        "learn": [
                          1496.379028
                        ],
                        "iteration": 914,
                        "passed_time": 2.450239568,
                        "remaining_time": 0.2276178834,
                        "test": [
                          2443.353048
                        ]
                      },
                      {
                        "learn": [
                          1494.839325
                        ],
                        "iteration": 915,
                        "passed_time": 2.452590114,
                        "remaining_time": 0.2249100104,
                        "test": [
                          2441.796624
                        ]
                      },
                      {
                        "learn": [
                          1492.718906
                        ],
                        "iteration": 916,
                        "passed_time": 2.455031108,
                        "remaining_time": 0.2222111036,
                        "test": [
                          2439.481251
                        ]
                      },
                      {
                        "learn": [
                          1490.198203
                        ],
                        "iteration": 917,
                        "passed_time": 2.457508635,
                        "remaining_time": 0.2195160219,
                        "test": [
                          2438.578771
                        ]
                      },
                      {
                        "learn": [
                          1489.561698
                        ],
                        "iteration": 918,
                        "passed_time": 2.459842572,
                        "remaining_time": 0.2168087577,
                        "test": [
                          2437.999198
                        ]
                      },
                      {
                        "learn": [
                          1488.580018
                        ],
                        "iteration": 919,
                        "passed_time": 2.462117665,
                        "remaining_time": 0.2140971883,
                        "test": [
                          2437.812749
                        ]
                      },
                      {
                        "learn": [
                          1486.773197
                        ],
                        "iteration": 920,
                        "passed_time": 2.464480579,
                        "remaining_time": 0.2113940996,
                        "test": [
                          2435.877012
                        ]
                      },
                      {
                        "learn": [
                          1485.116165
                        ],
                        "iteration": 921,
                        "passed_time": 2.466842992,
                        "remaining_time": 0.2086917065,
                        "test": [
                          2434.329088
                        ]
                      },
                      {
                        "learn": [
                          1484.671717
                        ],
                        "iteration": 922,
                        "passed_time": 2.469184222,
                        "remaining_time": 0.2059882829,
                        "test": [
                          2434.578901
                        ]
                      },
                      {
                        "learn": [
                          1482.634272
                        ],
                        "iteration": 923,
                        "passed_time": 2.471608567,
                        "remaining_time": 0.2032924795,
                        "test": [
                          2433.659726
                        ]
                      },
                      {
                        "learn": [
                          1481.505768
                        ],
                        "iteration": 924,
                        "passed_time": 2.473918797,
                        "remaining_time": 0.2005880106,
                        "test": [
                          2433.327037
                        ]
                      },
                      {
                        "learn": [
                          1481.324309
                        ],
                        "iteration": 925,
                        "passed_time": 2.476185861,
                        "remaining_time": 0.1978809435,
                        "test": [
                          2433.254352
                        ]
                      },
                      {
                        "learn": [
                          1480.245428
                        ],
                        "iteration": 926,
                        "passed_time": 2.478561353,
                        "remaining_time": 0.1951833644,
                        "test": [
                          2432.438442
                        ]
                      },
                      {
                        "learn": [
                          1479.406649
                        ],
                        "iteration": 927,
                        "passed_time": 2.480954826,
                        "remaining_time": 0.1924878744,
                        "test": [
                          2431.585252
                        ]
                      },
                      {
                        "learn": [
                          1477.834377
                        ],
                        "iteration": 928,
                        "passed_time": 2.483432678,
                        "remaining_time": 0.1897994835,
                        "test": [
                          2430.526871
                        ]
                      },
                      {
                        "learn": [
                          1476.180758
                        ],
                        "iteration": 929,
                        "passed_time": 2.48582672,
                        "remaining_time": 0.187105237,
                        "test": [
                          2429.56209
                        ]
                      },
                      {
                        "learn": [
                          1474.265436
                        ],
                        "iteration": 930,
                        "passed_time": 2.48831292,
                        "remaining_time": 0.1844184656,
                        "test": [
                          2427.41825
                        ]
                      },
                      {
                        "learn": [
                          1474.173176
                        ],
                        "iteration": 931,
                        "passed_time": 2.49056935,
                        "remaining_time": 0.1817153603,
                        "test": [
                          2427.288874
                        ]
                      },
                      {
                        "learn": [
                          1472.760423
                        ],
                        "iteration": 932,
                        "passed_time": 2.49293409,
                        "remaining_time": 0.1790209904,
                        "test": [
                          2425.616891
                        ]
                      },
                      {
                        "learn": [
                          1472.125857
                        ],
                        "iteration": 933,
                        "passed_time": 2.495371007,
                        "remaining_time": 0.1763324266,
                        "test": [
                          2425.066943
                        ]
                      },
                      {
                        "learn": [
                          1470.172675
                        ],
                        "iteration": 934,
                        "passed_time": 2.497736785,
                        "remaining_time": 0.1736394556,
                        "test": [
                          2423.595189
                        ]
                      },
                      {
                        "learn": [
                          1469.630734
                        ],
                        "iteration": 935,
                        "passed_time": 2.500113922,
                        "remaining_time": 0.1709479605,
                        "test": [
                          2423.266798
                        ]
                      },
                      {
                        "learn": [
                          1468.777869
                        ],
                        "iteration": 936,
                        "passed_time": 2.502455527,
                        "remaining_time": 0.1682547473,
                        "test": [
                          2422.886461
                        ]
                      },
                      {
                        "learn": [
                          1467.197778
                        ],
                        "iteration": 937,
                        "passed_time": 2.504826465,
                        "remaining_time": 0.1655642226,
                        "test": [
                          2422.809348
                        ]
                      },
                      {
                        "learn": [
                          1465.885783
                        ],
                        "iteration": 938,
                        "passed_time": 2.507264643,
                        "remaining_time": 0.1628787468,
                        "test": [
                          2421.988077
                        ]
                      },
                      {
                        "learn": [
                          1464.702752
                        ],
                        "iteration": 939,
                        "passed_time": 2.5096597,
                        "remaining_time": 0.1601910447,
                        "test": [
                          2421.089855
                        ]
                      },
                      {
                        "learn": [
                          1464.360366
                        ],
                        "iteration": 940,
                        "passed_time": 2.511971425,
                        "remaining_time": 0.1574987397,
                        "test": [
                          2420.248559
                        ]
                      },
                      {
                        "learn": [
                          1460.356689
                        ],
                        "iteration": 941,
                        "passed_time": 2.514397604,
                        "remaining_time": 0.1548142898,
                        "test": [
                          2416.867887
                        ]
                      },
                      {
                        "learn": [
                          1458.997374
                        ],
                        "iteration": 942,
                        "passed_time": 2.516733914,
                        "remaining_time": 0.1521249556,
                        "test": [
                          2416.391378
                        ]
                      },
                      {
                        "learn": [
                          1456.834003
                        ],
                        "iteration": 943,
                        "passed_time": 2.519103554,
                        "remaining_time": 0.1494383464,
                        "test": [
                          2414.384746
                        ]
                      },
                      {
                        "learn": [
                          1454.150004
                        ],
                        "iteration": 944,
                        "passed_time": 2.532141842,
                        "remaining_time": 0.1473733347,
                        "test": [
                          2412.462891
                        ]
                      },
                      {
                        "learn": [
                          1451.650313
                        ],
                        "iteration": 945,
                        "passed_time": 2.544217877,
                        "remaining_time": 0.1452301959,
                        "test": [
                          2408.67276
                        ]
                      },
                      {
                        "learn": [
                          1450.561553
                        ],
                        "iteration": 946,
                        "passed_time": 2.549470788,
                        "remaining_time": 0.1426842152,
                        "test": [
                          2407.954434
                        ]
                      },
                      {
                        "learn": [
                          1449.458498
                        ],
                        "iteration": 947,
                        "passed_time": 2.553927467,
                        "remaining_time": 0.1400888484,
                        "test": [
                          2407.392113
                        ]
                      },
                      {
                        "learn": [
                          1447.882202
                        ],
                        "iteration": 948,
                        "passed_time": 2.556478016,
                        "remaining_time": 0.137387122,
                        "test": [
                          2406.181572
                        ]
                      },
                      {
                        "learn": [
                          1446.134855
                        ],
                        "iteration": 949,
                        "passed_time": 2.558949423,
                        "remaining_time": 0.1346815486,
                        "test": [
                          2405.714862
                        ]
                      },
                      {
                        "learn": [
                          1444.750246
                        ],
                        "iteration": 950,
                        "passed_time": 2.561417462,
                        "remaining_time": 0.131976294,
                        "test": [
                          2403.627011
                        ]
                      },
                      {
                        "learn": [
                          1442.809787
                        ],
                        "iteration": 951,
                        "passed_time": 2.563769165,
                        "remaining_time": 0.1292656722,
                        "test": [
                          2402.160175
                        ]
                      },
                      {
                        "learn": [
                          1440.458466
                        ],
                        "iteration": 952,
                        "passed_time": 2.566359708,
                        "remaining_time": 0.1265675827,
                        "test": [
                          2399.934284
                        ]
                      },
                      {
                        "learn": [
                          1439.276244
                        ],
                        "iteration": 953,
                        "passed_time": 2.56871747,
                        "remaining_time": 0.1238584943,
                        "test": [
                          2398.607157
                        ]
                      },
                      {
                        "learn": [
                          1438.397717
                        ],
                        "iteration": 954,
                        "passed_time": 2.571021102,
                        "remaining_time": 0.1211475912,
                        "test": [
                          2398.333946
                        ]
                      },
                      {
                        "learn": [
                          1436.477384
                        ],
                        "iteration": 955,
                        "passed_time": 2.573397556,
                        "remaining_time": 0.1184408917,
                        "test": [
                          2396.516074
                        ]
                      },
                      {
                        "learn": [
                          1435.54589
                        ],
                        "iteration": 956,
                        "passed_time": 2.575676716,
                        "remaining_time": 0.1157305108,
                        "test": [
                          2396.523088
                        ]
                      },
                      {
                        "learn": [
                          1434.752364
                        ],
                        "iteration": 957,
                        "passed_time": 2.578003095,
                        "remaining_time": 0.1130231002,
                        "test": [
                          2395.986173
                        ]
                      },
                      {
                        "learn": [
                          1434.516282
                        ],
                        "iteration": 958,
                        "passed_time": 2.580367883,
                        "remaining_time": 0.1103181264,
                        "test": [
                          2395.171868
                        ]
                      },
                      {
                        "learn": [
                          1432.99695
                        ],
                        "iteration": 959,
                        "passed_time": 2.582776174,
                        "remaining_time": 0.1076156739,
                        "test": [
                          2394.30656
                        ]
                      },
                      {
                        "learn": [
                          1431.37529
                        ],
                        "iteration": 960,
                        "passed_time": 2.585184733,
                        "remaining_time": 0.1049138445,
                        "test": [
                          2393.458652
                        ]
                      },
                      {
                        "learn": [
                          1430.549153
                        ],
                        "iteration": 961,
                        "passed_time": 2.58888058,
                        "remaining_time": 0.102263474,
                        "test": [
                          2391.977101
                        ]
                      },
                      {
                        "learn": [
                          1429.024096
                        ],
                        "iteration": 962,
                        "passed_time": 2.591202551,
                        "remaining_time": 0.09955814576,
                        "test": [
                          2390.355205
                        ]
                      },
                      {
                        "learn": [
                          1427.294441
                        ],
                        "iteration": 963,
                        "passed_time": 2.593665607,
                        "remaining_time": 0.09685888158,
                        "test": [
                          2389.467628
                        ]
                      },
                      {
                        "learn": [
                          1425.72265
                        ],
                        "iteration": 964,
                        "passed_time": 2.59605999,
                        "remaining_time": 0.09415761623,
                        "test": [
                          2388.059748
                        ]
                      },
                      {
                        "learn": [
                          1425.229274
                        ],
                        "iteration": 965,
                        "passed_time": 2.59841318,
                        "remaining_time": 0.09145553636,
                        "test": [
                          2387.877321
                        ]
                      },
                      {
                        "learn": [
                          1424.824603
                        ],
                        "iteration": 966,
                        "passed_time": 2.600784806,
                        "remaining_time": 0.08875480725,
                        "test": [
                          2387.866415
                        ]
                      },
                      {
                        "learn": [
                          1423.799226
                        ],
                        "iteration": 967,
                        "passed_time": 2.603143206,
                        "remaining_time": 0.08605432085,
                        "test": [
                          2386.255785
                        ]
                      },
                      {
                        "learn": [
                          1422.499777
                        ],
                        "iteration": 968,
                        "passed_time": 2.605592242,
                        "remaining_time": 0.08335744016,
                        "test": [
                          2385.771865
                        ]
                      },
                      {
                        "learn": [
                          1420.214797
                        ],
                        "iteration": 969,
                        "passed_time": 2.608041907,
                        "remaining_time": 0.08066108991,
                        "test": [
                          2383.906338
                        ]
                      },
                      {
                        "learn": [
                          1418.845589
                        ],
                        "iteration": 970,
                        "passed_time": 2.610183342,
                        "remaining_time": 0.07795604213,
                        "test": [
                          2382.281796
                        ]
                      },
                      {
                        "learn": [
                          1418.209187
                        ],
                        "iteration": 971,
                        "passed_time": 2.612558989,
                        "remaining_time": 0.07525890093,
                        "test": [
                          2382.014835
                        ]
                      },
                      {
                        "learn": [
                          1416.918175
                        ],
                        "iteration": 972,
                        "passed_time": 2.615210061,
                        "remaining_time": 0.07257006335,
                        "test": [
                          2381.50477
                        ]
                      },
                      {
                        "learn": [
                          1414.739213
                        ],
                        "iteration": 973,
                        "passed_time": 2.617658328,
                        "remaining_time": 0.06987588966,
                        "test": [
                          2378.591534
                        ]
                      },
                      {
                        "learn": [
                          1412.976714
                        ],
                        "iteration": 974,
                        "passed_time": 2.620013662,
                        "remaining_time": 0.0671798375,
                        "test": [
                          2377.663758
                        ]
                      },
                      {
                        "learn": [
                          1412.018181
                        ],
                        "iteration": 975,
                        "passed_time": 2.622315538,
                        "remaining_time": 0.06448316896,
                        "test": [
                          2377.260494
                        ]
                      },
                      {
                        "learn": [
                          1410.776687
                        ],
                        "iteration": 976,
                        "passed_time": 2.624673241,
                        "remaining_time": 0.06178862287,
                        "test": [
                          2376.719015
                        ]
                      },
                      {
                        "learn": [
                          1409.205023
                        ],
                        "iteration": 977,
                        "passed_time": 2.627013568,
                        "remaining_time": 0.05909437474,
                        "test": [
                          2375.558513
                        ]
                      },
                      {
                        "learn": [
                          1407.823909
                        ],
                        "iteration": 978,
                        "passed_time": 2.62982445,
                        "remaining_time": 0.05641094325,
                        "test": [
                          2373.575747
                        ]
                      },
                      {
                        "learn": [
                          1406.525759
                        ],
                        "iteration": 979,
                        "passed_time": 2.632456052,
                        "remaining_time": 0.05372359291,
                        "test": [
                          2374.219412
                        ]
                      },
                      {
                        "learn": [
                          1405.628483
                        ],
                        "iteration": 980,
                        "passed_time": 2.634865394,
                        "remaining_time": 0.05103205146,
                        "test": [
                          2373.280393
                        ]
                      },
                      {
                        "learn": [
                          1404.401942
                        ],
                        "iteration": 981,
                        "passed_time": 2.6372886,
                        "remaining_time": 0.0483413389,
                        "test": [
                          2371.682471
                        ]
                      },
                      {
                        "learn": [
                          1402.953379
                        ],
                        "iteration": 982,
                        "passed_time": 2.639642257,
                        "remaining_time": 0.04564996782,
                        "test": [
                          2370.019557
                        ]
                      },
                      {
                        "learn": [
                          1400.378048
                        ],
                        "iteration": 983,
                        "passed_time": 2.642110077,
                        "remaining_time": 0.04296113947,
                        "test": [
                          2367.234366
                        ]
                      },
                      {
                        "learn": [
                          1399.410379
                        ],
                        "iteration": 984,
                        "passed_time": 2.644436187,
                        "remaining_time": 0.04027060183,
                        "test": [
                          2366.631513
                        ]
                      },
                      {
                        "learn": [
                          1397.783804
                        ],
                        "iteration": 985,
                        "passed_time": 2.646844328,
                        "remaining_time": 0.03758196815,
                        "test": [
                          2364.448643
                        ]
                      },
                      {
                        "learn": [
                          1395.561408
                        ],
                        "iteration": 986,
                        "passed_time": 2.649295097,
                        "remaining_time": 0.0348944643,
                        "test": [
                          2362.503161
                        ]
                      },
                      {
                        "learn": [
                          1393.835701
                        ],
                        "iteration": 987,
                        "passed_time": 2.651707697,
                        "remaining_time": 0.03220697608,
                        "test": [
                          2361.389568
                        ]
                      },
                      {
                        "learn": [
                          1392.464277
                        ],
                        "iteration": 988,
                        "passed_time": 2.654038062,
                        "remaining_time": 0.0295191291,
                        "test": [
                          2360.657056
                        ]
                      },
                      {
                        "learn": [
                          1390.94709
                        ],
                        "iteration": 989,
                        "passed_time": 2.656395626,
                        "remaining_time": 0.02683227905,
                        "test": [
                          2360.101959
                        ]
                      },
                      {
                        "learn": [
                          1389.901602
                        ],
                        "iteration": 990,
                        "passed_time": 2.658727692,
                        "remaining_time": 0.02414586199,
                        "test": [
                          2359.150436
                        ]
                      },
                      {
                        "learn": [
                          1388.52924
                        ],
                        "iteration": 991,
                        "passed_time": 2.661066252,
                        "remaining_time": 0.02146021171,
                        "test": [
                          2356.872872
                        ]
                      },
                      {
                        "learn": [
                          1387.572521
                        ],
                        "iteration": 992,
                        "passed_time": 2.663374188,
                        "remaining_time": 0.01877504463,
                        "test": [
                          2356.419549
                        ]
                      },
                      {
                        "learn": [
                          1385.057576
                        ],
                        "iteration": 993,
                        "passed_time": 2.665809489,
                        "remaining_time": 0.01609140536,
                        "test": [
                          2355.064962
                        ]
                      },
                      {
                        "learn": [
                          1384.474981
                        ],
                        "iteration": 994,
                        "passed_time": 2.668194271,
                        "remaining_time": 0.01340801141,
                        "test": [
                          2354.812543
                        ]
                      },
                      {
                        "learn": [
                          1383.658192
                        ],
                        "iteration": 995,
                        "passed_time": 2.670512997,
                        "remaining_time": 0.01072495179,
                        "test": [
                          2354.381493
                        ]
                      },
                      {
                        "learn": [
                          1382.672388
                        ],
                        "iteration": 996,
                        "passed_time": 2.672845766,
                        "remaining_time": 0.008042665293,
                        "test": [
                          2353.507412
                        ]
                      },
                      {
                        "learn": [
                          1380.71837
                        ],
                        "iteration": 997,
                        "passed_time": 2.675246167,
                        "remaining_time": 0.005361214763,
                        "test": [
                          2351.867021
                        ]
                      },
                      {
                        "learn": [
                          1379.249228
                        ],
                        "iteration": 998,
                        "passed_time": 2.677716941,
                        "remaining_time": 0.002680397338,
                        "test": [
                          2351.251825
                        ]
                      },
                      {
                        "learn": [
                          1378.335532
                        ],
                        "iteration": 999,
                        "passed_time": 2.680039681,
                        "remaining_time": 0,
                        "test": [
                          2350.480478
                        ]
                      }
                    ],
                    "meta": {
                      "test_sets": [
                        "test"
                      ],
                      "test_metrics": [
                        {
                          "best_value": "Min",
                          "name": "RMSE"
                        }
                      ],
                      "learn_metrics": [
                        {
                          "best_value": "Min",
                          "name": "RMSE"
                        }
                      ],
                      "launch_mode": "Train",
                      "parameters": "",
                      "iteration_count": 1000,
                      "learn_sets": [
                        "learn"
                      ],
                      "name": "experiment"
                    }
                  }
                }
              }
            },
            "layout": "IPY_MODEL_12a9033e4a10472ea4f86525e0347693"
          }
        }
      }
    }
  },
  "cells": [
    {
      "cell_type": "markdown",
      "metadata": {
        "id": "view-in-github",
        "colab_type": "text"
      },
      "source": [
        "<a href=\"https://colab.research.google.com/github/Ayubbett/Insurance-claim-amount-/blob/main/Zindi_2.ipynb\" target=\"_parent\"><img src=\"https://colab.research.google.com/assets/colab-badge.svg\" alt=\"Open In Colab\"/></a>"
      ]
    },
    {
      "cell_type": "code",
      "execution_count": null,
      "metadata": {
        "id": "wzBaOP-pYiHb"
      },
      "outputs": [],
      "source": [
        "# Import libraries\n",
        "import pandas as pd\n",
        "import numpy as np\n",
        "import matplotlib.pyplot as plt\n",
        "import seaborn as sns\n",
        "from sklearn.metrics import mean_absolute_error\n",
        "from sklearn.model_selection import train_test_split\n",
        "from sklearn.preprocessing import LabelEncoder\n",
        "from sklearn.linear_model import LinearRegression\n",
        "pd.options.display.float_format = '{:.5f}'.format\n",
        "\n",
        "%matplotlib inline\n",
        "import warnings\n",
        "warnings.filterwarnings('ignore')\n",
        "import pandas_profiling\n",
        "from sklearn.model_selection import GridSearchCV"
      ]
    },
    {
      "cell_type": "code",
      "source": [
        "# Load files\n",
        "train = pd.read_csv('train.csv')\n",
        "policies = pd.read_csv('policies.csv')\n",
        "test = pd.read_csv('test.csv')\n",
        "samplesubmission = pd.read_csv('SampleSubmission.csv')"
      ],
      "metadata": {
        "id": "EA-ltHh-Yy61"
      },
      "execution_count": null,
      "outputs": []
    },
    {
      "cell_type": "code",
      "source": [
        "#Loading the train set\n",
        "train.head(2)"
      ],
      "metadata": {
        "colab": {
          "base_uri": "https://localhost:8080/",
          "height": 211
        },
        "id": "iVrijqM5Y5i0",
        "outputId": "2afda667-667e-4b19-a345-930e0ce6495a"
      },
      "execution_count": null,
      "outputs": [
        {
          "output_type": "execute_result",
          "data": {
            "text/plain": [
              "          claim_id policy_number  claim_number  sum_insured    product  \\\n",
              "0  ID_JZ7QWRHH57RO  pol000009680  claim0011359 300000.00000  prod00027   \n",
              "1  ID_KQ5TJMVLJ4EP  pol000006869  claim0005272  16000.00000  prod00005   \n",
              "\n",
              "     agent class_of_business risk_type   loss_date client_type  \\\n",
              "0  ag00068          cob00031   rt00006  2021-05-13      ct0003   \n",
              "1  ag00226          cob00010   rt00032  2018-05-13      ct0003   \n",
              "\n",
              "  renewal_frequency primary_cause secondary_cause   branch      target  \n",
              "0            rf0001        pc0007         sc00022  br00006 82150.00000  \n",
              "1            rf0001        pc0007         sc00023  br00002  3780.24000  "
            ],
            "text/html": [
              "\n",
              "  <div id=\"df-46e393f3-8584-422d-ba28-f8d5f787bcf7\">\n",
              "    <div class=\"colab-df-container\">\n",
              "      <div>\n",
              "<style scoped>\n",
              "    .dataframe tbody tr th:only-of-type {\n",
              "        vertical-align: middle;\n",
              "    }\n",
              "\n",
              "    .dataframe tbody tr th {\n",
              "        vertical-align: top;\n",
              "    }\n",
              "\n",
              "    .dataframe thead th {\n",
              "        text-align: right;\n",
              "    }\n",
              "</style>\n",
              "<table border=\"1\" class=\"dataframe\">\n",
              "  <thead>\n",
              "    <tr style=\"text-align: right;\">\n",
              "      <th></th>\n",
              "      <th>claim_id</th>\n",
              "      <th>policy_number</th>\n",
              "      <th>claim_number</th>\n",
              "      <th>sum_insured</th>\n",
              "      <th>product</th>\n",
              "      <th>agent</th>\n",
              "      <th>class_of_business</th>\n",
              "      <th>risk_type</th>\n",
              "      <th>loss_date</th>\n",
              "      <th>client_type</th>\n",
              "      <th>renewal_frequency</th>\n",
              "      <th>primary_cause</th>\n",
              "      <th>secondary_cause</th>\n",
              "      <th>branch</th>\n",
              "      <th>target</th>\n",
              "    </tr>\n",
              "  </thead>\n",
              "  <tbody>\n",
              "    <tr>\n",
              "      <th>0</th>\n",
              "      <td>ID_JZ7QWRHH57RO</td>\n",
              "      <td>pol000009680</td>\n",
              "      <td>claim0011359</td>\n",
              "      <td>300000.00000</td>\n",
              "      <td>prod00027</td>\n",
              "      <td>ag00068</td>\n",
              "      <td>cob00031</td>\n",
              "      <td>rt00006</td>\n",
              "      <td>2021-05-13</td>\n",
              "      <td>ct0003</td>\n",
              "      <td>rf0001</td>\n",
              "      <td>pc0007</td>\n",
              "      <td>sc00022</td>\n",
              "      <td>br00006</td>\n",
              "      <td>82150.00000</td>\n",
              "    </tr>\n",
              "    <tr>\n",
              "      <th>1</th>\n",
              "      <td>ID_KQ5TJMVLJ4EP</td>\n",
              "      <td>pol000006869</td>\n",
              "      <td>claim0005272</td>\n",
              "      <td>16000.00000</td>\n",
              "      <td>prod00005</td>\n",
              "      <td>ag00226</td>\n",
              "      <td>cob00010</td>\n",
              "      <td>rt00032</td>\n",
              "      <td>2018-05-13</td>\n",
              "      <td>ct0003</td>\n",
              "      <td>rf0001</td>\n",
              "      <td>pc0007</td>\n",
              "      <td>sc00023</td>\n",
              "      <td>br00002</td>\n",
              "      <td>3780.24000</td>\n",
              "    </tr>\n",
              "  </tbody>\n",
              "</table>\n",
              "</div>\n",
              "      <button class=\"colab-df-convert\" onclick=\"convertToInteractive('df-46e393f3-8584-422d-ba28-f8d5f787bcf7')\"\n",
              "              title=\"Convert this dataframe to an interactive table.\"\n",
              "              style=\"display:none;\">\n",
              "        \n",
              "  <svg xmlns=\"http://www.w3.org/2000/svg\" height=\"24px\"viewBox=\"0 0 24 24\"\n",
              "       width=\"24px\">\n",
              "    <path d=\"M0 0h24v24H0V0z\" fill=\"none\"/>\n",
              "    <path d=\"M18.56 5.44l.94 2.06.94-2.06 2.06-.94-2.06-.94-.94-2.06-.94 2.06-2.06.94zm-11 1L8.5 8.5l.94-2.06 2.06-.94-2.06-.94L8.5 2.5l-.94 2.06-2.06.94zm10 10l.94 2.06.94-2.06 2.06-.94-2.06-.94-.94-2.06-.94 2.06-2.06.94z\"/><path d=\"M17.41 7.96l-1.37-1.37c-.4-.4-.92-.59-1.43-.59-.52 0-1.04.2-1.43.59L10.3 9.45l-7.72 7.72c-.78.78-.78 2.05 0 2.83L4 21.41c.39.39.9.59 1.41.59.51 0 1.02-.2 1.41-.59l7.78-7.78 2.81-2.81c.8-.78.8-2.07 0-2.86zM5.41 20L4 18.59l7.72-7.72 1.47 1.35L5.41 20z\"/>\n",
              "  </svg>\n",
              "      </button>\n",
              "      \n",
              "  <style>\n",
              "    .colab-df-container {\n",
              "      display:flex;\n",
              "      flex-wrap:wrap;\n",
              "      gap: 12px;\n",
              "    }\n",
              "\n",
              "    .colab-df-convert {\n",
              "      background-color: #E8F0FE;\n",
              "      border: none;\n",
              "      border-radius: 50%;\n",
              "      cursor: pointer;\n",
              "      display: none;\n",
              "      fill: #1967D2;\n",
              "      height: 32px;\n",
              "      padding: 0 0 0 0;\n",
              "      width: 32px;\n",
              "    }\n",
              "\n",
              "    .colab-df-convert:hover {\n",
              "      background-color: #E2EBFA;\n",
              "      box-shadow: 0px 1px 2px rgba(60, 64, 67, 0.3), 0px 1px 3px 1px rgba(60, 64, 67, 0.15);\n",
              "      fill: #174EA6;\n",
              "    }\n",
              "\n",
              "    [theme=dark] .colab-df-convert {\n",
              "      background-color: #3B4455;\n",
              "      fill: #D2E3FC;\n",
              "    }\n",
              "\n",
              "    [theme=dark] .colab-df-convert:hover {\n",
              "      background-color: #434B5C;\n",
              "      box-shadow: 0px 1px 3px 1px rgba(0, 0, 0, 0.15);\n",
              "      filter: drop-shadow(0px 1px 2px rgba(0, 0, 0, 0.3));\n",
              "      fill: #FFFFFF;\n",
              "    }\n",
              "  </style>\n",
              "\n",
              "      <script>\n",
              "        const buttonEl =\n",
              "          document.querySelector('#df-46e393f3-8584-422d-ba28-f8d5f787bcf7 button.colab-df-convert');\n",
              "        buttonEl.style.display =\n",
              "          google.colab.kernel.accessAllowed ? 'block' : 'none';\n",
              "\n",
              "        async function convertToInteractive(key) {\n",
              "          const element = document.querySelector('#df-46e393f3-8584-422d-ba28-f8d5f787bcf7');\n",
              "          const dataTable =\n",
              "            await google.colab.kernel.invokeFunction('convertToInteractive',\n",
              "                                                     [key], {});\n",
              "          if (!dataTable) return;\n",
              "\n",
              "          const docLinkHtml = 'Like what you see? Visit the ' +\n",
              "            '<a target=\"_blank\" href=https://colab.research.google.com/notebooks/data_table.ipynb>data table notebook</a>'\n",
              "            + ' to learn more about interactive tables.';\n",
              "          element.innerHTML = '';\n",
              "          dataTable['output_type'] = 'display_data';\n",
              "          await google.colab.output.renderOutput(dataTable, element);\n",
              "          const docLink = document.createElement('div');\n",
              "          docLink.innerHTML = docLinkHtml;\n",
              "          element.appendChild(docLink);\n",
              "        }\n",
              "      </script>\n",
              "    </div>\n",
              "  </div>\n",
              "  "
            ]
          },
          "metadata": {},
          "execution_count": 53
        }
      ]
    },
    {
      "cell_type": "code",
      "source": [
        "# Preview policies dataset\n",
        "policies.head(2)"
      ],
      "metadata": {
        "colab": {
          "base_uri": "https://localhost:8080/",
          "height": 211
        },
        "id": "7UCbRqaXY--l",
        "outputId": "9b679da4-e06a-445c-fe02-1e34f963af5f"
      },
      "execution_count": null,
      "outputs": [
        {
          "output_type": "execute_result",
          "data": {
            "text/plain": [
              "  policy_number product_code               trans_date  \\\n",
              "0  pol000006995    prod00033  2017-07-01 08:24:55.800   \n",
              "1  pol000009828    prod00005  2017-07-01 09:04:02.217   \n",
              "\n",
              "                 from_date                  to_date    agent  \\\n",
              "0  2017-07-01 00:00:00.000  2018-07-01 00:00:00.000  ag00005   \n",
              "1  2017-07-03 00:00:00.000  2017-11-02 00:00:00.000  ag00226   \n",
              "\n",
              "  class_of_business client_type renewal_frequency   branch  \n",
              "0          cob00035      ct0001            rf0002  br00002  \n",
              "1          cob00009      ct0003            rf0001  br00006  "
            ],
            "text/html": [
              "\n",
              "  <div id=\"df-f0c1052e-80b3-4976-b600-c67a9769a924\">\n",
              "    <div class=\"colab-df-container\">\n",
              "      <div>\n",
              "<style scoped>\n",
              "    .dataframe tbody tr th:only-of-type {\n",
              "        vertical-align: middle;\n",
              "    }\n",
              "\n",
              "    .dataframe tbody tr th {\n",
              "        vertical-align: top;\n",
              "    }\n",
              "\n",
              "    .dataframe thead th {\n",
              "        text-align: right;\n",
              "    }\n",
              "</style>\n",
              "<table border=\"1\" class=\"dataframe\">\n",
              "  <thead>\n",
              "    <tr style=\"text-align: right;\">\n",
              "      <th></th>\n",
              "      <th>policy_number</th>\n",
              "      <th>product_code</th>\n",
              "      <th>trans_date</th>\n",
              "      <th>from_date</th>\n",
              "      <th>to_date</th>\n",
              "      <th>agent</th>\n",
              "      <th>class_of_business</th>\n",
              "      <th>client_type</th>\n",
              "      <th>renewal_frequency</th>\n",
              "      <th>branch</th>\n",
              "    </tr>\n",
              "  </thead>\n",
              "  <tbody>\n",
              "    <tr>\n",
              "      <th>0</th>\n",
              "      <td>pol000006995</td>\n",
              "      <td>prod00033</td>\n",
              "      <td>2017-07-01 08:24:55.800</td>\n",
              "      <td>2017-07-01 00:00:00.000</td>\n",
              "      <td>2018-07-01 00:00:00.000</td>\n",
              "      <td>ag00005</td>\n",
              "      <td>cob00035</td>\n",
              "      <td>ct0001</td>\n",
              "      <td>rf0002</td>\n",
              "      <td>br00002</td>\n",
              "    </tr>\n",
              "    <tr>\n",
              "      <th>1</th>\n",
              "      <td>pol000009828</td>\n",
              "      <td>prod00005</td>\n",
              "      <td>2017-07-01 09:04:02.217</td>\n",
              "      <td>2017-07-03 00:00:00.000</td>\n",
              "      <td>2017-11-02 00:00:00.000</td>\n",
              "      <td>ag00226</td>\n",
              "      <td>cob00009</td>\n",
              "      <td>ct0003</td>\n",
              "      <td>rf0001</td>\n",
              "      <td>br00006</td>\n",
              "    </tr>\n",
              "  </tbody>\n",
              "</table>\n",
              "</div>\n",
              "      <button class=\"colab-df-convert\" onclick=\"convertToInteractive('df-f0c1052e-80b3-4976-b600-c67a9769a924')\"\n",
              "              title=\"Convert this dataframe to an interactive table.\"\n",
              "              style=\"display:none;\">\n",
              "        \n",
              "  <svg xmlns=\"http://www.w3.org/2000/svg\" height=\"24px\"viewBox=\"0 0 24 24\"\n",
              "       width=\"24px\">\n",
              "    <path d=\"M0 0h24v24H0V0z\" fill=\"none\"/>\n",
              "    <path d=\"M18.56 5.44l.94 2.06.94-2.06 2.06-.94-2.06-.94-.94-2.06-.94 2.06-2.06.94zm-11 1L8.5 8.5l.94-2.06 2.06-.94-2.06-.94L8.5 2.5l-.94 2.06-2.06.94zm10 10l.94 2.06.94-2.06 2.06-.94-2.06-.94-.94-2.06-.94 2.06-2.06.94z\"/><path d=\"M17.41 7.96l-1.37-1.37c-.4-.4-.92-.59-1.43-.59-.52 0-1.04.2-1.43.59L10.3 9.45l-7.72 7.72c-.78.78-.78 2.05 0 2.83L4 21.41c.39.39.9.59 1.41.59.51 0 1.02-.2 1.41-.59l7.78-7.78 2.81-2.81c.8-.78.8-2.07 0-2.86zM5.41 20L4 18.59l7.72-7.72 1.47 1.35L5.41 20z\"/>\n",
              "  </svg>\n",
              "      </button>\n",
              "      \n",
              "  <style>\n",
              "    .colab-df-container {\n",
              "      display:flex;\n",
              "      flex-wrap:wrap;\n",
              "      gap: 12px;\n",
              "    }\n",
              "\n",
              "    .colab-df-convert {\n",
              "      background-color: #E8F0FE;\n",
              "      border: none;\n",
              "      border-radius: 50%;\n",
              "      cursor: pointer;\n",
              "      display: none;\n",
              "      fill: #1967D2;\n",
              "      height: 32px;\n",
              "      padding: 0 0 0 0;\n",
              "      width: 32px;\n",
              "    }\n",
              "\n",
              "    .colab-df-convert:hover {\n",
              "      background-color: #E2EBFA;\n",
              "      box-shadow: 0px 1px 2px rgba(60, 64, 67, 0.3), 0px 1px 3px 1px rgba(60, 64, 67, 0.15);\n",
              "      fill: #174EA6;\n",
              "    }\n",
              "\n",
              "    [theme=dark] .colab-df-convert {\n",
              "      background-color: #3B4455;\n",
              "      fill: #D2E3FC;\n",
              "    }\n",
              "\n",
              "    [theme=dark] .colab-df-convert:hover {\n",
              "      background-color: #434B5C;\n",
              "      box-shadow: 0px 1px 3px 1px rgba(0, 0, 0, 0.15);\n",
              "      filter: drop-shadow(0px 1px 2px rgba(0, 0, 0, 0.3));\n",
              "      fill: #FFFFFF;\n",
              "    }\n",
              "  </style>\n",
              "\n",
              "      <script>\n",
              "        const buttonEl =\n",
              "          document.querySelector('#df-f0c1052e-80b3-4976-b600-c67a9769a924 button.colab-df-convert');\n",
              "        buttonEl.style.display =\n",
              "          google.colab.kernel.accessAllowed ? 'block' : 'none';\n",
              "\n",
              "        async function convertToInteractive(key) {\n",
              "          const element = document.querySelector('#df-f0c1052e-80b3-4976-b600-c67a9769a924');\n",
              "          const dataTable =\n",
              "            await google.colab.kernel.invokeFunction('convertToInteractive',\n",
              "                                                     [key], {});\n",
              "          if (!dataTable) return;\n",
              "\n",
              "          const docLinkHtml = 'Like what you see? Visit the ' +\n",
              "            '<a target=\"_blank\" href=https://colab.research.google.com/notebooks/data_table.ipynb>data table notebook</a>'\n",
              "            + ' to learn more about interactive tables.';\n",
              "          element.innerHTML = '';\n",
              "          dataTable['output_type'] = 'display_data';\n",
              "          await google.colab.output.renderOutput(dataTable, element);\n",
              "          const docLink = document.createElement('div');\n",
              "          docLink.innerHTML = docLinkHtml;\n",
              "          element.appendChild(docLink);\n",
              "        }\n",
              "      </script>\n",
              "    </div>\n",
              "  </div>\n",
              "  "
            ]
          },
          "metadata": {},
          "execution_count": 54
        }
      ]
    },
    {
      "cell_type": "code",
      "source": [
        "#Previewing the test\n",
        "test.head()"
      ],
      "metadata": {
        "colab": {
          "base_uri": "https://localhost:8080/",
          "height": 357
        },
        "id": "XfotDZRVZBH1",
        "outputId": "73f34625-2566-4bd0-8e4c-daa7d5189852"
      },
      "execution_count": null,
      "outputs": [
        {
          "output_type": "execute_result",
          "data": {
            "text/plain": [
              "          claim_id policy_number  claim_number   sum_insured    product  \\\n",
              "0  ID_4RO0KZI9BBW2  pol000007115  claim0005757  300000.00000  prod00005   \n",
              "1  ID_GTE9ZUJ9GZ97  pol000006008  claim0003037 2700000.00000  prod00015   \n",
              "2  ID_RUVIYRKWZ4RG  pol000007651  claim0006507 4071352.00000  prod00012   \n",
              "3  ID_J81X8SWU6JYN  pol000010981  claim0013636       0.00000  prod00002   \n",
              "4  ID_94NM3JJAWWOQ  pol000005926  claim0001750 1607178.00000  prod00015   \n",
              "\n",
              "     agent class_of_business risk_type   loss_date client_type  \\\n",
              "0  ag00068          cob00009   rt00032  2021-03-11      ct0003   \n",
              "1  ag00064          cob00034   rt00023  2020-06-25      ct0001   \n",
              "2  ag00021          cob00016   rt00015  2019-03-14      ct0001   \n",
              "3  ag00037          cob00002   rt00002  2018-12-04      ct0001   \n",
              "4  ag00037          cob00034   rt00023  2019-09-18      ct0001   \n",
              "\n",
              "  renewal_frequency primary_cause secondary_cause   branch  \n",
              "0            rf0001        pc0007         sc00029  br00004  \n",
              "1            rf0003        pc0007         sc00022  br00002  \n",
              "2            rf0001        pc0011         sc00049  br00001  \n",
              "3            rf0002        pc0002         sc00012  br00005  \n",
              "4            rf0003        pc0007         sc00022  br00002  "
            ],
            "text/html": [
              "\n",
              "  <div id=\"df-6b0aac94-20ad-40d1-ae02-70ee50433ee7\">\n",
              "    <div class=\"colab-df-container\">\n",
              "      <div>\n",
              "<style scoped>\n",
              "    .dataframe tbody tr th:only-of-type {\n",
              "        vertical-align: middle;\n",
              "    }\n",
              "\n",
              "    .dataframe tbody tr th {\n",
              "        vertical-align: top;\n",
              "    }\n",
              "\n",
              "    .dataframe thead th {\n",
              "        text-align: right;\n",
              "    }\n",
              "</style>\n",
              "<table border=\"1\" class=\"dataframe\">\n",
              "  <thead>\n",
              "    <tr style=\"text-align: right;\">\n",
              "      <th></th>\n",
              "      <th>claim_id</th>\n",
              "      <th>policy_number</th>\n",
              "      <th>claim_number</th>\n",
              "      <th>sum_insured</th>\n",
              "      <th>product</th>\n",
              "      <th>agent</th>\n",
              "      <th>class_of_business</th>\n",
              "      <th>risk_type</th>\n",
              "      <th>loss_date</th>\n",
              "      <th>client_type</th>\n",
              "      <th>renewal_frequency</th>\n",
              "      <th>primary_cause</th>\n",
              "      <th>secondary_cause</th>\n",
              "      <th>branch</th>\n",
              "    </tr>\n",
              "  </thead>\n",
              "  <tbody>\n",
              "    <tr>\n",
              "      <th>0</th>\n",
              "      <td>ID_4RO0KZI9BBW2</td>\n",
              "      <td>pol000007115</td>\n",
              "      <td>claim0005757</td>\n",
              "      <td>300000.00000</td>\n",
              "      <td>prod00005</td>\n",
              "      <td>ag00068</td>\n",
              "      <td>cob00009</td>\n",
              "      <td>rt00032</td>\n",
              "      <td>2021-03-11</td>\n",
              "      <td>ct0003</td>\n",
              "      <td>rf0001</td>\n",
              "      <td>pc0007</td>\n",
              "      <td>sc00029</td>\n",
              "      <td>br00004</td>\n",
              "    </tr>\n",
              "    <tr>\n",
              "      <th>1</th>\n",
              "      <td>ID_GTE9ZUJ9GZ97</td>\n",
              "      <td>pol000006008</td>\n",
              "      <td>claim0003037</td>\n",
              "      <td>2700000.00000</td>\n",
              "      <td>prod00015</td>\n",
              "      <td>ag00064</td>\n",
              "      <td>cob00034</td>\n",
              "      <td>rt00023</td>\n",
              "      <td>2020-06-25</td>\n",
              "      <td>ct0001</td>\n",
              "      <td>rf0003</td>\n",
              "      <td>pc0007</td>\n",
              "      <td>sc00022</td>\n",
              "      <td>br00002</td>\n",
              "    </tr>\n",
              "    <tr>\n",
              "      <th>2</th>\n",
              "      <td>ID_RUVIYRKWZ4RG</td>\n",
              "      <td>pol000007651</td>\n",
              "      <td>claim0006507</td>\n",
              "      <td>4071352.00000</td>\n",
              "      <td>prod00012</td>\n",
              "      <td>ag00021</td>\n",
              "      <td>cob00016</td>\n",
              "      <td>rt00015</td>\n",
              "      <td>2019-03-14</td>\n",
              "      <td>ct0001</td>\n",
              "      <td>rf0001</td>\n",
              "      <td>pc0011</td>\n",
              "      <td>sc00049</td>\n",
              "      <td>br00001</td>\n",
              "    </tr>\n",
              "    <tr>\n",
              "      <th>3</th>\n",
              "      <td>ID_J81X8SWU6JYN</td>\n",
              "      <td>pol000010981</td>\n",
              "      <td>claim0013636</td>\n",
              "      <td>0.00000</td>\n",
              "      <td>prod00002</td>\n",
              "      <td>ag00037</td>\n",
              "      <td>cob00002</td>\n",
              "      <td>rt00002</td>\n",
              "      <td>2018-12-04</td>\n",
              "      <td>ct0001</td>\n",
              "      <td>rf0002</td>\n",
              "      <td>pc0002</td>\n",
              "      <td>sc00012</td>\n",
              "      <td>br00005</td>\n",
              "    </tr>\n",
              "    <tr>\n",
              "      <th>4</th>\n",
              "      <td>ID_94NM3JJAWWOQ</td>\n",
              "      <td>pol000005926</td>\n",
              "      <td>claim0001750</td>\n",
              "      <td>1607178.00000</td>\n",
              "      <td>prod00015</td>\n",
              "      <td>ag00037</td>\n",
              "      <td>cob00034</td>\n",
              "      <td>rt00023</td>\n",
              "      <td>2019-09-18</td>\n",
              "      <td>ct0001</td>\n",
              "      <td>rf0003</td>\n",
              "      <td>pc0007</td>\n",
              "      <td>sc00022</td>\n",
              "      <td>br00002</td>\n",
              "    </tr>\n",
              "  </tbody>\n",
              "</table>\n",
              "</div>\n",
              "      <button class=\"colab-df-convert\" onclick=\"convertToInteractive('df-6b0aac94-20ad-40d1-ae02-70ee50433ee7')\"\n",
              "              title=\"Convert this dataframe to an interactive table.\"\n",
              "              style=\"display:none;\">\n",
              "        \n",
              "  <svg xmlns=\"http://www.w3.org/2000/svg\" height=\"24px\"viewBox=\"0 0 24 24\"\n",
              "       width=\"24px\">\n",
              "    <path d=\"M0 0h24v24H0V0z\" fill=\"none\"/>\n",
              "    <path d=\"M18.56 5.44l.94 2.06.94-2.06 2.06-.94-2.06-.94-.94-2.06-.94 2.06-2.06.94zm-11 1L8.5 8.5l.94-2.06 2.06-.94-2.06-.94L8.5 2.5l-.94 2.06-2.06.94zm10 10l.94 2.06.94-2.06 2.06-.94-2.06-.94-.94-2.06-.94 2.06-2.06.94z\"/><path d=\"M17.41 7.96l-1.37-1.37c-.4-.4-.92-.59-1.43-.59-.52 0-1.04.2-1.43.59L10.3 9.45l-7.72 7.72c-.78.78-.78 2.05 0 2.83L4 21.41c.39.39.9.59 1.41.59.51 0 1.02-.2 1.41-.59l7.78-7.78 2.81-2.81c.8-.78.8-2.07 0-2.86zM5.41 20L4 18.59l7.72-7.72 1.47 1.35L5.41 20z\"/>\n",
              "  </svg>\n",
              "      </button>\n",
              "      \n",
              "  <style>\n",
              "    .colab-df-container {\n",
              "      display:flex;\n",
              "      flex-wrap:wrap;\n",
              "      gap: 12px;\n",
              "    }\n",
              "\n",
              "    .colab-df-convert {\n",
              "      background-color: #E8F0FE;\n",
              "      border: none;\n",
              "      border-radius: 50%;\n",
              "      cursor: pointer;\n",
              "      display: none;\n",
              "      fill: #1967D2;\n",
              "      height: 32px;\n",
              "      padding: 0 0 0 0;\n",
              "      width: 32px;\n",
              "    }\n",
              "\n",
              "    .colab-df-convert:hover {\n",
              "      background-color: #E2EBFA;\n",
              "      box-shadow: 0px 1px 2px rgba(60, 64, 67, 0.3), 0px 1px 3px 1px rgba(60, 64, 67, 0.15);\n",
              "      fill: #174EA6;\n",
              "    }\n",
              "\n",
              "    [theme=dark] .colab-df-convert {\n",
              "      background-color: #3B4455;\n",
              "      fill: #D2E3FC;\n",
              "    }\n",
              "\n",
              "    [theme=dark] .colab-df-convert:hover {\n",
              "      background-color: #434B5C;\n",
              "      box-shadow: 0px 1px 3px 1px rgba(0, 0, 0, 0.15);\n",
              "      filter: drop-shadow(0px 1px 2px rgba(0, 0, 0, 0.3));\n",
              "      fill: #FFFFFF;\n",
              "    }\n",
              "  </style>\n",
              "\n",
              "      <script>\n",
              "        const buttonEl =\n",
              "          document.querySelector('#df-6b0aac94-20ad-40d1-ae02-70ee50433ee7 button.colab-df-convert');\n",
              "        buttonEl.style.display =\n",
              "          google.colab.kernel.accessAllowed ? 'block' : 'none';\n",
              "\n",
              "        async function convertToInteractive(key) {\n",
              "          const element = document.querySelector('#df-6b0aac94-20ad-40d1-ae02-70ee50433ee7');\n",
              "          const dataTable =\n",
              "            await google.colab.kernel.invokeFunction('convertToInteractive',\n",
              "                                                     [key], {});\n",
              "          if (!dataTable) return;\n",
              "\n",
              "          const docLinkHtml = 'Like what you see? Visit the ' +\n",
              "            '<a target=\"_blank\" href=https://colab.research.google.com/notebooks/data_table.ipynb>data table notebook</a>'\n",
              "            + ' to learn more about interactive tables.';\n",
              "          element.innerHTML = '';\n",
              "          dataTable['output_type'] = 'display_data';\n",
              "          await google.colab.output.renderOutput(dataTable, element);\n",
              "          const docLink = document.createElement('div');\n",
              "          docLink.innerHTML = docLinkHtml;\n",
              "          element.appendChild(docLink);\n",
              "        }\n",
              "      </script>\n",
              "    </div>\n",
              "  </div>\n",
              "  "
            ]
          },
          "metadata": {},
          "execution_count": 55
        }
      ]
    },
    {
      "cell_type": "code",
      "source": [
        "# Preview sample submission file\n",
        "samplesubmission.head()"
      ],
      "metadata": {
        "colab": {
          "base_uri": "https://localhost:8080/",
          "height": 206
        },
        "id": "Ojk9rU3mZIHX",
        "outputId": "ecb9f5b7-b253-42e9-d7fd-723b55a87c89"
      },
      "execution_count": null,
      "outputs": [
        {
          "output_type": "execute_result",
          "data": {
            "text/plain": [
              "          claim_id  target\n",
              "0  ID_4RO0KZI9BBW2       0\n",
              "1  ID_GTE9ZUJ9GZ97       0\n",
              "2  ID_RUVIYRKWZ4RG       0\n",
              "3  ID_J81X8SWU6JYN       0\n",
              "4  ID_94NM3JJAWWOQ       0"
            ],
            "text/html": [
              "\n",
              "  <div id=\"df-64337232-5021-4fe7-9a04-25bdd347b9dd\">\n",
              "    <div class=\"colab-df-container\">\n",
              "      <div>\n",
              "<style scoped>\n",
              "    .dataframe tbody tr th:only-of-type {\n",
              "        vertical-align: middle;\n",
              "    }\n",
              "\n",
              "    .dataframe tbody tr th {\n",
              "        vertical-align: top;\n",
              "    }\n",
              "\n",
              "    .dataframe thead th {\n",
              "        text-align: right;\n",
              "    }\n",
              "</style>\n",
              "<table border=\"1\" class=\"dataframe\">\n",
              "  <thead>\n",
              "    <tr style=\"text-align: right;\">\n",
              "      <th></th>\n",
              "      <th>claim_id</th>\n",
              "      <th>target</th>\n",
              "    </tr>\n",
              "  </thead>\n",
              "  <tbody>\n",
              "    <tr>\n",
              "      <th>0</th>\n",
              "      <td>ID_4RO0KZI9BBW2</td>\n",
              "      <td>0</td>\n",
              "    </tr>\n",
              "    <tr>\n",
              "      <th>1</th>\n",
              "      <td>ID_GTE9ZUJ9GZ97</td>\n",
              "      <td>0</td>\n",
              "    </tr>\n",
              "    <tr>\n",
              "      <th>2</th>\n",
              "      <td>ID_RUVIYRKWZ4RG</td>\n",
              "      <td>0</td>\n",
              "    </tr>\n",
              "    <tr>\n",
              "      <th>3</th>\n",
              "      <td>ID_J81X8SWU6JYN</td>\n",
              "      <td>0</td>\n",
              "    </tr>\n",
              "    <tr>\n",
              "      <th>4</th>\n",
              "      <td>ID_94NM3JJAWWOQ</td>\n",
              "      <td>0</td>\n",
              "    </tr>\n",
              "  </tbody>\n",
              "</table>\n",
              "</div>\n",
              "      <button class=\"colab-df-convert\" onclick=\"convertToInteractive('df-64337232-5021-4fe7-9a04-25bdd347b9dd')\"\n",
              "              title=\"Convert this dataframe to an interactive table.\"\n",
              "              style=\"display:none;\">\n",
              "        \n",
              "  <svg xmlns=\"http://www.w3.org/2000/svg\" height=\"24px\"viewBox=\"0 0 24 24\"\n",
              "       width=\"24px\">\n",
              "    <path d=\"M0 0h24v24H0V0z\" fill=\"none\"/>\n",
              "    <path d=\"M18.56 5.44l.94 2.06.94-2.06 2.06-.94-2.06-.94-.94-2.06-.94 2.06-2.06.94zm-11 1L8.5 8.5l.94-2.06 2.06-.94-2.06-.94L8.5 2.5l-.94 2.06-2.06.94zm10 10l.94 2.06.94-2.06 2.06-.94-2.06-.94-.94-2.06-.94 2.06-2.06.94z\"/><path d=\"M17.41 7.96l-1.37-1.37c-.4-.4-.92-.59-1.43-.59-.52 0-1.04.2-1.43.59L10.3 9.45l-7.72 7.72c-.78.78-.78 2.05 0 2.83L4 21.41c.39.39.9.59 1.41.59.51 0 1.02-.2 1.41-.59l7.78-7.78 2.81-2.81c.8-.78.8-2.07 0-2.86zM5.41 20L4 18.59l7.72-7.72 1.47 1.35L5.41 20z\"/>\n",
              "  </svg>\n",
              "      </button>\n",
              "      \n",
              "  <style>\n",
              "    .colab-df-container {\n",
              "      display:flex;\n",
              "      flex-wrap:wrap;\n",
              "      gap: 12px;\n",
              "    }\n",
              "\n",
              "    .colab-df-convert {\n",
              "      background-color: #E8F0FE;\n",
              "      border: none;\n",
              "      border-radius: 50%;\n",
              "      cursor: pointer;\n",
              "      display: none;\n",
              "      fill: #1967D2;\n",
              "      height: 32px;\n",
              "      padding: 0 0 0 0;\n",
              "      width: 32px;\n",
              "    }\n",
              "\n",
              "    .colab-df-convert:hover {\n",
              "      background-color: #E2EBFA;\n",
              "      box-shadow: 0px 1px 2px rgba(60, 64, 67, 0.3), 0px 1px 3px 1px rgba(60, 64, 67, 0.15);\n",
              "      fill: #174EA6;\n",
              "    }\n",
              "\n",
              "    [theme=dark] .colab-df-convert {\n",
              "      background-color: #3B4455;\n",
              "      fill: #D2E3FC;\n",
              "    }\n",
              "\n",
              "    [theme=dark] .colab-df-convert:hover {\n",
              "      background-color: #434B5C;\n",
              "      box-shadow: 0px 1px 3px 1px rgba(0, 0, 0, 0.15);\n",
              "      filter: drop-shadow(0px 1px 2px rgba(0, 0, 0, 0.3));\n",
              "      fill: #FFFFFF;\n",
              "    }\n",
              "  </style>\n",
              "\n",
              "      <script>\n",
              "        const buttonEl =\n",
              "          document.querySelector('#df-64337232-5021-4fe7-9a04-25bdd347b9dd button.colab-df-convert');\n",
              "        buttonEl.style.display =\n",
              "          google.colab.kernel.accessAllowed ? 'block' : 'none';\n",
              "\n",
              "        async function convertToInteractive(key) {\n",
              "          const element = document.querySelector('#df-64337232-5021-4fe7-9a04-25bdd347b9dd');\n",
              "          const dataTable =\n",
              "            await google.colab.kernel.invokeFunction('convertToInteractive',\n",
              "                                                     [key], {});\n",
              "          if (!dataTable) return;\n",
              "\n",
              "          const docLinkHtml = 'Like what you see? Visit the ' +\n",
              "            '<a target=\"_blank\" href=https://colab.research.google.com/notebooks/data_table.ipynb>data table notebook</a>'\n",
              "            + ' to learn more about interactive tables.';\n",
              "          element.innerHTML = '';\n",
              "          dataTable['output_type'] = 'display_data';\n",
              "          await google.colab.output.renderOutput(dataTable, element);\n",
              "          const docLink = document.createElement('div');\n",
              "          docLink.innerHTML = docLinkHtml;\n",
              "          element.appendChild(docLink);\n",
              "        }\n",
              "      </script>\n",
              "    </div>\n",
              "  </div>\n",
              "  "
            ]
          },
          "metadata": {},
          "execution_count": 56
        }
      ]
    },
    {
      "cell_type": "code",
      "source": [
        "# Check size and shape of datasets\n",
        "print(\"Train shape is\", train.shape)\n",
        "print(\"Policies shape is\", policies.shape)\n",
        "print(\"testshape is\", test.shape)\n",
        "print(\"sample submission is\", samplesubmission.shape)"
      ],
      "metadata": {
        "colab": {
          "base_uri": "https://localhost:8080/"
        },
        "id": "ziPL8kaHZLQD",
        "outputId": "dc61e18f-c1e0-4805-cd2c-5177e8a0495b"
      },
      "execution_count": null,
      "outputs": [
        {
          "output_type": "stream",
          "name": "stdout",
          "text": [
            "Train shape is (9376, 15)\n",
            "Policies shape is (30371, 10)\n",
            "testshape is (4019, 14)\n",
            "sample submission is (4019, 2)\n"
          ]
        }
      ]
    },
    {
      "cell_type": "code",
      "source": [
        "#Merging the policies dataframe with the train dataframe\n",
        "train_df  = pd.merge(train,policies)\n",
        "train_df.head(2)"
      ],
      "metadata": {
        "colab": {
          "base_uri": "https://localhost:8080/",
          "height": 211
        },
        "id": "nmj5bxChZSZv",
        "outputId": "2c959b4c-a239-4548-8ed1-24997be16f97"
      },
      "execution_count": null,
      "outputs": [
        {
          "output_type": "execute_result",
          "data": {
            "text/plain": [
              "          claim_id policy_number  claim_number  sum_insured    product  \\\n",
              "0  ID_SHWOLB04CA2O  pol000010764  claim0013134   7000.00000  prod00005   \n",
              "1  ID_TWDB1RP1CGO7  pol000009336  claim0010388  12600.00000  prod00005   \n",
              "\n",
              "     agent class_of_business risk_type   loss_date client_type  \\\n",
              "0  ag00044          cob00009   rt00032  2019-04-21      ct0003   \n",
              "1  ag00226          cob00009   rt00032  2018-12-21      ct0003   \n",
              "\n",
              "  renewal_frequency primary_cause secondary_cause   branch     target  \\\n",
              "0            rf0002        pc0007         sc00004  br00009 1637.73000   \n",
              "1            rf0001        pc0007         sc00004  br00001  440.00000   \n",
              "\n",
              "  product_code               trans_date                from_date  \\\n",
              "0    prod00005  2018-09-20 18:08:58.993  2018-09-20 00:00:00.000   \n",
              "1    prod00005  2018-08-22 13:08:34.247  2018-08-22 00:00:00.000   \n",
              "\n",
              "                   to_date  \n",
              "0  2019-05-31 00:00:00.000  \n",
              "1  2018-12-31 00:00:00.000  "
            ],
            "text/html": [
              "\n",
              "  <div id=\"df-7d6f1b16-96f1-4ec6-b351-359ffc3f4364\">\n",
              "    <div class=\"colab-df-container\">\n",
              "      <div>\n",
              "<style scoped>\n",
              "    .dataframe tbody tr th:only-of-type {\n",
              "        vertical-align: middle;\n",
              "    }\n",
              "\n",
              "    .dataframe tbody tr th {\n",
              "        vertical-align: top;\n",
              "    }\n",
              "\n",
              "    .dataframe thead th {\n",
              "        text-align: right;\n",
              "    }\n",
              "</style>\n",
              "<table border=\"1\" class=\"dataframe\">\n",
              "  <thead>\n",
              "    <tr style=\"text-align: right;\">\n",
              "      <th></th>\n",
              "      <th>claim_id</th>\n",
              "      <th>policy_number</th>\n",
              "      <th>claim_number</th>\n",
              "      <th>sum_insured</th>\n",
              "      <th>product</th>\n",
              "      <th>agent</th>\n",
              "      <th>class_of_business</th>\n",
              "      <th>risk_type</th>\n",
              "      <th>loss_date</th>\n",
              "      <th>client_type</th>\n",
              "      <th>renewal_frequency</th>\n",
              "      <th>primary_cause</th>\n",
              "      <th>secondary_cause</th>\n",
              "      <th>branch</th>\n",
              "      <th>target</th>\n",
              "      <th>product_code</th>\n",
              "      <th>trans_date</th>\n",
              "      <th>from_date</th>\n",
              "      <th>to_date</th>\n",
              "    </tr>\n",
              "  </thead>\n",
              "  <tbody>\n",
              "    <tr>\n",
              "      <th>0</th>\n",
              "      <td>ID_SHWOLB04CA2O</td>\n",
              "      <td>pol000010764</td>\n",
              "      <td>claim0013134</td>\n",
              "      <td>7000.00000</td>\n",
              "      <td>prod00005</td>\n",
              "      <td>ag00044</td>\n",
              "      <td>cob00009</td>\n",
              "      <td>rt00032</td>\n",
              "      <td>2019-04-21</td>\n",
              "      <td>ct0003</td>\n",
              "      <td>rf0002</td>\n",
              "      <td>pc0007</td>\n",
              "      <td>sc00004</td>\n",
              "      <td>br00009</td>\n",
              "      <td>1637.73000</td>\n",
              "      <td>prod00005</td>\n",
              "      <td>2018-09-20 18:08:58.993</td>\n",
              "      <td>2018-09-20 00:00:00.000</td>\n",
              "      <td>2019-05-31 00:00:00.000</td>\n",
              "    </tr>\n",
              "    <tr>\n",
              "      <th>1</th>\n",
              "      <td>ID_TWDB1RP1CGO7</td>\n",
              "      <td>pol000009336</td>\n",
              "      <td>claim0010388</td>\n",
              "      <td>12600.00000</td>\n",
              "      <td>prod00005</td>\n",
              "      <td>ag00226</td>\n",
              "      <td>cob00009</td>\n",
              "      <td>rt00032</td>\n",
              "      <td>2018-12-21</td>\n",
              "      <td>ct0003</td>\n",
              "      <td>rf0001</td>\n",
              "      <td>pc0007</td>\n",
              "      <td>sc00004</td>\n",
              "      <td>br00001</td>\n",
              "      <td>440.00000</td>\n",
              "      <td>prod00005</td>\n",
              "      <td>2018-08-22 13:08:34.247</td>\n",
              "      <td>2018-08-22 00:00:00.000</td>\n",
              "      <td>2018-12-31 00:00:00.000</td>\n",
              "    </tr>\n",
              "  </tbody>\n",
              "</table>\n",
              "</div>\n",
              "      <button class=\"colab-df-convert\" onclick=\"convertToInteractive('df-7d6f1b16-96f1-4ec6-b351-359ffc3f4364')\"\n",
              "              title=\"Convert this dataframe to an interactive table.\"\n",
              "              style=\"display:none;\">\n",
              "        \n",
              "  <svg xmlns=\"http://www.w3.org/2000/svg\" height=\"24px\"viewBox=\"0 0 24 24\"\n",
              "       width=\"24px\">\n",
              "    <path d=\"M0 0h24v24H0V0z\" fill=\"none\"/>\n",
              "    <path d=\"M18.56 5.44l.94 2.06.94-2.06 2.06-.94-2.06-.94-.94-2.06-.94 2.06-2.06.94zm-11 1L8.5 8.5l.94-2.06 2.06-.94-2.06-.94L8.5 2.5l-.94 2.06-2.06.94zm10 10l.94 2.06.94-2.06 2.06-.94-2.06-.94-.94-2.06-.94 2.06-2.06.94z\"/><path d=\"M17.41 7.96l-1.37-1.37c-.4-.4-.92-.59-1.43-.59-.52 0-1.04.2-1.43.59L10.3 9.45l-7.72 7.72c-.78.78-.78 2.05 0 2.83L4 21.41c.39.39.9.59 1.41.59.51 0 1.02-.2 1.41-.59l7.78-7.78 2.81-2.81c.8-.78.8-2.07 0-2.86zM5.41 20L4 18.59l7.72-7.72 1.47 1.35L5.41 20z\"/>\n",
              "  </svg>\n",
              "      </button>\n",
              "      \n",
              "  <style>\n",
              "    .colab-df-container {\n",
              "      display:flex;\n",
              "      flex-wrap:wrap;\n",
              "      gap: 12px;\n",
              "    }\n",
              "\n",
              "    .colab-df-convert {\n",
              "      background-color: #E8F0FE;\n",
              "      border: none;\n",
              "      border-radius: 50%;\n",
              "      cursor: pointer;\n",
              "      display: none;\n",
              "      fill: #1967D2;\n",
              "      height: 32px;\n",
              "      padding: 0 0 0 0;\n",
              "      width: 32px;\n",
              "    }\n",
              "\n",
              "    .colab-df-convert:hover {\n",
              "      background-color: #E2EBFA;\n",
              "      box-shadow: 0px 1px 2px rgba(60, 64, 67, 0.3), 0px 1px 3px 1px rgba(60, 64, 67, 0.15);\n",
              "      fill: #174EA6;\n",
              "    }\n",
              "\n",
              "    [theme=dark] .colab-df-convert {\n",
              "      background-color: #3B4455;\n",
              "      fill: #D2E3FC;\n",
              "    }\n",
              "\n",
              "    [theme=dark] .colab-df-convert:hover {\n",
              "      background-color: #434B5C;\n",
              "      box-shadow: 0px 1px 3px 1px rgba(0, 0, 0, 0.15);\n",
              "      filter: drop-shadow(0px 1px 2px rgba(0, 0, 0, 0.3));\n",
              "      fill: #FFFFFF;\n",
              "    }\n",
              "  </style>\n",
              "\n",
              "      <script>\n",
              "        const buttonEl =\n",
              "          document.querySelector('#df-7d6f1b16-96f1-4ec6-b351-359ffc3f4364 button.colab-df-convert');\n",
              "        buttonEl.style.display =\n",
              "          google.colab.kernel.accessAllowed ? 'block' : 'none';\n",
              "\n",
              "        async function convertToInteractive(key) {\n",
              "          const element = document.querySelector('#df-7d6f1b16-96f1-4ec6-b351-359ffc3f4364');\n",
              "          const dataTable =\n",
              "            await google.colab.kernel.invokeFunction('convertToInteractive',\n",
              "                                                     [key], {});\n",
              "          if (!dataTable) return;\n",
              "\n",
              "          const docLinkHtml = 'Like what you see? Visit the ' +\n",
              "            '<a target=\"_blank\" href=https://colab.research.google.com/notebooks/data_table.ipynb>data table notebook</a>'\n",
              "            + ' to learn more about interactive tables.';\n",
              "          element.innerHTML = '';\n",
              "          dataTable['output_type'] = 'display_data';\n",
              "          await google.colab.output.renderOutput(dataTable, element);\n",
              "          const docLink = document.createElement('div');\n",
              "          docLink.innerHTML = docLinkHtml;\n",
              "          element.appendChild(docLink);\n",
              "        }\n",
              "      </script>\n",
              "    </div>\n",
              "  </div>\n",
              "  "
            ]
          },
          "metadata": {},
          "execution_count": 58
        }
      ]
    },
    {
      "cell_type": "code",
      "source": [
        "#Finding the number of null values\n",
        "train_df.isnull().any()"
      ],
      "metadata": {
        "colab": {
          "base_uri": "https://localhost:8080/"
        },
        "id": "6uvK5p90ZUZc",
        "outputId": "a228a1c7-290c-431d-837b-a22dc7883f93"
      },
      "execution_count": null,
      "outputs": [
        {
          "output_type": "execute_result",
          "data": {
            "text/plain": [
              "claim_id             False\n",
              "policy_number        False\n",
              "claim_number         False\n",
              "sum_insured          False\n",
              "product              False\n",
              "agent                False\n",
              "class_of_business    False\n",
              "risk_type            False\n",
              "loss_date            False\n",
              "client_type          False\n",
              "renewal_frequency    False\n",
              "primary_cause        False\n",
              "secondary_cause      False\n",
              "branch               False\n",
              "target               False\n",
              "product_code         False\n",
              "trans_date           False\n",
              "from_date            False\n",
              "to_date              False\n",
              "dtype: bool"
            ]
          },
          "metadata": {},
          "execution_count": 59
        }
      ]
    },
    {
      "cell_type": "code",
      "source": [
        "# Check for duplicates\n",
        "train_df.duplicated().any()"
      ],
      "metadata": {
        "colab": {
          "base_uri": "https://localhost:8080/"
        },
        "id": "yPwuuMf-ZaX8",
        "outputId": "1123c20f-f9e3-48f0-9594-62635f291fc2"
      },
      "execution_count": null,
      "outputs": [
        {
          "output_type": "execute_result",
          "data": {
            "text/plain": [
              "False"
            ]
          },
          "metadata": {},
          "execution_count": 60
        }
      ]
    },
    {
      "cell_type": "code",
      "source": [
        "# A box plot showing outliers\n",
        "plt.figure(figsize=(12, 6))\n",
        "sns.boxplot(train_df.target)\n",
        "plt.title('Target Variable Distribution');"
      ],
      "metadata": {
        "colab": {
          "base_uri": "https://localhost:8080/",
          "height": 407
        },
        "id": "Qi5nRbqrZhjZ",
        "outputId": "07d8df91-b531-4a93-c163-c389f9f9421d"
      },
      "execution_count": null,
      "outputs": [
        {
          "output_type": "display_data",
          "data": {
            "text/plain": [
              "<Figure size 864x432 with 1 Axes>"
            ],
            "image/png": "[encoded data removed]"
          },
          "metadata": {
            "needs_background": "light"
          }
        }
      ]
    },
    {
      "cell_type": "code",
      "source": [
        "#Detection of outliers\n",
        "# IQR\n",
        "Q1 = np.percentile(train_df['target'], 25,\n",
        "                   interpolation = 'midpoint')\n",
        " \n",
        "Q3 = np.percentile(train_df['target'], 75,\n",
        "                   interpolation = 'midpoint')\n",
        "IQR = Q3 - Q1\n",
        " \n",
        "print(\"Old Shape: \", train_df.shape)\n",
        "\n",
        "# Upper bound\n",
        "upper = np.where(train_df['target'] >= (Q3+1.5*IQR))\n",
        "# Lower bound\n",
        "lower = np.where(train_df['target'] <= (Q1-1.5*IQR))\n",
        " \n",
        "#Removing the Outliers\n",
        "train_df.drop(upper[0], inplace = True)\n",
        "train_df.drop(lower[0], inplace = True)\n",
        " \n",
        "print(\"New Shape: \", train_df.shape)"
      ],
      "metadata": {
        "colab": {
          "base_uri": "https://localhost:8080/"
        },
        "id": "iAbFNkktZjtw",
        "outputId": "53ea0045-9be4-42f2-d4fb-07963cd02eb9"
      },
      "execution_count": null,
      "outputs": [
        {
          "output_type": "stream",
          "name": "stdout",
          "text": [
            "Old Shape:  (9814, 19)\n",
            "New Shape:  (8123, 19)\n"
          ]
        }
      ]
    },
    {
      "cell_type": "code",
      "source": [
        "# Train dataset datatypes\n",
        "train_df.info()"
      ],
      "metadata": {
        "colab": {
          "base_uri": "https://localhost:8080/"
        },
        "id": "7Lr2QQmqZvhg",
        "outputId": "f3a644d1-67fb-411f-9133-207e1fa3861c"
      },
      "execution_count": null,
      "outputs": [
        {
          "output_type": "stream",
          "name": "stdout",
          "text": [
            "<class 'pandas.core.frame.DataFrame'>\n",
            "Int64Index: 8123 entries, 0 to 9813\n",
            "Data columns (total 19 columns):\n",
            " #   Column             Non-Null Count  Dtype  \n",
            "---  ------             --------------  -----  \n",
            " 0   claim_id           8123 non-null   object \n",
            " 1   policy_number      8123 non-null   object \n",
            " 2   claim_number       8123 non-null   object \n",
            " 3   sum_insured        8123 non-null   float64\n",
            " 4   product            8123 non-null   object \n",
            " 5   agent              8123 non-null   object \n",
            " 6   class_of_business  8123 non-null   object \n",
            " 7   risk_type          8123 non-null   object \n",
            " 8   loss_date          8123 non-null   object \n",
            " 9   client_type        8123 non-null   object \n",
            " 10  renewal_frequency  8123 non-null   object \n",
            " 11  primary_cause      8123 non-null   object \n",
            " 12  secondary_cause    8123 non-null   object \n",
            " 13  branch             8123 non-null   object \n",
            " 14  target             8123 non-null   float64\n",
            " 15  product_code       8123 non-null   object \n",
            " 16  trans_date         8123 non-null   object \n",
            " 17  from_date          8123 non-null   object \n",
            " 18  to_date            8123 non-null   object \n",
            "dtypes: float64(2), object(17)\n",
            "memory usage: 1.5+ MB\n"
          ]
        }
      ]
    },
    {
      "cell_type": "code",
      "source": [
        "train_df.head(2)"
      ],
      "metadata": {
        "colab": {
          "base_uri": "https://localhost:8080/",
          "height": 211
        },
        "id": "R1HaSXPIZx7L",
        "outputId": "be30007e-6fdf-4544-d1e4-7dccd184517d"
      },
      "execution_count": null,
      "outputs": [
        {
          "output_type": "execute_result",
          "data": {
            "text/plain": [
              "          claim_id policy_number  claim_number  sum_insured    product  \\\n",
              "0  ID_SHWOLB04CA2O  pol000010764  claim0013134   7000.00000  prod00005   \n",
              "1  ID_TWDB1RP1CGO7  pol000009336  claim0010388  12600.00000  prod00005   \n",
              "\n",
              "     agent class_of_business risk_type   loss_date client_type  \\\n",
              "0  ag00044          cob00009   rt00032  2019-04-21      ct0003   \n",
              "1  ag00226          cob00009   rt00032  2018-12-21      ct0003   \n",
              "\n",
              "  renewal_frequency primary_cause secondary_cause   branch     target  \\\n",
              "0            rf0002        pc0007         sc00004  br00009 1637.73000   \n",
              "1            rf0001        pc0007         sc00004  br00001  440.00000   \n",
              "\n",
              "  product_code               trans_date                from_date  \\\n",
              "0    prod00005  2018-09-20 18:08:58.993  2018-09-20 00:00:00.000   \n",
              "1    prod00005  2018-08-22 13:08:34.247  2018-08-22 00:00:00.000   \n",
              "\n",
              "                   to_date  \n",
              "0  2019-05-31 00:00:00.000  \n",
              "1  2018-12-31 00:00:00.000  "
            ],
            "text/html": [
              "\n",
              "  <div id=\"df-38bc84a2-b8a1-45e8-b14f-020583e661cd\">\n",
              "    <div class=\"colab-df-container\">\n",
              "      <div>\n",
              "<style scoped>\n",
              "    .dataframe tbody tr th:only-of-type {\n",
              "        vertical-align: middle;\n",
              "    }\n",
              "\n",
              "    .dataframe tbody tr th {\n",
              "        vertical-align: top;\n",
              "    }\n",
              "\n",
              "    .dataframe thead th {\n",
              "        text-align: right;\n",
              "    }\n",
              "</style>\n",
              "<table border=\"1\" class=\"dataframe\">\n",
              "  <thead>\n",
              "    <tr style=\"text-align: right;\">\n",
              "      <th></th>\n",
              "      <th>claim_id</th>\n",
              "      <th>policy_number</th>\n",
              "      <th>claim_number</th>\n",
              "      <th>sum_insured</th>\n",
              "      <th>product</th>\n",
              "      <th>agent</th>\n",
              "      <th>class_of_business</th>\n",
              "      <th>risk_type</th>\n",
              "      <th>loss_date</th>\n",
              "      <th>client_type</th>\n",
              "      <th>renewal_frequency</th>\n",
              "      <th>primary_cause</th>\n",
              "      <th>secondary_cause</th>\n",
              "      <th>branch</th>\n",
              "      <th>target</th>\n",
              "      <th>product_code</th>\n",
              "      <th>trans_date</th>\n",
              "      <th>from_date</th>\n",
              "      <th>to_date</th>\n",
              "    </tr>\n",
              "  </thead>\n",
              "  <tbody>\n",
              "    <tr>\n",
              "      <th>0</th>\n",
              "      <td>ID_SHWOLB04CA2O</td>\n",
              "      <td>pol000010764</td>\n",
              "      <td>claim0013134</td>\n",
              "      <td>7000.00000</td>\n",
              "      <td>prod00005</td>\n",
              "      <td>ag00044</td>\n",
              "      <td>cob00009</td>\n",
              "      <td>rt00032</td>\n",
              "      <td>2019-04-21</td>\n",
              "      <td>ct0003</td>\n",
              "      <td>rf0002</td>\n",
              "      <td>pc0007</td>\n",
              "      <td>sc00004</td>\n",
              "      <td>br00009</td>\n",
              "      <td>1637.73000</td>\n",
              "      <td>prod00005</td>\n",
              "      <td>2018-09-20 18:08:58.993</td>\n",
              "      <td>2018-09-20 00:00:00.000</td>\n",
              "      <td>2019-05-31 00:00:00.000</td>\n",
              "    </tr>\n",
              "    <tr>\n",
              "      <th>1</th>\n",
              "      <td>ID_TWDB1RP1CGO7</td>\n",
              "      <td>pol000009336</td>\n",
              "      <td>claim0010388</td>\n",
              "      <td>12600.00000</td>\n",
              "      <td>prod00005</td>\n",
              "      <td>ag00226</td>\n",
              "      <td>cob00009</td>\n",
              "      <td>rt00032</td>\n",
              "      <td>2018-12-21</td>\n",
              "      <td>ct0003</td>\n",
              "      <td>rf0001</td>\n",
              "      <td>pc0007</td>\n",
              "      <td>sc00004</td>\n",
              "      <td>br00001</td>\n",
              "      <td>440.00000</td>\n",
              "      <td>prod00005</td>\n",
              "      <td>2018-08-22 13:08:34.247</td>\n",
              "      <td>2018-08-22 00:00:00.000</td>\n",
              "      <td>2018-12-31 00:00:00.000</td>\n",
              "    </tr>\n",
              "  </tbody>\n",
              "</table>\n",
              "</div>\n",
              "      <button class=\"colab-df-convert\" onclick=\"convertToInteractive('df-38bc84a2-b8a1-45e8-b14f-020583e661cd')\"\n",
              "              title=\"Convert this dataframe to an interactive table.\"\n",
              "              style=\"display:none;\">\n",
              "        \n",
              "  <svg xmlns=\"http://www.w3.org/2000/svg\" height=\"24px\"viewBox=\"0 0 24 24\"\n",
              "       width=\"24px\">\n",
              "    <path d=\"M0 0h24v24H0V0z\" fill=\"none\"/>\n",
              "    <path d=\"M18.56 5.44l.94 2.06.94-2.06 2.06-.94-2.06-.94-.94-2.06-.94 2.06-2.06.94zm-11 1L8.5 8.5l.94-2.06 2.06-.94-2.06-.94L8.5 2.5l-.94 2.06-2.06.94zm10 10l.94 2.06.94-2.06 2.06-.94-2.06-.94-.94-2.06-.94 2.06-2.06.94z\"/><path d=\"M17.41 7.96l-1.37-1.37c-.4-.4-.92-.59-1.43-.59-.52 0-1.04.2-1.43.59L10.3 9.45l-7.72 7.72c-.78.78-.78 2.05 0 2.83L4 21.41c.39.39.9.59 1.41.59.51 0 1.02-.2 1.41-.59l7.78-7.78 2.81-2.81c.8-.78.8-2.07 0-2.86zM5.41 20L4 18.59l7.72-7.72 1.47 1.35L5.41 20z\"/>\n",
              "  </svg>\n",
              "      </button>\n",
              "      \n",
              "  <style>\n",
              "    .colab-df-container {\n",
              "      display:flex;\n",
              "      flex-wrap:wrap;\n",
              "      gap: 12px;\n",
              "    }\n",
              "\n",
              "    .colab-df-convert {\n",
              "      background-color: #E8F0FE;\n",
              "      border: none;\n",
              "      border-radius: 50%;\n",
              "      cursor: pointer;\n",
              "      display: none;\n",
              "      fill: #1967D2;\n",
              "      height: 32px;\n",
              "      padding: 0 0 0 0;\n",
              "      width: 32px;\n",
              "    }\n",
              "\n",
              "    .colab-df-convert:hover {\n",
              "      background-color: #E2EBFA;\n",
              "      box-shadow: 0px 1px 2px rgba(60, 64, 67, 0.3), 0px 1px 3px 1px rgba(60, 64, 67, 0.15);\n",
              "      fill: #174EA6;\n",
              "    }\n",
              "\n",
              "    [theme=dark] .colab-df-convert {\n",
              "      background-color: #3B4455;\n",
              "      fill: #D2E3FC;\n",
              "    }\n",
              "\n",
              "    [theme=dark] .colab-df-convert:hover {\n",
              "      background-color: #434B5C;\n",
              "      box-shadow: 0px 1px 3px 1px rgba(0, 0, 0, 0.15);\n",
              "      filter: drop-shadow(0px 1px 2px rgba(0, 0, 0, 0.3));\n",
              "      fill: #FFFFFF;\n",
              "    }\n",
              "  </style>\n",
              "\n",
              "      <script>\n",
              "        const buttonEl =\n",
              "          document.querySelector('#df-38bc84a2-b8a1-45e8-b14f-020583e661cd button.colab-df-convert');\n",
              "        buttonEl.style.display =\n",
              "          google.colab.kernel.accessAllowed ? 'block' : 'none';\n",
              "\n",
              "        async function convertToInteractive(key) {\n",
              "          const element = document.querySelector('#df-38bc84a2-b8a1-45e8-b14f-020583e661cd');\n",
              "          const dataTable =\n",
              "            await google.colab.kernel.invokeFunction('convertToInteractive',\n",
              "                                                     [key], {});\n",
              "          if (!dataTable) return;\n",
              "\n",
              "          const docLinkHtml = 'Like what you see? Visit the ' +\n",
              "            '<a target=\"_blank\" href=https://colab.research.google.com/notebooks/data_table.ipynb>data table notebook</a>'\n",
              "            + ' to learn more about interactive tables.';\n",
              "          element.innerHTML = '';\n",
              "          dataTable['output_type'] = 'display_data';\n",
              "          await google.colab.output.renderOutput(dataTable, element);\n",
              "          const docLink = document.createElement('div');\n",
              "          docLink.innerHTML = docLinkHtml;\n",
              "          element.appendChild(docLink);\n",
              "        }\n",
              "      </script>\n",
              "    </div>\n",
              "  </div>\n",
              "  "
            ]
          },
          "metadata": {},
          "execution_count": 64
        }
      ]
    },
    {
      "cell_type": "code",
      "source": [
        "#Dropping unnecessary columns\n",
        "train_df.drop(['product_code','trans_date', 'from_date', 'to_date'], axis = 1, inplace = True)"
      ],
      "metadata": {
        "id": "82phbX_zaQxC"
      },
      "execution_count": null,
      "outputs": []
    },
    {
      "cell_type": "code",
      "source": [
        "# Convert datetime variables to datetime objects\n",
        "train_df.loss_date = pd.to_datetime(train_df.loss_date, errors='coerce')\n",
        "\n",
        "# Confirm that the dates have been converted successfully \n",
        "train_df.loss_date.describe()"
      ],
      "metadata": {
        "colab": {
          "base_uri": "https://localhost:8080/"
        },
        "id": "NLXe9j1paqfr",
        "outputId": "98941aff-8d1f-4318-da1c-df7b2a389024"
      },
      "execution_count": null,
      "outputs": [
        {
          "output_type": "execute_result",
          "data": {
            "text/plain": [
              "count                    8123\n",
              "unique                    801\n",
              "top       2021-04-15 00:00:00\n",
              "freq                       54\n",
              "first     2018-01-01 00:00:00\n",
              "last      2021-10-13 00:00:00\n",
              "Name: loss_date, dtype: object"
            ]
          },
          "metadata": {},
          "execution_count": 66
        }
      ]
    },
    {
      "cell_type": "code",
      "source": [
        "# Convert categorical variables to categorical objects\n",
        "cat_cols = train_df.columns.difference(['claim_id', 'loss_date', 'sum_insured', 'target']).tolist()\n",
        "\n",
        "# Preview categorical variables\n",
        "train_df[cat_cols].head()"
      ],
      "metadata": {
        "colab": {
          "base_uri": "https://localhost:8080/",
          "height": 270
        },
        "id": "9M5731kTa1mC",
        "outputId": "4a4f2ee0-da42-498a-cf22-48a72ec527db"
      },
      "execution_count": null,
      "outputs": [
        {
          "output_type": "execute_result",
          "data": {
            "text/plain": [
              "     agent   branch  claim_number class_of_business client_type policy_number  \\\n",
              "0  ag00044  br00009  claim0013134          cob00009      ct0003  pol000010764   \n",
              "1  ag00226  br00001  claim0010388          cob00009      ct0003  pol000009336   \n",
              "2  ag00226  br00001  claim0007509          cob00034      ct0001  pol000007786   \n",
              "3  ag00226  br00001  claim0007509          cob00034      ct0001  pol000007786   \n",
              "4  ag00226  br00001  claim0007509          cob00034      ct0001  pol000007786   \n",
              "\n",
              "  primary_cause    product renewal_frequency risk_type secondary_cause  \n",
              "0        pc0007  prod00005            rf0002   rt00032         sc00004  \n",
              "1        pc0007  prod00005            rf0001   rt00032         sc00004  \n",
              "2        pc0007  prod00015            rf0002   rt00023         sc00023  \n",
              "3        pc0007  prod00015            rf0002   rt00023         sc00023  \n",
              "4        pc0007  prod00015            rf0002   rt00023         sc00023  "
            ],
            "text/html": [
              "\n",
              "  <div id=\"df-733c9ba5-16b6-4277-8b6b-d25913f0d373\">\n",
              "    <div class=\"colab-df-container\">\n",
              "      <div>\n",
              "<style scoped>\n",
              "    .dataframe tbody tr th:only-of-type {\n",
              "        vertical-align: middle;\n",
              "    }\n",
              "\n",
              "    .dataframe tbody tr th {\n",
              "        vertical-align: top;\n",
              "    }\n",
              "\n",
              "    .dataframe thead th {\n",
              "        text-align: right;\n",
              "    }\n",
              "</style>\n",
              "<table border=\"1\" class=\"dataframe\">\n",
              "  <thead>\n",
              "    <tr style=\"text-align: right;\">\n",
              "      <th></th>\n",
              "      <th>agent</th>\n",
              "      <th>branch</th>\n",
              "      <th>claim_number</th>\n",
              "      <th>class_of_business</th>\n",
              "      <th>client_type</th>\n",
              "      <th>policy_number</th>\n",
              "      <th>primary_cause</th>\n",
              "      <th>product</th>\n",
              "      <th>renewal_frequency</th>\n",
              "      <th>risk_type</th>\n",
              "      <th>secondary_cause</th>\n",
              "    </tr>\n",
              "  </thead>\n",
              "  <tbody>\n",
              "    <tr>\n",
              "      <th>0</th>\n",
              "      <td>ag00044</td>\n",
              "      <td>br00009</td>\n",
              "      <td>claim0013134</td>\n",
              "      <td>cob00009</td>\n",
              "      <td>ct0003</td>\n",
              "      <td>pol000010764</td>\n",
              "      <td>pc0007</td>\n",
              "      <td>prod00005</td>\n",
              "      <td>rf0002</td>\n",
              "      <td>rt00032</td>\n",
              "      <td>sc00004</td>\n",
              "    </tr>\n",
              "    <tr>\n",
              "      <th>1</th>\n",
              "      <td>ag00226</td>\n",
              "      <td>br00001</td>\n",
              "      <td>claim0010388</td>\n",
              "      <td>cob00009</td>\n",
              "      <td>ct0003</td>\n",
              "      <td>pol000009336</td>\n",
              "      <td>pc0007</td>\n",
              "      <td>prod00005</td>\n",
              "      <td>rf0001</td>\n",
              "      <td>rt00032</td>\n",
              "      <td>sc00004</td>\n",
              "    </tr>\n",
              "    <tr>\n",
              "      <th>2</th>\n",
              "      <td>ag00226</td>\n",
              "      <td>br00001</td>\n",
              "      <td>claim0007509</td>\n",
              "      <td>cob00034</td>\n",
              "      <td>ct0001</td>\n",
              "      <td>pol000007786</td>\n",
              "      <td>pc0007</td>\n",
              "      <td>prod00015</td>\n",
              "      <td>rf0002</td>\n",
              "      <td>rt00023</td>\n",
              "      <td>sc00023</td>\n",
              "    </tr>\n",
              "    <tr>\n",
              "      <th>3</th>\n",
              "      <td>ag00226</td>\n",
              "      <td>br00001</td>\n",
              "      <td>claim0007509</td>\n",
              "      <td>cob00034</td>\n",
              "      <td>ct0001</td>\n",
              "      <td>pol000007786</td>\n",
              "      <td>pc0007</td>\n",
              "      <td>prod00015</td>\n",
              "      <td>rf0002</td>\n",
              "      <td>rt00023</td>\n",
              "      <td>sc00023</td>\n",
              "    </tr>\n",
              "    <tr>\n",
              "      <th>4</th>\n",
              "      <td>ag00226</td>\n",
              "      <td>br00001</td>\n",
              "      <td>claim0007509</td>\n",
              "      <td>cob00034</td>\n",
              "      <td>ct0001</td>\n",
              "      <td>pol000007786</td>\n",
              "      <td>pc0007</td>\n",
              "      <td>prod00015</td>\n",
              "      <td>rf0002</td>\n",
              "      <td>rt00023</td>\n",
              "      <td>sc00023</td>\n",
              "    </tr>\n",
              "  </tbody>\n",
              "</table>\n",
              "</div>\n",
              "      <button class=\"colab-df-convert\" onclick=\"convertToInteractive('df-733c9ba5-16b6-4277-8b6b-d25913f0d373')\"\n",
              "              title=\"Convert this dataframe to an interactive table.\"\n",
              "              style=\"display:none;\">\n",
              "        \n",
              "  <svg xmlns=\"http://www.w3.org/2000/svg\" height=\"24px\"viewBox=\"0 0 24 24\"\n",
              "       width=\"24px\">\n",
              "    <path d=\"M0 0h24v24H0V0z\" fill=\"none\"/>\n",
              "    <path d=\"M18.56 5.44l.94 2.06.94-2.06 2.06-.94-2.06-.94-.94-2.06-.94 2.06-2.06.94zm-11 1L8.5 8.5l.94-2.06 2.06-.94-2.06-.94L8.5 2.5l-.94 2.06-2.06.94zm10 10l.94 2.06.94-2.06 2.06-.94-2.06-.94-.94-2.06-.94 2.06-2.06.94z\"/><path d=\"M17.41 7.96l-1.37-1.37c-.4-.4-.92-.59-1.43-.59-.52 0-1.04.2-1.43.59L10.3 9.45l-7.72 7.72c-.78.78-.78 2.05 0 2.83L4 21.41c.39.39.9.59 1.41.59.51 0 1.02-.2 1.41-.59l7.78-7.78 2.81-2.81c.8-.78.8-2.07 0-2.86zM5.41 20L4 18.59l7.72-7.72 1.47 1.35L5.41 20z\"/>\n",
              "  </svg>\n",
              "      </button>\n",
              "      \n",
              "  <style>\n",
              "    .colab-df-container {\n",
              "      display:flex;\n",
              "      flex-wrap:wrap;\n",
              "      gap: 12px;\n",
              "    }\n",
              "\n",
              "    .colab-df-convert {\n",
              "      background-color: #E8F0FE;\n",
              "      border: none;\n",
              "      border-radius: 50%;\n",
              "      cursor: pointer;\n",
              "      display: none;\n",
              "      fill: #1967D2;\n",
              "      height: 32px;\n",
              "      padding: 0 0 0 0;\n",
              "      width: 32px;\n",
              "    }\n",
              "\n",
              "    .colab-df-convert:hover {\n",
              "      background-color: #E2EBFA;\n",
              "      box-shadow: 0px 1px 2px rgba(60, 64, 67, 0.3), 0px 1px 3px 1px rgba(60, 64, 67, 0.15);\n",
              "      fill: #174EA6;\n",
              "    }\n",
              "\n",
              "    [theme=dark] .colab-df-convert {\n",
              "      background-color: #3B4455;\n",
              "      fill: #D2E3FC;\n",
              "    }\n",
              "\n",
              "    [theme=dark] .colab-df-convert:hover {\n",
              "      background-color: #434B5C;\n",
              "      box-shadow: 0px 1px 3px 1px rgba(0, 0, 0, 0.15);\n",
              "      filter: drop-shadow(0px 1px 2px rgba(0, 0, 0, 0.3));\n",
              "      fill: #FFFFFF;\n",
              "    }\n",
              "  </style>\n",
              "\n",
              "      <script>\n",
              "        const buttonEl =\n",
              "          document.querySelector('#df-733c9ba5-16b6-4277-8b6b-d25913f0d373 button.colab-df-convert');\n",
              "        buttonEl.style.display =\n",
              "          google.colab.kernel.accessAllowed ? 'block' : 'none';\n",
              "\n",
              "        async function convertToInteractive(key) {\n",
              "          const element = document.querySelector('#df-733c9ba5-16b6-4277-8b6b-d25913f0d373');\n",
              "          const dataTable =\n",
              "            await google.colab.kernel.invokeFunction('convertToInteractive',\n",
              "                                                     [key], {});\n",
              "          if (!dataTable) return;\n",
              "\n",
              "          const docLinkHtml = 'Like what you see? Visit the ' +\n",
              "            '<a target=\"_blank\" href=https://colab.research.google.com/notebooks/data_table.ipynb>data table notebook</a>'\n",
              "            + ' to learn more about interactive tables.';\n",
              "          element.innerHTML = '';\n",
              "          dataTable['output_type'] = 'display_data';\n",
              "          await google.colab.output.renderOutput(dataTable, element);\n",
              "          const docLink = document.createElement('div');\n",
              "          docLink.innerHTML = docLinkHtml;\n",
              "          element.appendChild(docLink);\n",
              "        }\n",
              "      </script>\n",
              "    </div>\n",
              "  </div>\n",
              "  "
            ]
          },
          "metadata": {},
          "execution_count": 68
        }
      ]
    },
    {
      "cell_type": "code",
      "source": [
        "# Fill in missing values in categorical variables with the most common\n",
        "train_df[cat_cols] = train_df[cat_cols].apply(lambda x: x.fillna(x.value_counts().index[0]))\n",
        "\n",
        "# Convert\n",
        "for col in cat_cols:\n",
        "  train_df[col] = train_df[col].astype('category')\n",
        "\n",
        "# Confirm\n",
        "train_df.info()"
      ],
      "metadata": {
        "colab": {
          "base_uri": "https://localhost:8080/"
        },
        "id": "MrX1Buo7bflt",
        "outputId": "c0fa0d29-966e-411a-8516-445d1dcaa766"
      },
      "execution_count": null,
      "outputs": [
        {
          "output_type": "stream",
          "name": "stdout",
          "text": [
            "<class 'pandas.core.frame.DataFrame'>\n",
            "Int64Index: 8123 entries, 0 to 9813\n",
            "Data columns (total 15 columns):\n",
            " #   Column             Non-Null Count  Dtype         \n",
            "---  ------             --------------  -----         \n",
            " 0   claim_id           8123 non-null   object        \n",
            " 1   policy_number      8123 non-null   category      \n",
            " 2   claim_number       8123 non-null   category      \n",
            " 3   sum_insured        8123 non-null   float64       \n",
            " 4   product            8123 non-null   category      \n",
            " 5   agent              8123 non-null   category      \n",
            " 6   class_of_business  8123 non-null   category      \n",
            " 7   risk_type          8123 non-null   category      \n",
            " 8   loss_date          8123 non-null   datetime64[ns]\n",
            " 9   client_type        8123 non-null   category      \n",
            " 10  renewal_frequency  8123 non-null   category      \n",
            " 11  primary_cause      8123 non-null   category      \n",
            " 12  secondary_cause    8123 non-null   category      \n",
            " 13  branch             8123 non-null   category      \n",
            " 14  target             8123 non-null   float64       \n",
            "dtypes: category(11), datetime64[ns](1), float64(2), object(1)\n",
            "memory usage: 801.1+ KB\n"
          ]
        }
      ]
    },
    {
      "cell_type": "code",
      "source": [
        "# Extract day, month and year from the loss date column\n",
        "# day\n",
        "train_df['loss_date_day'] = train_df.loss_date.dt.day\n",
        "\n",
        "# month\n",
        "train_df['loss_date_month'] = train_df.loss_date.dt.month\n",
        " \n",
        "# year\n",
        "train_df['loss_date_year'] = train_df.loss_date.dt.year\n",
        "\n",
        "# Preview engineered date features\n",
        "train_df[['loss_date', 'loss_date_day', 'loss_date_month', 'loss_date_year']].head()"
      ],
      "metadata": {
        "colab": {
          "base_uri": "https://localhost:8080/",
          "height": 206
        },
        "id": "aZ6eilrXcMGg",
        "outputId": "d0581246-2a25-417d-a66a-0972d5e0ca16"
      },
      "execution_count": null,
      "outputs": [
        {
          "output_type": "execute_result",
          "data": {
            "text/plain": [
              "   loss_date  loss_date_day  loss_date_month  loss_date_year\n",
              "0 2019-04-21             21                4            2019\n",
              "1 2018-12-21             21               12            2018\n",
              "2 2018-10-31             31               10            2018\n",
              "3 2018-10-31             31               10            2018\n",
              "4 2018-10-31             31               10            2018"
            ],
            "text/html": [
              "\n",
              "  <div id=\"df-c8880474-c09a-4b57-b0d3-fbcd612351f6\">\n",
              "    <div class=\"colab-df-container\">\n",
              "      <div>\n",
              "<style scoped>\n",
              "    .dataframe tbody tr th:only-of-type {\n",
              "        vertical-align: middle;\n",
              "    }\n",
              "\n",
              "    .dataframe tbody tr th {\n",
              "        vertical-align: top;\n",
              "    }\n",
              "\n",
              "    .dataframe thead th {\n",
              "        text-align: right;\n",
              "    }\n",
              "</style>\n",
              "<table border=\"1\" class=\"dataframe\">\n",
              "  <thead>\n",
              "    <tr style=\"text-align: right;\">\n",
              "      <th></th>\n",
              "      <th>loss_date</th>\n",
              "      <th>loss_date_day</th>\n",
              "      <th>loss_date_month</th>\n",
              "      <th>loss_date_year</th>\n",
              "    </tr>\n",
              "  </thead>\n",
              "  <tbody>\n",
              "    <tr>\n",
              "      <th>0</th>\n",
              "      <td>2019-04-21</td>\n",
              "      <td>21</td>\n",
              "      <td>4</td>\n",
              "      <td>2019</td>\n",
              "    </tr>\n",
              "    <tr>\n",
              "      <th>1</th>\n",
              "      <td>2018-12-21</td>\n",
              "      <td>21</td>\n",
              "      <td>12</td>\n",
              "      <td>2018</td>\n",
              "    </tr>\n",
              "    <tr>\n",
              "      <th>2</th>\n",
              "      <td>2018-10-31</td>\n",
              "      <td>31</td>\n",
              "      <td>10</td>\n",
              "      <td>2018</td>\n",
              "    </tr>\n",
              "    <tr>\n",
              "      <th>3</th>\n",
              "      <td>2018-10-31</td>\n",
              "      <td>31</td>\n",
              "      <td>10</td>\n",
              "      <td>2018</td>\n",
              "    </tr>\n",
              "    <tr>\n",
              "      <th>4</th>\n",
              "      <td>2018-10-31</td>\n",
              "      <td>31</td>\n",
              "      <td>10</td>\n",
              "      <td>2018</td>\n",
              "    </tr>\n",
              "  </tbody>\n",
              "</table>\n",
              "</div>\n",
              "      <button class=\"colab-df-convert\" onclick=\"convertToInteractive('df-c8880474-c09a-4b57-b0d3-fbcd612351f6')\"\n",
              "              title=\"Convert this dataframe to an interactive table.\"\n",
              "              style=\"display:none;\">\n",
              "        \n",
              "  <svg xmlns=\"http://www.w3.org/2000/svg\" height=\"24px\"viewBox=\"0 0 24 24\"\n",
              "       width=\"24px\">\n",
              "    <path d=\"M0 0h24v24H0V0z\" fill=\"none\"/>\n",
              "    <path d=\"M18.56 5.44l.94 2.06.94-2.06 2.06-.94-2.06-.94-.94-2.06-.94 2.06-2.06.94zm-11 1L8.5 8.5l.94-2.06 2.06-.94-2.06-.94L8.5 2.5l-.94 2.06-2.06.94zm10 10l.94 2.06.94-2.06 2.06-.94-2.06-.94-.94-2.06-.94 2.06-2.06.94z\"/><path d=\"M17.41 7.96l-1.37-1.37c-.4-.4-.92-.59-1.43-.59-.52 0-1.04.2-1.43.59L10.3 9.45l-7.72 7.72c-.78.78-.78 2.05 0 2.83L4 21.41c.39.39.9.59 1.41.59.51 0 1.02-.2 1.41-.59l7.78-7.78 2.81-2.81c.8-.78.8-2.07 0-2.86zM5.41 20L4 18.59l7.72-7.72 1.47 1.35L5.41 20z\"/>\n",
              "  </svg>\n",
              "      </button>\n",
              "      \n",
              "  <style>\n",
              "    .colab-df-container {\n",
              "      display:flex;\n",
              "      flex-wrap:wrap;\n",
              "      gap: 12px;\n",
              "    }\n",
              "\n",
              "    .colab-df-convert {\n",
              "      background-color: #E8F0FE;\n",
              "      border: none;\n",
              "      border-radius: 50%;\n",
              "      cursor: pointer;\n",
              "      display: none;\n",
              "      fill: #1967D2;\n",
              "      height: 32px;\n",
              "      padding: 0 0 0 0;\n",
              "      width: 32px;\n",
              "    }\n",
              "\n",
              "    .colab-df-convert:hover {\n",
              "      background-color: #E2EBFA;\n",
              "      box-shadow: 0px 1px 2px rgba(60, 64, 67, 0.3), 0px 1px 3px 1px rgba(60, 64, 67, 0.15);\n",
              "      fill: #174EA6;\n",
              "    }\n",
              "\n",
              "    [theme=dark] .colab-df-convert {\n",
              "      background-color: #3B4455;\n",
              "      fill: #D2E3FC;\n",
              "    }\n",
              "\n",
              "    [theme=dark] .colab-df-convert:hover {\n",
              "      background-color: #434B5C;\n",
              "      box-shadow: 0px 1px 3px 1px rgba(0, 0, 0, 0.15);\n",
              "      filter: drop-shadow(0px 1px 2px rgba(0, 0, 0, 0.3));\n",
              "      fill: #FFFFFF;\n",
              "    }\n",
              "  </style>\n",
              "\n",
              "      <script>\n",
              "        const buttonEl =\n",
              "          document.querySelector('#df-c8880474-c09a-4b57-b0d3-fbcd612351f6 button.colab-df-convert');\n",
              "        buttonEl.style.display =\n",
              "          google.colab.kernel.accessAllowed ? 'block' : 'none';\n",
              "\n",
              "        async function convertToInteractive(key) {\n",
              "          const element = document.querySelector('#df-c8880474-c09a-4b57-b0d3-fbcd612351f6');\n",
              "          const dataTable =\n",
              "            await google.colab.kernel.invokeFunction('convertToInteractive',\n",
              "                                                     [key], {});\n",
              "          if (!dataTable) return;\n",
              "\n",
              "          const docLinkHtml = 'Like what you see? Visit the ' +\n",
              "            '<a target=\"_blank\" href=https://colab.research.google.com/notebooks/data_table.ipynb>data table notebook</a>'\n",
              "            + ' to learn more about interactive tables.';\n",
              "          element.innerHTML = '';\n",
              "          dataTable['output_type'] = 'display_data';\n",
              "          await google.colab.output.renderOutput(dataTable, element);\n",
              "          const docLink = document.createElement('div');\n",
              "          docLink.innerHTML = docLinkHtml;\n",
              "          element.appendChild(docLink);\n",
              "        }\n",
              "      </script>\n",
              "    </div>\n",
              "  </div>\n",
              "  "
            ]
          },
          "metadata": {},
          "execution_count": 70
        }
      ]
    },
    {
      "cell_type": "code",
      "source": [
        "# Label encode categorical variables\n",
        "for col in cat_cols:\n",
        "  # Instantiate Labelencoder\n",
        "  le = LabelEncoder()\n",
        "  train_df[col] = le.fit_transform(train_df[col])\n",
        "\n",
        "# Preview engineered train dataset\n",
        "train_df.head()"
      ],
      "metadata": {
        "colab": {
          "base_uri": "https://localhost:8080/",
          "height": 357
        },
        "id": "w2_s_pp1dS_l",
        "outputId": "f21be299-db04-4ede-f071-841f8f747601"
      },
      "execution_count": null,
      "outputs": [
        {
          "output_type": "execute_result",
          "data": {
            "text/plain": [
              "          claim_id  policy_number  claim_number  sum_insured  product  agent  \\\n",
              "0  ID_SHWOLB04CA2O            860          1439   7000.00000        2      2   \n",
              "1  ID_TWDB1RP1CGO7            645          1110  12600.00000        2      7   \n",
              "2  ID_5O1OQUH5JZOK            199           418   8000.00000        9      7   \n",
              "3  ID_5O1OQUH5JZOK            199           418   8000.00000        9      7   \n",
              "4  ID_5O1OQUH5JZOK            199           418   8000.00000        9      7   \n",
              "\n",
              "   class_of_business  risk_type  loss_date  client_type  renewal_frequency  \\\n",
              "0                  6         20 2019-04-21            2                  1   \n",
              "1                  6         20 2018-12-21            2                  0   \n",
              "2                 19         14 2018-10-31            0                  1   \n",
              "3                 19         14 2018-10-31            0                  1   \n",
              "4                 19         14 2018-10-31            0                  1   \n",
              "\n",
              "   primary_cause  secondary_cause  branch      target  loss_date_day  \\\n",
              "0              5                2       7  1637.73000             21   \n",
              "1              5                2       0   440.00000             21   \n",
              "2              5               17       0 29367.09000             31   \n",
              "3              5               17       0 29367.09000             31   \n",
              "4              5               17       0 29367.09000             31   \n",
              "\n",
              "   loss_date_month  loss_date_year  \n",
              "0                4            2019  \n",
              "1               12            2018  \n",
              "2               10            2018  \n",
              "3               10            2018  \n",
              "4               10            2018  "
            ],
            "text/html": [
              "\n",
              "  <div id=\"df-624d6ed5-40bc-45bd-a595-087d174e6dbd\">\n",
              "    <div class=\"colab-df-container\">\n",
              "      <div>\n",
              "<style scoped>\n",
              "    .dataframe tbody tr th:only-of-type {\n",
              "        vertical-align: middle;\n",
              "    }\n",
              "\n",
              "    .dataframe tbody tr th {\n",
              "        vertical-align: top;\n",
              "    }\n",
              "\n",
              "    .dataframe thead th {\n",
              "        text-align: right;\n",
              "    }\n",
              "</style>\n",
              "<table border=\"1\" class=\"dataframe\">\n",
              "  <thead>\n",
              "    <tr style=\"text-align: right;\">\n",
              "      <th></th>\n",
              "      <th>claim_id</th>\n",
              "      <th>policy_number</th>\n",
              "      <th>claim_number</th>\n",
              "      <th>sum_insured</th>\n",
              "      <th>product</th>\n",
              "      <th>agent</th>\n",
              "      <th>class_of_business</th>\n",
              "      <th>risk_type</th>\n",
              "      <th>loss_date</th>\n",
              "      <th>client_type</th>\n",
              "      <th>renewal_frequency</th>\n",
              "      <th>primary_cause</th>\n",
              "      <th>secondary_cause</th>\n",
              "      <th>branch</th>\n",
              "      <th>target</th>\n",
              "      <th>loss_date_day</th>\n",
              "      <th>loss_date_month</th>\n",
              "      <th>loss_date_year</th>\n",
              "    </tr>\n",
              "  </thead>\n",
              "  <tbody>\n",
              "    <tr>\n",
              "      <th>0</th>\n",
              "      <td>ID_SHWOLB04CA2O</td>\n",
              "      <td>860</td>\n",
              "      <td>1439</td>\n",
              "      <td>7000.00000</td>\n",
              "      <td>2</td>\n",
              "      <td>2</td>\n",
              "      <td>6</td>\n",
              "      <td>20</td>\n",
              "      <td>2019-04-21</td>\n",
              "      <td>2</td>\n",
              "      <td>1</td>\n",
              "      <td>5</td>\n",
              "      <td>2</td>\n",
              "      <td>7</td>\n",
              "      <td>1637.73000</td>\n",
              "      <td>21</td>\n",
              "      <td>4</td>\n",
              "      <td>2019</td>\n",
              "    </tr>\n",
              "    <tr>\n",
              "      <th>1</th>\n",
              "      <td>ID_TWDB1RP1CGO7</td>\n",
              "      <td>645</td>\n",
              "      <td>1110</td>\n",
              "      <td>12600.00000</td>\n",
              "      <td>2</td>\n",
              "      <td>7</td>\n",
              "      <td>6</td>\n",
              "      <td>20</td>\n",
              "      <td>2018-12-21</td>\n",
              "      <td>2</td>\n",
              "      <td>0</td>\n",
              "      <td>5</td>\n",
              "      <td>2</td>\n",
              "      <td>0</td>\n",
              "      <td>440.00000</td>\n",
              "      <td>21</td>\n",
              "      <td>12</td>\n",
              "      <td>2018</td>\n",
              "    </tr>\n",
              "    <tr>\n",
              "      <th>2</th>\n",
              "      <td>ID_5O1OQUH5JZOK</td>\n",
              "      <td>199</td>\n",
              "      <td>418</td>\n",
              "      <td>8000.00000</td>\n",
              "      <td>9</td>\n",
              "      <td>7</td>\n",
              "      <td>19</td>\n",
              "      <td>14</td>\n",
              "      <td>2018-10-31</td>\n",
              "      <td>0</td>\n",
              "      <td>1</td>\n",
              "      <td>5</td>\n",
              "      <td>17</td>\n",
              "      <td>0</td>\n",
              "      <td>29367.09000</td>\n",
              "      <td>31</td>\n",
              "      <td>10</td>\n",
              "      <td>2018</td>\n",
              "    </tr>\n",
              "    <tr>\n",
              "      <th>3</th>\n",
              "      <td>ID_5O1OQUH5JZOK</td>\n",
              "      <td>199</td>\n",
              "      <td>418</td>\n",
              "      <td>8000.00000</td>\n",
              "      <td>9</td>\n",
              "      <td>7</td>\n",
              "      <td>19</td>\n",
              "      <td>14</td>\n",
              "      <td>2018-10-31</td>\n",
              "      <td>0</td>\n",
              "      <td>1</td>\n",
              "      <td>5</td>\n",
              "      <td>17</td>\n",
              "      <td>0</td>\n",
              "      <td>29367.09000</td>\n",
              "      <td>31</td>\n",
              "      <td>10</td>\n",
              "      <td>2018</td>\n",
              "    </tr>\n",
              "    <tr>\n",
              "      <th>4</th>\n",
              "      <td>ID_5O1OQUH5JZOK</td>\n",
              "      <td>199</td>\n",
              "      <td>418</td>\n",
              "      <td>8000.00000</td>\n",
              "      <td>9</td>\n",
              "      <td>7</td>\n",
              "      <td>19</td>\n",
              "      <td>14</td>\n",
              "      <td>2018-10-31</td>\n",
              "      <td>0</td>\n",
              "      <td>1</td>\n",
              "      <td>5</td>\n",
              "      <td>17</td>\n",
              "      <td>0</td>\n",
              "      <td>29367.09000</td>\n",
              "      <td>31</td>\n",
              "      <td>10</td>\n",
              "      <td>2018</td>\n",
              "    </tr>\n",
              "  </tbody>\n",
              "</table>\n",
              "</div>\n",
              "      <button class=\"colab-df-convert\" onclick=\"convertToInteractive('df-624d6ed5-40bc-45bd-a595-087d174e6dbd')\"\n",
              "              title=\"Convert this dataframe to an interactive table.\"\n",
              "              style=\"display:none;\">\n",
              "        \n",
              "  <svg xmlns=\"http://www.w3.org/2000/svg\" height=\"24px\"viewBox=\"0 0 24 24\"\n",
              "       width=\"24px\">\n",
              "    <path d=\"M0 0h24v24H0V0z\" fill=\"none\"/>\n",
              "    <path d=\"M18.56 5.44l.94 2.06.94-2.06 2.06-.94-2.06-.94-.94-2.06-.94 2.06-2.06.94zm-11 1L8.5 8.5l.94-2.06 2.06-.94-2.06-.94L8.5 2.5l-.94 2.06-2.06.94zm10 10l.94 2.06.94-2.06 2.06-.94-2.06-.94-.94-2.06-.94 2.06-2.06.94z\"/><path d=\"M17.41 7.96l-1.37-1.37c-.4-.4-.92-.59-1.43-.59-.52 0-1.04.2-1.43.59L10.3 9.45l-7.72 7.72c-.78.78-.78 2.05 0 2.83L4 21.41c.39.39.9.59 1.41.59.51 0 1.02-.2 1.41-.59l7.78-7.78 2.81-2.81c.8-.78.8-2.07 0-2.86zM5.41 20L4 18.59l7.72-7.72 1.47 1.35L5.41 20z\"/>\n",
              "  </svg>\n",
              "      </button>\n",
              "      \n",
              "  <style>\n",
              "    .colab-df-container {\n",
              "      display:flex;\n",
              "      flex-wrap:wrap;\n",
              "      gap: 12px;\n",
              "    }\n",
              "\n",
              "    .colab-df-convert {\n",
              "      background-color: #E8F0FE;\n",
              "      border: none;\n",
              "      border-radius: 50%;\n",
              "      cursor: pointer;\n",
              "      display: none;\n",
              "      fill: #1967D2;\n",
              "      height: 32px;\n",
              "      padding: 0 0 0 0;\n",
              "      width: 32px;\n",
              "    }\n",
              "\n",
              "    .colab-df-convert:hover {\n",
              "      background-color: #E2EBFA;\n",
              "      box-shadow: 0px 1px 2px rgba(60, 64, 67, 0.3), 0px 1px 3px 1px rgba(60, 64, 67, 0.15);\n",
              "      fill: #174EA6;\n",
              "    }\n",
              "\n",
              "    [theme=dark] .colab-df-convert {\n",
              "      background-color: #3B4455;\n",
              "      fill: #D2E3FC;\n",
              "    }\n",
              "\n",
              "    [theme=dark] .colab-df-convert:hover {\n",
              "      background-color: #434B5C;\n",
              "      box-shadow: 0px 1px 3px 1px rgba(0, 0, 0, 0.15);\n",
              "      filter: drop-shadow(0px 1px 2px rgba(0, 0, 0, 0.3));\n",
              "      fill: #FFFFFF;\n",
              "    }\n",
              "  </style>\n",
              "\n",
              "      <script>\n",
              "        const buttonEl =\n",
              "          document.querySelector('#df-624d6ed5-40bc-45bd-a595-087d174e6dbd button.colab-df-convert');\n",
              "        buttonEl.style.display =\n",
              "          google.colab.kernel.accessAllowed ? 'block' : 'none';\n",
              "\n",
              "        async function convertToInteractive(key) {\n",
              "          const element = document.querySelector('#df-624d6ed5-40bc-45bd-a595-087d174e6dbd');\n",
              "          const dataTable =\n",
              "            await google.colab.kernel.invokeFunction('convertToInteractive',\n",
              "                                                     [key], {});\n",
              "          if (!dataTable) return;\n",
              "\n",
              "          const docLinkHtml = 'Like what you see? Visit the ' +\n",
              "            '<a target=\"_blank\" href=https://colab.research.google.com/notebooks/data_table.ipynb>data table notebook</a>'\n",
              "            + ' to learn more about interactive tables.';\n",
              "          element.innerHTML = '';\n",
              "          dataTable['output_type'] = 'display_data';\n",
              "          await google.colab.output.renderOutput(dataTable, element);\n",
              "          const docLink = document.createElement('div');\n",
              "          docLink.innerHTML = docLinkHtml;\n",
              "          element.appendChild(docLink);\n",
              "        }\n",
              "      </script>\n",
              "    </div>\n",
              "  </div>\n",
              "  "
            ]
          },
          "metadata": {},
          "execution_count": 71
        }
      ]
    },
    {
      "cell_type": "markdown",
      "source": [
        "##  Preprocess test dataset"
      ],
      "metadata": {
        "id": "ojuFPrKed1Id"
      }
    },
    {
      "cell_type": "code",
      "source": [
        "# Convert datetime variables to datetime objects\n",
        "test.loss_date = pd.to_datetime(test.loss_date, errors='coerce')\n",
        "\n",
        "# Fill in missing values in categorical variables with the most common\n",
        "test[cat_cols] = test[cat_cols].apply(lambda x: x.fillna(x.value_counts().index[0]))\n",
        "\n",
        "# Convert\n",
        "for col in cat_cols:\n",
        "  test[col] = test[col].astype('category')\n",
        "\n",
        "# Extract day, month and year from the loss date column\n",
        "test['loss_date_day'] = test.loss_date.dt.day #day\n",
        "\n",
        "test['loss_date_month'] = test.loss_date.dt.month #month\n",
        " \n",
        "test['loss_date_year'] = test.loss_date.dt.year #year\n",
        "\n",
        "# Label encode categorical variables\n",
        "for col in cat_cols:\n",
        "  # Instantiate Labelencoder\n",
        "  le = LabelEncoder()\n",
        "  test[col] = le.fit_transform(test[col])\n",
        "\n",
        "# Preview engineered test dataset\n",
        "test.head()"
      ],
      "metadata": {
        "colab": {
          "base_uri": "https://localhost:8080/",
          "height": 357
        },
        "id": "QKFX6kYLdtG6",
        "outputId": "8568ffc2-64b4-4df0-d820-81179f073e62"
      },
      "execution_count": null,
      "outputs": [
        {
          "output_type": "execute_result",
          "data": {
            "text/plain": [
              "          claim_id  policy_number  claim_number   sum_insured  product  agent  \\\n",
              "0  ID_4RO0KZI9BBW2            739          1667  300000.00000        4      4   \n",
              "1  ID_GTE9ZUJ9GZ97            312           883 2700000.00000       12      3   \n",
              "2  ID_RUVIYRKWZ4RG            917          1895 4071352.00000       10      0   \n",
              "3  ID_J81X8SWU6JYN           2081          3852       0.00000        1      1   \n",
              "4  ID_94NM3JJAWWOQ            257           507 1607178.00000       12      1   \n",
              "\n",
              "   class_of_business  risk_type  loss_date  client_type  renewal_frequency  \\\n",
              "0                  8         29 2021-03-11            2                  0   \n",
              "1                 28         20 2020-06-25            0                  2   \n",
              "2                 14         14 2019-03-14            0                  0   \n",
              "3                  1          1 2018-12-04            0                  1   \n",
              "4                 28         20 2019-09-18            0                  2   \n",
              "\n",
              "   primary_cause  secondary_cause  branch  loss_date_day  loss_date_month  \\\n",
              "0              6               26       3             11                3   \n",
              "1              6               20       1             25                6   \n",
              "2              9               43       0             14                3   \n",
              "3              1               10       4              4               12   \n",
              "4              6               20       1             18                9   \n",
              "\n",
              "   loss_date_year  \n",
              "0            2021  \n",
              "1            2020  \n",
              "2            2019  \n",
              "3            2018  \n",
              "4            2019  "
            ],
            "text/html": [
              "\n",
              "  <div id=\"df-24482bc9-2f56-447e-903f-78798e782ed1\">\n",
              "    <div class=\"colab-df-container\">\n",
              "      <div>\n",
              "<style scoped>\n",
              "    .dataframe tbody tr th:only-of-type {\n",
              "        vertical-align: middle;\n",
              "    }\n",
              "\n",
              "    .dataframe tbody tr th {\n",
              "        vertical-align: top;\n",
              "    }\n",
              "\n",
              "    .dataframe thead th {\n",
              "        text-align: right;\n",
              "    }\n",
              "</style>\n",
              "<table border=\"1\" class=\"dataframe\">\n",
              "  <thead>\n",
              "    <tr style=\"text-align: right;\">\n",
              "      <th></th>\n",
              "      <th>claim_id</th>\n",
              "      <th>policy_number</th>\n",
              "      <th>claim_number</th>\n",
              "      <th>sum_insured</th>\n",
              "      <th>product</th>\n",
              "      <th>agent</th>\n",
              "      <th>class_of_business</th>\n",
              "      <th>risk_type</th>\n",
              "      <th>loss_date</th>\n",
              "      <th>client_type</th>\n",
              "      <th>renewal_frequency</th>\n",
              "      <th>primary_cause</th>\n",
              "      <th>secondary_cause</th>\n",
              "      <th>branch</th>\n",
              "      <th>loss_date_day</th>\n",
              "      <th>loss_date_month</th>\n",
              "      <th>loss_date_year</th>\n",
              "    </tr>\n",
              "  </thead>\n",
              "  <tbody>\n",
              "    <tr>\n",
              "      <th>0</th>\n",
              "      <td>ID_4RO0KZI9BBW2</td>\n",
              "      <td>739</td>\n",
              "      <td>1667</td>\n",
              "      <td>300000.00000</td>\n",
              "      <td>4</td>\n",
              "      <td>4</td>\n",
              "      <td>8</td>\n",
              "      <td>29</td>\n",
              "      <td>2021-03-11</td>\n",
              "      <td>2</td>\n",
              "      <td>0</td>\n",
              "      <td>6</td>\n",
              "      <td>26</td>\n",
              "      <td>3</td>\n",
              "      <td>11</td>\n",
              "      <td>3</td>\n",
              "      <td>2021</td>\n",
              "    </tr>\n",
              "    <tr>\n",
              "      <th>1</th>\n",
              "      <td>ID_GTE9ZUJ9GZ97</td>\n",
              "      <td>312</td>\n",
              "      <td>883</td>\n",
              "      <td>2700000.00000</td>\n",
              "      <td>12</td>\n",
              "      <td>3</td>\n",
              "      <td>28</td>\n",
              "      <td>20</td>\n",
              "      <td>2020-06-25</td>\n",
              "      <td>0</td>\n",
              "      <td>2</td>\n",
              "      <td>6</td>\n",
              "      <td>20</td>\n",
              "      <td>1</td>\n",
              "      <td>25</td>\n",
              "      <td>6</td>\n",
              "      <td>2020</td>\n",
              "    </tr>\n",
              "    <tr>\n",
              "      <th>2</th>\n",
              "      <td>ID_RUVIYRKWZ4RG</td>\n",
              "      <td>917</td>\n",
              "      <td>1895</td>\n",
              "      <td>4071352.00000</td>\n",
              "      <td>10</td>\n",
              "      <td>0</td>\n",
              "      <td>14</td>\n",
              "      <td>14</td>\n",
              "      <td>2019-03-14</td>\n",
              "      <td>0</td>\n",
              "      <td>0</td>\n",
              "      <td>9</td>\n",
              "      <td>43</td>\n",
              "      <td>0</td>\n",
              "      <td>14</td>\n",
              "      <td>3</td>\n",
              "      <td>2019</td>\n",
              "    </tr>\n",
              "    <tr>\n",
              "      <th>3</th>\n",
              "      <td>ID_J81X8SWU6JYN</td>\n",
              "      <td>2081</td>\n",
              "      <td>3852</td>\n",
              "      <td>0.00000</td>\n",
              "      <td>1</td>\n",
              "      <td>1</td>\n",
              "      <td>1</td>\n",
              "      <td>1</td>\n",
              "      <td>2018-12-04</td>\n",
              "      <td>0</td>\n",
              "      <td>1</td>\n",
              "      <td>1</td>\n",
              "      <td>10</td>\n",
              "      <td>4</td>\n",
              "      <td>4</td>\n",
              "      <td>12</td>\n",
              "      <td>2018</td>\n",
              "    </tr>\n",
              "    <tr>\n",
              "      <th>4</th>\n",
              "      <td>ID_94NM3JJAWWOQ</td>\n",
              "      <td>257</td>\n",
              "      <td>507</td>\n",
              "      <td>1607178.00000</td>\n",
              "      <td>12</td>\n",
              "      <td>1</td>\n",
              "      <td>28</td>\n",
              "      <td>20</td>\n",
              "      <td>2019-09-18</td>\n",
              "      <td>0</td>\n",
              "      <td>2</td>\n",
              "      <td>6</td>\n",
              "      <td>20</td>\n",
              "      <td>1</td>\n",
              "      <td>18</td>\n",
              "      <td>9</td>\n",
              "      <td>2019</td>\n",
              "    </tr>\n",
              "  </tbody>\n",
              "</table>\n",
              "</div>\n",
              "      <button class=\"colab-df-convert\" onclick=\"convertToInteractive('df-24482bc9-2f56-447e-903f-78798e782ed1')\"\n",
              "              title=\"Convert this dataframe to an interactive table.\"\n",
              "              style=\"display:none;\">\n",
              "        \n",
              "  <svg xmlns=\"http://www.w3.org/2000/svg\" height=\"24px\"viewBox=\"0 0 24 24\"\n",
              "       width=\"24px\">\n",
              "    <path d=\"M0 0h24v24H0V0z\" fill=\"none\"/>\n",
              "    <path d=\"M18.56 5.44l.94 2.06.94-2.06 2.06-.94-2.06-.94-.94-2.06-.94 2.06-2.06.94zm-11 1L8.5 8.5l.94-2.06 2.06-.94-2.06-.94L8.5 2.5l-.94 2.06-2.06.94zm10 10l.94 2.06.94-2.06 2.06-.94-2.06-.94-.94-2.06-.94 2.06-2.06.94z\"/><path d=\"M17.41 7.96l-1.37-1.37c-.4-.4-.92-.59-1.43-.59-.52 0-1.04.2-1.43.59L10.3 9.45l-7.72 7.72c-.78.78-.78 2.05 0 2.83L4 21.41c.39.39.9.59 1.41.59.51 0 1.02-.2 1.41-.59l7.78-7.78 2.81-2.81c.8-.78.8-2.07 0-2.86zM5.41 20L4 18.59l7.72-7.72 1.47 1.35L5.41 20z\"/>\n",
              "  </svg>\n",
              "      </button>\n",
              "      \n",
              "  <style>\n",
              "    .colab-df-container {\n",
              "      display:flex;\n",
              "      flex-wrap:wrap;\n",
              "      gap: 12px;\n",
              "    }\n",
              "\n",
              "    .colab-df-convert {\n",
              "      background-color: #E8F0FE;\n",
              "      border: none;\n",
              "      border-radius: 50%;\n",
              "      cursor: pointer;\n",
              "      display: none;\n",
              "      fill: #1967D2;\n",
              "      height: 32px;\n",
              "      padding: 0 0 0 0;\n",
              "      width: 32px;\n",
              "    }\n",
              "\n",
              "    .colab-df-convert:hover {\n",
              "      background-color: #E2EBFA;\n",
              "      box-shadow: 0px 1px 2px rgba(60, 64, 67, 0.3), 0px 1px 3px 1px rgba(60, 64, 67, 0.15);\n",
              "      fill: #174EA6;\n",
              "    }\n",
              "\n",
              "    [theme=dark] .colab-df-convert {\n",
              "      background-color: #3B4455;\n",
              "      fill: #D2E3FC;\n",
              "    }\n",
              "\n",
              "    [theme=dark] .colab-df-convert:hover {\n",
              "      background-color: #434B5C;\n",
              "      box-shadow: 0px 1px 3px 1px rgba(0, 0, 0, 0.15);\n",
              "      filter: drop-shadow(0px 1px 2px rgba(0, 0, 0, 0.3));\n",
              "      fill: #FFFFFF;\n",
              "    }\n",
              "  </style>\n",
              "\n",
              "      <script>\n",
              "        const buttonEl =\n",
              "          document.querySelector('#df-24482bc9-2f56-447e-903f-78798e782ed1 button.colab-df-convert');\n",
              "        buttonEl.style.display =\n",
              "          google.colab.kernel.accessAllowed ? 'block' : 'none';\n",
              "\n",
              "        async function convertToInteractive(key) {\n",
              "          const element = document.querySelector('#df-24482bc9-2f56-447e-903f-78798e782ed1');\n",
              "          const dataTable =\n",
              "            await google.colab.kernel.invokeFunction('convertToInteractive',\n",
              "                                                     [key], {});\n",
              "          if (!dataTable) return;\n",
              "\n",
              "          const docLinkHtml = 'Like what you see? Visit the ' +\n",
              "            '<a target=\"_blank\" href=https://colab.research.google.com/notebooks/data_table.ipynb>data table notebook</a>'\n",
              "            + ' to learn more about interactive tables.';\n",
              "          element.innerHTML = '';\n",
              "          dataTable['output_type'] = 'display_data';\n",
              "          await google.colab.output.renderOutput(dataTable, element);\n",
              "          const docLink = document.createElement('div');\n",
              "          docLink.innerHTML = docLinkHtml;\n",
              "          element.appendChild(docLink);\n",
              "        }\n",
              "      </script>\n",
              "    </div>\n",
              "  </div>\n",
              "  "
            ]
          },
          "metadata": {},
          "execution_count": 72
        }
      ]
    },
    {
      "cell_type": "code",
      "source": [
        "pip install Boruta"
      ],
      "metadata": {
        "colab": {
          "base_uri": "https://localhost:8080/"
        },
        "id": "0_WAH2qhfWc8",
        "outputId": "8906c47e-0e8b-44f8-e4b3-a47b01dc9d93"
      },
      "execution_count": null,
      "outputs": [
        {
          "output_type": "stream",
          "name": "stdout",
          "text": [
            "Collecting Boruta\n",
            "  Downloading Boruta-0.3-py3-none-any.whl (56 kB)\n",
            "\u001b[?25l\r\u001b[K     |█████▉                          | 10 kB 22.7 MB/s eta 0:00:01\r\u001b[K     |███████████▋                    | 20 kB 27.2 MB/s eta 0:00:01\r\u001b[K     |█████████████████▍              | 30 kB 12.5 MB/s eta 0:00:01\r\u001b[K     |███████████████████████▏        | 40 kB 7.5 MB/s eta 0:00:01\r\u001b[K     |█████████████████████████████   | 51 kB 8.0 MB/s eta 0:00:01\r\u001b[K     |████████████████████████████████| 56 kB 3.9 MB/s \n",
            "\u001b[?25hRequirement already satisfied: scipy>=0.17.0 in /usr/local/lib/python3.7/dist-packages (from Boruta) (1.4.1)\n",
            "Requirement already satisfied: scikit-learn>=0.17.1 in /usr/local/lib/python3.7/dist-packages (from Boruta) (1.0.2)\n",
            "Requirement already satisfied: numpy>=1.10.4 in /usr/local/lib/python3.7/dist-packages (from Boruta) (1.21.5)\n",
            "Requirement already satisfied: joblib>=0.11 in /usr/local/lib/python3.7/dist-packages (from scikit-learn>=0.17.1->Boruta) (1.1.0)\n",
            "Requirement already satisfied: threadpoolctl>=2.0.0 in /usr/local/lib/python3.7/dist-packages (from scikit-learn>=0.17.1->Boruta) (3.1.0)\n",
            "Installing collected packages: Boruta\n",
            "Successfully installed Boruta-0.3\n"
          ]
        }
      ]
    },
    {
      "cell_type": "code",
      "source": [
        "#Importing Boruta and other required libraries. \n",
        "\n",
        "from sklearn.ensemble import RandomForestRegressor\n",
        "from boruta import BorutaPy\n",
        "from sklearn.model_selection import train_test_split\n",
        "from sklearn.metrics import mean_absolute_error"
      ],
      "metadata": {
        "id": "Datij6qUfgc8"
      },
      "execution_count": null,
      "outputs": []
    },
    {
      "cell_type": "code",
      "source": [
        "#Loading the dataset, separating the features from the target variable, and \n",
        "#splitting the data into a train and a test set.\n",
        "\n",
        "X1 =train_df.drop(['claim_id', 'loss_date','target'], axis = 1)\n",
        "y1 = train_df['target']\n",
        "X1_train, X1_test, y1_train, y1_test = train_test_split(X1, y1, test_size = .3, random_state = 0)"
      ],
      "metadata": {
        "id": "3HvwQec0fukt"
      },
      "execution_count": null,
      "outputs": []
    },
    {
      "cell_type": "code",
      "source": [
        "#Creating a baseline RandomForrestClassifier model with all the features.\n",
        "\n",
        "rf_all_features = RandomForestRegressor(random_state=0, n_estimators=100, max_depth=5)\n",
        "rf_all_features.fit(X1_train, y1_train) \n",
        "\n",
        "mean_absolute_error(y1_test, rf_all_features.predict(X1_test))"
      ],
      "metadata": {
        "colab": {
          "base_uri": "https://localhost:8080/"
        },
        "id": "mDHYCHxsgGnX",
        "outputId": "0844881d-528b-4471-bb96-bb50d381416a"
      },
      "execution_count": null,
      "outputs": [
        {
          "output_type": "execute_result",
          "data": {
            "text/plain": [
              "3934.7666600253087"
            ]
          },
          "metadata": {},
          "execution_count": 81
        }
      ]
    },
    {
      "cell_type": "code",
      "source": [
        "#Creating a BorutaPy object with RandomForestClassifier as the estimator and ranking the features. \n",
        "rfc = RandomForestRegressor(random_state=0, n_estimators=100, max_depth=5)\n",
        "boruta_selector = BorutaPy(rfc, n_estimators='auto', verbose=2, random_state=0)\n",
        "boruta_selector.fit(np.array(X1_train), np.array(y1_train))"
      ],
      "metadata": {
        "colab": {
          "base_uri": "https://localhost:8080/"
        },
        "id": "MIT_8VmigpJL",
        "outputId": "57110623-0f65-4beb-f8c1-14cdf7733e0e"
      },
      "execution_count": null,
      "outputs": [
        {
          "output_type": "stream",
          "name": "stdout",
          "text": [
            "Iteration: \t1 / 100\n",
            "Confirmed: \t0\n",
            "Tentative: \t15\n",
            "Rejected: \t0\n",
            "Iteration: \t2 / 100\n",
            "Confirmed: \t0\n",
            "Tentative: \t15\n",
            "Rejected: \t0\n",
            "Iteration: \t3 / 100\n",
            "Confirmed: \t0\n",
            "Tentative: \t15\n",
            "Rejected: \t0\n",
            "Iteration: \t4 / 100\n",
            "Confirmed: \t0\n",
            "Tentative: \t15\n",
            "Rejected: \t0\n",
            "Iteration: \t5 / 100\n",
            "Confirmed: \t0\n",
            "Tentative: \t15\n",
            "Rejected: \t0\n",
            "Iteration: \t6 / 100\n",
            "Confirmed: \t0\n",
            "Tentative: \t15\n",
            "Rejected: \t0\n",
            "Iteration: \t7 / 100\n",
            "Confirmed: \t0\n",
            "Tentative: \t15\n",
            "Rejected: \t0\n",
            "Iteration: \t8 / 100\n",
            "Confirmed: \t12\n",
            "Tentative: \t3\n",
            "Rejected: \t0\n",
            "Iteration: \t9 / 100\n",
            "Confirmed: \t12\n",
            "Tentative: \t3\n",
            "Rejected: \t0\n",
            "Iteration: \t10 / 100\n",
            "Confirmed: \t12\n",
            "Tentative: \t3\n",
            "Rejected: \t0\n",
            "Iteration: \t11 / 100\n",
            "Confirmed: \t12\n",
            "Tentative: \t3\n",
            "Rejected: \t0\n",
            "Iteration: \t12 / 100\n",
            "Confirmed: \t12\n",
            "Tentative: \t3\n",
            "Rejected: \t0\n",
            "Iteration: \t13 / 100\n",
            "Confirmed: \t12\n",
            "Tentative: \t3\n",
            "Rejected: \t0\n",
            "Iteration: \t14 / 100\n",
            "Confirmed: \t12\n",
            "Tentative: \t3\n",
            "Rejected: \t0\n",
            "Iteration: \t15 / 100\n",
            "Confirmed: \t12\n",
            "Tentative: \t3\n",
            "Rejected: \t0\n",
            "Iteration: \t16 / 100\n",
            "Confirmed: \t12\n",
            "Tentative: \t3\n",
            "Rejected: \t0\n",
            "Iteration: \t17 / 100\n",
            "Confirmed: \t12\n",
            "Tentative: \t3\n",
            "Rejected: \t0\n",
            "Iteration: \t18 / 100\n",
            "Confirmed: \t12\n",
            "Tentative: \t3\n",
            "Rejected: \t0\n",
            "Iteration: \t19 / 100\n",
            "Confirmed: \t13\n",
            "Tentative: \t2\n",
            "Rejected: \t0\n",
            "Iteration: \t20 / 100\n",
            "Confirmed: \t13\n",
            "Tentative: \t2\n",
            "Rejected: \t0\n",
            "Iteration: \t21 / 100\n",
            "Confirmed: \t13\n",
            "Tentative: \t2\n",
            "Rejected: \t0\n",
            "Iteration: \t22 / 100\n",
            "Confirmed: \t13\n",
            "Tentative: \t1\n",
            "Rejected: \t1\n",
            "Iteration: \t23 / 100\n",
            "Confirmed: \t13\n",
            "Tentative: \t1\n",
            "Rejected: \t1\n",
            "Iteration: \t24 / 100\n",
            "Confirmed: \t13\n",
            "Tentative: \t1\n",
            "Rejected: \t1\n",
            "Iteration: \t25 / 100\n",
            "Confirmed: \t13\n",
            "Tentative: \t1\n",
            "Rejected: \t1\n",
            "Iteration: \t26 / 100\n",
            "Confirmed: \t13\n",
            "Tentative: \t0\n",
            "Rejected: \t2\n",
            "\n",
            "\n",
            "BorutaPy finished running.\n",
            "\n",
            "Iteration: \t27 / 100\n",
            "Confirmed: \t13\n",
            "Tentative: \t0\n",
            "Rejected: \t2\n"
          ]
        },
        {
          "output_type": "execute_result",
          "data": {
            "text/plain": [
              "BorutaPy(estimator=RandomForestRegressor(max_depth=5, n_estimators=105,\n",
              "                                         random_state=RandomState(MT19937) at 0x7F3E1D7026B0),\n",
              "         n_estimators='auto',\n",
              "         random_state=RandomState(MT19937) at 0x7F3E1D7026B0, verbose=2)"
            ]
          },
          "metadata": {},
          "execution_count": 82
        }
      ]
    },
    {
      "cell_type": "code",
      "source": [
        "print(\"Ranking: \",boruta_selector.ranking_)          \n",
        "print(\"No. of significant features: \", boruta_selector.n_features_) "
      ],
      "metadata": {
        "colab": {
          "base_uri": "https://localhost:8080/"
        },
        "id": "DsECwmffg23m",
        "outputId": "6d96e318-7761-420b-fa5c-66c0f0d65b22"
      },
      "execution_count": null,
      "outputs": [
        {
          "output_type": "stream",
          "name": "stdout",
          "text": [
            "Ranking:  [1 1 1 3 1 1 1 1 1 1 1 2 1 1 1]\n",
            "No. of significant features:  13\n"
          ]
        }
      ]
    },
    {
      "cell_type": "code",
      "source": [
        "selected_rf_features = pd.DataFrame({'Feature':list(X1_train.columns),\n",
        "                                       'Ranking':boruta_selector.ranking_})\n",
        "selected_rf_features.sort_values(by='Ranking')"
      ],
      "metadata": {
        "colab": {
          "base_uri": "https://localhost:8080/",
          "height": 520
        },
        "id": "upftTKHRhBf4",
        "outputId": "296ad8df-2cf0-49ae-c29a-4c42acfc30ba"
      },
      "execution_count": null,
      "outputs": [
        {
          "output_type": "execute_result",
          "data": {
            "text/plain": [
              "              Feature  Ranking\n",
              "0       policy_number        1\n",
              "1        claim_number        1\n",
              "2         sum_insured        1\n",
              "4               agent        1\n",
              "5   class_of_business        1\n",
              "6           risk_type        1\n",
              "7         client_type        1\n",
              "8   renewal_frequency        1\n",
              "9       primary_cause        1\n",
              "10    secondary_cause        1\n",
              "12      loss_date_day        1\n",
              "13    loss_date_month        1\n",
              "14     loss_date_year        1\n",
              "11             branch        2\n",
              "3             product        3"
            ],
            "text/html": [
              "\n",
              "  <div id=\"df-04ad48cc-8b51-44db-b888-82cf437e89b9\">\n",
              "    <div class=\"colab-df-container\">\n",
              "      <div>\n",
              "<style scoped>\n",
              "    .dataframe tbody tr th:only-of-type {\n",
              "        vertical-align: middle;\n",
              "    }\n",
              "\n",
              "    .dataframe tbody tr th {\n",
              "        vertical-align: top;\n",
              "    }\n",
              "\n",
              "    .dataframe thead th {\n",
              "        text-align: right;\n",
              "    }\n",
              "</style>\n",
              "<table border=\"1\" class=\"dataframe\">\n",
              "  <thead>\n",
              "    <tr style=\"text-align: right;\">\n",
              "      <th></th>\n",
              "      <th>Feature</th>\n",
              "      <th>Ranking</th>\n",
              "    </tr>\n",
              "  </thead>\n",
              "  <tbody>\n",
              "    <tr>\n",
              "      <th>0</th>\n",
              "      <td>policy_number</td>\n",
              "      <td>1</td>\n",
              "    </tr>\n",
              "    <tr>\n",
              "      <th>1</th>\n",
              "      <td>claim_number</td>\n",
              "      <td>1</td>\n",
              "    </tr>\n",
              "    <tr>\n",
              "      <th>2</th>\n",
              "      <td>sum_insured</td>\n",
              "      <td>1</td>\n",
              "    </tr>\n",
              "    <tr>\n",
              "      <th>4</th>\n",
              "      <td>agent</td>\n",
              "      <td>1</td>\n",
              "    </tr>\n",
              "    <tr>\n",
              "      <th>5</th>\n",
              "      <td>class_of_business</td>\n",
              "      <td>1</td>\n",
              "    </tr>\n",
              "    <tr>\n",
              "      <th>6</th>\n",
              "      <td>risk_type</td>\n",
              "      <td>1</td>\n",
              "    </tr>\n",
              "    <tr>\n",
              "      <th>7</th>\n",
              "      <td>client_type</td>\n",
              "      <td>1</td>\n",
              "    </tr>\n",
              "    <tr>\n",
              "      <th>8</th>\n",
              "      <td>renewal_frequency</td>\n",
              "      <td>1</td>\n",
              "    </tr>\n",
              "    <tr>\n",
              "      <th>9</th>\n",
              "      <td>primary_cause</td>\n",
              "      <td>1</td>\n",
              "    </tr>\n",
              "    <tr>\n",
              "      <th>10</th>\n",
              "      <td>secondary_cause</td>\n",
              "      <td>1</td>\n",
              "    </tr>\n",
              "    <tr>\n",
              "      <th>12</th>\n",
              "      <td>loss_date_day</td>\n",
              "      <td>1</td>\n",
              "    </tr>\n",
              "    <tr>\n",
              "      <th>13</th>\n",
              "      <td>loss_date_month</td>\n",
              "      <td>1</td>\n",
              "    </tr>\n",
              "    <tr>\n",
              "      <th>14</th>\n",
              "      <td>loss_date_year</td>\n",
              "      <td>1</td>\n",
              "    </tr>\n",
              "    <tr>\n",
              "      <th>11</th>\n",
              "      <td>branch</td>\n",
              "      <td>2</td>\n",
              "    </tr>\n",
              "    <tr>\n",
              "      <th>3</th>\n",
              "      <td>product</td>\n",
              "      <td>3</td>\n",
              "    </tr>\n",
              "  </tbody>\n",
              "</table>\n",
              "</div>\n",
              "      <button class=\"colab-df-convert\" onclick=\"convertToInteractive('df-04ad48cc-8b51-44db-b888-82cf437e89b9')\"\n",
              "              title=\"Convert this dataframe to an interactive table.\"\n",
              "              style=\"display:none;\">\n",
              "        \n",
              "  <svg xmlns=\"http://www.w3.org/2000/svg\" height=\"24px\"viewBox=\"0 0 24 24\"\n",
              "       width=\"24px\">\n",
              "    <path d=\"M0 0h24v24H0V0z\" fill=\"none\"/>\n",
              "    <path d=\"M18.56 5.44l.94 2.06.94-2.06 2.06-.94-2.06-.94-.94-2.06-.94 2.06-2.06.94zm-11 1L8.5 8.5l.94-2.06 2.06-.94-2.06-.94L8.5 2.5l-.94 2.06-2.06.94zm10 10l.94 2.06.94-2.06 2.06-.94-2.06-.94-.94-2.06-.94 2.06-2.06.94z\"/><path d=\"M17.41 7.96l-1.37-1.37c-.4-.4-.92-.59-1.43-.59-.52 0-1.04.2-1.43.59L10.3 9.45l-7.72 7.72c-.78.78-.78 2.05 0 2.83L4 21.41c.39.39.9.59 1.41.59.51 0 1.02-.2 1.41-.59l7.78-7.78 2.81-2.81c.8-.78.8-2.07 0-2.86zM5.41 20L4 18.59l7.72-7.72 1.47 1.35L5.41 20z\"/>\n",
              "  </svg>\n",
              "      </button>\n",
              "      \n",
              "  <style>\n",
              "    .colab-df-container {\n",
              "      display:flex;\n",
              "      flex-wrap:wrap;\n",
              "      gap: 12px;\n",
              "    }\n",
              "\n",
              "    .colab-df-convert {\n",
              "      background-color: #E8F0FE;\n",
              "      border: none;\n",
              "      border-radius: 50%;\n",
              "      cursor: pointer;\n",
              "      display: none;\n",
              "      fill: #1967D2;\n",
              "      height: 32px;\n",
              "      padding: 0 0 0 0;\n",
              "      width: 32px;\n",
              "    }\n",
              "\n",
              "    .colab-df-convert:hover {\n",
              "      background-color: #E2EBFA;\n",
              "      box-shadow: 0px 1px 2px rgba(60, 64, 67, 0.3), 0px 1px 3px 1px rgba(60, 64, 67, 0.15);\n",
              "      fill: #174EA6;\n",
              "    }\n",
              "\n",
              "    [theme=dark] .colab-df-convert {\n",
              "      background-color: #3B4455;\n",
              "      fill: #D2E3FC;\n",
              "    }\n",
              "\n",
              "    [theme=dark] .colab-df-convert:hover {\n",
              "      background-color: #434B5C;\n",
              "      box-shadow: 0px 1px 3px 1px rgba(0, 0, 0, 0.15);\n",
              "      filter: drop-shadow(0px 1px 2px rgba(0, 0, 0, 0.3));\n",
              "      fill: #FFFFFF;\n",
              "    }\n",
              "  </style>\n",
              "\n",
              "      <script>\n",
              "        const buttonEl =\n",
              "          document.querySelector('#df-04ad48cc-8b51-44db-b888-82cf437e89b9 button.colab-df-convert');\n",
              "        buttonEl.style.display =\n",
              "          google.colab.kernel.accessAllowed ? 'block' : 'none';\n",
              "\n",
              "        async function convertToInteractive(key) {\n",
              "          const element = document.querySelector('#df-04ad48cc-8b51-44db-b888-82cf437e89b9');\n",
              "          const dataTable =\n",
              "            await google.colab.kernel.invokeFunction('convertToInteractive',\n",
              "                                                     [key], {});\n",
              "          if (!dataTable) return;\n",
              "\n",
              "          const docLinkHtml = 'Like what you see? Visit the ' +\n",
              "            '<a target=\"_blank\" href=https://colab.research.google.com/notebooks/data_table.ipynb>data table notebook</a>'\n",
              "            + ' to learn more about interactive tables.';\n",
              "          element.innerHTML = '';\n",
              "          dataTable['output_type'] = 'display_data';\n",
              "          await google.colab.output.renderOutput(dataTable, element);\n",
              "          const docLink = document.createElement('div');\n",
              "          docLink.innerHTML = docLinkHtml;\n",
              "          element.appendChild(docLink);\n",
              "        }\n",
              "      </script>\n",
              "    </div>\n",
              "  </div>\n",
              "  "
            ]
          },
          "metadata": {},
          "execution_count": 84
        }
      ]
    },
    {
      "cell_type": "markdown",
      "source": [
        "## MOdelling"
      ],
      "metadata": {
        "id": "NGDLnhQRekcJ"
      }
    },
    {
      "cell_type": "code",
      "source": [
        "train_df.columns"
      ],
      "metadata": {
        "colab": {
          "base_uri": "https://localhost:8080/"
        },
        "id": "vyYiPs8He6XP",
        "outputId": "067a3b72-97cc-4016-dd09-a6e2a2df1ccd"
      },
      "execution_count": null,
      "outputs": [
        {
          "output_type": "execute_result",
          "data": {
            "text/plain": [
              "Index(['claim_id', 'policy_number', 'claim_number', 'sum_insured', 'product',\n",
              "       'agent', 'class_of_business', 'risk_type', 'loss_date', 'client_type',\n",
              "       'renewal_frequency', 'primary_cause', 'secondary_cause', 'branch',\n",
              "       'target', 'loss_date_day', 'loss_date_month', 'loss_date_year'],\n",
              "      dtype='object')"
            ]
          },
          "metadata": {},
          "execution_count": 73
        }
      ]
    },
    {
      "cell_type": "code",
      "source": [
        "# Select main columns to be used in training\n",
        "main_cols = train_df.columns.difference(['claim_id', 'loss_date', 'branch', 'product', 'target']).tolist()\n",
        "X = train_df[main_cols]\n",
        "y = train_df.target\n",
        "\n",
        "# Split data into train and test sets\n",
        "X_train, X_test, y_train, y_test = train_test_split(X,y,test_size=0.3, random_state=0)"
      ],
      "metadata": {
        "id": "gAEaNbRAekA7"
      },
      "execution_count": null,
      "outputs": []
    },
    {
      "cell_type": "code",
      "source": [
        "X.dtypes"
      ],
      "metadata": {
        "colab": {
          "base_uri": "https://localhost:8080/"
        },
        "id": "GvaxAsx6orX_",
        "outputId": "004dbcab-934d-4258-a3bc-18be4193627b"
      },
      "execution_count": null,
      "outputs": [
        {
          "output_type": "execute_result",
          "data": {
            "text/plain": [
              "agent                  int64\n",
              "claim_number           int64\n",
              "class_of_business      int64\n",
              "client_type            int64\n",
              "loss_date_day          int64\n",
              "loss_date_month        int64\n",
              "loss_date_year         int64\n",
              "policy_number          int64\n",
              "primary_cause          int64\n",
              "renewal_frequency      int64\n",
              "risk_type              int64\n",
              "secondary_cause        int64\n",
              "sum_insured          float64\n",
              "dtype: object"
            ]
          },
          "metadata": {},
          "execution_count": 96
        }
      ]
    },
    {
      "cell_type": "markdown",
      "source": [
        "## Cat Boost"
      ],
      "metadata": {
        "id": "Wr0LlVpZmgFt"
      }
    },
    {
      "cell_type": "code",
      "source": [
        "#List of categorical columns\n",
        "categoricalcolumns = X.columns.difference(['sum_insured']).tolist()\n",
        "print(\"Names of categorical columns : \", categoricalcolumns)\n",
        "#Get location of categorical columns\n",
        "cat_features = [X.columns.get_loc(col) for col in categoricalcolumns]\n",
        "print(\"Location of categorical columns : \",cat_features)"
      ],
      "metadata": {
        "colab": {
          "base_uri": "https://localhost:8080/"
        },
        "id": "RwwV1SV8mj84",
        "outputId": "79ff76dc-5d35-4dbd-b010-18c3103f6ada"
      },
      "execution_count": null,
      "outputs": [
        {
          "output_type": "stream",
          "name": "stdout",
          "text": [
            "Names of categorical columns :  ['agent', 'claim_number', 'class_of_business', 'client_type', 'loss_date_day', 'loss_date_month', 'loss_date_year', 'policy_number', 'primary_cause', 'renewal_frequency', 'risk_type', 'secondary_cause']\n",
            "Location of categorical columns :  [0, 1, 2, 3, 4, 5, 6, 7, 8, 9, 10, 11]\n"
          ]
        }
      ]
    },
    {
      "cell_type": "code",
      "source": [
        "pip install catboost"
      ],
      "metadata": {
        "colab": {
          "base_uri": "https://localhost:8080/"
        },
        "id": "Dl-3P2Tgp-Vj",
        "outputId": "ab2dc2d4-16d5-437d-cbed-d6a8acd4cf22"
      },
      "execution_count": null,
      "outputs": [
        {
          "output_type": "stream",
          "name": "stdout",
          "text": [
            "Collecting catboost\n",
            "  Downloading catboost-1.0.4-cp37-none-manylinux1_x86_64.whl (76.1 MB)\n",
            "\u001b[K     |████████████████████████████████| 76.1 MB 1.1 MB/s \n",
            "\u001b[?25hRequirement already satisfied: numpy>=1.16.0 in /usr/local/lib/python3.7/dist-packages (from catboost) (1.21.5)\n",
            "Requirement already satisfied: scipy in /usr/local/lib/python3.7/dist-packages (from catboost) (1.4.1)\n",
            "Requirement already satisfied: six in /usr/local/lib/python3.7/dist-packages (from catboost) (1.15.0)\n",
            "Requirement already satisfied: plotly in /usr/local/lib/python3.7/dist-packages (from catboost) (5.5.0)\n",
            "Requirement already satisfied: pandas>=0.24.0 in /usr/local/lib/python3.7/dist-packages (from catboost) (1.3.5)\n",
            "Requirement already satisfied: matplotlib in /usr/local/lib/python3.7/dist-packages (from catboost) (3.2.2)\n",
            "Requirement already satisfied: graphviz in /usr/local/lib/python3.7/dist-packages (from catboost) (0.10.1)\n",
            "Requirement already satisfied: python-dateutil>=2.7.3 in /usr/local/lib/python3.7/dist-packages (from pandas>=0.24.0->catboost) (2.8.2)\n",
            "Requirement already satisfied: pytz>=2017.3 in /usr/local/lib/python3.7/dist-packages (from pandas>=0.24.0->catboost) (2018.9)\n",
            "Requirement already satisfied: cycler>=0.10 in /usr/local/lib/python3.7/dist-packages (from matplotlib->catboost) (0.11.0)\n",
            "Requirement already satisfied: pyparsing!=2.0.4,!=2.1.2,!=2.1.6,>=2.0.1 in /usr/local/lib/python3.7/dist-packages (from matplotlib->catboost) (3.0.7)\n",
            "Requirement already satisfied: kiwisolver>=1.0.1 in /usr/local/lib/python3.7/dist-packages (from matplotlib->catboost) (1.3.2)\n",
            "Requirement already satisfied: tenacity>=6.2.0 in /usr/local/lib/python3.7/dist-packages (from plotly->catboost) (8.0.1)\n",
            "Installing collected packages: catboost\n",
            "Successfully installed catboost-1.0.4\n"
          ]
        }
      ]
    },
    {
      "cell_type": "code",
      "source": [
        "# importing Pool\n",
        "from catboost import CatBoostRegressor\n",
        "from catboost import Pool\n",
        "#Creating pool object for train dataset.\n",
        "train_data = Pool(data=X_train,\n",
        "                  label=y_train,\n",
        "                  cat_features=cat_features\n",
        "                 )\n",
        "#Creating pool object for test dataset\n",
        "test_data = Pool(data=X_test,\n",
        "                  label=y_test,\n",
        "                  cat_features=cat_features\n",
        "                 )"
      ],
      "metadata": {
        "id": "Zwh9ZS4Hphc4"
      },
      "execution_count": null,
      "outputs": []
    },
    {
      "cell_type": "code",
      "source": [
        "#build model\n",
        "cat_model = CatBoostRegressor(loss_function='RMSE')\n",
        "# Fit model \n",
        "cat_model.fit( X_train, y_train,\n",
        "               eval_set=(X_test, y_test),\n",
        "               plot=True\n",
        "              )"
      ],
      "metadata": {
        "colab": {
          "base_uri": "https://localhost:8080/",
          "height": 1000,
          "referenced_widgets": [
            "fe87370d0d2846ca8d8553a8ef3e6988"
          ]
        },
        "id": "lZI3fcwcqMhq",
        "outputId": "86062d5b-15c7-4b45-c213-61a2842d83d7"
      },
      "execution_count": null,
      "outputs": [
        {
          "output_type": "display_data",
          "data": {
            "text/plain": [
              "MetricVisualizer(layout=Layout(align_self='stretch', height='500px'))"
            ],
            "application/vnd.jupyter.widget-view+json": {
              "version_major": 2,
              "version_minor": 0,
              "model_id": "fe87370d0d2846ca8d8553a8ef3e6988"
            }
          },
          "metadata": {}
        },
        {
          "output_type": "stream",
          "name": "stdout",
          "text": [
            "Learning rate set to 0.066896\n",
            "0:\tlearn: 8399.1767137\ttest: 8698.7418107\tbest: 8698.7418107 (0)\ttotal: 48.6ms\tremaining: 48.5s\n",
            "1:\tlearn: 8223.8900988\ttest: 8520.1673399\tbest: 8520.1673399 (1)\ttotal: 51.1ms\tremaining: 25.5s\n",
            "2:\tlearn: 8063.2788844\ttest: 8373.3932656\tbest: 8373.3932656 (2)\ttotal: 53.5ms\tremaining: 17.8s\n",
            "3:\tlearn: 7935.3790560\ttest: 8253.4669115\tbest: 8253.4669115 (3)\ttotal: 55.8ms\tremaining: 13.9s\n",
            "4:\tlearn: 7809.8775480\ttest: 8129.0709874\tbest: 8129.0709874 (4)\ttotal: 58.2ms\tremaining: 11.6s\n",
            "5:\tlearn: 7678.0566927\ttest: 8004.6894044\tbest: 8004.6894044 (5)\ttotal: 60.7ms\tremaining: 10.1s\n",
            "6:\tlearn: 7552.9522168\ttest: 7891.4076840\tbest: 7891.4076840 (6)\ttotal: 63.2ms\tremaining: 8.96s\n",
            "7:\tlearn: 7442.9507619\ttest: 7791.0683969\tbest: 7791.0683969 (7)\ttotal: 65.6ms\tremaining: 8.13s\n",
            "8:\tlearn: 7349.5379922\ttest: 7701.8546292\tbest: 7701.8546292 (8)\ttotal: 68ms\tremaining: 7.49s\n",
            "9:\tlearn: 7259.1391865\ttest: 7626.0890465\tbest: 7626.0890465 (9)\ttotal: 70.3ms\tremaining: 6.96s\n",
            "10:\tlearn: 7183.0029013\ttest: 7559.1656192\tbest: 7559.1656192 (10)\ttotal: 72.7ms\tremaining: 6.53s\n",
            "11:\tlearn: 7105.1319237\ttest: 7470.5812324\tbest: 7470.5812324 (11)\ttotal: 75.1ms\tremaining: 6.18s\n",
            "12:\tlearn: 7031.8403794\ttest: 7403.3724630\tbest: 7403.3724630 (12)\ttotal: 77.4ms\tremaining: 5.88s\n",
            "13:\tlearn: 6967.0188894\ttest: 7337.7692208\tbest: 7337.7692208 (13)\ttotal: 79.8ms\tremaining: 5.62s\n",
            "14:\tlearn: 6905.1275357\ttest: 7287.9406988\tbest: 7287.9406988 (14)\ttotal: 82.3ms\tremaining: 5.4s\n",
            "15:\tlearn: 6853.8331456\ttest: 7233.8804555\tbest: 7233.8804555 (15)\ttotal: 84.6ms\tremaining: 5.2s\n",
            "16:\tlearn: 6809.4552548\ttest: 7189.6443802\tbest: 7189.6443802 (16)\ttotal: 87ms\tremaining: 5.03s\n",
            "17:\tlearn: 6730.1410463\ttest: 7120.1650752\tbest: 7120.1650752 (17)\ttotal: 89.5ms\tremaining: 4.88s\n",
            "18:\tlearn: 6689.7363435\ttest: 7086.0072301\tbest: 7086.0072301 (18)\ttotal: 92.1ms\tremaining: 4.75s\n",
            "19:\tlearn: 6641.9863633\ttest: 7036.9525975\tbest: 7036.9525975 (19)\ttotal: 94.6ms\tremaining: 4.63s\n",
            "20:\tlearn: 6584.3055402\ttest: 6962.8433606\tbest: 6962.8433606 (20)\ttotal: 97ms\tremaining: 4.52s\n",
            "21:\tlearn: 6530.0790893\ttest: 6912.8515491\tbest: 6912.8515491 (21)\ttotal: 99.4ms\tremaining: 4.42s\n",
            "22:\tlearn: 6494.8121068\ttest: 6874.3025610\tbest: 6874.3025610 (22)\ttotal: 102ms\tremaining: 4.32s\n",
            "23:\tlearn: 6455.3217905\ttest: 6840.1696309\tbest: 6840.1696309 (23)\ttotal: 104ms\tremaining: 4.23s\n",
            "24:\tlearn: 6412.1683171\ttest: 6780.2194485\tbest: 6780.2194485 (24)\ttotal: 106ms\tremaining: 4.15s\n",
            "25:\tlearn: 6380.6527457\ttest: 6750.6512952\tbest: 6750.6512952 (25)\ttotal: 109ms\tremaining: 4.07s\n",
            "26:\tlearn: 6334.4030421\ttest: 6716.9814196\tbest: 6716.9814196 (26)\ttotal: 111ms\tremaining: 4s\n",
            "27:\tlearn: 6302.7341087\ttest: 6692.1106790\tbest: 6692.1106790 (27)\ttotal: 113ms\tremaining: 3.93s\n",
            "28:\tlearn: 6258.0721034\ttest: 6652.2104025\tbest: 6652.2104025 (28)\ttotal: 116ms\tremaining: 3.87s\n",
            "29:\tlearn: 6232.2555838\ttest: 6632.0281248\tbest: 6632.0281248 (29)\ttotal: 118ms\tremaining: 3.82s\n",
            "30:\tlearn: 6190.9911875\ttest: 6594.8585891\tbest: 6594.8585891 (30)\ttotal: 120ms\tremaining: 3.77s\n",
            "31:\tlearn: 6170.6077051\ttest: 6563.4321805\tbest: 6563.4321805 (31)\ttotal: 123ms\tremaining: 3.71s\n",
            "32:\tlearn: 6142.9719664\ttest: 6537.0768560\tbest: 6537.0768560 (32)\ttotal: 125ms\tremaining: 3.67s\n",
            "33:\tlearn: 6106.7945911\ttest: 6512.4244609\tbest: 6512.4244609 (33)\ttotal: 128ms\tremaining: 3.63s\n",
            "34:\tlearn: 6085.0018135\ttest: 6491.8830018\tbest: 6491.8830018 (34)\ttotal: 130ms\tremaining: 3.58s\n",
            "35:\tlearn: 6056.0941580\ttest: 6469.4205565\tbest: 6469.4205565 (35)\ttotal: 132ms\tremaining: 3.54s\n",
            "36:\tlearn: 6033.5156829\ttest: 6442.7079272\tbest: 6442.7079272 (36)\ttotal: 135ms\tremaining: 3.51s\n",
            "37:\tlearn: 6006.1663233\ttest: 6419.2214914\tbest: 6419.2214914 (37)\ttotal: 137ms\tremaining: 3.47s\n",
            "38:\tlearn: 5988.6085226\ttest: 6404.4175771\tbest: 6404.4175771 (38)\ttotal: 140ms\tremaining: 3.44s\n",
            "39:\tlearn: 5951.5529565\ttest: 6374.4265456\tbest: 6374.4265456 (39)\ttotal: 142ms\tremaining: 3.4s\n",
            "40:\tlearn: 5919.6456478\ttest: 6344.2348971\tbest: 6344.2348971 (40)\ttotal: 144ms\tremaining: 3.37s\n",
            "41:\tlearn: 5899.3668156\ttest: 6315.7944502\tbest: 6315.7944502 (41)\ttotal: 147ms\tremaining: 3.35s\n",
            "42:\tlearn: 5885.9607041\ttest: 6305.1053723\tbest: 6305.1053723 (42)\ttotal: 149ms\tremaining: 3.32s\n",
            "43:\tlearn: 5865.9495418\ttest: 6285.3287559\tbest: 6285.3287559 (43)\ttotal: 151ms\tremaining: 3.29s\n",
            "44:\tlearn: 5843.5170349\ttest: 6269.0461632\tbest: 6269.0461632 (44)\ttotal: 154ms\tremaining: 3.26s\n",
            "45:\tlearn: 5826.3497591\ttest: 6247.0454512\tbest: 6247.0454512 (45)\ttotal: 156ms\tremaining: 3.24s\n",
            "46:\tlearn: 5809.1306622\ttest: 6233.2476722\tbest: 6233.2476722 (46)\ttotal: 158ms\tremaining: 3.21s\n",
            "47:\tlearn: 5792.2324147\ttest: 6208.1416543\tbest: 6208.1416543 (47)\ttotal: 161ms\tremaining: 3.19s\n",
            "48:\tlearn: 5766.6940935\ttest: 6182.3172713\tbest: 6182.3172713 (48)\ttotal: 163ms\tremaining: 3.17s\n",
            "49:\tlearn: 5745.1646922\ttest: 6162.8294791\tbest: 6162.8294791 (49)\ttotal: 165ms\tremaining: 3.14s\n",
            "50:\tlearn: 5718.3324602\ttest: 6141.6419016\tbest: 6141.6419016 (50)\ttotal: 168ms\tremaining: 3.12s\n",
            "51:\tlearn: 5697.5108394\ttest: 6122.4857395\tbest: 6122.4857395 (51)\ttotal: 170ms\tremaining: 3.1s\n",
            "52:\tlearn: 5674.8983068\ttest: 6095.7295223\tbest: 6095.7295223 (52)\ttotal: 173ms\tremaining: 3.08s\n",
            "53:\tlearn: 5659.4227433\ttest: 6078.0206178\tbest: 6078.0206178 (53)\ttotal: 175ms\tremaining: 3.07s\n",
            "54:\tlearn: 5634.6225351\ttest: 6054.1253129\tbest: 6054.1253129 (54)\ttotal: 178ms\tremaining: 3.05s\n",
            "55:\tlearn: 5606.9035075\ttest: 6027.5955011\tbest: 6027.5955011 (55)\ttotal: 180ms\tremaining: 3.03s\n",
            "56:\tlearn: 5594.8435321\ttest: 6014.6453280\tbest: 6014.6453280 (56)\ttotal: 182ms\tremaining: 3.02s\n",
            "57:\tlearn: 5575.0181086\ttest: 5995.9078090\tbest: 5995.9078090 (57)\ttotal: 185ms\tremaining: 3s\n",
            "58:\tlearn: 5539.3339776\ttest: 5966.5530562\tbest: 5966.5530562 (58)\ttotal: 187ms\tremaining: 2.98s\n",
            "59:\tlearn: 5523.8222786\ttest: 5947.1033789\tbest: 5947.1033789 (59)\ttotal: 192ms\tremaining: 3.02s\n",
            "60:\tlearn: 5511.9058426\ttest: 5936.0821361\tbest: 5936.0821361 (60)\ttotal: 198ms\tremaining: 3.05s\n",
            "61:\tlearn: 5494.1421802\ttest: 5926.8082106\tbest: 5926.8082106 (61)\ttotal: 201ms\tremaining: 3.03s\n",
            "62:\tlearn: 5480.4544971\ttest: 5911.2657004\tbest: 5911.2657004 (62)\ttotal: 203ms\tremaining: 3.02s\n",
            "63:\tlearn: 5465.8170810\ttest: 5891.3163451\tbest: 5891.3163451 (63)\ttotal: 205ms\tremaining: 3s\n",
            "64:\tlearn: 5448.2532947\ttest: 5866.8906091\tbest: 5866.8906091 (64)\ttotal: 207ms\tremaining: 2.98s\n",
            "65:\tlearn: 5425.9712932\ttest: 5848.1876716\tbest: 5848.1876716 (65)\ttotal: 210ms\tremaining: 2.97s\n",
            "66:\tlearn: 5405.6574768\ttest: 5829.7985579\tbest: 5829.7985579 (66)\ttotal: 212ms\tremaining: 2.96s\n",
            "67:\tlearn: 5394.4400887\ttest: 5820.1528455\tbest: 5820.1528455 (67)\ttotal: 215ms\tremaining: 2.94s\n",
            "68:\tlearn: 5374.6059253\ttest: 5797.2321185\tbest: 5797.2321185 (68)\ttotal: 217ms\tremaining: 2.93s\n",
            "69:\tlearn: 5369.6938586\ttest: 5786.6763504\tbest: 5786.6763504 (69)\ttotal: 219ms\tremaining: 2.91s\n",
            "70:\tlearn: 5355.0683644\ttest: 5770.2279208\tbest: 5770.2279208 (70)\ttotal: 222ms\tremaining: 2.9s\n",
            "71:\tlearn: 5333.9427059\ttest: 5746.1664230\tbest: 5746.1664230 (71)\ttotal: 224ms\tremaining: 2.89s\n",
            "72:\tlearn: 5318.9096389\ttest: 5737.1312778\tbest: 5737.1312778 (72)\ttotal: 227ms\tremaining: 2.88s\n",
            "73:\tlearn: 5305.5254369\ttest: 5725.5476226\tbest: 5725.5476226 (73)\ttotal: 229ms\tremaining: 2.86s\n",
            "74:\tlearn: 5290.0704848\ttest: 5703.7094731\tbest: 5703.7094731 (74)\ttotal: 231ms\tremaining: 2.85s\n",
            "75:\tlearn: 5273.5810382\ttest: 5685.3021020\tbest: 5685.3021020 (75)\ttotal: 234ms\tremaining: 2.84s\n",
            "76:\tlearn: 5254.6076847\ttest: 5665.5241162\tbest: 5665.5241162 (76)\ttotal: 236ms\tremaining: 2.83s\n",
            "77:\tlearn: 5238.4186187\ttest: 5651.9931845\tbest: 5651.9931845 (77)\ttotal: 238ms\tremaining: 2.82s\n",
            "78:\tlearn: 5224.3552190\ttest: 5632.5396360\tbest: 5632.5396360 (78)\ttotal: 241ms\tremaining: 2.81s\n",
            "79:\tlearn: 5212.2084976\ttest: 5623.0838041\tbest: 5623.0838041 (79)\ttotal: 243ms\tremaining: 2.8s\n",
            "80:\tlearn: 5201.8986660\ttest: 5615.4476880\tbest: 5615.4476880 (80)\ttotal: 245ms\tremaining: 2.78s\n",
            "81:\tlearn: 5188.5053737\ttest: 5603.0153146\tbest: 5603.0153146 (81)\ttotal: 247ms\tremaining: 2.77s\n",
            "82:\tlearn: 5182.5278573\ttest: 5592.0505523\tbest: 5592.0505523 (82)\ttotal: 250ms\tremaining: 2.76s\n",
            "83:\tlearn: 5163.5293448\ttest: 5578.0662962\tbest: 5578.0662962 (83)\ttotal: 252ms\tremaining: 2.75s\n",
            "84:\tlearn: 5148.7752584\ttest: 5567.6999876\tbest: 5567.6999876 (84)\ttotal: 255ms\tremaining: 2.74s\n",
            "85:\tlearn: 5135.7192235\ttest: 5558.8513215\tbest: 5558.8513215 (85)\ttotal: 257ms\tremaining: 2.73s\n",
            "86:\tlearn: 5116.4961254\ttest: 5538.5826270\tbest: 5538.5826270 (86)\ttotal: 259ms\tremaining: 2.72s\n",
            "87:\tlearn: 5104.7216098\ttest: 5523.0449191\tbest: 5523.0449191 (87)\ttotal: 262ms\tremaining: 2.71s\n",
            "88:\tlearn: 5090.8959053\ttest: 5515.2225860\tbest: 5515.2225860 (88)\ttotal: 264ms\tremaining: 2.7s\n",
            "89:\tlearn: 5069.5945748\ttest: 5495.5872638\tbest: 5495.5872638 (89)\ttotal: 266ms\tremaining: 2.69s\n",
            "90:\tlearn: 5063.9547889\ttest: 5489.8544363\tbest: 5489.8544363 (90)\ttotal: 269ms\tremaining: 2.68s\n",
            "91:\tlearn: 5048.1970206\ttest: 5474.7442980\tbest: 5474.7442980 (91)\ttotal: 271ms\tremaining: 2.67s\n",
            "92:\tlearn: 5032.4422439\ttest: 5459.3975588\tbest: 5459.3975588 (92)\ttotal: 273ms\tremaining: 2.67s\n",
            "93:\tlearn: 5024.1132597\ttest: 5446.6918302\tbest: 5446.6918302 (93)\ttotal: 276ms\tremaining: 2.66s\n",
            "94:\tlearn: 5005.1385425\ttest: 5436.5026062\tbest: 5436.5026062 (94)\ttotal: 278ms\tremaining: 2.65s\n",
            "95:\tlearn: 4995.9376465\ttest: 5425.2638044\tbest: 5425.2638044 (95)\ttotal: 281ms\tremaining: 2.64s\n",
            "96:\tlearn: 4984.2095017\ttest: 5413.1209736\tbest: 5413.1209736 (96)\ttotal: 283ms\tremaining: 2.63s\n",
            "97:\tlearn: 4974.8777491\ttest: 5404.5159466\tbest: 5404.5159466 (97)\ttotal: 285ms\tremaining: 2.63s\n",
            "98:\tlearn: 4961.1376045\ttest: 5383.5955658\tbest: 5383.5955658 (98)\ttotal: 288ms\tremaining: 2.62s\n",
            "99:\tlearn: 4947.4532796\ttest: 5376.4546442\tbest: 5376.4546442 (99)\ttotal: 291ms\tremaining: 2.62s\n",
            "100:\tlearn: 4930.4536889\ttest: 5361.3138946\tbest: 5361.3138946 (100)\ttotal: 296ms\tremaining: 2.63s\n",
            "101:\tlearn: 4910.1451886\ttest: 5339.4544179\tbest: 5339.4544179 (101)\ttotal: 298ms\tremaining: 2.63s\n",
            "102:\tlearn: 4900.6155488\ttest: 5328.1730211\tbest: 5328.1730211 (102)\ttotal: 301ms\tremaining: 2.62s\n",
            "103:\tlearn: 4884.9414925\ttest: 5316.4592259\tbest: 5316.4592259 (103)\ttotal: 303ms\tremaining: 2.61s\n",
            "104:\tlearn: 4855.3835902\ttest: 5291.5976456\tbest: 5291.5976456 (104)\ttotal: 306ms\tremaining: 2.6s\n",
            "105:\tlearn: 4838.3810972\ttest: 5277.6878044\tbest: 5277.6878044 (105)\ttotal: 308ms\tremaining: 2.6s\n",
            "106:\tlearn: 4828.4020358\ttest: 5269.0903614\tbest: 5269.0903614 (106)\ttotal: 310ms\tremaining: 2.59s\n",
            "107:\tlearn: 4816.7493489\ttest: 5263.4288145\tbest: 5263.4288145 (107)\ttotal: 313ms\tremaining: 2.58s\n",
            "108:\tlearn: 4807.2588867\ttest: 5250.3960573\tbest: 5250.3960573 (108)\ttotal: 315ms\tremaining: 2.58s\n",
            "109:\tlearn: 4799.6501069\ttest: 5242.9569448\tbest: 5242.9569448 (109)\ttotal: 317ms\tremaining: 2.57s\n",
            "110:\tlearn: 4780.1725704\ttest: 5227.5640560\tbest: 5227.5640560 (110)\ttotal: 320ms\tremaining: 2.56s\n",
            "111:\tlearn: 4772.6782685\ttest: 5216.8950056\tbest: 5216.8950056 (111)\ttotal: 322ms\tremaining: 2.55s\n",
            "112:\tlearn: 4767.1568394\ttest: 5208.2752516\tbest: 5208.2752516 (112)\ttotal: 324ms\tremaining: 2.55s\n",
            "113:\tlearn: 4755.6641528\ttest: 5197.2666427\tbest: 5197.2666427 (113)\ttotal: 327ms\tremaining: 2.54s\n",
            "114:\tlearn: 4746.6048773\ttest: 5189.8946362\tbest: 5189.8946362 (114)\ttotal: 329ms\tremaining: 2.53s\n",
            "115:\tlearn: 4737.1047838\ttest: 5178.6060761\tbest: 5178.6060761 (115)\ttotal: 332ms\tremaining: 2.53s\n",
            "116:\tlearn: 4726.6361326\ttest: 5166.7102481\tbest: 5166.7102481 (116)\ttotal: 334ms\tremaining: 2.52s\n",
            "117:\tlearn: 4713.8101671\ttest: 5156.7014727\tbest: 5156.7014727 (117)\ttotal: 336ms\tremaining: 2.51s\n",
            "118:\tlearn: 4705.3992920\ttest: 5149.4781596\tbest: 5149.4781596 (118)\ttotal: 339ms\tremaining: 2.51s\n",
            "119:\tlearn: 4679.9121746\ttest: 5128.6687705\tbest: 5128.6687705 (119)\ttotal: 341ms\tremaining: 2.5s\n",
            "120:\tlearn: 4668.1109990\ttest: 5120.2259934\tbest: 5120.2259934 (120)\ttotal: 343ms\tremaining: 2.49s\n",
            "121:\tlearn: 4661.9896881\ttest: 5113.5920173\tbest: 5113.5920173 (121)\ttotal: 346ms\tremaining: 2.49s\n",
            "122:\tlearn: 4648.9743859\ttest: 5099.3701192\tbest: 5099.3701192 (122)\ttotal: 348ms\tremaining: 2.48s\n",
            "123:\tlearn: 4641.7309931\ttest: 5094.7617492\tbest: 5094.7617492 (123)\ttotal: 350ms\tremaining: 2.48s\n",
            "124:\tlearn: 4630.9393417\ttest: 5086.2196459\tbest: 5086.2196459 (124)\ttotal: 353ms\tremaining: 2.47s\n",
            "125:\tlearn: 4622.6527963\ttest: 5076.9486576\tbest: 5076.9486576 (125)\ttotal: 355ms\tremaining: 2.46s\n",
            "126:\tlearn: 4613.9813743\ttest: 5065.5990153\tbest: 5065.5990153 (126)\ttotal: 358ms\tremaining: 2.46s\n",
            "127:\tlearn: 4601.0882220\ttest: 5053.1531500\tbest: 5053.1531500 (127)\ttotal: 361ms\tremaining: 2.46s\n",
            "128:\tlearn: 4587.2378489\ttest: 5039.4635685\tbest: 5039.4635685 (128)\ttotal: 363ms\tremaining: 2.45s\n",
            "129:\tlearn: 4576.6613966\ttest: 5034.5099062\tbest: 5034.5099062 (129)\ttotal: 366ms\tremaining: 2.45s\n",
            "130:\tlearn: 4563.6055205\ttest: 5022.5002779\tbest: 5022.5002779 (130)\ttotal: 368ms\tremaining: 2.44s\n",
            "131:\tlearn: 4557.7949169\ttest: 5015.2621822\tbest: 5015.2621822 (131)\ttotal: 370ms\tremaining: 2.43s\n",
            "132:\tlearn: 4534.8900281\ttest: 4996.9751215\tbest: 4996.9751215 (132)\ttotal: 373ms\tremaining: 2.43s\n",
            "133:\tlearn: 4522.1208409\ttest: 4982.1496838\tbest: 4982.1496838 (133)\ttotal: 375ms\tremaining: 2.42s\n",
            "134:\tlearn: 4515.2544835\ttest: 4972.8879050\tbest: 4972.8879050 (134)\ttotal: 377ms\tremaining: 2.42s\n",
            "135:\tlearn: 4507.5389738\ttest: 4966.2319175\tbest: 4966.2319175 (135)\ttotal: 380ms\tremaining: 2.41s\n",
            "136:\tlearn: 4490.8503362\ttest: 4950.9948111\tbest: 4950.9948111 (136)\ttotal: 382ms\tremaining: 2.41s\n",
            "137:\tlearn: 4474.4029744\ttest: 4932.7688625\tbest: 4932.7688625 (137)\ttotal: 385ms\tremaining: 2.41s\n",
            "138:\tlearn: 4450.9189879\ttest: 4911.4819714\tbest: 4911.4819714 (138)\ttotal: 389ms\tremaining: 2.41s\n",
            "139:\tlearn: 4437.1066470\ttest: 4898.3854205\tbest: 4898.3854205 (139)\ttotal: 395ms\tremaining: 2.43s\n",
            "140:\tlearn: 4428.7577987\ttest: 4892.2158070\tbest: 4892.2158070 (140)\ttotal: 401ms\tremaining: 2.44s\n",
            "141:\tlearn: 4422.4464463\ttest: 4887.4930969\tbest: 4887.4930969 (141)\ttotal: 403ms\tremaining: 2.43s\n",
            "142:\tlearn: 4405.6148422\ttest: 4869.0287489\tbest: 4869.0287489 (142)\ttotal: 405ms\tremaining: 2.43s\n",
            "143:\tlearn: 4390.8504552\ttest: 4852.1718262\tbest: 4852.1718262 (143)\ttotal: 408ms\tremaining: 2.42s\n",
            "144:\tlearn: 4380.3166460\ttest: 4841.2361573\tbest: 4841.2361573 (144)\ttotal: 410ms\tremaining: 2.42s\n",
            "145:\tlearn: 4372.0254832\ttest: 4832.7395209\tbest: 4832.7395209 (145)\ttotal: 413ms\tremaining: 2.41s\n",
            "146:\tlearn: 4365.4884344\ttest: 4824.9162906\tbest: 4824.9162906 (146)\ttotal: 415ms\tremaining: 2.41s\n",
            "147:\tlearn: 4359.0453769\ttest: 4818.5233698\tbest: 4818.5233698 (147)\ttotal: 417ms\tremaining: 2.4s\n",
            "148:\tlearn: 4350.5308744\ttest: 4812.2402662\tbest: 4812.2402662 (148)\ttotal: 420ms\tremaining: 2.4s\n",
            "149:\tlearn: 4343.9929182\ttest: 4806.2176319\tbest: 4806.2176319 (149)\ttotal: 422ms\tremaining: 2.39s\n",
            "150:\tlearn: 4339.6621172\ttest: 4803.3834316\tbest: 4803.3834316 (150)\ttotal: 424ms\tremaining: 2.38s\n",
            "151:\tlearn: 4329.8507900\ttest: 4792.7027905\tbest: 4792.7027905 (151)\ttotal: 427ms\tremaining: 2.38s\n",
            "152:\tlearn: 4318.0405967\ttest: 4782.5802858\tbest: 4782.5802858 (152)\ttotal: 429ms\tremaining: 2.37s\n",
            "153:\tlearn: 4298.6129928\ttest: 4765.4858219\tbest: 4765.4858219 (153)\ttotal: 431ms\tremaining: 2.37s\n",
            "154:\tlearn: 4292.0470347\ttest: 4755.3490580\tbest: 4755.3490580 (154)\ttotal: 434ms\tremaining: 2.36s\n",
            "155:\tlearn: 4281.7987651\ttest: 4743.0795660\tbest: 4743.0795660 (155)\ttotal: 436ms\tremaining: 2.36s\n",
            "156:\tlearn: 4265.1575867\ttest: 4726.1336729\tbest: 4726.1336729 (156)\ttotal: 438ms\tremaining: 2.35s\n",
            "157:\tlearn: 4249.9965735\ttest: 4710.0266325\tbest: 4710.0266325 (157)\ttotal: 441ms\tremaining: 2.35s\n",
            "158:\tlearn: 4238.0853988\ttest: 4701.0756783\tbest: 4701.0756783 (158)\ttotal: 443ms\tremaining: 2.34s\n",
            "159:\tlearn: 4227.1880303\ttest: 4688.9433249\tbest: 4688.9433249 (159)\ttotal: 446ms\tremaining: 2.34s\n",
            "160:\tlearn: 4218.3835978\ttest: 4679.1199303\tbest: 4679.1199303 (160)\ttotal: 448ms\tremaining: 2.33s\n",
            "161:\tlearn: 4205.6123576\ttest: 4666.9640798\tbest: 4666.9640798 (161)\ttotal: 450ms\tremaining: 2.33s\n",
            "162:\tlearn: 4183.5561961\ttest: 4650.4680480\tbest: 4650.4680480 (162)\ttotal: 453ms\tremaining: 2.32s\n",
            "163:\tlearn: 4171.2866654\ttest: 4641.8666061\tbest: 4641.8666061 (163)\ttotal: 455ms\tremaining: 2.32s\n",
            "164:\tlearn: 4151.9054041\ttest: 4623.7906222\tbest: 4623.7906222 (164)\ttotal: 457ms\tremaining: 2.31s\n",
            "165:\tlearn: 4144.1496483\ttest: 4615.0572967\tbest: 4615.0572967 (165)\ttotal: 460ms\tremaining: 2.31s\n",
            "166:\tlearn: 4137.5690124\ttest: 4610.6455073\tbest: 4610.6455073 (166)\ttotal: 463ms\tremaining: 2.31s\n",
            "167:\tlearn: 4115.7909193\ttest: 4594.7435100\tbest: 4594.7435100 (167)\ttotal: 466ms\tremaining: 2.31s\n",
            "168:\tlearn: 4107.6887577\ttest: 4587.7155445\tbest: 4587.7155445 (168)\ttotal: 468ms\tremaining: 2.3s\n",
            "169:\tlearn: 4099.4629114\ttest: 4578.3484019\tbest: 4578.3484019 (169)\ttotal: 471ms\tremaining: 2.3s\n",
            "170:\tlearn: 4092.9110577\ttest: 4573.4486543\tbest: 4573.4486543 (170)\ttotal: 473ms\tremaining: 2.29s\n",
            "171:\tlearn: 4083.6249171\ttest: 4565.8252142\tbest: 4565.8252142 (171)\ttotal: 475ms\tremaining: 2.29s\n",
            "172:\tlearn: 4064.5953379\ttest: 4552.2076835\tbest: 4552.2076835 (172)\ttotal: 478ms\tremaining: 2.28s\n",
            "173:\tlearn: 4055.7887018\ttest: 4544.9405884\tbest: 4544.9405884 (173)\ttotal: 480ms\tremaining: 2.28s\n",
            "174:\tlearn: 4049.0676582\ttest: 4542.7470536\tbest: 4542.7470536 (174)\ttotal: 482ms\tremaining: 2.27s\n",
            "175:\tlearn: 4042.1964274\ttest: 4535.6193963\tbest: 4535.6193963 (175)\ttotal: 485ms\tremaining: 2.27s\n",
            "176:\tlearn: 4027.9069530\ttest: 4523.9267168\tbest: 4523.9267168 (176)\ttotal: 487ms\tremaining: 2.27s\n",
            "177:\tlearn: 4021.7678080\ttest: 4521.4202406\tbest: 4521.4202406 (177)\ttotal: 490ms\tremaining: 2.26s\n",
            "178:\tlearn: 4015.5376401\ttest: 4515.5166762\tbest: 4515.5166762 (178)\ttotal: 492ms\tremaining: 2.25s\n",
            "179:\tlearn: 4007.4786724\ttest: 4507.4706366\tbest: 4507.4706366 (179)\ttotal: 494ms\tremaining: 2.25s\n",
            "180:\tlearn: 3999.6807517\ttest: 4503.8838469\tbest: 4503.8838469 (180)\ttotal: 497ms\tremaining: 2.25s\n",
            "181:\tlearn: 3993.0615664\ttest: 4494.9647432\tbest: 4494.9647432 (181)\ttotal: 499ms\tremaining: 2.24s\n",
            "182:\tlearn: 3982.0412194\ttest: 4484.8072709\tbest: 4484.8072709 (182)\ttotal: 501ms\tremaining: 2.24s\n",
            "183:\tlearn: 3965.8858751\ttest: 4470.7138611\tbest: 4470.7138611 (183)\ttotal: 504ms\tremaining: 2.23s\n",
            "184:\tlearn: 3961.4699815\ttest: 4466.5822558\tbest: 4466.5822558 (184)\ttotal: 506ms\tremaining: 2.23s\n",
            "185:\tlearn: 3951.7086412\ttest: 4457.4775871\tbest: 4457.4775871 (185)\ttotal: 508ms\tremaining: 2.23s\n",
            "186:\tlearn: 3944.5809838\ttest: 4446.1200376\tbest: 4446.1200376 (186)\ttotal: 511ms\tremaining: 2.22s\n",
            "187:\tlearn: 3933.5999768\ttest: 4436.5176287\tbest: 4436.5176287 (187)\ttotal: 513ms\tremaining: 2.22s\n",
            "188:\tlearn: 3924.9151249\ttest: 4425.3590988\tbest: 4425.3590988 (188)\ttotal: 518ms\tremaining: 2.22s\n",
            "189:\tlearn: 3909.5106141\ttest: 4412.6187666\tbest: 4412.6187666 (189)\ttotal: 521ms\tremaining: 2.22s\n",
            "190:\tlearn: 3905.4214957\ttest: 4406.6668157\tbest: 4406.6668157 (190)\ttotal: 524ms\tremaining: 2.22s\n",
            "191:\tlearn: 3899.5559070\ttest: 4397.5355306\tbest: 4397.5355306 (191)\ttotal: 526ms\tremaining: 2.21s\n",
            "192:\tlearn: 3891.2784544\ttest: 4392.5135448\tbest: 4392.5135448 (192)\ttotal: 529ms\tremaining: 2.21s\n",
            "193:\tlearn: 3882.0529531\ttest: 4384.8412525\tbest: 4384.8412525 (193)\ttotal: 531ms\tremaining: 2.21s\n",
            "194:\tlearn: 3871.7714384\ttest: 4376.7489319\tbest: 4376.7489319 (194)\ttotal: 534ms\tremaining: 2.2s\n",
            "195:\tlearn: 3864.8576528\ttest: 4373.7029735\tbest: 4373.7029735 (195)\ttotal: 536ms\tremaining: 2.2s\n",
            "196:\tlearn: 3848.1808329\ttest: 4357.3381752\tbest: 4357.3381752 (196)\ttotal: 538ms\tremaining: 2.19s\n",
            "197:\tlearn: 3842.5478699\ttest: 4352.0081762\tbest: 4352.0081762 (197)\ttotal: 541ms\tremaining: 2.19s\n",
            "198:\tlearn: 3834.5827941\ttest: 4348.2180001\tbest: 4348.2180001 (198)\ttotal: 543ms\tremaining: 2.19s\n",
            "199:\tlearn: 3831.6268090\ttest: 4346.4012280\tbest: 4346.4012280 (199)\ttotal: 545ms\tremaining: 2.18s\n",
            "200:\tlearn: 3826.4097046\ttest: 4343.6159917\tbest: 4343.6159917 (200)\ttotal: 548ms\tremaining: 2.18s\n",
            "201:\tlearn: 3819.7539276\ttest: 4338.5032896\tbest: 4338.5032896 (201)\ttotal: 550ms\tremaining: 2.17s\n",
            "202:\tlearn: 3813.5941634\ttest: 4328.7761232\tbest: 4328.7761232 (202)\ttotal: 553ms\tremaining: 2.17s\n",
            "203:\tlearn: 3807.9933696\ttest: 4323.7553691\tbest: 4323.7553691 (203)\ttotal: 555ms\tremaining: 2.17s\n",
            "204:\tlearn: 3798.8710508\ttest: 4315.9499437\tbest: 4315.9499437 (204)\ttotal: 557ms\tremaining: 2.16s\n",
            "205:\tlearn: 3794.2405923\ttest: 4311.6379933\tbest: 4311.6379933 (205)\ttotal: 560ms\tremaining: 2.16s\n",
            "206:\tlearn: 3788.3820278\ttest: 4307.2763194\tbest: 4307.2763194 (206)\ttotal: 562ms\tremaining: 2.15s\n",
            "207:\tlearn: 3782.4296928\ttest: 4303.1104455\tbest: 4303.1104455 (207)\ttotal: 568ms\tremaining: 2.16s\n",
            "208:\tlearn: 3772.6145906\ttest: 4295.2481483\tbest: 4295.2481483 (208)\ttotal: 571ms\tremaining: 2.16s\n",
            "209:\tlearn: 3765.2000029\ttest: 4292.3656134\tbest: 4292.3656134 (209)\ttotal: 573ms\tremaining: 2.15s\n",
            "210:\tlearn: 3758.6301830\ttest: 4286.6469853\tbest: 4286.6469853 (210)\ttotal: 575ms\tremaining: 2.15s\n",
            "211:\tlearn: 3745.0785618\ttest: 4273.2975988\tbest: 4273.2975988 (211)\ttotal: 578ms\tremaining: 2.15s\n",
            "212:\tlearn: 3729.9343132\ttest: 4258.7598204\tbest: 4258.7598204 (212)\ttotal: 586ms\tremaining: 2.16s\n",
            "213:\tlearn: 3720.7786050\ttest: 4248.5450010\tbest: 4248.5450010 (213)\ttotal: 590ms\tremaining: 2.17s\n",
            "214:\tlearn: 3713.9548546\ttest: 4240.1268256\tbest: 4240.1268256 (214)\ttotal: 592ms\tremaining: 2.16s\n",
            "215:\tlearn: 3709.8979482\ttest: 4238.1454739\tbest: 4238.1454739 (215)\ttotal: 595ms\tremaining: 2.16s\n",
            "216:\tlearn: 3703.8191796\ttest: 4232.8958333\tbest: 4232.8958333 (216)\ttotal: 597ms\tremaining: 2.15s\n",
            "217:\tlearn: 3695.7667678\ttest: 4226.6011214\tbest: 4226.6011214 (217)\ttotal: 599ms\tremaining: 2.15s\n",
            "218:\tlearn: 3692.5209735\ttest: 4224.4829436\tbest: 4224.4829436 (218)\ttotal: 601ms\tremaining: 2.15s\n",
            "219:\tlearn: 3679.4407037\ttest: 4210.7986169\tbest: 4210.7986169 (219)\ttotal: 604ms\tremaining: 2.14s\n",
            "220:\tlearn: 3674.8774931\ttest: 4205.2215472\tbest: 4205.2215472 (220)\ttotal: 607ms\tremaining: 2.14s\n",
            "221:\tlearn: 3663.6028786\ttest: 4197.0860257\tbest: 4197.0860257 (221)\ttotal: 609ms\tremaining: 2.13s\n",
            "222:\tlearn: 3655.7647358\ttest: 4185.9042062\tbest: 4185.9042062 (222)\ttotal: 612ms\tremaining: 2.13s\n",
            "223:\tlearn: 3648.5594719\ttest: 4179.9896095\tbest: 4179.9896095 (223)\ttotal: 614ms\tremaining: 2.13s\n",
            "224:\tlearn: 3641.1536833\ttest: 4174.5362335\tbest: 4174.5362335 (224)\ttotal: 616ms\tremaining: 2.12s\n",
            "225:\tlearn: 3634.2310221\ttest: 4163.1546965\tbest: 4163.1546965 (225)\ttotal: 619ms\tremaining: 2.12s\n",
            "226:\tlearn: 3630.4869099\ttest: 4161.1776250\tbest: 4161.1776250 (226)\ttotal: 621ms\tremaining: 2.12s\n",
            "227:\tlearn: 3617.4253862\ttest: 4153.9849258\tbest: 4153.9849258 (227)\ttotal: 624ms\tremaining: 2.11s\n",
            "228:\tlearn: 3602.6241461\ttest: 4142.9169625\tbest: 4142.9169625 (228)\ttotal: 626ms\tremaining: 2.11s\n",
            "229:\tlearn: 3597.4258719\ttest: 4134.7785373\tbest: 4134.7785373 (229)\ttotal: 628ms\tremaining: 2.1s\n",
            "230:\tlearn: 3585.3943551\ttest: 4124.7733561\tbest: 4124.7733561 (230)\ttotal: 631ms\tremaining: 2.1s\n",
            "231:\tlearn: 3578.0125644\ttest: 4119.1392490\tbest: 4119.1392490 (231)\ttotal: 633ms\tremaining: 2.1s\n",
            "232:\tlearn: 3571.9429393\ttest: 4113.3813384\tbest: 4113.3813384 (232)\ttotal: 635ms\tremaining: 2.09s\n",
            "233:\tlearn: 3565.1258823\ttest: 4110.1486748\tbest: 4110.1486748 (233)\ttotal: 638ms\tremaining: 2.09s\n",
            "234:\tlearn: 3559.1809487\ttest: 4105.2952619\tbest: 4105.2952619 (234)\ttotal: 640ms\tremaining: 2.08s\n",
            "235:\tlearn: 3549.0314596\ttest: 4096.2574609\tbest: 4096.2574609 (235)\ttotal: 643ms\tremaining: 2.08s\n",
            "236:\tlearn: 3543.6084608\ttest: 4093.9529380\tbest: 4093.9529380 (236)\ttotal: 645ms\tremaining: 2.08s\n",
            "237:\tlearn: 3535.4883230\ttest: 4087.6149281\tbest: 4087.6149281 (237)\ttotal: 647ms\tremaining: 2.07s\n",
            "238:\tlearn: 3530.2227628\ttest: 4079.2328149\tbest: 4079.2328149 (238)\ttotal: 650ms\tremaining: 2.07s\n",
            "239:\tlearn: 3526.9716116\ttest: 4076.1235465\tbest: 4076.1235465 (239)\ttotal: 652ms\tremaining: 2.06s\n",
            "240:\tlearn: 3521.3959487\ttest: 4072.1095246\tbest: 4072.1095246 (240)\ttotal: 654ms\tremaining: 2.06s\n",
            "241:\tlearn: 3517.7578302\ttest: 4070.7293120\tbest: 4070.7293120 (241)\ttotal: 657ms\tremaining: 2.06s\n",
            "242:\tlearn: 3513.0745269\ttest: 4066.7324691\tbest: 4066.7324691 (242)\ttotal: 659ms\tremaining: 2.05s\n",
            "243:\tlearn: 3509.0635667\ttest: 4064.0665867\tbest: 4064.0665867 (243)\ttotal: 661ms\tremaining: 2.05s\n",
            "244:\tlearn: 3505.6420571\ttest: 4060.7793253\tbest: 4060.7793253 (244)\ttotal: 664ms\tremaining: 2.04s\n",
            "245:\tlearn: 3499.0886113\ttest: 4057.2920182\tbest: 4057.2920182 (245)\ttotal: 666ms\tremaining: 2.04s\n",
            "246:\tlearn: 3491.5676023\ttest: 4050.8098098\tbest: 4050.8098098 (246)\ttotal: 669ms\tremaining: 2.04s\n",
            "247:\tlearn: 3483.1762329\ttest: 4044.9003385\tbest: 4044.9003385 (247)\ttotal: 671ms\tremaining: 2.03s\n",
            "248:\tlearn: 3479.7396183\ttest: 4043.2028909\tbest: 4043.2028909 (248)\ttotal: 673ms\tremaining: 2.03s\n",
            "249:\tlearn: 3466.7623831\ttest: 4032.6035366\tbest: 4032.6035366 (249)\ttotal: 676ms\tremaining: 2.03s\n",
            "250:\tlearn: 3463.5272945\ttest: 4028.0887521\tbest: 4028.0887521 (250)\ttotal: 678ms\tremaining: 2.02s\n",
            "251:\tlearn: 3460.4157503\ttest: 4026.4227021\tbest: 4026.4227021 (251)\ttotal: 680ms\tremaining: 2.02s\n",
            "252:\tlearn: 3456.2543194\ttest: 4023.9949875\tbest: 4023.9949875 (252)\ttotal: 683ms\tremaining: 2.02s\n",
            "253:\tlearn: 3451.1658840\ttest: 4019.6951051\tbest: 4019.6951051 (253)\ttotal: 685ms\tremaining: 2.01s\n",
            "254:\tlearn: 3446.5040041\ttest: 4017.1194314\tbest: 4017.1194314 (254)\ttotal: 687ms\tremaining: 2.01s\n",
            "255:\tlearn: 3441.3377548\ttest: 4013.2231684\tbest: 4013.2231684 (255)\ttotal: 690ms\tremaining: 2s\n",
            "256:\tlearn: 3431.6687365\ttest: 4002.2410687\tbest: 4002.2410687 (256)\ttotal: 692ms\tremaining: 2s\n",
            "257:\tlearn: 3422.8092455\ttest: 3994.1028084\tbest: 3994.1028084 (257)\ttotal: 695ms\tremaining: 2s\n",
            "258:\tlearn: 3418.4876638\ttest: 3990.6492673\tbest: 3990.6492673 (258)\ttotal: 697ms\tremaining: 1.99s\n",
            "259:\tlearn: 3407.0028294\ttest: 3979.0640439\tbest: 3979.0640439 (259)\ttotal: 699ms\tremaining: 1.99s\n",
            "260:\tlearn: 3399.7700775\ttest: 3973.5963314\tbest: 3973.5963314 (260)\ttotal: 702ms\tremaining: 1.99s\n",
            "261:\tlearn: 3393.7039422\ttest: 3966.0163390\tbest: 3966.0163390 (261)\ttotal: 704ms\tremaining: 1.98s\n",
            "262:\tlearn: 3387.5064514\ttest: 3961.6373136\tbest: 3961.6373136 (262)\ttotal: 706ms\tremaining: 1.98s\n",
            "263:\tlearn: 3381.7688163\ttest: 3954.5575271\tbest: 3954.5575271 (263)\ttotal: 709ms\tremaining: 1.98s\n",
            "264:\tlearn: 3378.3034373\ttest: 3951.4321417\tbest: 3951.4321417 (264)\ttotal: 711ms\tremaining: 1.97s\n",
            "265:\tlearn: 3367.8947015\ttest: 3941.3885953\tbest: 3941.3885953 (265)\ttotal: 714ms\tremaining: 1.97s\n",
            "266:\tlearn: 3360.8093504\ttest: 3933.8184630\tbest: 3933.8184630 (266)\ttotal: 716ms\tremaining: 1.97s\n",
            "267:\tlearn: 3356.7151007\ttest: 3931.6978955\tbest: 3931.6978955 (267)\ttotal: 718ms\tremaining: 1.96s\n",
            "268:\tlearn: 3352.2510935\ttest: 3930.1205967\tbest: 3930.1205967 (268)\ttotal: 721ms\tremaining: 1.96s\n",
            "269:\tlearn: 3348.3140378\ttest: 3926.9842597\tbest: 3926.9842597 (269)\ttotal: 723ms\tremaining: 1.95s\n",
            "270:\tlearn: 3344.5731732\ttest: 3923.7350845\tbest: 3923.7350845 (270)\ttotal: 725ms\tremaining: 1.95s\n",
            "271:\tlearn: 3341.6669825\ttest: 3920.1758266\tbest: 3920.1758266 (271)\ttotal: 728ms\tremaining: 1.95s\n",
            "272:\tlearn: 3334.4630414\ttest: 3913.9992422\tbest: 3913.9992422 (272)\ttotal: 730ms\tremaining: 1.94s\n",
            "273:\tlearn: 3327.2847406\ttest: 3910.1740730\tbest: 3910.1740730 (273)\ttotal: 733ms\tremaining: 1.94s\n",
            "274:\tlearn: 3323.2073865\ttest: 3906.1648644\tbest: 3906.1648644 (274)\ttotal: 735ms\tremaining: 1.94s\n",
            "275:\tlearn: 3317.5941298\ttest: 3900.5359374\tbest: 3900.5359374 (275)\ttotal: 737ms\tremaining: 1.93s\n",
            "276:\tlearn: 3314.7588867\ttest: 3896.1136241\tbest: 3896.1136241 (276)\ttotal: 740ms\tremaining: 1.93s\n",
            "277:\tlearn: 3305.2329130\ttest: 3888.2968618\tbest: 3888.2968618 (277)\ttotal: 742ms\tremaining: 1.93s\n",
            "278:\tlearn: 3300.8979914\ttest: 3885.6849731\tbest: 3885.6849731 (278)\ttotal: 744ms\tremaining: 1.92s\n",
            "279:\tlearn: 3294.3703770\ttest: 3879.4180251\tbest: 3879.4180251 (279)\ttotal: 747ms\tremaining: 1.92s\n",
            "280:\tlearn: 3287.4160028\ttest: 3874.5148666\tbest: 3874.5148666 (280)\ttotal: 749ms\tremaining: 1.92s\n",
            "281:\tlearn: 3284.2932951\ttest: 3871.6849566\tbest: 3871.6849566 (281)\ttotal: 752ms\tremaining: 1.91s\n",
            "282:\tlearn: 3273.0192847\ttest: 3864.0419416\tbest: 3864.0419416 (282)\ttotal: 755ms\tremaining: 1.91s\n",
            "283:\tlearn: 3268.9669437\ttest: 3858.5584671\tbest: 3858.5584671 (283)\ttotal: 757ms\tremaining: 1.91s\n",
            "284:\tlearn: 3266.1232724\ttest: 3855.4748835\tbest: 3855.4748835 (284)\ttotal: 759ms\tremaining: 1.91s\n",
            "285:\tlearn: 3261.0807373\ttest: 3850.7074239\tbest: 3850.7074239 (285)\ttotal: 762ms\tremaining: 1.9s\n",
            "286:\tlearn: 3251.2240888\ttest: 3840.7130036\tbest: 3840.7130036 (286)\ttotal: 764ms\tremaining: 1.9s\n",
            "287:\tlearn: 3241.9711535\ttest: 3834.0044535\tbest: 3834.0044535 (287)\ttotal: 767ms\tremaining: 1.9s\n",
            "288:\tlearn: 3238.4695946\ttest: 3831.5071447\tbest: 3831.5071447 (288)\ttotal: 769ms\tremaining: 1.89s\n",
            "289:\tlearn: 3234.8770969\ttest: 3828.6952384\tbest: 3828.6952384 (289)\ttotal: 771ms\tremaining: 1.89s\n",
            "290:\tlearn: 3231.4456756\ttest: 3827.1021771\tbest: 3827.1021771 (290)\ttotal: 774ms\tremaining: 1.89s\n",
            "291:\tlearn: 3228.6895623\ttest: 3825.7606598\tbest: 3825.7606598 (291)\ttotal: 776ms\tremaining: 1.88s\n",
            "292:\tlearn: 3225.4978598\ttest: 3823.2864820\tbest: 3823.2864820 (292)\ttotal: 780ms\tremaining: 1.88s\n",
            "293:\tlearn: 3218.3493604\ttest: 3815.7988637\tbest: 3815.7988637 (293)\ttotal: 786ms\tremaining: 1.89s\n",
            "294:\tlearn: 3214.4469383\ttest: 3811.4850758\tbest: 3811.4850758 (294)\ttotal: 789ms\tremaining: 1.89s\n",
            "295:\tlearn: 3205.7150555\ttest: 3805.7565755\tbest: 3805.7565755 (295)\ttotal: 793ms\tremaining: 1.89s\n",
            "296:\tlearn: 3200.9667184\ttest: 3801.7317146\tbest: 3801.7317146 (296)\ttotal: 796ms\tremaining: 1.88s\n",
            "297:\tlearn: 3189.6518505\ttest: 3794.1183259\tbest: 3794.1183259 (297)\ttotal: 798ms\tremaining: 1.88s\n",
            "298:\tlearn: 3186.1326200\ttest: 3791.2453977\tbest: 3791.2453977 (298)\ttotal: 800ms\tremaining: 1.88s\n",
            "299:\tlearn: 3178.6467659\ttest: 3783.0157758\tbest: 3783.0157758 (299)\ttotal: 803ms\tremaining: 1.87s\n",
            "300:\tlearn: 3176.7883365\ttest: 3781.3121367\tbest: 3781.3121367 (300)\ttotal: 805ms\tremaining: 1.87s\n",
            "301:\tlearn: 3172.5425713\ttest: 3776.7341203\tbest: 3776.7341203 (301)\ttotal: 807ms\tremaining: 1.86s\n",
            "302:\tlearn: 3160.8987306\ttest: 3769.1610465\tbest: 3769.1610465 (302)\ttotal: 810ms\tremaining: 1.86s\n",
            "303:\tlearn: 3158.1988626\ttest: 3765.5988982\tbest: 3765.5988982 (303)\ttotal: 812ms\tremaining: 1.86s\n",
            "304:\tlearn: 3150.6331758\ttest: 3759.6487642\tbest: 3759.6487642 (304)\ttotal: 815ms\tremaining: 1.86s\n",
            "305:\tlearn: 3147.5910120\ttest: 3758.2211111\tbest: 3758.2211111 (305)\ttotal: 817ms\tremaining: 1.85s\n",
            "306:\tlearn: 3139.0958967\ttest: 3749.6106426\tbest: 3749.6106426 (306)\ttotal: 819ms\tremaining: 1.85s\n",
            "307:\tlearn: 3137.0846377\ttest: 3747.8200697\tbest: 3747.8200697 (307)\ttotal: 822ms\tremaining: 1.85s\n",
            "308:\tlearn: 3132.5799655\ttest: 3744.1501792\tbest: 3744.1501792 (308)\ttotal: 824ms\tremaining: 1.84s\n",
            "309:\tlearn: 3122.1945678\ttest: 3733.2505919\tbest: 3733.2505919 (309)\ttotal: 826ms\tremaining: 1.84s\n",
            "310:\tlearn: 3118.2827353\ttest: 3729.8765145\tbest: 3729.8765145 (310)\ttotal: 829ms\tremaining: 1.84s\n",
            "311:\tlearn: 3112.8243262\ttest: 3724.0806380\tbest: 3724.0806380 (311)\ttotal: 831ms\tremaining: 1.83s\n",
            "312:\tlearn: 3108.8742243\ttest: 3719.2264314\tbest: 3719.2264314 (312)\ttotal: 834ms\tremaining: 1.83s\n",
            "313:\tlearn: 3104.1172279\ttest: 3714.9794939\tbest: 3714.9794939 (313)\ttotal: 836ms\tremaining: 1.83s\n",
            "314:\tlearn: 3099.9623097\ttest: 3708.4441875\tbest: 3708.4441875 (314)\ttotal: 838ms\tremaining: 1.82s\n",
            "315:\tlearn: 3096.4557419\ttest: 3704.7482589\tbest: 3704.7482589 (315)\ttotal: 841ms\tremaining: 1.82s\n",
            "316:\tlearn: 3086.4890282\ttest: 3695.3686749\tbest: 3695.3686749 (316)\ttotal: 843ms\tremaining: 1.82s\n",
            "317:\tlearn: 3081.3271007\ttest: 3694.3223992\tbest: 3694.3223992 (317)\ttotal: 845ms\tremaining: 1.81s\n",
            "318:\tlearn: 3077.0801163\ttest: 3692.8202487\tbest: 3692.8202487 (318)\ttotal: 848ms\tremaining: 1.81s\n",
            "319:\tlearn: 3073.2355227\ttest: 3689.2591637\tbest: 3689.2591637 (319)\ttotal: 850ms\tremaining: 1.81s\n",
            "320:\tlearn: 3068.4218958\ttest: 3687.8556200\tbest: 3687.8556200 (320)\ttotal: 852ms\tremaining: 1.8s\n",
            "321:\tlearn: 3063.7819538\ttest: 3681.4709638\tbest: 3681.4709638 (321)\ttotal: 855ms\tremaining: 1.8s\n",
            "322:\tlearn: 3061.1941433\ttest: 3679.6907119\tbest: 3679.6907119 (322)\ttotal: 857ms\tremaining: 1.8s\n",
            "323:\tlearn: 3055.3671408\ttest: 3673.8322776\tbest: 3673.8322776 (323)\ttotal: 860ms\tremaining: 1.79s\n",
            "324:\tlearn: 3053.5344919\ttest: 3672.3068549\tbest: 3672.3068549 (324)\ttotal: 864ms\tremaining: 1.79s\n",
            "325:\tlearn: 3050.8928575\ttest: 3670.0458007\tbest: 3670.0458007 (325)\ttotal: 867ms\tremaining: 1.79s\n",
            "326:\tlearn: 3044.8880590\ttest: 3665.5911039\tbest: 3665.5911039 (326)\ttotal: 871ms\tremaining: 1.79s\n",
            "327:\tlearn: 3037.5680355\ttest: 3658.9007550\tbest: 3658.9007550 (327)\ttotal: 874ms\tremaining: 1.79s\n",
            "328:\tlearn: 3035.8886981\ttest: 3657.5969709\tbest: 3657.5969709 (328)\ttotal: 878ms\tremaining: 1.79s\n",
            "329:\tlearn: 3028.7105150\ttest: 3649.3175253\tbest: 3649.3175253 (329)\ttotal: 885ms\tremaining: 1.8s\n",
            "330:\tlearn: 3022.4686465\ttest: 3641.6601280\tbest: 3641.6601280 (330)\ttotal: 892ms\tremaining: 1.8s\n",
            "331:\tlearn: 3015.6369954\ttest: 3634.2764197\tbest: 3634.2764197 (331)\ttotal: 895ms\tremaining: 1.8s\n",
            "332:\tlearn: 3012.0802747\ttest: 3631.0734099\tbest: 3631.0734099 (332)\ttotal: 897ms\tremaining: 1.8s\n",
            "333:\tlearn: 3006.0335900\ttest: 3624.4437600\tbest: 3624.4437600 (333)\ttotal: 899ms\tremaining: 1.79s\n",
            "334:\tlearn: 3001.5966657\ttest: 3620.9221865\tbest: 3620.9221865 (334)\ttotal: 902ms\tremaining: 1.79s\n",
            "335:\tlearn: 2995.8150303\ttest: 3619.0749097\tbest: 3619.0749097 (335)\ttotal: 904ms\tremaining: 1.79s\n",
            "336:\tlearn: 2989.8602371\ttest: 3614.4472722\tbest: 3614.4472722 (336)\ttotal: 906ms\tremaining: 1.78s\n",
            "337:\tlearn: 2985.9926246\ttest: 3611.0969873\tbest: 3611.0969873 (337)\ttotal: 909ms\tremaining: 1.78s\n",
            "338:\tlearn: 2980.9218027\ttest: 3606.5180564\tbest: 3606.5180564 (338)\ttotal: 911ms\tremaining: 1.78s\n",
            "339:\tlearn: 2974.9042394\ttest: 3599.5137668\tbest: 3599.5137668 (339)\ttotal: 914ms\tremaining: 1.77s\n",
            "340:\tlearn: 2969.2668335\ttest: 3596.6533020\tbest: 3596.6533020 (340)\ttotal: 916ms\tremaining: 1.77s\n",
            "341:\tlearn: 2965.6258714\ttest: 3594.5646795\tbest: 3594.5646795 (341)\ttotal: 918ms\tremaining: 1.77s\n",
            "342:\tlearn: 2961.4572269\ttest: 3591.3385206\tbest: 3591.3385206 (342)\ttotal: 921ms\tremaining: 1.76s\n",
            "343:\tlearn: 2958.3494024\ttest: 3588.3981986\tbest: 3588.3981986 (343)\ttotal: 923ms\tremaining: 1.76s\n",
            "344:\tlearn: 2955.4936796\ttest: 3586.9312320\tbest: 3586.9312320 (344)\ttotal: 925ms\tremaining: 1.76s\n",
            "345:\tlearn: 2951.3798975\ttest: 3580.6606091\tbest: 3580.6606091 (345)\ttotal: 928ms\tremaining: 1.75s\n",
            "346:\tlearn: 2949.2642995\ttest: 3578.6816998\tbest: 3578.6816998 (346)\ttotal: 946ms\tremaining: 1.78s\n",
            "347:\tlearn: 2944.0829141\ttest: 3572.9639343\tbest: 3572.9639343 (347)\ttotal: 950ms\tremaining: 1.78s\n",
            "348:\tlearn: 2936.5741672\ttest: 3565.7113934\tbest: 3565.7113934 (348)\ttotal: 953ms\tremaining: 1.78s\n",
            "349:\tlearn: 2931.7745991\ttest: 3561.3812872\tbest: 3561.3812872 (349)\ttotal: 957ms\tremaining: 1.78s\n",
            "350:\tlearn: 2928.8184766\ttest: 3560.2223599\tbest: 3560.2223599 (350)\ttotal: 961ms\tremaining: 1.78s\n",
            "351:\tlearn: 2923.0226410\ttest: 3559.0436741\tbest: 3559.0436741 (351)\ttotal: 967ms\tremaining: 1.78s\n",
            "352:\tlearn: 2920.3249444\ttest: 3557.9794311\tbest: 3557.9794311 (352)\ttotal: 973ms\tremaining: 1.78s\n",
            "353:\tlearn: 2916.0957811\ttest: 3554.3649742\tbest: 3554.3649742 (353)\ttotal: 976ms\tremaining: 1.78s\n",
            "354:\tlearn: 2910.1801524\ttest: 3547.3672026\tbest: 3547.3672026 (354)\ttotal: 983ms\tremaining: 1.78s\n",
            "355:\tlearn: 2901.4437736\ttest: 3540.0949798\tbest: 3540.0949798 (355)\ttotal: 990ms\tremaining: 1.79s\n",
            "356:\tlearn: 2892.5773304\ttest: 3535.9941869\tbest: 3535.9941869 (356)\ttotal: 997ms\tremaining: 1.8s\n",
            "357:\tlearn: 2885.0930930\ttest: 3531.2506506\tbest: 3531.2506506 (357)\ttotal: 1s\tremaining: 1.79s\n",
            "358:\tlearn: 2878.5099216\ttest: 3526.3361010\tbest: 3526.3361010 (358)\ttotal: 1s\tremaining: 1.79s\n",
            "359:\tlearn: 2872.5497817\ttest: 3520.6344689\tbest: 3520.6344689 (359)\ttotal: 1s\tremaining: 1.79s\n",
            "360:\tlearn: 2870.7113550\ttest: 3519.7074920\tbest: 3519.7074920 (360)\ttotal: 1.01s\tremaining: 1.78s\n",
            "361:\tlearn: 2867.7868280\ttest: 3516.9421238\tbest: 3516.9421238 (361)\ttotal: 1.01s\tremaining: 1.78s\n",
            "362:\tlearn: 2862.3955600\ttest: 3512.0854106\tbest: 3512.0854106 (362)\ttotal: 1.01s\tremaining: 1.78s\n",
            "363:\tlearn: 2856.3287543\ttest: 3507.1284570\tbest: 3507.1284570 (363)\ttotal: 1.01s\tremaining: 1.77s\n",
            "364:\tlearn: 2854.1400627\ttest: 3503.4069161\tbest: 3503.4069161 (364)\ttotal: 1.02s\tremaining: 1.77s\n",
            "365:\tlearn: 2847.8041592\ttest: 3499.5237184\tbest: 3499.5237184 (365)\ttotal: 1.02s\tremaining: 1.77s\n",
            "366:\tlearn: 2845.1795581\ttest: 3498.3194112\tbest: 3498.3194112 (366)\ttotal: 1.02s\tremaining: 1.76s\n",
            "367:\tlearn: 2843.0732994\ttest: 3496.8642903\tbest: 3496.8642903 (367)\ttotal: 1.02s\tremaining: 1.76s\n",
            "368:\tlearn: 2835.5439596\ttest: 3491.8505646\tbest: 3491.8505646 (368)\ttotal: 1.03s\tremaining: 1.75s\n",
            "369:\tlearn: 2829.7997283\ttest: 3484.8024925\tbest: 3484.8024925 (369)\ttotal: 1.03s\tremaining: 1.75s\n",
            "370:\tlearn: 2822.0914135\ttest: 3481.0980754\tbest: 3481.0980754 (370)\ttotal: 1.03s\tremaining: 1.75s\n",
            "371:\tlearn: 2820.1391629\ttest: 3479.0925318\tbest: 3479.0925318 (371)\ttotal: 1.03s\tremaining: 1.75s\n",
            "372:\tlearn: 2818.2511805\ttest: 3477.7871179\tbest: 3477.7871179 (372)\ttotal: 1.04s\tremaining: 1.74s\n",
            "373:\tlearn: 2813.3207017\ttest: 3472.2815706\tbest: 3472.2815706 (373)\ttotal: 1.04s\tremaining: 1.74s\n",
            "374:\tlearn: 2807.7050206\ttest: 3468.1294984\tbest: 3468.1294984 (374)\ttotal: 1.04s\tremaining: 1.73s\n",
            "375:\tlearn: 2802.5888715\ttest: 3463.6387274\tbest: 3463.6387274 (375)\ttotal: 1.04s\tremaining: 1.73s\n",
            "376:\tlearn: 2799.7208119\ttest: 3462.5867619\tbest: 3462.5867619 (376)\ttotal: 1.04s\tremaining: 1.73s\n",
            "377:\tlearn: 2797.1751589\ttest: 3457.0371342\tbest: 3457.0371342 (377)\ttotal: 1.05s\tremaining: 1.72s\n",
            "378:\tlearn: 2792.1127575\ttest: 3453.0307110\tbest: 3453.0307110 (378)\ttotal: 1.05s\tremaining: 1.72s\n",
            "379:\tlearn: 2788.1327521\ttest: 3450.7621711\tbest: 3450.7621711 (379)\ttotal: 1.05s\tremaining: 1.72s\n",
            "380:\tlearn: 2786.7974375\ttest: 3449.3041117\tbest: 3449.3041117 (380)\ttotal: 1.05s\tremaining: 1.71s\n",
            "381:\tlearn: 2785.0916420\ttest: 3448.1409448\tbest: 3448.1409448 (381)\ttotal: 1.06s\tremaining: 1.71s\n",
            "382:\tlearn: 2778.5499507\ttest: 3444.4712110\tbest: 3444.4712110 (382)\ttotal: 1.06s\tremaining: 1.71s\n",
            "383:\tlearn: 2775.3284332\ttest: 3442.2935909\tbest: 3442.2935909 (383)\ttotal: 1.06s\tremaining: 1.7s\n",
            "384:\tlearn: 2769.5671568\ttest: 3440.1385457\tbest: 3440.1385457 (384)\ttotal: 1.06s\tremaining: 1.7s\n",
            "385:\tlearn: 2764.5747676\ttest: 3436.2088539\tbest: 3436.2088539 (385)\ttotal: 1.07s\tremaining: 1.7s\n",
            "386:\tlearn: 2760.4821963\ttest: 3433.0039415\tbest: 3433.0039415 (386)\ttotal: 1.07s\tremaining: 1.69s\n",
            "387:\tlearn: 2755.9679091\ttest: 3428.9056427\tbest: 3428.9056427 (387)\ttotal: 1.07s\tremaining: 1.69s\n",
            "388:\tlearn: 2751.4072358\ttest: 3423.0528032\tbest: 3423.0528032 (388)\ttotal: 1.07s\tremaining: 1.69s\n",
            "389:\tlearn: 2744.4908905\ttest: 3415.7436366\tbest: 3415.7436366 (389)\ttotal: 1.08s\tremaining: 1.68s\n",
            "390:\tlearn: 2741.6800123\ttest: 3411.4988704\tbest: 3411.4988704 (390)\ttotal: 1.08s\tremaining: 1.68s\n",
            "391:\tlearn: 2738.7636476\ttest: 3408.9723822\tbest: 3408.9723822 (391)\ttotal: 1.08s\tremaining: 1.68s\n",
            "392:\tlearn: 2735.7975304\ttest: 3407.5756972\tbest: 3407.5756972 (392)\ttotal: 1.08s\tremaining: 1.67s\n",
            "393:\tlearn: 2730.6437061\ttest: 3405.4523489\tbest: 3405.4523489 (393)\ttotal: 1.09s\tremaining: 1.67s\n",
            "394:\tlearn: 2726.0790002\ttest: 3403.1917841\tbest: 3403.1917841 (394)\ttotal: 1.09s\tremaining: 1.67s\n",
            "395:\tlearn: 2720.7440834\ttest: 3400.0317716\tbest: 3400.0317716 (395)\ttotal: 1.09s\tremaining: 1.67s\n",
            "396:\tlearn: 2717.2463540\ttest: 3396.3840217\tbest: 3396.3840217 (396)\ttotal: 1.1s\tremaining: 1.67s\n",
            "397:\tlearn: 2714.5091559\ttest: 3396.4705744\tbest: 3396.3840217 (396)\ttotal: 1.1s\tremaining: 1.67s\n",
            "398:\tlearn: 2711.8800253\ttest: 3394.2419432\tbest: 3394.2419432 (398)\ttotal: 1.1s\tremaining: 1.66s\n",
            "399:\tlearn: 2708.1865298\ttest: 3395.4278557\tbest: 3394.2419432 (398)\ttotal: 1.11s\tremaining: 1.66s\n",
            "400:\tlearn: 2703.5429739\ttest: 3394.7749993\tbest: 3394.2419432 (398)\ttotal: 1.11s\tremaining: 1.66s\n",
            "401:\tlearn: 2698.3642391\ttest: 3389.1704713\tbest: 3389.1704713 (401)\ttotal: 1.12s\tremaining: 1.66s\n",
            "402:\tlearn: 2695.1466762\ttest: 3386.0154999\tbest: 3386.0154999 (402)\ttotal: 1.12s\tremaining: 1.66s\n",
            "403:\tlearn: 2691.9679866\ttest: 3382.1927180\tbest: 3382.1927180 (403)\ttotal: 1.12s\tremaining: 1.65s\n",
            "404:\tlearn: 2688.9927474\ttest: 3378.4672548\tbest: 3378.4672548 (404)\ttotal: 1.12s\tremaining: 1.65s\n",
            "405:\tlearn: 2686.1112795\ttest: 3376.0444338\tbest: 3376.0444338 (405)\ttotal: 1.13s\tremaining: 1.65s\n",
            "406:\tlearn: 2684.1373834\ttest: 3373.1010570\tbest: 3373.1010570 (406)\ttotal: 1.13s\tremaining: 1.64s\n",
            "407:\tlearn: 2682.8670671\ttest: 3372.3364456\tbest: 3372.3364456 (407)\ttotal: 1.13s\tremaining: 1.64s\n",
            "408:\tlearn: 2679.8246911\ttest: 3368.1599331\tbest: 3368.1599331 (408)\ttotal: 1.13s\tremaining: 1.64s\n",
            "409:\tlearn: 2675.1237552\ttest: 3364.6488683\tbest: 3364.6488683 (409)\ttotal: 1.14s\tremaining: 1.63s\n",
            "410:\tlearn: 2667.4087365\ttest: 3358.2969409\tbest: 3358.2969409 (410)\ttotal: 1.14s\tremaining: 1.63s\n",
            "411:\tlearn: 2662.8015419\ttest: 3355.3499552\tbest: 3355.3499552 (411)\ttotal: 1.14s\tremaining: 1.63s\n",
            "412:\tlearn: 2661.6065409\ttest: 3354.4245244\tbest: 3354.4245244 (412)\ttotal: 1.14s\tremaining: 1.62s\n",
            "413:\tlearn: 2655.2718335\ttest: 3351.6525279\tbest: 3351.6525279 (413)\ttotal: 1.14s\tremaining: 1.62s\n",
            "414:\tlearn: 2652.8265060\ttest: 3349.7853147\tbest: 3349.7853147 (414)\ttotal: 1.15s\tremaining: 1.62s\n",
            "415:\tlearn: 2650.6602061\ttest: 3348.1577953\tbest: 3348.1577953 (415)\ttotal: 1.15s\tremaining: 1.61s\n",
            "416:\tlearn: 2647.0669075\ttest: 3345.9652712\tbest: 3345.9652712 (416)\ttotal: 1.15s\tremaining: 1.61s\n",
            "417:\tlearn: 2644.6433899\ttest: 3345.5079727\tbest: 3345.5079727 (417)\ttotal: 1.15s\tremaining: 1.61s\n",
            "418:\tlearn: 2640.3483774\ttest: 3340.4715845\tbest: 3340.4715845 (418)\ttotal: 1.16s\tremaining: 1.6s\n",
            "419:\tlearn: 2635.9117271\ttest: 3338.0099443\tbest: 3338.0099443 (419)\ttotal: 1.16s\tremaining: 1.6s\n",
            "420:\tlearn: 2631.9633908\ttest: 3337.0448072\tbest: 3337.0448072 (420)\ttotal: 1.16s\tremaining: 1.6s\n",
            "421:\tlearn: 2629.1467768\ttest: 3334.3600777\tbest: 3334.3600777 (421)\ttotal: 1.16s\tremaining: 1.59s\n",
            "422:\tlearn: 2626.9144731\ttest: 3333.4626566\tbest: 3333.4626566 (422)\ttotal: 1.17s\tremaining: 1.59s\n",
            "423:\tlearn: 2622.8135178\ttest: 3328.9610246\tbest: 3328.9610246 (423)\ttotal: 1.17s\tremaining: 1.59s\n",
            "424:\tlearn: 2620.4157296\ttest: 3326.3401299\tbest: 3326.3401299 (424)\ttotal: 1.17s\tremaining: 1.58s\n",
            "425:\tlearn: 2617.4434527\ttest: 3323.4111125\tbest: 3323.4111125 (425)\ttotal: 1.17s\tremaining: 1.58s\n",
            "426:\tlearn: 2615.4119382\ttest: 3322.2259768\tbest: 3322.2259768 (426)\ttotal: 1.18s\tremaining: 1.58s\n",
            "427:\tlearn: 2612.9863538\ttest: 3319.1739314\tbest: 3319.1739314 (427)\ttotal: 1.19s\tremaining: 1.58s\n",
            "428:\tlearn: 2608.7531009\ttest: 3315.8060296\tbest: 3315.8060296 (428)\ttotal: 1.19s\tremaining: 1.58s\n",
            "429:\tlearn: 2606.0632383\ttest: 3313.1406578\tbest: 3313.1406578 (429)\ttotal: 1.19s\tremaining: 1.58s\n",
            "430:\tlearn: 2602.0034106\ttest: 3310.0066833\tbest: 3310.0066833 (430)\ttotal: 1.19s\tremaining: 1.57s\n",
            "431:\tlearn: 2599.6454447\ttest: 3307.3461989\tbest: 3307.3461989 (431)\ttotal: 1.2s\tremaining: 1.57s\n",
            "432:\tlearn: 2596.1839410\ttest: 3308.5654150\tbest: 3307.3461989 (431)\ttotal: 1.2s\tremaining: 1.57s\n",
            "433:\tlearn: 2590.5034651\ttest: 3304.7903432\tbest: 3304.7903432 (433)\ttotal: 1.2s\tremaining: 1.56s\n",
            "434:\tlearn: 2588.2821706\ttest: 3303.1992075\tbest: 3303.1992075 (434)\ttotal: 1.2s\tremaining: 1.56s\n",
            "435:\tlearn: 2585.6740534\ttest: 3300.5733664\tbest: 3300.5733664 (435)\ttotal: 1.2s\tremaining: 1.56s\n",
            "436:\tlearn: 2583.1436776\ttest: 3298.0596895\tbest: 3298.0596895 (436)\ttotal: 1.21s\tremaining: 1.55s\n",
            "437:\tlearn: 2582.0633374\ttest: 3297.4786895\tbest: 3297.4786895 (437)\ttotal: 1.21s\tremaining: 1.55s\n",
            "438:\tlearn: 2579.6845219\ttest: 3293.4553970\tbest: 3293.4553970 (438)\ttotal: 1.21s\tremaining: 1.55s\n",
            "439:\tlearn: 2575.3702073\ttest: 3290.1648746\tbest: 3290.1648746 (439)\ttotal: 1.21s\tremaining: 1.54s\n",
            "440:\tlearn: 2571.2195206\ttest: 3285.8619760\tbest: 3285.8619760 (440)\ttotal: 1.22s\tremaining: 1.54s\n",
            "441:\tlearn: 2568.6398411\ttest: 3287.1702858\tbest: 3285.8619760 (440)\ttotal: 1.22s\tremaining: 1.54s\n",
            "442:\tlearn: 2565.2778190\ttest: 3284.9346721\tbest: 3284.9346721 (442)\ttotal: 1.22s\tremaining: 1.53s\n",
            "443:\tlearn: 2560.9917204\ttest: 3282.1452641\tbest: 3282.1452641 (443)\ttotal: 1.22s\tremaining: 1.53s\n",
            "444:\tlearn: 2557.1138964\ttest: 3279.6019811\tbest: 3279.6019811 (444)\ttotal: 1.23s\tremaining: 1.53s\n",
            "445:\tlearn: 2552.7553175\ttest: 3273.6965428\tbest: 3273.6965428 (445)\ttotal: 1.23s\tremaining: 1.52s\n",
            "446:\tlearn: 2550.4598502\ttest: 3271.6487317\tbest: 3271.6487317 (446)\ttotal: 1.23s\tremaining: 1.52s\n",
            "447:\tlearn: 2544.6104409\ttest: 3266.0425678\tbest: 3266.0425678 (447)\ttotal: 1.23s\tremaining: 1.52s\n",
            "448:\tlearn: 2539.3586416\ttest: 3261.7214239\tbest: 3261.7214239 (448)\ttotal: 1.23s\tremaining: 1.51s\n",
            "449:\tlearn: 2535.4821978\ttest: 3256.4163137\tbest: 3256.4163137 (449)\ttotal: 1.24s\tremaining: 1.51s\n",
            "450:\tlearn: 2532.7755144\ttest: 3253.2056623\tbest: 3253.2056623 (450)\ttotal: 1.24s\tremaining: 1.51s\n",
            "451:\tlearn: 2525.0613899\ttest: 3248.7049007\tbest: 3248.7049007 (451)\ttotal: 1.24s\tremaining: 1.5s\n",
            "452:\tlearn: 2520.7642877\ttest: 3244.5079162\tbest: 3244.5079162 (452)\ttotal: 1.24s\tremaining: 1.5s\n",
            "453:\tlearn: 2518.3450412\ttest: 3241.2918287\tbest: 3241.2918287 (453)\ttotal: 1.25s\tremaining: 1.5s\n",
            "454:\tlearn: 2517.2670733\ttest: 3240.2003991\tbest: 3240.2003991 (454)\ttotal: 1.25s\tremaining: 1.5s\n",
            "455:\tlearn: 2509.8899572\ttest: 3233.3174824\tbest: 3233.3174824 (455)\ttotal: 1.25s\tremaining: 1.49s\n",
            "456:\tlearn: 2505.7347391\ttest: 3228.6064701\tbest: 3228.6064701 (456)\ttotal: 1.25s\tremaining: 1.49s\n",
            "457:\tlearn: 2500.9819514\ttest: 3226.3053642\tbest: 3226.3053642 (457)\ttotal: 1.25s\tremaining: 1.49s\n",
            "458:\tlearn: 2496.1272987\ttest: 3221.6207464\tbest: 3221.6207464 (458)\ttotal: 1.26s\tremaining: 1.48s\n",
            "459:\tlearn: 2494.4028262\ttest: 3220.0383629\tbest: 3220.0383629 (459)\ttotal: 1.26s\tremaining: 1.48s\n",
            "460:\tlearn: 2486.6915113\ttest: 3211.8230752\tbest: 3211.8230752 (460)\ttotal: 1.26s\tremaining: 1.48s\n",
            "461:\tlearn: 2485.7725166\ttest: 3211.1938781\tbest: 3211.1938781 (461)\ttotal: 1.26s\tremaining: 1.47s\n",
            "462:\tlearn: 2480.6733373\ttest: 3209.4117139\tbest: 3209.4117139 (462)\ttotal: 1.27s\tremaining: 1.47s\n",
            "463:\tlearn: 2479.9278996\ttest: 3208.7517250\tbest: 3208.7517250 (463)\ttotal: 1.27s\tremaining: 1.47s\n",
            "464:\tlearn: 2477.0020968\ttest: 3205.9439541\tbest: 3205.9439541 (464)\ttotal: 1.27s\tremaining: 1.46s\n",
            "465:\tlearn: 2471.0043016\ttest: 3201.1759146\tbest: 3201.1759146 (465)\ttotal: 1.27s\tremaining: 1.46s\n",
            "466:\tlearn: 2467.0690788\ttest: 3198.9707968\tbest: 3198.9707968 (466)\ttotal: 1.28s\tremaining: 1.46s\n",
            "467:\tlearn: 2465.3113176\ttest: 3197.0863775\tbest: 3197.0863775 (467)\ttotal: 1.28s\tremaining: 1.45s\n",
            "468:\tlearn: 2462.3158196\ttest: 3192.7443861\tbest: 3192.7443861 (468)\ttotal: 1.28s\tremaining: 1.45s\n",
            "469:\tlearn: 2459.3892443\ttest: 3191.8216969\tbest: 3191.8216969 (469)\ttotal: 1.28s\tremaining: 1.45s\n",
            "470:\tlearn: 2455.8152109\ttest: 3189.0483322\tbest: 3189.0483322 (470)\ttotal: 1.28s\tremaining: 1.44s\n",
            "471:\tlearn: 2452.9884511\ttest: 3186.7859189\tbest: 3186.7859189 (471)\ttotal: 1.29s\tremaining: 1.44s\n",
            "472:\tlearn: 2451.4044611\ttest: 3184.7359895\tbest: 3184.7359895 (472)\ttotal: 1.29s\tremaining: 1.44s\n",
            "473:\tlearn: 2446.7207256\ttest: 3180.9661118\tbest: 3180.9661118 (473)\ttotal: 1.29s\tremaining: 1.43s\n",
            "474:\tlearn: 2442.0013373\ttest: 3176.1166207\tbest: 3176.1166207 (474)\ttotal: 1.29s\tremaining: 1.43s\n",
            "475:\tlearn: 2438.6406880\ttest: 3172.8875295\tbest: 3172.8875295 (475)\ttotal: 1.3s\tremaining: 1.43s\n",
            "476:\tlearn: 2434.8060465\ttest: 3168.6034308\tbest: 3168.6034308 (476)\ttotal: 1.3s\tremaining: 1.43s\n",
            "477:\tlearn: 2427.7550144\ttest: 3163.7114656\tbest: 3163.7114656 (477)\ttotal: 1.3s\tremaining: 1.42s\n",
            "478:\tlearn: 2425.0890937\ttest: 3162.9093692\tbest: 3162.9093692 (478)\ttotal: 1.3s\tremaining: 1.42s\n",
            "479:\tlearn: 2423.0176682\ttest: 3159.4255193\tbest: 3159.4255193 (479)\ttotal: 1.31s\tremaining: 1.42s\n",
            "480:\tlearn: 2422.1268682\ttest: 3158.2142191\tbest: 3158.2142191 (480)\ttotal: 1.31s\tremaining: 1.41s\n",
            "481:\tlearn: 2418.0286543\ttest: 3154.4350614\tbest: 3154.4350614 (481)\ttotal: 1.31s\tremaining: 1.41s\n",
            "482:\tlearn: 2414.6975977\ttest: 3151.8814995\tbest: 3151.8814995 (482)\ttotal: 1.31s\tremaining: 1.41s\n",
            "483:\tlearn: 2412.5575966\ttest: 3149.9452176\tbest: 3149.9452176 (483)\ttotal: 1.32s\tremaining: 1.4s\n",
            "484:\tlearn: 2411.0909426\ttest: 3147.8964555\tbest: 3147.8964555 (484)\ttotal: 1.32s\tremaining: 1.4s\n",
            "485:\tlearn: 2409.2173981\ttest: 3146.0478184\tbest: 3146.0478184 (485)\ttotal: 1.32s\tremaining: 1.4s\n",
            "486:\tlearn: 2405.6471993\ttest: 3144.1190559\tbest: 3144.1190559 (486)\ttotal: 1.32s\tremaining: 1.39s\n",
            "487:\tlearn: 2404.1723945\ttest: 3143.3304020\tbest: 3143.3304020 (487)\ttotal: 1.32s\tremaining: 1.39s\n",
            "488:\tlearn: 2402.4690953\ttest: 3141.4182856\tbest: 3141.4182856 (488)\ttotal: 1.33s\tremaining: 1.39s\n",
            "489:\tlearn: 2400.7250346\ttest: 3139.6511081\tbest: 3139.6511081 (489)\ttotal: 1.33s\tremaining: 1.38s\n",
            "490:\tlearn: 2394.4880030\ttest: 3135.5554274\tbest: 3135.5554274 (490)\ttotal: 1.33s\tremaining: 1.38s\n",
            "491:\tlearn: 2390.4471954\ttest: 3132.6451367\tbest: 3132.6451367 (491)\ttotal: 1.33s\tremaining: 1.38s\n",
            "492:\tlearn: 2388.0205777\ttest: 3130.7220257\tbest: 3130.7220257 (492)\ttotal: 1.34s\tremaining: 1.38s\n",
            "493:\tlearn: 2382.0135480\ttest: 3128.2523352\tbest: 3128.2523352 (493)\ttotal: 1.34s\tremaining: 1.37s\n",
            "494:\tlearn: 2379.9308321\ttest: 3126.8487243\tbest: 3126.8487243 (494)\ttotal: 1.34s\tremaining: 1.37s\n",
            "495:\tlearn: 2378.2959489\ttest: 3126.2134823\tbest: 3126.2134823 (495)\ttotal: 1.34s\tremaining: 1.36s\n",
            "496:\tlearn: 2376.7041896\ttest: 3124.8266642\tbest: 3124.8266642 (496)\ttotal: 1.35s\tremaining: 1.36s\n",
            "497:\tlearn: 2372.8224007\ttest: 3121.9522972\tbest: 3121.9522972 (497)\ttotal: 1.35s\tremaining: 1.36s\n",
            "498:\tlearn: 2370.7361302\ttest: 3120.1873463\tbest: 3120.1873463 (498)\ttotal: 1.35s\tremaining: 1.36s\n",
            "499:\tlearn: 2367.5251038\ttest: 3116.3327410\tbest: 3116.3327410 (499)\ttotal: 1.35s\tremaining: 1.35s\n",
            "500:\tlearn: 2365.0153596\ttest: 3114.7701642\tbest: 3114.7701642 (500)\ttotal: 1.35s\tremaining: 1.35s\n",
            "501:\tlearn: 2362.8830747\ttest: 3113.2869037\tbest: 3113.2869037 (501)\ttotal: 1.36s\tremaining: 1.35s\n",
            "502:\tlearn: 2353.4845509\ttest: 3103.2632363\tbest: 3103.2632363 (502)\ttotal: 1.36s\tremaining: 1.34s\n",
            "503:\tlearn: 2349.4538088\ttest: 3100.3874549\tbest: 3100.3874549 (503)\ttotal: 1.36s\tremaining: 1.34s\n",
            "504:\tlearn: 2348.4612620\ttest: 3099.4516924\tbest: 3099.4516924 (504)\ttotal: 1.36s\tremaining: 1.34s\n",
            "505:\tlearn: 2344.6711472\ttest: 3096.6803578\tbest: 3096.6803578 (505)\ttotal: 1.37s\tremaining: 1.33s\n",
            "506:\tlearn: 2342.8485747\ttest: 3093.0973232\tbest: 3093.0973232 (506)\ttotal: 1.37s\tremaining: 1.33s\n",
            "507:\tlearn: 2340.8494570\ttest: 3091.3554645\tbest: 3091.3554645 (507)\ttotal: 1.38s\tremaining: 1.33s\n",
            "508:\tlearn: 2340.0555174\ttest: 3090.2478343\tbest: 3090.2478343 (508)\ttotal: 1.38s\tremaining: 1.33s\n",
            "509:\tlearn: 2338.3880131\ttest: 3089.3425984\tbest: 3089.3425984 (509)\ttotal: 1.38s\tremaining: 1.33s\n",
            "510:\tlearn: 2334.9972828\ttest: 3087.0987481\tbest: 3087.0987481 (510)\ttotal: 1.38s\tremaining: 1.32s\n",
            "511:\tlearn: 2330.8232063\ttest: 3085.2438867\tbest: 3085.2438867 (511)\ttotal: 1.39s\tremaining: 1.32s\n",
            "512:\tlearn: 2327.7319380\ttest: 3081.6435304\tbest: 3081.6435304 (512)\ttotal: 1.39s\tremaining: 1.32s\n",
            "513:\tlearn: 2322.8592740\ttest: 3076.8715379\tbest: 3076.8715379 (513)\ttotal: 1.39s\tremaining: 1.31s\n",
            "514:\tlearn: 2318.7693721\ttest: 3072.2359018\tbest: 3072.2359018 (514)\ttotal: 1.39s\tremaining: 1.31s\n",
            "515:\tlearn: 2314.0914110\ttest: 3065.1530984\tbest: 3065.1530984 (515)\ttotal: 1.4s\tremaining: 1.31s\n",
            "516:\tlearn: 2310.8396403\ttest: 3063.4155802\tbest: 3063.4155802 (516)\ttotal: 1.4s\tremaining: 1.31s\n",
            "517:\tlearn: 2307.9542818\ttest: 3060.0400003\tbest: 3060.0400003 (517)\ttotal: 1.4s\tremaining: 1.3s\n",
            "518:\tlearn: 2303.3742710\ttest: 3056.4782003\tbest: 3056.4782003 (518)\ttotal: 1.4s\tremaining: 1.3s\n",
            "519:\tlearn: 2297.8945945\ttest: 3050.1410540\tbest: 3050.1410540 (519)\ttotal: 1.41s\tremaining: 1.3s\n",
            "520:\tlearn: 2292.0679279\ttest: 3046.0005104\tbest: 3046.0005104 (520)\ttotal: 1.41s\tremaining: 1.29s\n",
            "521:\tlearn: 2289.7300532\ttest: 3043.1471386\tbest: 3043.1471386 (521)\ttotal: 1.41s\tremaining: 1.29s\n",
            "522:\tlearn: 2288.2750729\ttest: 3042.2360041\tbest: 3042.2360041 (522)\ttotal: 1.41s\tremaining: 1.29s\n",
            "523:\tlearn: 2285.9329572\ttest: 3038.5247089\tbest: 3038.5247089 (523)\ttotal: 1.42s\tremaining: 1.29s\n",
            "524:\tlearn: 2283.2609321\ttest: 3034.4219956\tbest: 3034.4219956 (524)\ttotal: 1.42s\tremaining: 1.28s\n",
            "525:\tlearn: 2282.0164405\ttest: 3032.6837346\tbest: 3032.6837346 (525)\ttotal: 1.42s\tremaining: 1.28s\n",
            "526:\tlearn: 2278.6979795\ttest: 3030.4270786\tbest: 3030.4270786 (526)\ttotal: 1.42s\tremaining: 1.28s\n",
            "527:\tlearn: 2274.0606847\ttest: 3026.4764828\tbest: 3026.4764828 (527)\ttotal: 1.43s\tremaining: 1.27s\n",
            "528:\tlearn: 2272.0281982\ttest: 3024.5720991\tbest: 3024.5720991 (528)\ttotal: 1.43s\tremaining: 1.27s\n",
            "529:\tlearn: 2270.9443054\ttest: 3024.4279045\tbest: 3024.4279045 (529)\ttotal: 1.43s\tremaining: 1.27s\n",
            "530:\tlearn: 2268.9599629\ttest: 3026.0700764\tbest: 3024.4279045 (529)\ttotal: 1.43s\tremaining: 1.26s\n",
            "531:\tlearn: 2267.8589555\ttest: 3025.1353923\tbest: 3024.4279045 (529)\ttotal: 1.43s\tremaining: 1.26s\n",
            "532:\tlearn: 2263.7037123\ttest: 3023.4300357\tbest: 3023.4300357 (532)\ttotal: 1.44s\tremaining: 1.26s\n",
            "533:\tlearn: 2260.7725614\ttest: 3020.9492310\tbest: 3020.9492310 (533)\ttotal: 1.44s\tremaining: 1.25s\n",
            "534:\tlearn: 2257.4700989\ttest: 3019.8526529\tbest: 3019.8526529 (534)\ttotal: 1.44s\tremaining: 1.25s\n",
            "535:\tlearn: 2255.5547485\ttest: 3019.0133936\tbest: 3019.0133936 (535)\ttotal: 1.44s\tremaining: 1.25s\n",
            "536:\tlearn: 2252.2749733\ttest: 3015.4260094\tbest: 3015.4260094 (536)\ttotal: 1.45s\tremaining: 1.25s\n",
            "537:\tlearn: 2249.8558545\ttest: 3014.1037427\tbest: 3014.1037427 (537)\ttotal: 1.45s\tremaining: 1.24s\n",
            "538:\tlearn: 2247.6012827\ttest: 3012.2696223\tbest: 3012.2696223 (538)\ttotal: 1.45s\tremaining: 1.24s\n",
            "539:\tlearn: 2245.9054628\ttest: 3010.5157671\tbest: 3010.5157671 (539)\ttotal: 1.45s\tremaining: 1.24s\n",
            "540:\tlearn: 2244.5928260\ttest: 3009.5229892\tbest: 3009.5229892 (540)\ttotal: 1.46s\tremaining: 1.24s\n",
            "541:\tlearn: 2241.3040424\ttest: 3007.5458334\tbest: 3007.5458334 (541)\ttotal: 1.46s\tremaining: 1.23s\n",
            "542:\tlearn: 2238.0595064\ttest: 3004.0154996\tbest: 3004.0154996 (542)\ttotal: 1.46s\tremaining: 1.23s\n",
            "543:\tlearn: 2233.2160061\ttest: 2998.3066120\tbest: 2998.3066120 (543)\ttotal: 1.47s\tremaining: 1.23s\n",
            "544:\tlearn: 2228.6555669\ttest: 2993.5246597\tbest: 2993.5246597 (544)\ttotal: 1.47s\tremaining: 1.23s\n",
            "545:\tlearn: 2226.7013475\ttest: 2993.3704536\tbest: 2993.3704536 (545)\ttotal: 1.47s\tremaining: 1.22s\n",
            "546:\tlearn: 2224.2478835\ttest: 2992.1609437\tbest: 2992.1609437 (546)\ttotal: 1.47s\tremaining: 1.22s\n",
            "547:\tlearn: 2220.9014807\ttest: 2990.6949518\tbest: 2990.6949518 (547)\ttotal: 1.48s\tremaining: 1.22s\n",
            "548:\tlearn: 2219.0772429\ttest: 2989.4913165\tbest: 2989.4913165 (548)\ttotal: 1.48s\tremaining: 1.21s\n",
            "549:\tlearn: 2216.5650055\ttest: 2988.1042211\tbest: 2988.1042211 (549)\ttotal: 1.48s\tremaining: 1.21s\n",
            "550:\tlearn: 2214.7975472\ttest: 2986.4555360\tbest: 2986.4555360 (550)\ttotal: 1.48s\tremaining: 1.21s\n",
            "551:\tlearn: 2213.2779185\ttest: 2984.8560365\tbest: 2984.8560365 (551)\ttotal: 1.49s\tremaining: 1.21s\n",
            "552:\tlearn: 2210.8636870\ttest: 2986.5525558\tbest: 2984.8560365 (551)\ttotal: 1.49s\tremaining: 1.2s\n",
            "553:\tlearn: 2209.2906285\ttest: 2985.5338615\tbest: 2984.8560365 (551)\ttotal: 1.49s\tremaining: 1.2s\n",
            "554:\tlearn: 2206.1902082\ttest: 2982.2639998\tbest: 2982.2639998 (554)\ttotal: 1.49s\tremaining: 1.2s\n",
            "555:\tlearn: 2204.0340833\ttest: 2980.6626050\tbest: 2980.6626050 (555)\ttotal: 1.49s\tremaining: 1.19s\n",
            "556:\tlearn: 2199.2801911\ttest: 2977.2797227\tbest: 2977.2797227 (556)\ttotal: 1.5s\tremaining: 1.19s\n",
            "557:\tlearn: 2195.8536574\ttest: 2974.7641189\tbest: 2974.7641189 (557)\ttotal: 1.5s\tremaining: 1.19s\n",
            "558:\tlearn: 2193.0042396\ttest: 2974.2567514\tbest: 2974.2567514 (558)\ttotal: 1.5s\tremaining: 1.19s\n",
            "559:\tlearn: 2188.4027161\ttest: 2968.2842514\tbest: 2968.2842514 (559)\ttotal: 1.5s\tremaining: 1.18s\n",
            "560:\tlearn: 2186.4355082\ttest: 2965.9998130\tbest: 2965.9998130 (560)\ttotal: 1.51s\tremaining: 1.18s\n",
            "561:\tlearn: 2181.9756845\ttest: 2961.2570313\tbest: 2961.2570313 (561)\ttotal: 1.51s\tremaining: 1.18s\n",
            "562:\tlearn: 2181.3349752\ttest: 2960.7697521\tbest: 2960.7697521 (562)\ttotal: 1.51s\tremaining: 1.17s\n",
            "563:\tlearn: 2180.6835261\ttest: 2960.2748756\tbest: 2960.2748756 (563)\ttotal: 1.51s\tremaining: 1.17s\n",
            "564:\tlearn: 2177.2217317\ttest: 2957.5663341\tbest: 2957.5663341 (564)\ttotal: 1.51s\tremaining: 1.17s\n",
            "565:\tlearn: 2176.6039617\ttest: 2957.0934085\tbest: 2957.0934085 (565)\ttotal: 1.52s\tremaining: 1.16s\n",
            "566:\tlearn: 2174.2617785\ttest: 2954.4642151\tbest: 2954.4642151 (566)\ttotal: 1.52s\tremaining: 1.16s\n",
            "567:\tlearn: 2171.4850675\ttest: 2952.7281000\tbest: 2952.7281000 (567)\ttotal: 1.52s\tremaining: 1.16s\n",
            "568:\tlearn: 2168.8985297\ttest: 2950.8836566\tbest: 2950.8836566 (568)\ttotal: 1.52s\tremaining: 1.16s\n",
            "569:\tlearn: 2165.7341673\ttest: 2949.4085332\tbest: 2949.4085332 (569)\ttotal: 1.53s\tremaining: 1.15s\n",
            "570:\tlearn: 2163.9747288\ttest: 2948.9728459\tbest: 2948.9728459 (570)\ttotal: 1.53s\tremaining: 1.15s\n",
            "571:\tlearn: 2161.3775331\ttest: 2947.2005789\tbest: 2947.2005789 (571)\ttotal: 1.53s\tremaining: 1.15s\n",
            "572:\tlearn: 2157.1996698\ttest: 2941.7682604\tbest: 2941.7682604 (572)\ttotal: 1.53s\tremaining: 1.14s\n",
            "573:\tlearn: 2156.3498099\ttest: 2941.3251608\tbest: 2941.3251608 (573)\ttotal: 1.54s\tremaining: 1.14s\n",
            "574:\tlearn: 2153.4786332\ttest: 2939.7727957\tbest: 2939.7727957 (574)\ttotal: 1.54s\tremaining: 1.14s\n",
            "575:\tlearn: 2149.3753237\ttest: 2935.5106032\tbest: 2935.5106032 (575)\ttotal: 1.54s\tremaining: 1.14s\n",
            "576:\tlearn: 2146.3162125\ttest: 2933.1221711\tbest: 2933.1221711 (576)\ttotal: 1.54s\tremaining: 1.13s\n",
            "577:\tlearn: 2144.6046389\ttest: 2931.1624031\tbest: 2931.1624031 (577)\ttotal: 1.55s\tremaining: 1.13s\n",
            "578:\tlearn: 2142.9241678\ttest: 2930.3768485\tbest: 2930.3768485 (578)\ttotal: 1.55s\tremaining: 1.13s\n",
            "579:\tlearn: 2139.3181467\ttest: 2927.0506799\tbest: 2927.0506799 (579)\ttotal: 1.55s\tremaining: 1.12s\n",
            "580:\tlearn: 2136.4270061\ttest: 2925.8048029\tbest: 2925.8048029 (580)\ttotal: 1.55s\tremaining: 1.12s\n",
            "581:\tlearn: 2134.0070108\ttest: 2923.5857617\tbest: 2923.5857617 (581)\ttotal: 1.56s\tremaining: 1.12s\n",
            "582:\tlearn: 2130.8581561\ttest: 2923.9995189\tbest: 2923.5857617 (581)\ttotal: 1.56s\tremaining: 1.11s\n",
            "583:\tlearn: 2127.4880572\ttest: 2920.2289194\tbest: 2920.2289194 (583)\ttotal: 1.57s\tremaining: 1.11s\n",
            "584:\tlearn: 2124.4736310\ttest: 2918.0695920\tbest: 2918.0695920 (584)\ttotal: 1.57s\tremaining: 1.11s\n",
            "585:\tlearn: 2120.7092851\ttest: 2914.8885750\tbest: 2914.8885750 (585)\ttotal: 1.57s\tremaining: 1.11s\n",
            "586:\tlearn: 2117.9393110\ttest: 2912.8567474\tbest: 2912.8567474 (586)\ttotal: 1.57s\tremaining: 1.11s\n",
            "587:\tlearn: 2115.7593224\ttest: 2911.4774708\tbest: 2911.4774708 (587)\ttotal: 1.58s\tremaining: 1.1s\n",
            "588:\tlearn: 2107.3335594\ttest: 2903.7427494\tbest: 2903.7427494 (588)\ttotal: 1.58s\tremaining: 1.1s\n",
            "589:\tlearn: 2105.7287341\ttest: 2902.9192465\tbest: 2902.9192465 (589)\ttotal: 1.58s\tremaining: 1.1s\n",
            "590:\tlearn: 2103.8428000\ttest: 2899.9582875\tbest: 2899.9582875 (590)\ttotal: 1.58s\tremaining: 1.1s\n",
            "591:\tlearn: 2102.4672982\ttest: 2898.7468631\tbest: 2898.7468631 (591)\ttotal: 1.58s\tremaining: 1.09s\n",
            "592:\tlearn: 2100.2854376\ttest: 2898.5963298\tbest: 2898.5963298 (592)\ttotal: 1.59s\tremaining: 1.09s\n",
            "593:\tlearn: 2097.7017249\ttest: 2897.2943254\tbest: 2897.2943254 (593)\ttotal: 1.59s\tremaining: 1.09s\n",
            "594:\tlearn: 2095.5867341\ttest: 2895.8970497\tbest: 2895.8970497 (594)\ttotal: 1.59s\tremaining: 1.08s\n",
            "595:\tlearn: 2093.3885927\ttest: 2894.2049938\tbest: 2894.2049938 (595)\ttotal: 1.59s\tremaining: 1.08s\n",
            "596:\tlearn: 2090.2983998\ttest: 2892.0366673\tbest: 2892.0366673 (596)\ttotal: 1.6s\tremaining: 1.08s\n",
            "597:\tlearn: 2087.9212689\ttest: 2890.9419261\tbest: 2890.9419261 (597)\ttotal: 1.6s\tremaining: 1.07s\n",
            "598:\tlearn: 2084.9852109\ttest: 2888.8581189\tbest: 2888.8581189 (598)\ttotal: 1.6s\tremaining: 1.07s\n",
            "599:\tlearn: 2082.3857863\ttest: 2887.2946102\tbest: 2887.2946102 (599)\ttotal: 1.6s\tremaining: 1.07s\n",
            "600:\tlearn: 2080.8023703\ttest: 2886.2045650\tbest: 2886.2045650 (600)\ttotal: 1.61s\tremaining: 1.07s\n",
            "601:\tlearn: 2079.4363860\ttest: 2886.1497554\tbest: 2886.1497554 (601)\ttotal: 1.61s\tremaining: 1.06s\n",
            "602:\tlearn: 2077.1560575\ttest: 2885.3693416\tbest: 2885.3693416 (602)\ttotal: 1.61s\tremaining: 1.06s\n",
            "603:\tlearn: 2075.6920125\ttest: 2883.9119037\tbest: 2883.9119037 (603)\ttotal: 1.61s\tremaining: 1.06s\n",
            "604:\tlearn: 2073.2128585\ttest: 2880.8640901\tbest: 2880.8640901 (604)\ttotal: 1.62s\tremaining: 1.05s\n",
            "605:\tlearn: 2071.9185807\ttest: 2879.5307640\tbest: 2879.5307640 (605)\ttotal: 1.62s\tremaining: 1.05s\n",
            "606:\tlearn: 2070.3901691\ttest: 2879.0880819\tbest: 2879.0880819 (606)\ttotal: 1.62s\tremaining: 1.05s\n",
            "607:\tlearn: 2069.2029669\ttest: 2877.8625349\tbest: 2877.8625349 (607)\ttotal: 1.62s\tremaining: 1.05s\n",
            "608:\tlearn: 2067.6855879\ttest: 2877.2943676\tbest: 2877.2943676 (608)\ttotal: 1.63s\tremaining: 1.04s\n",
            "609:\tlearn: 2066.9144318\ttest: 2877.1215818\tbest: 2877.1215818 (609)\ttotal: 1.63s\tremaining: 1.04s\n",
            "610:\tlearn: 2065.9450115\ttest: 2875.3917359\tbest: 2875.3917359 (610)\ttotal: 1.63s\tremaining: 1.04s\n",
            "611:\tlearn: 2064.2833365\ttest: 2873.5602928\tbest: 2873.5602928 (611)\ttotal: 1.63s\tremaining: 1.03s\n",
            "612:\tlearn: 2062.9234249\ttest: 2872.5815362\tbest: 2872.5815362 (612)\ttotal: 1.63s\tremaining: 1.03s\n",
            "613:\tlearn: 2061.2406716\ttest: 2871.4871770\tbest: 2871.4871770 (613)\ttotal: 1.64s\tremaining: 1.03s\n",
            "614:\tlearn: 2055.1697148\ttest: 2866.2229253\tbest: 2866.2229253 (614)\ttotal: 1.64s\tremaining: 1.03s\n",
            "615:\tlearn: 2053.3139088\ttest: 2865.2796705\tbest: 2865.2796705 (615)\ttotal: 1.64s\tremaining: 1.02s\n",
            "616:\tlearn: 2049.7126056\ttest: 2862.8671681\tbest: 2862.8671681 (616)\ttotal: 1.64s\tremaining: 1.02s\n",
            "617:\tlearn: 2048.6331875\ttest: 2861.8678383\tbest: 2861.8678383 (617)\ttotal: 1.65s\tremaining: 1.02s\n",
            "618:\tlearn: 2043.7946945\ttest: 2857.6058651\tbest: 2857.6058651 (618)\ttotal: 1.65s\tremaining: 1.01s\n",
            "619:\tlearn: 2039.8977689\ttest: 2851.9624993\tbest: 2851.9624993 (619)\ttotal: 1.65s\tremaining: 1.01s\n",
            "620:\tlearn: 2037.9362738\ttest: 2849.5463094\tbest: 2849.5463094 (620)\ttotal: 1.65s\tremaining: 1.01s\n",
            "621:\tlearn: 2036.1775217\ttest: 2848.2741604\tbest: 2848.2741604 (621)\ttotal: 1.66s\tremaining: 1.01s\n",
            "622:\tlearn: 2035.6283385\ttest: 2848.2497723\tbest: 2848.2497723 (622)\ttotal: 1.66s\tremaining: 1s\n",
            "623:\tlearn: 2034.5711906\ttest: 2847.0356654\tbest: 2847.0356654 (623)\ttotal: 1.66s\tremaining: 1s\n",
            "624:\tlearn: 2030.8972618\ttest: 2843.2765938\tbest: 2843.2765938 (624)\ttotal: 1.66s\tremaining: 998ms\n",
            "625:\tlearn: 2028.3934186\ttest: 2841.4766210\tbest: 2841.4766210 (625)\ttotal: 1.67s\tremaining: 995ms\n",
            "626:\tlearn: 2027.9119847\ttest: 2841.1249129\tbest: 2841.1249129 (626)\ttotal: 1.67s\tremaining: 992ms\n",
            "627:\tlearn: 2024.7564147\ttest: 2837.1629069\tbest: 2837.1629069 (627)\ttotal: 1.67s\tremaining: 989ms\n",
            "628:\tlearn: 2022.1889591\ttest: 2835.1270851\tbest: 2835.1270851 (628)\ttotal: 1.67s\tremaining: 986ms\n",
            "629:\tlearn: 2020.0612262\ttest: 2835.0206685\tbest: 2835.0206685 (629)\ttotal: 1.67s\tremaining: 983ms\n",
            "630:\tlearn: 2019.0648786\ttest: 2834.5645414\tbest: 2834.5645414 (630)\ttotal: 1.68s\tremaining: 981ms\n",
            "631:\tlearn: 2017.6670674\ttest: 2833.2677643\tbest: 2833.2677643 (631)\ttotal: 1.68s\tremaining: 978ms\n",
            "632:\tlearn: 2016.9676300\ttest: 2833.0047817\tbest: 2833.0047817 (632)\ttotal: 1.68s\tremaining: 975ms\n",
            "633:\tlearn: 2015.3798765\ttest: 2831.5718643\tbest: 2831.5718643 (633)\ttotal: 1.68s\tremaining: 972ms\n",
            "634:\tlearn: 2013.4520605\ttest: 2830.2616923\tbest: 2830.2616923 (634)\ttotal: 1.69s\tremaining: 969ms\n",
            "635:\tlearn: 2011.6222357\ttest: 2831.6908057\tbest: 2830.2616923 (634)\ttotal: 1.69s\tremaining: 966ms\n",
            "636:\tlearn: 2008.9313401\ttest: 2831.1875911\tbest: 2830.2616923 (634)\ttotal: 1.69s\tremaining: 963ms\n",
            "637:\tlearn: 2007.0629371\ttest: 2830.8134192\tbest: 2830.2616923 (634)\ttotal: 1.69s\tremaining: 960ms\n",
            "638:\tlearn: 2004.6099337\ttest: 2828.2431667\tbest: 2828.2431667 (638)\ttotal: 1.7s\tremaining: 958ms\n",
            "639:\tlearn: 2001.3577843\ttest: 2826.8153991\tbest: 2826.8153991 (639)\ttotal: 1.7s\tremaining: 955ms\n",
            "640:\tlearn: 1999.1983900\ttest: 2825.5501180\tbest: 2825.5501180 (640)\ttotal: 1.7s\tremaining: 952ms\n",
            "641:\tlearn: 1997.8818810\ttest: 2825.1219216\tbest: 2825.1219216 (641)\ttotal: 1.7s\tremaining: 950ms\n",
            "642:\tlearn: 1994.6975034\ttest: 2822.6268480\tbest: 2822.6268480 (642)\ttotal: 1.71s\tremaining: 947ms\n",
            "643:\tlearn: 1992.2552371\ttest: 2821.5302357\tbest: 2821.5302357 (643)\ttotal: 1.71s\tremaining: 944ms\n",
            "644:\tlearn: 1990.5014894\ttest: 2819.9843762\tbest: 2819.9843762 (644)\ttotal: 1.71s\tremaining: 941ms\n",
            "645:\tlearn: 1989.3322756\ttest: 2819.1564976\tbest: 2819.1564976 (645)\ttotal: 1.71s\tremaining: 938ms\n",
            "646:\tlearn: 1986.8832778\ttest: 2817.4418956\tbest: 2817.4418956 (646)\ttotal: 1.71s\tremaining: 935ms\n",
            "647:\tlearn: 1983.2665629\ttest: 2815.1081224\tbest: 2815.1081224 (647)\ttotal: 1.72s\tremaining: 933ms\n",
            "648:\tlearn: 1979.8337532\ttest: 2812.3164308\tbest: 2812.3164308 (648)\ttotal: 1.72s\tremaining: 930ms\n",
            "649:\tlearn: 1977.8338410\ttest: 2809.5019223\tbest: 2809.5019223 (649)\ttotal: 1.72s\tremaining: 927ms\n",
            "650:\tlearn: 1975.6399073\ttest: 2807.1861867\tbest: 2807.1861867 (650)\ttotal: 1.72s\tremaining: 924ms\n",
            "651:\tlearn: 1969.4705057\ttest: 2800.5398986\tbest: 2800.5398986 (651)\ttotal: 1.73s\tremaining: 921ms\n",
            "652:\tlearn: 1966.1148757\ttest: 2798.1027900\tbest: 2798.1027900 (652)\ttotal: 1.73s\tremaining: 919ms\n",
            "653:\tlearn: 1964.2922178\ttest: 2795.9259338\tbest: 2795.9259338 (653)\ttotal: 1.73s\tremaining: 916ms\n",
            "654:\tlearn: 1962.2481150\ttest: 2794.1118973\tbest: 2794.1118973 (654)\ttotal: 1.73s\tremaining: 913ms\n",
            "655:\tlearn: 1959.7518146\ttest: 2793.0080288\tbest: 2793.0080288 (655)\ttotal: 1.74s\tremaining: 910ms\n",
            "656:\tlearn: 1956.3109505\ttest: 2790.8288070\tbest: 2790.8288070 (656)\ttotal: 1.74s\tremaining: 907ms\n",
            "657:\tlearn: 1955.1789567\ttest: 2789.7935588\tbest: 2789.7935588 (657)\ttotal: 1.74s\tremaining: 905ms\n",
            "658:\tlearn: 1953.7496269\ttest: 2789.0546174\tbest: 2789.0546174 (658)\ttotal: 1.74s\tremaining: 902ms\n",
            "659:\tlearn: 1951.6096557\ttest: 2786.8693493\tbest: 2786.8693493 (659)\ttotal: 1.75s\tremaining: 899ms\n",
            "660:\tlearn: 1949.4847796\ttest: 2785.1700838\tbest: 2785.1700838 (660)\ttotal: 1.75s\tremaining: 897ms\n",
            "661:\tlearn: 1946.3807963\ttest: 2782.9403497\tbest: 2782.9403497 (661)\ttotal: 1.75s\tremaining: 894ms\n",
            "662:\tlearn: 1945.4645059\ttest: 2782.3107455\tbest: 2782.3107455 (662)\ttotal: 1.75s\tremaining: 891ms\n",
            "663:\tlearn: 1944.4327420\ttest: 2781.8471522\tbest: 2781.8471522 (663)\ttotal: 1.75s\tremaining: 888ms\n",
            "664:\tlearn: 1942.5641358\ttest: 2781.9448620\tbest: 2781.8471522 (663)\ttotal: 1.76s\tremaining: 886ms\n",
            "665:\tlearn: 1939.7017570\ttest: 2780.4101243\tbest: 2780.4101243 (665)\ttotal: 1.77s\tremaining: 887ms\n",
            "666:\tlearn: 1937.8053093\ttest: 2777.7487270\tbest: 2777.7487270 (666)\ttotal: 1.77s\tremaining: 884ms\n",
            "667:\tlearn: 1933.8653463\ttest: 2773.8022972\tbest: 2773.8022972 (667)\ttotal: 1.77s\tremaining: 881ms\n",
            "668:\tlearn: 1931.6453367\ttest: 2771.4335283\tbest: 2771.4335283 (668)\ttotal: 1.77s\tremaining: 878ms\n",
            "669:\tlearn: 1929.4442531\ttest: 2770.1500827\tbest: 2770.1500827 (669)\ttotal: 1.78s\tremaining: 875ms\n",
            "670:\tlearn: 1927.3633488\ttest: 2768.8656272\tbest: 2768.8656272 (670)\ttotal: 1.78s\tremaining: 872ms\n",
            "671:\tlearn: 1925.3145394\ttest: 2767.6981230\tbest: 2767.6981230 (671)\ttotal: 1.78s\tremaining: 870ms\n",
            "672:\tlearn: 1923.2678281\ttest: 2764.7872049\tbest: 2764.7872049 (672)\ttotal: 1.78s\tremaining: 867ms\n",
            "673:\tlearn: 1921.6788945\ttest: 2762.8448679\tbest: 2762.8448679 (673)\ttotal: 1.79s\tremaining: 864ms\n",
            "674:\tlearn: 1918.2041690\ttest: 2759.1846768\tbest: 2759.1846768 (674)\ttotal: 1.79s\tremaining: 861ms\n",
            "675:\tlearn: 1916.4562006\ttest: 2756.8031338\tbest: 2756.8031338 (675)\ttotal: 1.79s\tremaining: 858ms\n",
            "676:\tlearn: 1914.2649260\ttest: 2755.4381460\tbest: 2755.4381460 (676)\ttotal: 1.79s\tremaining: 856ms\n",
            "677:\tlearn: 1912.1578331\ttest: 2754.0970445\tbest: 2754.0970445 (677)\ttotal: 1.79s\tremaining: 853ms\n",
            "678:\tlearn: 1909.0299772\ttest: 2750.9621616\tbest: 2750.9621616 (678)\ttotal: 1.8s\tremaining: 850ms\n",
            "679:\tlearn: 1907.8602866\ttest: 2750.0491901\tbest: 2750.0491901 (679)\ttotal: 1.8s\tremaining: 847ms\n",
            "680:\tlearn: 1904.7607194\ttest: 2748.1850154\tbest: 2748.1850154 (680)\ttotal: 1.8s\tremaining: 844ms\n",
            "681:\tlearn: 1904.0746630\ttest: 2747.5457228\tbest: 2747.5457228 (681)\ttotal: 1.8s\tremaining: 842ms\n",
            "682:\tlearn: 1903.1827434\ttest: 2747.6681488\tbest: 2747.5457228 (681)\ttotal: 1.81s\tremaining: 839ms\n",
            "683:\tlearn: 1899.3491974\ttest: 2745.8107579\tbest: 2745.8107579 (683)\ttotal: 1.81s\tremaining: 836ms\n",
            "684:\tlearn: 1896.8608812\ttest: 2742.2125605\tbest: 2742.2125605 (684)\ttotal: 1.81s\tremaining: 833ms\n",
            "685:\tlearn: 1896.1096327\ttest: 2741.9262648\tbest: 2741.9262648 (685)\ttotal: 1.81s\tremaining: 830ms\n",
            "686:\tlearn: 1893.6628902\ttest: 2739.6334477\tbest: 2739.6334477 (686)\ttotal: 1.82s\tremaining: 828ms\n",
            "687:\tlearn: 1890.7662062\ttest: 2737.7197271\tbest: 2737.7197271 (687)\ttotal: 1.82s\tremaining: 825ms\n",
            "688:\tlearn: 1887.8535921\ttest: 2734.6036427\tbest: 2734.6036427 (688)\ttotal: 1.82s\tremaining: 822ms\n",
            "689:\tlearn: 1885.6194313\ttest: 2733.4840016\tbest: 2733.4840016 (689)\ttotal: 1.82s\tremaining: 819ms\n",
            "690:\tlearn: 1880.7700529\ttest: 2730.2114142\tbest: 2730.2114142 (690)\ttotal: 1.83s\tremaining: 817ms\n",
            "691:\tlearn: 1878.2398453\ttest: 2729.0138045\tbest: 2729.0138045 (691)\ttotal: 1.83s\tremaining: 814ms\n",
            "692:\tlearn: 1874.9476574\ttest: 2727.0734597\tbest: 2727.0734597 (692)\ttotal: 1.83s\tremaining: 811ms\n",
            "693:\tlearn: 1873.1501363\ttest: 2726.0672252\tbest: 2726.0672252 (693)\ttotal: 1.83s\tremaining: 808ms\n",
            "694:\tlearn: 1870.5230774\ttest: 2723.7134190\tbest: 2723.7134190 (694)\ttotal: 1.83s\tremaining: 806ms\n",
            "695:\tlearn: 1868.7116868\ttest: 2722.9781535\tbest: 2722.9781535 (695)\ttotal: 1.84s\tremaining: 803ms\n",
            "696:\tlearn: 1868.2967477\ttest: 2722.6601850\tbest: 2722.6601850 (696)\ttotal: 1.84s\tremaining: 800ms\n",
            "697:\tlearn: 1867.4658744\ttest: 2722.4395789\tbest: 2722.4395789 (697)\ttotal: 1.84s\tremaining: 797ms\n",
            "698:\tlearn: 1866.4282301\ttest: 2721.7306370\tbest: 2721.7306370 (698)\ttotal: 1.84s\tremaining: 794ms\n",
            "699:\tlearn: 1865.1136120\ttest: 2721.4523598\tbest: 2721.4523598 (699)\ttotal: 1.85s\tremaining: 792ms\n",
            "700:\tlearn: 1861.6501712\ttest: 2718.1434616\tbest: 2718.1434616 (700)\ttotal: 1.85s\tremaining: 789ms\n",
            "701:\tlearn: 1859.7952852\ttest: 2716.1462646\tbest: 2716.1462646 (701)\ttotal: 1.85s\tremaining: 786ms\n",
            "702:\tlearn: 1858.3973479\ttest: 2715.6010468\tbest: 2715.6010468 (702)\ttotal: 1.85s\tremaining: 783ms\n",
            "703:\tlearn: 1857.8579090\ttest: 2715.1358720\tbest: 2715.1358720 (703)\ttotal: 1.86s\tremaining: 780ms\n",
            "704:\tlearn: 1852.3448161\ttest: 2709.5498856\tbest: 2709.5498856 (704)\ttotal: 1.86s\tremaining: 778ms\n",
            "705:\tlearn: 1851.0292368\ttest: 2708.7952186\tbest: 2708.7952186 (705)\ttotal: 1.86s\tremaining: 775ms\n",
            "706:\tlearn: 1850.3647208\ttest: 2708.2766567\tbest: 2708.2766567 (706)\ttotal: 1.86s\tremaining: 772ms\n",
            "707:\tlearn: 1847.7234221\ttest: 2705.8713808\tbest: 2705.8713808 (707)\ttotal: 1.86s\tremaining: 769ms\n",
            "708:\tlearn: 1845.9507187\ttest: 2704.7054515\tbest: 2704.7054515 (708)\ttotal: 1.87s\tremaining: 767ms\n",
            "709:\tlearn: 1843.2617801\ttest: 2702.7612109\tbest: 2702.7612109 (709)\ttotal: 1.87s\tremaining: 764ms\n",
            "710:\tlearn: 1840.6081784\ttest: 2699.8650427\tbest: 2699.8650427 (710)\ttotal: 1.87s\tremaining: 761ms\n",
            "711:\tlearn: 1838.0204251\ttest: 2696.7063294\tbest: 2696.7063294 (711)\ttotal: 1.87s\tremaining: 758ms\n",
            "712:\tlearn: 1836.4394619\ttest: 2695.6693047\tbest: 2695.6693047 (712)\ttotal: 1.88s\tremaining: 756ms\n",
            "713:\tlearn: 1834.3250936\ttest: 2693.8109478\tbest: 2693.8109478 (713)\ttotal: 1.88s\tremaining: 753ms\n",
            "714:\tlearn: 1832.9111463\ttest: 2691.9001911\tbest: 2691.9001911 (714)\ttotal: 1.88s\tremaining: 750ms\n",
            "715:\tlearn: 1828.0455245\ttest: 2686.8936791\tbest: 2686.8936791 (715)\ttotal: 1.88s\tremaining: 747ms\n",
            "716:\tlearn: 1826.3299768\ttest: 2685.7309210\tbest: 2685.7309210 (716)\ttotal: 1.89s\tremaining: 745ms\n",
            "717:\tlearn: 1822.9358123\ttest: 2683.4510856\tbest: 2683.4510856 (717)\ttotal: 1.89s\tremaining: 742ms\n",
            "718:\tlearn: 1818.3161204\ttest: 2678.6652644\tbest: 2678.6652644 (718)\ttotal: 1.93s\tremaining: 753ms\n",
            "719:\tlearn: 1816.9170177\ttest: 2676.9963171\tbest: 2676.9963171 (719)\ttotal: 1.93s\tremaining: 750ms\n",
            "720:\tlearn: 1814.1529925\ttest: 2674.3657684\tbest: 2674.3657684 (720)\ttotal: 1.94s\tremaining: 749ms\n",
            "721:\tlearn: 1812.4993413\ttest: 2673.4736746\tbest: 2673.4736746 (721)\ttotal: 1.94s\tremaining: 749ms\n",
            "722:\tlearn: 1809.1576986\ttest: 2670.1083712\tbest: 2670.1083712 (722)\ttotal: 1.95s\tremaining: 748ms\n",
            "723:\tlearn: 1807.5395646\ttest: 2668.4831003\tbest: 2668.4831003 (723)\ttotal: 1.96s\tremaining: 748ms\n",
            "724:\tlearn: 1806.0174621\ttest: 2667.7064986\tbest: 2667.7064986 (724)\ttotal: 1.97s\tremaining: 746ms\n",
            "725:\tlearn: 1804.8316188\ttest: 2665.7974901\tbest: 2665.7974901 (725)\ttotal: 1.97s\tremaining: 745ms\n",
            "726:\tlearn: 1801.6486373\ttest: 2662.6764637\tbest: 2662.6764637 (726)\ttotal: 1.99s\tremaining: 746ms\n",
            "727:\tlearn: 1799.5057204\ttest: 2660.6664189\tbest: 2660.6664189 (727)\ttotal: 1.99s\tremaining: 744ms\n",
            "728:\tlearn: 1798.0732312\ttest: 2660.0677887\tbest: 2660.0677887 (728)\ttotal: 1.99s\tremaining: 741ms\n",
            "729:\tlearn: 1796.2560196\ttest: 2658.7845863\tbest: 2658.7845863 (729)\ttotal: 2s\tremaining: 739ms\n",
            "730:\tlearn: 1794.7856108\ttest: 2657.8727389\tbest: 2657.8727389 (730)\ttotal: 2s\tremaining: 736ms\n",
            "731:\tlearn: 1792.1011931\ttest: 2658.8008511\tbest: 2657.8727389 (730)\ttotal: 2s\tremaining: 733ms\n",
            "732:\tlearn: 1790.2661019\ttest: 2657.2167851\tbest: 2657.2167851 (732)\ttotal: 2s\tremaining: 730ms\n",
            "733:\tlearn: 1786.1741535\ttest: 2653.9975848\tbest: 2653.9975848 (733)\ttotal: 2.01s\tremaining: 727ms\n",
            "734:\tlearn: 1783.9373251\ttest: 2651.9579868\tbest: 2651.9579868 (734)\ttotal: 2.01s\tremaining: 724ms\n",
            "735:\tlearn: 1779.4354476\ttest: 2647.9366511\tbest: 2647.9366511 (735)\ttotal: 2.01s\tremaining: 721ms\n",
            "736:\tlearn: 1777.6972219\ttest: 2647.5584470\tbest: 2647.5584470 (736)\ttotal: 2.01s\tremaining: 718ms\n",
            "737:\tlearn: 1776.6482782\ttest: 2647.0076081\tbest: 2647.0076081 (737)\ttotal: 2.02s\tremaining: 716ms\n",
            "738:\tlearn: 1774.5429500\ttest: 2646.4810482\tbest: 2646.4810482 (738)\ttotal: 2.02s\tremaining: 713ms\n",
            "739:\tlearn: 1771.5323288\ttest: 2644.8694602\tbest: 2644.8694602 (739)\ttotal: 2.02s\tremaining: 711ms\n",
            "740:\tlearn: 1770.2031582\ttest: 2643.4364112\tbest: 2643.4364112 (740)\ttotal: 2.03s\tremaining: 708ms\n",
            "741:\tlearn: 1768.4148893\ttest: 2641.1305022\tbest: 2641.1305022 (741)\ttotal: 2.03s\tremaining: 705ms\n",
            "742:\tlearn: 1766.7910530\ttest: 2640.3629080\tbest: 2640.3629080 (742)\ttotal: 2.03s\tremaining: 703ms\n",
            "743:\tlearn: 1764.1653627\ttest: 2637.9305865\tbest: 2637.9305865 (743)\ttotal: 2.03s\tremaining: 700ms\n",
            "744:\tlearn: 1763.7930248\ttest: 2637.3877640\tbest: 2637.3877640 (744)\ttotal: 2.04s\tremaining: 697ms\n",
            "745:\tlearn: 1763.4199210\ttest: 2636.5227513\tbest: 2636.5227513 (745)\ttotal: 2.04s\tremaining: 694ms\n",
            "746:\tlearn: 1760.7922380\ttest: 2634.6796162\tbest: 2634.6796162 (746)\ttotal: 2.04s\tremaining: 691ms\n",
            "747:\tlearn: 1759.5362577\ttest: 2634.3953178\tbest: 2634.3953178 (747)\ttotal: 2.04s\tremaining: 688ms\n",
            "748:\tlearn: 1757.7016641\ttest: 2632.9636019\tbest: 2632.9636019 (748)\ttotal: 2.04s\tremaining: 685ms\n",
            "749:\tlearn: 1756.4575754\ttest: 2631.4516859\tbest: 2631.4516859 (749)\ttotal: 2.05s\tremaining: 682ms\n",
            "750:\tlearn: 1754.6185626\ttest: 2629.3871503\tbest: 2629.3871503 (750)\ttotal: 2.05s\tremaining: 680ms\n",
            "751:\tlearn: 1753.5853102\ttest: 2628.9495597\tbest: 2628.9495597 (751)\ttotal: 2.05s\tremaining: 677ms\n",
            "752:\tlearn: 1751.2688317\ttest: 2626.7932045\tbest: 2626.7932045 (752)\ttotal: 2.05s\tremaining: 674ms\n",
            "753:\tlearn: 1749.5128477\ttest: 2626.4224449\tbest: 2626.4224449 (753)\ttotal: 2.06s\tremaining: 671ms\n",
            "754:\tlearn: 1747.4628158\ttest: 2624.0463162\tbest: 2624.0463162 (754)\ttotal: 2.06s\tremaining: 668ms\n",
            "755:\tlearn: 1746.4218770\ttest: 2623.0524147\tbest: 2623.0524147 (755)\ttotal: 2.06s\tremaining: 665ms\n",
            "756:\tlearn: 1744.2304369\ttest: 2621.0298882\tbest: 2621.0298882 (756)\ttotal: 2.06s\tremaining: 663ms\n",
            "757:\tlearn: 1743.8136979\ttest: 2620.6802466\tbest: 2620.6802466 (757)\ttotal: 2.07s\tremaining: 660ms\n",
            "758:\tlearn: 1743.1449089\ttest: 2620.7528107\tbest: 2620.6802466 (757)\ttotal: 2.07s\tremaining: 657ms\n",
            "759:\tlearn: 1742.2234635\ttest: 2620.2379240\tbest: 2620.2379240 (759)\ttotal: 2.07s\tremaining: 654ms\n",
            "760:\tlearn: 1739.2709510\ttest: 2619.2642362\tbest: 2619.2642362 (760)\ttotal: 2.07s\tremaining: 651ms\n",
            "761:\tlearn: 1737.2055443\ttest: 2616.6336368\tbest: 2616.6336368 (761)\ttotal: 2.08s\tremaining: 648ms\n",
            "762:\tlearn: 1734.7898440\ttest: 2615.5607179\tbest: 2615.5607179 (762)\ttotal: 2.08s\tremaining: 645ms\n",
            "763:\tlearn: 1733.9035563\ttest: 2615.3207898\tbest: 2615.3207898 (763)\ttotal: 2.08s\tremaining: 643ms\n",
            "764:\tlearn: 1731.9405276\ttest: 2613.4992144\tbest: 2613.4992144 (764)\ttotal: 2.08s\tremaining: 640ms\n",
            "765:\tlearn: 1731.6049872\ttest: 2613.3223918\tbest: 2613.3223918 (765)\ttotal: 2.08s\tremaining: 637ms\n",
            "766:\tlearn: 1730.7188235\ttest: 2613.2536464\tbest: 2613.2536464 (766)\ttotal: 2.09s\tremaining: 634ms\n",
            "767:\tlearn: 1728.8655174\ttest: 2612.2473907\tbest: 2612.2473907 (767)\ttotal: 2.09s\tremaining: 631ms\n",
            "768:\tlearn: 1727.7047011\ttest: 2611.6073926\tbest: 2611.6073926 (768)\ttotal: 2.09s\tremaining: 628ms\n",
            "769:\tlearn: 1726.0266760\ttest: 2610.9716265\tbest: 2610.9716265 (769)\ttotal: 2.09s\tremaining: 626ms\n",
            "770:\tlearn: 1724.6551924\ttest: 2610.5860156\tbest: 2610.5860156 (770)\ttotal: 2.1s\tremaining: 623ms\n",
            "771:\tlearn: 1723.0068066\ttest: 2609.7135733\tbest: 2609.7135733 (771)\ttotal: 2.1s\tremaining: 620ms\n",
            "772:\tlearn: 1721.9552849\ttest: 2608.8231867\tbest: 2608.8231867 (772)\ttotal: 2.1s\tremaining: 617ms\n",
            "773:\tlearn: 1720.7134035\ttest: 2607.6245825\tbest: 2607.6245825 (773)\ttotal: 2.1s\tremaining: 614ms\n",
            "774:\tlearn: 1718.3019665\ttest: 2605.3428693\tbest: 2605.3428693 (774)\ttotal: 2.11s\tremaining: 612ms\n",
            "775:\tlearn: 1715.5024209\ttest: 2603.1951342\tbest: 2603.1951342 (775)\ttotal: 2.11s\tremaining: 609ms\n",
            "776:\tlearn: 1713.7761320\ttest: 2602.3077543\tbest: 2602.3077543 (776)\ttotal: 2.11s\tremaining: 606ms\n",
            "777:\tlearn: 1712.0966333\ttest: 2601.4520030\tbest: 2601.4520030 (777)\ttotal: 2.11s\tremaining: 603ms\n",
            "778:\tlearn: 1710.7971539\ttest: 2600.6488004\tbest: 2600.6488004 (778)\ttotal: 2.12s\tremaining: 600ms\n",
            "779:\tlearn: 1708.0785749\ttest: 2596.4484715\tbest: 2596.4484715 (779)\ttotal: 2.12s\tremaining: 597ms\n",
            "780:\tlearn: 1705.1894876\ttest: 2589.7939139\tbest: 2589.7939139 (780)\ttotal: 2.12s\tremaining: 595ms\n",
            "781:\tlearn: 1704.0316245\ttest: 2589.2491793\tbest: 2589.2491793 (781)\ttotal: 2.12s\tremaining: 592ms\n",
            "782:\tlearn: 1703.4151586\ttest: 2589.4334915\tbest: 2589.2491793 (781)\ttotal: 2.12s\tremaining: 589ms\n",
            "783:\tlearn: 1700.9441469\ttest: 2588.0953454\tbest: 2588.0953454 (783)\ttotal: 2.13s\tremaining: 586ms\n",
            "784:\tlearn: 1699.0375800\ttest: 2585.8499531\tbest: 2585.8499531 (784)\ttotal: 2.13s\tremaining: 583ms\n",
            "785:\tlearn: 1697.8069751\ttest: 2585.7983672\tbest: 2585.7983672 (785)\ttotal: 2.13s\tremaining: 580ms\n",
            "786:\tlearn: 1696.2432125\ttest: 2584.5798600\tbest: 2584.5798600 (786)\ttotal: 2.13s\tremaining: 578ms\n",
            "787:\tlearn: 1695.8485649\ttest: 2584.5019565\tbest: 2584.5019565 (787)\ttotal: 2.14s\tremaining: 575ms\n",
            "788:\tlearn: 1694.5421241\ttest: 2583.8331571\tbest: 2583.8331571 (788)\ttotal: 2.14s\tremaining: 573ms\n",
            "789:\tlearn: 1691.8311846\ttest: 2581.0556186\tbest: 2581.0556186 (789)\ttotal: 2.15s\tremaining: 571ms\n",
            "790:\tlearn: 1690.2980179\ttest: 2579.9910592\tbest: 2579.9910592 (790)\ttotal: 2.15s\tremaining: 569ms\n",
            "791:\tlearn: 1689.2002943\ttest: 2580.6871940\tbest: 2579.9910592 (790)\ttotal: 2.15s\tremaining: 566ms\n",
            "792:\tlearn: 1688.6103873\ttest: 2580.6813237\tbest: 2579.9910592 (790)\ttotal: 2.16s\tremaining: 563ms\n",
            "793:\tlearn: 1686.8260030\ttest: 2579.5291801\tbest: 2579.5291801 (793)\ttotal: 2.16s\tremaining: 560ms\n",
            "794:\tlearn: 1685.3432443\ttest: 2578.9625253\tbest: 2578.9625253 (794)\ttotal: 2.16s\tremaining: 557ms\n",
            "795:\tlearn: 1685.0805199\ttest: 2578.9855854\tbest: 2578.9625253 (794)\ttotal: 2.16s\tremaining: 555ms\n",
            "796:\tlearn: 1684.8334999\ttest: 2579.0168666\tbest: 2578.9625253 (794)\ttotal: 2.17s\tremaining: 552ms\n",
            "797:\tlearn: 1683.1014497\ttest: 2578.1968226\tbest: 2578.1968226 (797)\ttotal: 2.17s\tremaining: 549ms\n",
            "798:\tlearn: 1681.4090602\ttest: 2577.6601032\tbest: 2577.6601032 (798)\ttotal: 2.17s\tremaining: 546ms\n",
            "799:\tlearn: 1680.7563272\ttest: 2576.9797172\tbest: 2576.9797172 (799)\ttotal: 2.17s\tremaining: 543ms\n",
            "800:\tlearn: 1679.1369692\ttest: 2576.7866447\tbest: 2576.7866447 (800)\ttotal: 2.17s\tremaining: 540ms\n",
            "801:\tlearn: 1677.5217382\ttest: 2576.0315109\tbest: 2576.0315109 (801)\ttotal: 2.18s\tremaining: 538ms\n",
            "802:\tlearn: 1675.7841707\ttest: 2575.4799387\tbest: 2575.4799387 (802)\ttotal: 2.18s\tremaining: 535ms\n",
            "803:\tlearn: 1673.0532029\ttest: 2573.5704835\tbest: 2573.5704835 (803)\ttotal: 2.18s\tremaining: 532ms\n",
            "804:\tlearn: 1671.2077177\ttest: 2572.2523440\tbest: 2572.2523440 (804)\ttotal: 2.18s\tremaining: 529ms\n",
            "805:\tlearn: 1669.8368269\ttest: 2571.3140523\tbest: 2571.3140523 (805)\ttotal: 2.19s\tremaining: 526ms\n",
            "806:\tlearn: 1667.3432116\ttest: 2569.1256322\tbest: 2569.1256322 (806)\ttotal: 2.19s\tremaining: 524ms\n",
            "807:\tlearn: 1667.0596394\ttest: 2569.2509706\tbest: 2569.1256322 (806)\ttotal: 2.19s\tremaining: 521ms\n",
            "808:\tlearn: 1665.3617976\ttest: 2567.0251563\tbest: 2567.0251563 (808)\ttotal: 2.19s\tremaining: 518ms\n",
            "809:\tlearn: 1664.2254883\ttest: 2566.2844105\tbest: 2566.2844105 (809)\ttotal: 2.2s\tremaining: 515ms\n",
            "810:\tlearn: 1662.4927888\ttest: 2564.6900653\tbest: 2564.6900653 (810)\ttotal: 2.2s\tremaining: 512ms\n",
            "811:\tlearn: 1662.2026939\ttest: 2564.7893131\tbest: 2564.6900653 (810)\ttotal: 2.2s\tremaining: 510ms\n",
            "812:\tlearn: 1660.7769350\ttest: 2564.6819498\tbest: 2564.6819498 (812)\ttotal: 2.2s\tremaining: 507ms\n",
            "813:\tlearn: 1658.4250960\ttest: 2562.1035905\tbest: 2562.1035905 (813)\ttotal: 2.21s\tremaining: 504ms\n",
            "814:\tlearn: 1656.8328804\ttest: 2560.2769090\tbest: 2560.2769090 (814)\ttotal: 2.21s\tremaining: 501ms\n",
            "815:\tlearn: 1655.3696743\ttest: 2558.8172561\tbest: 2558.8172561 (815)\ttotal: 2.21s\tremaining: 498ms\n",
            "816:\tlearn: 1654.3672011\ttest: 2556.8138723\tbest: 2556.8138723 (816)\ttotal: 2.21s\tremaining: 496ms\n",
            "817:\tlearn: 1654.1826467\ttest: 2556.8604298\tbest: 2556.8138723 (816)\ttotal: 2.21s\tremaining: 493ms\n",
            "818:\tlearn: 1651.9168728\ttest: 2556.9769017\tbest: 2556.8138723 (816)\ttotal: 2.22s\tremaining: 490ms\n",
            "819:\tlearn: 1647.9702845\ttest: 2553.2445720\tbest: 2553.2445720 (819)\ttotal: 2.22s\tremaining: 487ms\n",
            "820:\tlearn: 1646.1865953\ttest: 2550.5601184\tbest: 2550.5601184 (820)\ttotal: 2.22s\tremaining: 484ms\n",
            "821:\tlearn: 1645.1090548\ttest: 2550.2602392\tbest: 2550.2602392 (821)\ttotal: 2.22s\tremaining: 482ms\n",
            "822:\tlearn: 1643.2392383\ttest: 2550.2836490\tbest: 2550.2602392 (821)\ttotal: 2.23s\tremaining: 479ms\n",
            "823:\tlearn: 1643.0287458\ttest: 2550.2509191\tbest: 2550.2509191 (823)\ttotal: 2.23s\tremaining: 476ms\n",
            "824:\tlearn: 1639.8180001\ttest: 2548.7996282\tbest: 2548.7996282 (824)\ttotal: 2.23s\tremaining: 473ms\n",
            "825:\tlearn: 1637.8198045\ttest: 2547.2742470\tbest: 2547.2742470 (825)\ttotal: 2.23s\tremaining: 471ms\n",
            "826:\tlearn: 1635.7727429\ttest: 2546.2522359\tbest: 2546.2522359 (826)\ttotal: 2.24s\tremaining: 468ms\n",
            "827:\tlearn: 1634.7254783\ttest: 2545.7396750\tbest: 2545.7396750 (827)\ttotal: 2.24s\tremaining: 465ms\n",
            "828:\tlearn: 1633.1806518\ttest: 2544.7889304\tbest: 2544.7889304 (828)\ttotal: 2.24s\tremaining: 462ms\n",
            "829:\tlearn: 1632.1875680\ttest: 2543.6078161\tbest: 2543.6078161 (829)\ttotal: 2.24s\tremaining: 459ms\n",
            "830:\tlearn: 1630.6691166\ttest: 2542.1760970\tbest: 2542.1760970 (830)\ttotal: 2.25s\tremaining: 457ms\n",
            "831:\tlearn: 1628.7609802\ttest: 2540.6080825\tbest: 2540.6080825 (831)\ttotal: 2.25s\tremaining: 454ms\n",
            "832:\tlearn: 1627.2135457\ttest: 2539.4849371\tbest: 2539.4849371 (832)\ttotal: 2.25s\tremaining: 451ms\n",
            "833:\tlearn: 1625.9141230\ttest: 2538.9178661\tbest: 2538.9178661 (833)\ttotal: 2.25s\tremaining: 448ms\n",
            "834:\tlearn: 1624.9216415\ttest: 2537.7812183\tbest: 2537.7812183 (834)\ttotal: 2.25s\tremaining: 446ms\n",
            "835:\tlearn: 1624.6274254\ttest: 2537.6629037\tbest: 2537.6629037 (835)\ttotal: 2.26s\tremaining: 443ms\n",
            "836:\tlearn: 1624.1753079\ttest: 2538.2747413\tbest: 2537.6629037 (835)\ttotal: 2.26s\tremaining: 440ms\n",
            "837:\tlearn: 1622.1786309\ttest: 2535.6749675\tbest: 2535.6749675 (837)\ttotal: 2.26s\tremaining: 437ms\n",
            "838:\tlearn: 1620.4633893\ttest: 2535.4176896\tbest: 2535.4176896 (838)\ttotal: 2.26s\tremaining: 435ms\n",
            "839:\tlearn: 1619.7683266\ttest: 2534.9155496\tbest: 2534.9155496 (839)\ttotal: 2.27s\tremaining: 432ms\n",
            "840:\tlearn: 1616.4777961\ttest: 2531.8200187\tbest: 2531.8200187 (840)\ttotal: 2.27s\tremaining: 429ms\n",
            "841:\tlearn: 1615.6299239\ttest: 2531.4367625\tbest: 2531.4367625 (841)\ttotal: 2.27s\tremaining: 426ms\n",
            "842:\tlearn: 1612.6189275\ttest: 2528.5759488\tbest: 2528.5759488 (842)\ttotal: 2.27s\tremaining: 423ms\n",
            "843:\tlearn: 1611.8154929\ttest: 2527.9066113\tbest: 2527.9066113 (843)\ttotal: 2.28s\tremaining: 421ms\n",
            "844:\tlearn: 1609.8792793\ttest: 2526.2885656\tbest: 2526.2885656 (844)\ttotal: 2.28s\tremaining: 418ms\n",
            "845:\tlearn: 1608.9428225\ttest: 2525.0344363\tbest: 2525.0344363 (845)\ttotal: 2.28s\tremaining: 415ms\n",
            "846:\tlearn: 1606.0512663\ttest: 2523.0432833\tbest: 2523.0432833 (846)\ttotal: 2.28s\tremaining: 412ms\n",
            "847:\tlearn: 1603.2749570\ttest: 2521.7376811\tbest: 2521.7376811 (847)\ttotal: 2.29s\tremaining: 410ms\n",
            "848:\tlearn: 1602.0449428\ttest: 2521.8279120\tbest: 2521.7376811 (847)\ttotal: 2.29s\tremaining: 407ms\n",
            "849:\tlearn: 1600.7809955\ttest: 2520.5414017\tbest: 2520.5414017 (849)\ttotal: 2.29s\tremaining: 404ms\n",
            "850:\tlearn: 1599.6314952\ttest: 2520.0704009\tbest: 2520.0704009 (850)\ttotal: 2.29s\tremaining: 401ms\n",
            "851:\tlearn: 1597.9641143\ttest: 2518.6303891\tbest: 2518.6303891 (851)\ttotal: 2.29s\tremaining: 399ms\n",
            "852:\tlearn: 1595.0848119\ttest: 2515.3529803\tbest: 2515.3529803 (852)\ttotal: 2.3s\tremaining: 396ms\n",
            "853:\tlearn: 1593.5626339\ttest: 2514.6968239\tbest: 2514.6968239 (853)\ttotal: 2.3s\tremaining: 393ms\n",
            "854:\tlearn: 1592.3427709\ttest: 2514.6717459\tbest: 2514.6717459 (854)\ttotal: 2.3s\tremaining: 390ms\n",
            "855:\tlearn: 1591.1221499\ttest: 2513.5846739\tbest: 2513.5846739 (855)\ttotal: 2.3s\tremaining: 388ms\n",
            "856:\tlearn: 1588.8533409\ttest: 2512.1438860\tbest: 2512.1438860 (856)\ttotal: 2.31s\tremaining: 385ms\n",
            "857:\tlearn: 1586.2582639\ttest: 2509.9697288\tbest: 2509.9697288 (857)\ttotal: 2.31s\tremaining: 382ms\n",
            "858:\tlearn: 1584.0782054\ttest: 2508.5786980\tbest: 2508.5786980 (858)\ttotal: 2.31s\tremaining: 379ms\n",
            "859:\tlearn: 1582.3387344\ttest: 2506.8940651\tbest: 2506.8940651 (859)\ttotal: 2.31s\tremaining: 377ms\n",
            "860:\tlearn: 1581.1740900\ttest: 2505.8681460\tbest: 2505.8681460 (860)\ttotal: 2.32s\tremaining: 374ms\n",
            "861:\tlearn: 1578.3345891\ttest: 2504.1674835\tbest: 2504.1674835 (861)\ttotal: 2.32s\tremaining: 371ms\n",
            "862:\tlearn: 1576.4874651\ttest: 2502.8536815\tbest: 2502.8536815 (862)\ttotal: 2.32s\tremaining: 368ms\n",
            "863:\tlearn: 1575.2198688\ttest: 2501.0995067\tbest: 2501.0995067 (863)\ttotal: 2.32s\tremaining: 366ms\n",
            "864:\tlearn: 1574.9992778\ttest: 2501.0160315\tbest: 2501.0160315 (864)\ttotal: 2.33s\tremaining: 363ms\n",
            "865:\tlearn: 1573.7998207\ttest: 2500.4182347\tbest: 2500.4182347 (865)\ttotal: 2.33s\tremaining: 360ms\n",
            "866:\tlearn: 1572.8859171\ttest: 2499.5903723\tbest: 2499.5903723 (866)\ttotal: 2.33s\tremaining: 357ms\n",
            "867:\tlearn: 1571.0847723\ttest: 2500.8662643\tbest: 2499.5903723 (866)\ttotal: 2.33s\tremaining: 355ms\n",
            "868:\tlearn: 1568.6082990\ttest: 2499.1286639\tbest: 2499.1286639 (868)\ttotal: 2.33s\tremaining: 352ms\n",
            "869:\tlearn: 1566.5711416\ttest: 2498.4048229\tbest: 2498.4048229 (869)\ttotal: 2.34s\tremaining: 350ms\n",
            "870:\tlearn: 1565.2471665\ttest: 2497.8387589\tbest: 2497.8387589 (870)\ttotal: 2.34s\tremaining: 347ms\n",
            "871:\tlearn: 1561.7894537\ttest: 2495.0383618\tbest: 2495.0383618 (871)\ttotal: 2.35s\tremaining: 345ms\n",
            "872:\tlearn: 1560.3928757\ttest: 2494.1426430\tbest: 2494.1426430 (872)\ttotal: 2.35s\tremaining: 342ms\n",
            "873:\tlearn: 1558.0350546\ttest: 2492.1934834\tbest: 2492.1934834 (873)\ttotal: 2.35s\tremaining: 339ms\n",
            "874:\tlearn: 1556.0232869\ttest: 2491.8464703\tbest: 2491.8464703 (874)\ttotal: 2.35s\tremaining: 337ms\n",
            "875:\tlearn: 1554.5779918\ttest: 2490.2600393\tbest: 2490.2600393 (875)\ttotal: 2.36s\tremaining: 334ms\n",
            "876:\tlearn: 1552.5828237\ttest: 2489.4472813\tbest: 2489.4472813 (876)\ttotal: 2.36s\tremaining: 331ms\n",
            "877:\tlearn: 1552.2410907\ttest: 2489.1770066\tbest: 2489.1770066 (877)\ttotal: 2.36s\tremaining: 328ms\n",
            "878:\tlearn: 1551.0183004\ttest: 2489.1200467\tbest: 2489.1200467 (878)\ttotal: 2.37s\tremaining: 326ms\n",
            "879:\tlearn: 1549.8166767\ttest: 2488.6186254\tbest: 2488.6186254 (879)\ttotal: 2.37s\tremaining: 323ms\n",
            "880:\tlearn: 1548.8856956\ttest: 2486.3991932\tbest: 2486.3991932 (880)\ttotal: 2.37s\tremaining: 320ms\n",
            "881:\tlearn: 1546.6805873\ttest: 2483.8385794\tbest: 2483.8385794 (881)\ttotal: 2.37s\tremaining: 317ms\n",
            "882:\tlearn: 1545.0949282\ttest: 2483.0709475\tbest: 2483.0709475 (882)\ttotal: 2.37s\tremaining: 315ms\n",
            "883:\tlearn: 1544.1241830\ttest: 2482.5921009\tbest: 2482.5921009 (883)\ttotal: 2.38s\tremaining: 312ms\n",
            "884:\tlearn: 1543.2276823\ttest: 2482.1509391\tbest: 2482.1509391 (884)\ttotal: 2.38s\tremaining: 309ms\n",
            "885:\tlearn: 1541.8965356\ttest: 2481.3828680\tbest: 2481.3828680 (885)\ttotal: 2.38s\tremaining: 306ms\n",
            "886:\tlearn: 1539.9231440\ttest: 2479.0870769\tbest: 2479.0870769 (886)\ttotal: 2.38s\tremaining: 304ms\n",
            "887:\tlearn: 1538.8307290\ttest: 2478.9707399\tbest: 2478.9707399 (887)\ttotal: 2.39s\tremaining: 301ms\n",
            "888:\tlearn: 1537.5574993\ttest: 2477.6470010\tbest: 2477.6470010 (888)\ttotal: 2.39s\tremaining: 298ms\n",
            "889:\tlearn: 1536.3628956\ttest: 2477.1464490\tbest: 2477.1464490 (889)\ttotal: 2.39s\tremaining: 296ms\n",
            "890:\tlearn: 1534.3129069\ttest: 2476.3002963\tbest: 2476.3002963 (890)\ttotal: 2.39s\tremaining: 293ms\n",
            "891:\tlearn: 1532.6559566\ttest: 2474.6045994\tbest: 2474.6045994 (891)\ttotal: 2.4s\tremaining: 290ms\n",
            "892:\tlearn: 1531.8501946\ttest: 2474.3999930\tbest: 2474.3999930 (892)\ttotal: 2.4s\tremaining: 287ms\n",
            "893:\tlearn: 1529.8920369\ttest: 2473.1830394\tbest: 2473.1830394 (893)\ttotal: 2.4s\tremaining: 285ms\n",
            "894:\tlearn: 1527.8559538\ttest: 2472.0228046\tbest: 2472.0228046 (894)\ttotal: 2.4s\tremaining: 282ms\n",
            "895:\tlearn: 1526.7548456\ttest: 2470.4492866\tbest: 2470.4492866 (895)\ttotal: 2.4s\tremaining: 279ms\n",
            "896:\tlearn: 1526.0942763\ttest: 2470.3576912\tbest: 2470.3576912 (896)\ttotal: 2.41s\tremaining: 276ms\n",
            "897:\tlearn: 1524.7977219\ttest: 2469.2911683\tbest: 2469.2911683 (897)\ttotal: 2.41s\tremaining: 274ms\n",
            "898:\tlearn: 1522.7400488\ttest: 2468.0078980\tbest: 2468.0078980 (898)\ttotal: 2.41s\tremaining: 271ms\n",
            "899:\tlearn: 1522.0530523\ttest: 2467.6878621\tbest: 2467.6878621 (899)\ttotal: 2.41s\tremaining: 268ms\n",
            "900:\tlearn: 1520.4230879\ttest: 2466.8258402\tbest: 2466.8258402 (900)\ttotal: 2.42s\tremaining: 266ms\n",
            "901:\tlearn: 1519.8954698\ttest: 2466.6297525\tbest: 2466.6297525 (901)\ttotal: 2.42s\tremaining: 263ms\n",
            "902:\tlearn: 1518.6951243\ttest: 2466.0795616\tbest: 2466.0795616 (902)\ttotal: 2.42s\tremaining: 260ms\n",
            "903:\tlearn: 1516.7171621\ttest: 2463.7805948\tbest: 2463.7805948 (903)\ttotal: 2.42s\tremaining: 257ms\n",
            "904:\tlearn: 1514.7526376\ttest: 2462.2666585\tbest: 2462.2666585 (904)\ttotal: 2.43s\tremaining: 255ms\n",
            "905:\tlearn: 1512.2158448\ttest: 2456.5895200\tbest: 2456.5895200 (905)\ttotal: 2.43s\tremaining: 252ms\n",
            "906:\tlearn: 1510.7360221\ttest: 2455.2498242\tbest: 2455.2498242 (906)\ttotal: 2.43s\tremaining: 249ms\n",
            "907:\tlearn: 1507.8843821\ttest: 2450.3617038\tbest: 2450.3617038 (907)\ttotal: 2.43s\tremaining: 247ms\n",
            "908:\tlearn: 1506.7949726\ttest: 2449.9023865\tbest: 2449.9023865 (908)\ttotal: 2.44s\tremaining: 244ms\n",
            "909:\tlearn: 1505.4444008\ttest: 2448.9175128\tbest: 2448.9175128 (909)\ttotal: 2.44s\tremaining: 241ms\n",
            "910:\tlearn: 1503.1870227\ttest: 2448.1194588\tbest: 2448.1194588 (910)\ttotal: 2.44s\tremaining: 238ms\n",
            "911:\tlearn: 1500.8638840\ttest: 2445.9827973\tbest: 2445.9827973 (911)\ttotal: 2.44s\tremaining: 236ms\n",
            "912:\tlearn: 1499.6955351\ttest: 2445.0480622\tbest: 2445.0480622 (912)\ttotal: 2.44s\tremaining: 233ms\n",
            "913:\tlearn: 1498.2617241\ttest: 2444.5078532\tbest: 2444.5078532 (913)\ttotal: 2.45s\tremaining: 230ms\n",
            "914:\tlearn: 1496.3790278\ttest: 2443.3530482\tbest: 2443.3530482 (914)\ttotal: 2.45s\tremaining: 228ms\n",
            "915:\tlearn: 1494.8393254\ttest: 2441.7966237\tbest: 2441.7966237 (915)\ttotal: 2.45s\tremaining: 225ms\n",
            "916:\tlearn: 1492.7189059\ttest: 2439.4812515\tbest: 2439.4812515 (916)\ttotal: 2.46s\tremaining: 222ms\n",
            "917:\tlearn: 1490.1982033\ttest: 2438.5787705\tbest: 2438.5787705 (917)\ttotal: 2.46s\tremaining: 220ms\n",
            "918:\tlearn: 1489.5616979\ttest: 2437.9991977\tbest: 2437.9991977 (918)\ttotal: 2.46s\tremaining: 217ms\n",
            "919:\tlearn: 1488.5800180\ttest: 2437.8127493\tbest: 2437.8127493 (919)\ttotal: 2.46s\tremaining: 214ms\n",
            "920:\tlearn: 1486.7731974\ttest: 2435.8770123\tbest: 2435.8770123 (920)\ttotal: 2.46s\tremaining: 211ms\n",
            "921:\tlearn: 1485.1161646\ttest: 2434.3290879\tbest: 2434.3290879 (921)\ttotal: 2.47s\tremaining: 209ms\n",
            "922:\tlearn: 1484.6717169\ttest: 2434.5789006\tbest: 2434.3290879 (921)\ttotal: 2.47s\tremaining: 206ms\n",
            "923:\tlearn: 1482.6342719\ttest: 2433.6597262\tbest: 2433.6597262 (923)\ttotal: 2.47s\tremaining: 203ms\n",
            "924:\tlearn: 1481.5057677\ttest: 2433.3270370\tbest: 2433.3270370 (924)\ttotal: 2.47s\tremaining: 201ms\n",
            "925:\tlearn: 1481.3243086\ttest: 2433.2543518\tbest: 2433.2543518 (925)\ttotal: 2.48s\tremaining: 198ms\n",
            "926:\tlearn: 1480.2454278\ttest: 2432.4384417\tbest: 2432.4384417 (926)\ttotal: 2.48s\tremaining: 195ms\n",
            "927:\tlearn: 1479.4066494\ttest: 2431.5852515\tbest: 2431.5852515 (927)\ttotal: 2.48s\tremaining: 192ms\n",
            "928:\tlearn: 1477.8343770\ttest: 2430.5268709\tbest: 2430.5268709 (928)\ttotal: 2.48s\tremaining: 190ms\n",
            "929:\tlearn: 1476.1807585\ttest: 2429.5620899\tbest: 2429.5620899 (929)\ttotal: 2.48s\tremaining: 187ms\n",
            "930:\tlearn: 1474.2654359\ttest: 2427.4182496\tbest: 2427.4182496 (930)\ttotal: 2.49s\tremaining: 184ms\n",
            "931:\tlearn: 1474.1731763\ttest: 2427.2888741\tbest: 2427.2888741 (931)\ttotal: 2.49s\tremaining: 182ms\n",
            "932:\tlearn: 1472.7604225\ttest: 2425.6168913\tbest: 2425.6168913 (932)\ttotal: 2.49s\tremaining: 179ms\n",
            "933:\tlearn: 1472.1258568\ttest: 2425.0669430\tbest: 2425.0669430 (933)\ttotal: 2.5s\tremaining: 176ms\n",
            "934:\tlearn: 1470.1726746\ttest: 2423.5951890\tbest: 2423.5951890 (934)\ttotal: 2.5s\tremaining: 174ms\n",
            "935:\tlearn: 1469.6307340\ttest: 2423.2667982\tbest: 2423.2667982 (935)\ttotal: 2.5s\tremaining: 171ms\n",
            "936:\tlearn: 1468.7778694\ttest: 2422.8864606\tbest: 2422.8864606 (936)\ttotal: 2.5s\tremaining: 168ms\n",
            "937:\tlearn: 1467.1977781\ttest: 2422.8093479\tbest: 2422.8093479 (937)\ttotal: 2.5s\tremaining: 166ms\n",
            "938:\tlearn: 1465.8857833\ttest: 2421.9880772\tbest: 2421.9880772 (938)\ttotal: 2.51s\tremaining: 163ms\n",
            "939:\tlearn: 1464.7027515\ttest: 2421.0898549\tbest: 2421.0898549 (939)\ttotal: 2.51s\tremaining: 160ms\n",
            "940:\tlearn: 1464.3603664\ttest: 2420.2485592\tbest: 2420.2485592 (940)\ttotal: 2.51s\tremaining: 157ms\n",
            "941:\tlearn: 1460.3566892\ttest: 2416.8678865\tbest: 2416.8678865 (941)\ttotal: 2.51s\tremaining: 155ms\n",
            "942:\tlearn: 1458.9973737\ttest: 2416.3913781\tbest: 2416.3913781 (942)\ttotal: 2.52s\tremaining: 152ms\n",
            "943:\tlearn: 1456.8340025\ttest: 2414.3847460\tbest: 2414.3847460 (943)\ttotal: 2.52s\tremaining: 149ms\n",
            "944:\tlearn: 1454.1500040\ttest: 2412.4628915\tbest: 2412.4628915 (944)\ttotal: 2.53s\tremaining: 147ms\n",
            "945:\tlearn: 1451.6503126\ttest: 2408.6727599\tbest: 2408.6727599 (945)\ttotal: 2.54s\tremaining: 145ms\n",
            "946:\tlearn: 1450.5615532\ttest: 2407.9544341\tbest: 2407.9544341 (946)\ttotal: 2.55s\tremaining: 143ms\n",
            "947:\tlearn: 1449.4584977\ttest: 2407.3921125\tbest: 2407.3921125 (947)\ttotal: 2.55s\tremaining: 140ms\n",
            "948:\tlearn: 1447.8822024\ttest: 2406.1815725\tbest: 2406.1815725 (948)\ttotal: 2.56s\tremaining: 137ms\n",
            "949:\tlearn: 1446.1348553\ttest: 2405.7148624\tbest: 2405.7148624 (949)\ttotal: 2.56s\tremaining: 135ms\n",
            "950:\tlearn: 1444.7502457\ttest: 2403.6270106\tbest: 2403.6270106 (950)\ttotal: 2.56s\tremaining: 132ms\n",
            "951:\tlearn: 1442.8097872\ttest: 2402.1601752\tbest: 2402.1601752 (951)\ttotal: 2.56s\tremaining: 129ms\n",
            "952:\tlearn: 1440.4584657\ttest: 2399.9342836\tbest: 2399.9342836 (952)\ttotal: 2.57s\tremaining: 127ms\n",
            "953:\tlearn: 1439.2762441\ttest: 2398.6071573\tbest: 2398.6071573 (953)\ttotal: 2.57s\tremaining: 124ms\n",
            "954:\tlearn: 1438.3977172\ttest: 2398.3339460\tbest: 2398.3339460 (954)\ttotal: 2.57s\tremaining: 121ms\n",
            "955:\tlearn: 1436.4773839\ttest: 2396.5160742\tbest: 2396.5160742 (955)\ttotal: 2.57s\tremaining: 118ms\n",
            "956:\tlearn: 1435.5458900\ttest: 2396.5230878\tbest: 2396.5160742 (955)\ttotal: 2.58s\tremaining: 116ms\n",
            "957:\tlearn: 1434.7523643\ttest: 2395.9861727\tbest: 2395.9861727 (957)\ttotal: 2.58s\tremaining: 113ms\n",
            "958:\tlearn: 1434.5162817\ttest: 2395.1718684\tbest: 2395.1718684 (958)\ttotal: 2.58s\tremaining: 110ms\n",
            "959:\tlearn: 1432.9969497\ttest: 2394.3065601\tbest: 2394.3065601 (959)\ttotal: 2.58s\tremaining: 108ms\n",
            "960:\tlearn: 1431.3752897\ttest: 2393.4586520\tbest: 2393.4586520 (960)\ttotal: 2.58s\tremaining: 105ms\n",
            "961:\tlearn: 1430.5491533\ttest: 2391.9771007\tbest: 2391.9771007 (961)\ttotal: 2.59s\tremaining: 102ms\n",
            "962:\tlearn: 1429.0240960\ttest: 2390.3552053\tbest: 2390.3552053 (962)\ttotal: 2.59s\tremaining: 99.6ms\n",
            "963:\tlearn: 1427.2944410\ttest: 2389.4676278\tbest: 2389.4676278 (963)\ttotal: 2.59s\tremaining: 96.9ms\n",
            "964:\tlearn: 1425.7226497\ttest: 2388.0597480\tbest: 2388.0597480 (964)\ttotal: 2.6s\tremaining: 94.2ms\n",
            "965:\tlearn: 1425.2292738\ttest: 2387.8773210\tbest: 2387.8773210 (965)\ttotal: 2.6s\tremaining: 91.5ms\n",
            "966:\tlearn: 1424.8246026\ttest: 2387.8664146\tbest: 2387.8664146 (966)\ttotal: 2.6s\tremaining: 88.8ms\n",
            "967:\tlearn: 1423.7992257\ttest: 2386.2557852\tbest: 2386.2557852 (967)\ttotal: 2.6s\tremaining: 86.1ms\n",
            "968:\tlearn: 1422.4997772\ttest: 2385.7718647\tbest: 2385.7718647 (968)\ttotal: 2.6s\tremaining: 83.4ms\n",
            "969:\tlearn: 1420.2147974\ttest: 2383.9063377\tbest: 2383.9063377 (969)\ttotal: 2.61s\tremaining: 80.7ms\n",
            "970:\tlearn: 1418.8455886\ttest: 2382.2817960\tbest: 2382.2817960 (970)\ttotal: 2.61s\tremaining: 78ms\n",
            "971:\tlearn: 1418.2091867\ttest: 2382.0148348\tbest: 2382.0148348 (971)\ttotal: 2.61s\tremaining: 75.3ms\n",
            "972:\tlearn: 1416.9181748\ttest: 2381.5047703\tbest: 2381.5047703 (972)\ttotal: 2.62s\tremaining: 72.6ms\n",
            "973:\tlearn: 1414.7392133\ttest: 2378.5915341\tbest: 2378.5915341 (973)\ttotal: 2.62s\tremaining: 69.9ms\n",
            "974:\tlearn: 1412.9767142\ttest: 2377.6637583\tbest: 2377.6637583 (974)\ttotal: 2.62s\tremaining: 67.2ms\n",
            "975:\tlearn: 1412.0181813\ttest: 2377.2604935\tbest: 2377.2604935 (975)\ttotal: 2.62s\tremaining: 64.5ms\n",
            "976:\tlearn: 1410.7766867\ttest: 2376.7190154\tbest: 2376.7190154 (976)\ttotal: 2.62s\tremaining: 61.8ms\n",
            "977:\tlearn: 1409.2050234\ttest: 2375.5585131\tbest: 2375.5585131 (977)\ttotal: 2.63s\tremaining: 59.1ms\n",
            "978:\tlearn: 1407.8239085\ttest: 2373.5757468\tbest: 2373.5757468 (978)\ttotal: 2.63s\tremaining: 56.4ms\n",
            "979:\tlearn: 1406.5257592\ttest: 2374.2194119\tbest: 2373.5757468 (978)\ttotal: 2.63s\tremaining: 53.7ms\n",
            "980:\tlearn: 1405.6284828\ttest: 2373.2803933\tbest: 2373.2803933 (980)\ttotal: 2.63s\tremaining: 51ms\n",
            "981:\tlearn: 1404.4019423\ttest: 2371.6824710\tbest: 2371.6824710 (981)\ttotal: 2.64s\tremaining: 48.3ms\n",
            "982:\tlearn: 1402.9533787\ttest: 2370.0195570\tbest: 2370.0195570 (982)\ttotal: 2.64s\tremaining: 45.6ms\n",
            "983:\tlearn: 1400.3780483\ttest: 2367.2343663\tbest: 2367.2343663 (983)\ttotal: 2.64s\tremaining: 43ms\n",
            "984:\tlearn: 1399.4103788\ttest: 2366.6315126\tbest: 2366.6315126 (984)\ttotal: 2.64s\tremaining: 40.3ms\n",
            "985:\tlearn: 1397.7838043\ttest: 2364.4486425\tbest: 2364.4486425 (985)\ttotal: 2.65s\tremaining: 37.6ms\n",
            "986:\tlearn: 1395.5614076\ttest: 2362.5031614\tbest: 2362.5031614 (986)\ttotal: 2.65s\tremaining: 34.9ms\n",
            "987:\tlearn: 1393.8357012\ttest: 2361.3895678\tbest: 2361.3895678 (987)\ttotal: 2.65s\tremaining: 32.2ms\n",
            "988:\tlearn: 1392.4642775\ttest: 2360.6570557\tbest: 2360.6570557 (988)\ttotal: 2.65s\tremaining: 29.5ms\n",
            "989:\tlearn: 1390.9470900\ttest: 2360.1019586\tbest: 2360.1019586 (989)\ttotal: 2.66s\tremaining: 26.8ms\n",
            "990:\tlearn: 1389.9016015\ttest: 2359.1504357\tbest: 2359.1504357 (990)\ttotal: 2.66s\tremaining: 24.1ms\n",
            "991:\tlearn: 1388.5292400\ttest: 2356.8728719\tbest: 2356.8728719 (991)\ttotal: 2.66s\tremaining: 21.5ms\n",
            "992:\tlearn: 1387.5725213\ttest: 2356.4195488\tbest: 2356.4195488 (992)\ttotal: 2.66s\tremaining: 18.8ms\n",
            "993:\tlearn: 1385.0575755\ttest: 2355.0649622\tbest: 2355.0649622 (993)\ttotal: 2.67s\tremaining: 16.1ms\n",
            "994:\tlearn: 1384.4749812\ttest: 2354.8125427\tbest: 2354.8125427 (994)\ttotal: 2.67s\tremaining: 13.4ms\n",
            "995:\tlearn: 1383.6581916\ttest: 2354.3814930\tbest: 2354.3814930 (995)\ttotal: 2.67s\tremaining: 10.7ms\n",
            "996:\tlearn: 1382.6723875\ttest: 2353.5074115\tbest: 2353.5074115 (996)\ttotal: 2.67s\tremaining: 8.04ms\n",
            "997:\tlearn: 1380.7183696\ttest: 2351.8670215\tbest: 2351.8670215 (997)\ttotal: 2.67s\tremaining: 5.36ms\n",
            "998:\tlearn: 1379.2492277\ttest: 2351.2518250\tbest: 2351.2518250 (998)\ttotal: 2.68s\tremaining: 2.68ms\n",
            "999:\tlearn: 1378.3355316\ttest: 2350.4804782\tbest: 2350.4804782 (999)\ttotal: 2.68s\tremaining: 0us\n",
            "\n",
            "bestTest = 2350.480478\n",
            "bestIteration = 999\n",
            "\n"
          ]
        },
        {
          "output_type": "execute_result",
          "data": {
            "text/plain": [
              "<catboost.core.CatBoostRegressor at 0x7f3e11754090>"
            ]
          },
          "metadata": {},
          "execution_count": 103
        }
      ]
    },
    {
      "cell_type": "code",
      "source": [
        "y_predict_cat= cat_model.predict(X_test)"
      ],
      "metadata": {
        "id": "gOSM3hRTqXRB"
      },
      "execution_count": null,
      "outputs": []
    },
    {
      "cell_type": "code",
      "source": [
        "#Finding the accuracy scores \n",
        "from sklearn.metrics import mean_absolute_error\n",
        "print(\"MAE\",mean_absolute_error(y_test,y_predict_cat))"
      ],
      "metadata": {
        "colab": {
          "base_uri": "https://localhost:8080/"
        },
        "id": "ScOORgpJqpz1",
        "outputId": "59406138-7e52-4034-8161-9d5fc6c73729"
      },
      "execution_count": null,
      "outputs": [
        {
          "output_type": "stream",
          "name": "stdout",
          "text": [
            "MAE 1209.5457683285595\n"
          ]
        }
      ]
    },
    {
      "cell_type": "code",
      "source": [
        "# Make prediction on the test set\n",
        "test_df = test[main_cols]\n",
        "predictions_cat = cat_model.predict(test_df)\n",
        "\n",
        "# # Create a submission file\n",
        "sub_file_7 = samplesubmission.copy()\n",
        "sub_file_7.target = predictions_cat\n",
        "\n",
        "# Check the distribution of your predictions\n",
        "plt.figure(figsize=(12, 6))\n",
        "sns.boxplot(sub_file_7.target)\n",
        "plt.title('Predictions Data Distribution');"
      ],
      "metadata": {
        "colab": {
          "base_uri": "https://localhost:8080/",
          "height": 407
        },
        "id": "fmF997jtq7kf",
        "outputId": "42980c18-bbd3-4ecf-e17a-a89b55722f55"
      },
      "execution_count": null,
      "outputs": [
        {
          "output_type": "display_data",
          "data": {
            "text/plain": [
              "<Figure size 864x432 with 1 Axes>"
            ],
            "image/png": "[encoded data removed]"
          },
          "metadata": {
            "needs_background": "light"
          }
        }
      ]
    },
    {
      "cell_type": "code",
      "source": [
        "# Preview the sub_file\n",
        "sub_file_7.head()"
      ],
      "metadata": {
        "colab": {
          "base_uri": "https://localhost:8080/",
          "height": 206
        },
        "id": "8XAQG2RArMhq",
        "outputId": "38eba8dd-bcc4-428c-b955-162f0d1c9c2e"
      },
      "execution_count": null,
      "outputs": [
        {
          "output_type": "execute_result",
          "data": {
            "text/plain": [
              "          claim_id     target\n",
              "0  ID_4RO0KZI9BBW2 9228.80851\n",
              "1  ID_GTE9ZUJ9GZ97 5893.41708\n",
              "2  ID_RUVIYRKWZ4RG 2002.20100\n",
              "3  ID_J81X8SWU6JYN -193.66683\n",
              "4  ID_94NM3JJAWWOQ 5582.30263"
            ],
            "text/html": [
              "\n",
              "  <div id=\"df-180bf355-848c-4356-abe1-83491d0969bb\">\n",
              "    <div class=\"colab-df-container\">\n",
              "      <div>\n",
              "<style scoped>\n",
              "    .dataframe tbody tr th:only-of-type {\n",
              "        vertical-align: middle;\n",
              "    }\n",
              "\n",
              "    .dataframe tbody tr th {\n",
              "        vertical-align: top;\n",
              "    }\n",
              "\n",
              "    .dataframe thead th {\n",
              "        text-align: right;\n",
              "    }\n",
              "</style>\n",
              "<table border=\"1\" class=\"dataframe\">\n",
              "  <thead>\n",
              "    <tr style=\"text-align: right;\">\n",
              "      <th></th>\n",
              "      <th>claim_id</th>\n",
              "      <th>target</th>\n",
              "    </tr>\n",
              "  </thead>\n",
              "  <tbody>\n",
              "    <tr>\n",
              "      <th>0</th>\n",
              "      <td>ID_4RO0KZI9BBW2</td>\n",
              "      <td>9228.80851</td>\n",
              "    </tr>\n",
              "    <tr>\n",
              "      <th>1</th>\n",
              "      <td>ID_GTE9ZUJ9GZ97</td>\n",
              "      <td>5893.41708</td>\n",
              "    </tr>\n",
              "    <tr>\n",
              "      <th>2</th>\n",
              "      <td>ID_RUVIYRKWZ4RG</td>\n",
              "      <td>2002.20100</td>\n",
              "    </tr>\n",
              "    <tr>\n",
              "      <th>3</th>\n",
              "      <td>ID_J81X8SWU6JYN</td>\n",
              "      <td>-193.66683</td>\n",
              "    </tr>\n",
              "    <tr>\n",
              "      <th>4</th>\n",
              "      <td>ID_94NM3JJAWWOQ</td>\n",
              "      <td>5582.30263</td>\n",
              "    </tr>\n",
              "  </tbody>\n",
              "</table>\n",
              "</div>\n",
              "      <button class=\"colab-df-convert\" onclick=\"convertToInteractive('df-180bf355-848c-4356-abe1-83491d0969bb')\"\n",
              "              title=\"Convert this dataframe to an interactive table.\"\n",
              "              style=\"display:none;\">\n",
              "        \n",
              "  <svg xmlns=\"http://www.w3.org/2000/svg\" height=\"24px\"viewBox=\"0 0 24 24\"\n",
              "       width=\"24px\">\n",
              "    <path d=\"M0 0h24v24H0V0z\" fill=\"none\"/>\n",
              "    <path d=\"M18.56 5.44l.94 2.06.94-2.06 2.06-.94-2.06-.94-.94-2.06-.94 2.06-2.06.94zm-11 1L8.5 8.5l.94-2.06 2.06-.94-2.06-.94L8.5 2.5l-.94 2.06-2.06.94zm10 10l.94 2.06.94-2.06 2.06-.94-2.06-.94-.94-2.06-.94 2.06-2.06.94z\"/><path d=\"M17.41 7.96l-1.37-1.37c-.4-.4-.92-.59-1.43-.59-.52 0-1.04.2-1.43.59L10.3 9.45l-7.72 7.72c-.78.78-.78 2.05 0 2.83L4 21.41c.39.39.9.59 1.41.59.51 0 1.02-.2 1.41-.59l7.78-7.78 2.81-2.81c.8-.78.8-2.07 0-2.86zM5.41 20L4 18.59l7.72-7.72 1.47 1.35L5.41 20z\"/>\n",
              "  </svg>\n",
              "      </button>\n",
              "      \n",
              "  <style>\n",
              "    .colab-df-container {\n",
              "      display:flex;\n",
              "      flex-wrap:wrap;\n",
              "      gap: 12px;\n",
              "    }\n",
              "\n",
              "    .colab-df-convert {\n",
              "      background-color: #E8F0FE;\n",
              "      border: none;\n",
              "      border-radius: 50%;\n",
              "      cursor: pointer;\n",
              "      display: none;\n",
              "      fill: #1967D2;\n",
              "      height: 32px;\n",
              "      padding: 0 0 0 0;\n",
              "      width: 32px;\n",
              "    }\n",
              "\n",
              "    .colab-df-convert:hover {\n",
              "      background-color: #E2EBFA;\n",
              "      box-shadow: 0px 1px 2px rgba(60, 64, 67, 0.3), 0px 1px 3px 1px rgba(60, 64, 67, 0.15);\n",
              "      fill: #174EA6;\n",
              "    }\n",
              "\n",
              "    [theme=dark] .colab-df-convert {\n",
              "      background-color: #3B4455;\n",
              "      fill: #D2E3FC;\n",
              "    }\n",
              "\n",
              "    [theme=dark] .colab-df-convert:hover {\n",
              "      background-color: #434B5C;\n",
              "      box-shadow: 0px 1px 3px 1px rgba(0, 0, 0, 0.15);\n",
              "      filter: drop-shadow(0px 1px 2px rgba(0, 0, 0, 0.3));\n",
              "      fill: #FFFFFF;\n",
              "    }\n",
              "  </style>\n",
              "\n",
              "      <script>\n",
              "        const buttonEl =\n",
              "          document.querySelector('#df-180bf355-848c-4356-abe1-83491d0969bb button.colab-df-convert');\n",
              "        buttonEl.style.display =\n",
              "          google.colab.kernel.accessAllowed ? 'block' : 'none';\n",
              "\n",
              "        async function convertToInteractive(key) {\n",
              "          const element = document.querySelector('#df-180bf355-848c-4356-abe1-83491d0969bb');\n",
              "          const dataTable =\n",
              "            await google.colab.kernel.invokeFunction('convertToInteractive',\n",
              "                                                     [key], {});\n",
              "          if (!dataTable) return;\n",
              "\n",
              "          const docLinkHtml = 'Like what you see? Visit the ' +\n",
              "            '<a target=\"_blank\" href=https://colab.research.google.com/notebooks/data_table.ipynb>data table notebook</a>'\n",
              "            + ' to learn more about interactive tables.';\n",
              "          element.innerHTML = '';\n",
              "          dataTable['output_type'] = 'display_data';\n",
              "          await google.colab.output.renderOutput(dataTable, element);\n",
              "          const docLink = document.createElement('div');\n",
              "          docLink.innerHTML = docLinkHtml;\n",
              "          element.appendChild(docLink);\n",
              "        }\n",
              "      </script>\n",
              "    </div>\n",
              "  </div>\n",
              "  "
            ]
          },
          "metadata": {},
          "execution_count": 108
        }
      ]
    },
    {
      "cell_type": "code",
      "source": [
        "# Write to csv file to submit to Zindi\n",
        "sub_file_7.to_csv(\"CCI_7.csv\", index = False)"
      ],
      "metadata": {
        "id": "NKWykkE5rXIb"
      },
      "execution_count": null,
      "outputs": []
    },
    {
      "cell_type": "markdown",
      "source": [
        "## Random Forest Regressor"
      ],
      "metadata": {
        "id": "FzLi50h0hlHN"
      }
    },
    {
      "cell_type": "code",
      "source": [
        "# Finding the best parameters.\n",
        "from sklearn.ensemble import RandomForestRegressor\n",
        "\n",
        "model=RandomForestRegressor()\n",
        "params = {'bootstrap': [True, False],\n",
        " 'max_depth': [5, 10, 15],\n",
        " 'max_features': ['auto', 'sqrt'],\n",
        " 'min_samples_leaf': [1, 2, 4],\n",
        " 'min_samples_split': [2, 5, 10],\n",
        " \"n_estimators\":[100,500]\n",
        "}\n",
        "\n",
        "grid_search = GridSearchCV(estimator=model, \n",
        "                           param_grid=params, \n",
        "                           cv=3, n_jobs=1, verbose=1, scoring = \"neg_mean_absolute_error\")"
      ],
      "metadata": {
        "id": "dxP0Z9AUhZg8"
      },
      "execution_count": null,
      "outputs": []
    },
    {
      "cell_type": "code",
      "source": [
        "# Fitting grid search\n",
        "best_clf = grid_search.fit(X_train, y_train)\n",
        "\n",
        "print('Best bootstrap:', best_clf.best_estimator_.get_params()['bootstrap'])\n",
        "print('Best min_samples_leaf:', best_clf.best_estimator_.get_params()['min_samples_leaf'])\n",
        "print('Best Max_depth:', best_clf.best_estimator_.get_params()['max_depth'])\n",
        "print('Best max_features:', best_clf.best_estimator_.get_params()['max_features'])\n",
        "print('Best n_estimators:', best_clf.best_estimator_.get_params()['n_estimators'])\n",
        "print('best_score',best_clf.best_score_)"
      ],
      "metadata": {
        "colab": {
          "base_uri": "https://localhost:8080/"
        },
        "id": "yMiQ4mlFhy32",
        "outputId": "63047a6d-9598-4058-ceea-50dffa2ab1d4"
      },
      "execution_count": null,
      "outputs": [
        {
          "output_type": "stream",
          "name": "stdout",
          "text": [
            "Fitting 3 folds for each of 216 candidates, totalling 648 fits\n",
            "Best bootstrap: False\n",
            "Best min_samples_leaf: 1\n",
            "Best Max_depth: 15\n",
            "Best max_features: sqrt\n",
            "Best n_estimators: 500\n",
            "best_score -881.8691199505589\n"
          ]
        }
      ]
    },
    {
      "cell_type": "code",
      "source": [
        "from sklearn.ensemble import RandomForestRegressor\n",
        "\n",
        "#Initiating the random forest regressor:\n",
        "Forest = RandomForestRegressor(n_estimators = 500,min_samples_leaf = 1, random_state=0, max_depth=15)\n",
        "\n",
        "#Fitting the model:\n",
        "Forest.fit(X_train, y_train )\n",
        "\n",
        "#Applying the trained model to make a prediction:\n",
        "y_pred_for = Forest.predict(X_test)"
      ],
      "metadata": {
        "id": "pUct9bu1m6fh"
      },
      "execution_count": null,
      "outputs": []
    },
    {
      "cell_type": "code",
      "source": [
        "#Finding the accuracy scores \n",
        "from sklearn.metrics import mean_absolute_error\n",
        "print(\"MAE\",mean_absolute_error(y_test,y_pred_for))"
      ],
      "metadata": {
        "colab": {
          "base_uri": "https://localhost:8080/"
        },
        "id": "tx4QRNd8nQu9",
        "outputId": "0333daf8-99b9-414f-fc8a-4a920d530835"
      },
      "execution_count": null,
      "outputs": [
        {
          "output_type": "stream",
          "name": "stdout",
          "text": [
            "MAE 932.8859418440735\n"
          ]
        }
      ]
    },
    {
      "cell_type": "code",
      "source": [
        "# Make prediction on the test set\n",
        "test_df = test[main_cols]\n",
        "predictions = Forest.predict(test_df)\n",
        "\n",
        "# # Create a submission file\n",
        "sub_file_6 = samplesubmission.copy()\n",
        "sub_file_6.target = predictions\n",
        "\n",
        "# Check the distribution of your predictions\n",
        "plt.figure(figsize=(12, 6))\n",
        "sns.boxplot(sub_file_6.target)\n",
        "plt.title('Predictions Data Distribution');"
      ],
      "metadata": {
        "colab": {
          "base_uri": "https://localhost:8080/",
          "height": 407
        },
        "id": "3ydcaAoTneKq",
        "outputId": "2cf905bb-0917-4b41-92c2-5c3386277107"
      },
      "execution_count": null,
      "outputs": [
        {
          "output_type": "display_data",
          "data": {
            "text/plain": [
              "<Figure size 864x432 with 1 Axes>"
            ],
            "image/png": "[encoded data removed]"
          },
          "metadata": {
            "needs_background": "light"
          }
        }
      ]
    },
    {
      "cell_type": "code",
      "source": [
        "# Preview the sub_file\n",
        "sub_file_6.head()"
      ],
      "metadata": {
        "colab": {
          "base_uri": "https://localhost:8080/",
          "height": 206
        },
        "id": "cHKZ_EWonvq2",
        "outputId": "a5608056-37fa-4139-eb30-6c518599e384"
      },
      "execution_count": null,
      "outputs": [
        {
          "output_type": "execute_result",
          "data": {
            "text/plain": [
              "          claim_id     target\n",
              "0  ID_4RO0KZI9BBW2 3942.16610\n",
              "1  ID_GTE9ZUJ9GZ97 5565.52266\n",
              "2  ID_RUVIYRKWZ4RG 3879.14316\n",
              "3  ID_J81X8SWU6JYN  574.59093\n",
              "4  ID_94NM3JJAWWOQ 6592.53982"
            ],
            "text/html": [
              "\n",
              "  <div id=\"df-fef23dd2-a192-4bed-a42b-865eb6558de3\">\n",
              "    <div class=\"colab-df-container\">\n",
              "      <div>\n",
              "<style scoped>\n",
              "    .dataframe tbody tr th:only-of-type {\n",
              "        vertical-align: middle;\n",
              "    }\n",
              "\n",
              "    .dataframe tbody tr th {\n",
              "        vertical-align: top;\n",
              "    }\n",
              "\n",
              "    .dataframe thead th {\n",
              "        text-align: right;\n",
              "    }\n",
              "</style>\n",
              "<table border=\"1\" class=\"dataframe\">\n",
              "  <thead>\n",
              "    <tr style=\"text-align: right;\">\n",
              "      <th></th>\n",
              "      <th>claim_id</th>\n",
              "      <th>target</th>\n",
              "    </tr>\n",
              "  </thead>\n",
              "  <tbody>\n",
              "    <tr>\n",
              "      <th>0</th>\n",
              "      <td>ID_4RO0KZI9BBW2</td>\n",
              "      <td>3942.16610</td>\n",
              "    </tr>\n",
              "    <tr>\n",
              "      <th>1</th>\n",
              "      <td>ID_GTE9ZUJ9GZ97</td>\n",
              "      <td>5565.52266</td>\n",
              "    </tr>\n",
              "    <tr>\n",
              "      <th>2</th>\n",
              "      <td>ID_RUVIYRKWZ4RG</td>\n",
              "      <td>3879.14316</td>\n",
              "    </tr>\n",
              "    <tr>\n",
              "      <th>3</th>\n",
              "      <td>ID_J81X8SWU6JYN</td>\n",
              "      <td>574.59093</td>\n",
              "    </tr>\n",
              "    <tr>\n",
              "      <th>4</th>\n",
              "      <td>ID_94NM3JJAWWOQ</td>\n",
              "      <td>6592.53982</td>\n",
              "    </tr>\n",
              "  </tbody>\n",
              "</table>\n",
              "</div>\n",
              "      <button class=\"colab-df-convert\" onclick=\"convertToInteractive('df-fef23dd2-a192-4bed-a42b-865eb6558de3')\"\n",
              "              title=\"Convert this dataframe to an interactive table.\"\n",
              "              style=\"display:none;\">\n",
              "        \n",
              "  <svg xmlns=\"http://www.w3.org/2000/svg\" height=\"24px\"viewBox=\"0 0 24 24\"\n",
              "       width=\"24px\">\n",
              "    <path d=\"M0 0h24v24H0V0z\" fill=\"none\"/>\n",
              "    <path d=\"M18.56 5.44l.94 2.06.94-2.06 2.06-.94-2.06-.94-.94-2.06-.94 2.06-2.06.94zm-11 1L8.5 8.5l.94-2.06 2.06-.94-2.06-.94L8.5 2.5l-.94 2.06-2.06.94zm10 10l.94 2.06.94-2.06 2.06-.94-2.06-.94-.94-2.06-.94 2.06-2.06.94z\"/><path d=\"M17.41 7.96l-1.37-1.37c-.4-.4-.92-.59-1.43-.59-.52 0-1.04.2-1.43.59L10.3 9.45l-7.72 7.72c-.78.78-.78 2.05 0 2.83L4 21.41c.39.39.9.59 1.41.59.51 0 1.02-.2 1.41-.59l7.78-7.78 2.81-2.81c.8-.78.8-2.07 0-2.86zM5.41 20L4 18.59l7.72-7.72 1.47 1.35L5.41 20z\"/>\n",
              "  </svg>\n",
              "      </button>\n",
              "      \n",
              "  <style>\n",
              "    .colab-df-container {\n",
              "      display:flex;\n",
              "      flex-wrap:wrap;\n",
              "      gap: 12px;\n",
              "    }\n",
              "\n",
              "    .colab-df-convert {\n",
              "      background-color: #E8F0FE;\n",
              "      border: none;\n",
              "      border-radius: 50%;\n",
              "      cursor: pointer;\n",
              "      display: none;\n",
              "      fill: #1967D2;\n",
              "      height: 32px;\n",
              "      padding: 0 0 0 0;\n",
              "      width: 32px;\n",
              "    }\n",
              "\n",
              "    .colab-df-convert:hover {\n",
              "      background-color: #E2EBFA;\n",
              "      box-shadow: 0px 1px 2px rgba(60, 64, 67, 0.3), 0px 1px 3px 1px rgba(60, 64, 67, 0.15);\n",
              "      fill: #174EA6;\n",
              "    }\n",
              "\n",
              "    [theme=dark] .colab-df-convert {\n",
              "      background-color: #3B4455;\n",
              "      fill: #D2E3FC;\n",
              "    }\n",
              "\n",
              "    [theme=dark] .colab-df-convert:hover {\n",
              "      background-color: #434B5C;\n",
              "      box-shadow: 0px 1px 3px 1px rgba(0, 0, 0, 0.15);\n",
              "      filter: drop-shadow(0px 1px 2px rgba(0, 0, 0, 0.3));\n",
              "      fill: #FFFFFF;\n",
              "    }\n",
              "  </style>\n",
              "\n",
              "      <script>\n",
              "        const buttonEl =\n",
              "          document.querySelector('#df-fef23dd2-a192-4bed-a42b-865eb6558de3 button.colab-df-convert');\n",
              "        buttonEl.style.display =\n",
              "          google.colab.kernel.accessAllowed ? 'block' : 'none';\n",
              "\n",
              "        async function convertToInteractive(key) {\n",
              "          const element = document.querySelector('#df-fef23dd2-a192-4bed-a42b-865eb6558de3');\n",
              "          const dataTable =\n",
              "            await google.colab.kernel.invokeFunction('convertToInteractive',\n",
              "                                                     [key], {});\n",
              "          if (!dataTable) return;\n",
              "\n",
              "          const docLinkHtml = 'Like what you see? Visit the ' +\n",
              "            '<a target=\"_blank\" href=https://colab.research.google.com/notebooks/data_table.ipynb>data table notebook</a>'\n",
              "            + ' to learn more about interactive tables.';\n",
              "          element.innerHTML = '';\n",
              "          dataTable['output_type'] = 'display_data';\n",
              "          await google.colab.output.renderOutput(dataTable, element);\n",
              "          const docLink = document.createElement('div');\n",
              "          docLink.innerHTML = docLinkHtml;\n",
              "          element.appendChild(docLink);\n",
              "        }\n",
              "      </script>\n",
              "    </div>\n",
              "  </div>\n",
              "  "
            ]
          },
          "metadata": {},
          "execution_count": 94
        }
      ]
    },
    {
      "cell_type": "code",
      "source": [
        "# Write to csv file to submit to Zindi\n",
        "sub_file_6.to_csv(\"CCI_6.csv\", index = False)"
      ],
      "metadata": {
        "id": "HK9uRbX6nzBq"
      },
      "execution_count": null,
      "outputs": []
    },
    {
      "cell_type": "markdown",
      "source": [
        "## Support Vector Regressor"
      ],
      "metadata": {
        "id": "B9TfmwpXtWn_"
      }
    },
    {
      "cell_type": "code",
      "source": [
        "from sklearn.svm import SVR\n",
        "sv_regressor = SVR(kernel = 'rbf')\n",
        "\n",
        "#Fitting the model:\n",
        "sv_regressor.fit(X_train, y_train )\n",
        "\n",
        "#Applying the trained model to make a prediction:\n",
        "y_pred_svr = sv_regressor.predict(X_test)"
      ],
      "metadata": {
        "id": "xLMyzB0btaXJ"
      },
      "execution_count": null,
      "outputs": []
    },
    {
      "cell_type": "code",
      "source": [
        "#Finding the accuracy scores \n",
        "from sklearn.metrics import mean_absolute_error\n",
        "print(\"MAE\",mean_absolute_error(y_test,y_pred_svr))"
      ],
      "metadata": {
        "colab": {
          "base_uri": "https://localhost:8080/"
        },
        "id": "V2zhUOlQuBQn",
        "outputId": "4a378ce7-e191-4261-cb52-6a5e156fc418"
      },
      "execution_count": null,
      "outputs": [
        {
          "output_type": "stream",
          "name": "stdout",
          "text": [
            "MAE 5093.0306295820665\n"
          ]
        }
      ]
    },
    {
      "cell_type": "code",
      "source": [
        "# Make prediction on the test set\n",
        "test_df = test[main_cols]\n",
        "predictions = sv_regressor.predict(test_df)\n",
        "\n",
        "# # Create a submission file\n",
        "sub_file_8 = samplesubmission.copy()\n",
        "sub_file_8.target = predictions\n",
        "\n",
        "# Check the distribution of your predictions\n",
        "plt.figure(figsize=(12, 6))\n",
        "sns.boxplot(sub_file_8.target)\n",
        "plt.title('Predictions Data Distribution');"
      ],
      "metadata": {
        "colab": {
          "base_uri": "https://localhost:8080/",
          "height": 407
        },
        "id": "G7BhvhhwuEO7",
        "outputId": "9de117db-cfd6-46f1-9171-b1fc17379f5e"
      },
      "execution_count": null,
      "outputs": [
        {
          "output_type": "display_data",
          "data": {
            "text/plain": [
              "<Figure size 864x432 with 1 Axes>"
            ],
            "image/png": "[encoded data removed]"
          },
          "metadata": {
            "needs_background": "light"
          }
        }
      ]
    },
    {
      "cell_type": "markdown",
      "source": [
        "## Light GBM"
      ],
      "metadata": {
        "id": "ZnOQPfFHsaqz"
      }
    },
    {
      "cell_type": "code",
      "source": [
        "#parameter tuning\n",
        "from lightgbm import LGBMRegressor\n",
        "lg = LGBMRegressor(silent=False)\n",
        "param_dist = {\"max_depth\": [25,50, 75],\n",
        "              \"learning_rate\" : [0.01,0.05,0.1],\n",
        "              \"num_leaves\": [300,900,1200],\n",
        "              \"n_estimators\": [100,200]\n",
        "             }\n",
        "search = GridSearchCV(estimator=lg, n_jobs=-1, param_grid=param_dist, cv = 10, scoring=\"neg_mean_squared_error\", verbose=5)"
      ],
      "metadata": {
        "id": "KjMU0YKIsOqY"
      },
      "execution_count": null,
      "outputs": []
    },
    {
      "cell_type": "code",
      "source": [
        "#finding the best parametres\n",
        "search.fit(X_train,y_train)\n",
        "print(search.best_params_)\n",
        "abs(search.best_score_)"
      ],
      "metadata": {
        "colab": {
          "base_uri": "https://localhost:8080/"
        },
        "id": "tt3ldXg3smO7",
        "outputId": "ee24c3b7-a748-4433-90c5-11c888a652ce"
      },
      "execution_count": null,
      "outputs": [
        {
          "output_type": "stream",
          "name": "stdout",
          "text": [
            "Fitting 10 folds for each of 54 candidates, totalling 540 fits\n",
            "{'learning_rate': 0.1, 'max_depth': 25, 'n_estimators': 200, 'num_leaves': 300}\n"
          ]
        },
        {
          "output_type": "execute_result",
          "data": {
            "text/plain": [
              "3436479.692139213"
            ]
          },
          "metadata": {},
          "execution_count": 111
        }
      ]
    },
    {
      "cell_type": "code",
      "source": [
        "import lightgbm as lgb\n",
        "lgbm_model = lgb.LGBMRegressor(learning_rate=0.1, max_depth=25, n_estimators = 200, num_leaves = 300, random_state=0)\n",
        "lgbm_model.fit(X_train,y_train,eval_set=[(X_test,y_test),(X_train,y_train)],\n",
        "          verbose=20,eval_metric='neg_mean_absolute_error')"
      ],
      "metadata": {
        "colab": {
          "base_uri": "https://localhost:8080/"
        },
        "id": "l0fhWHikuahV",
        "outputId": "3caa9b9d-6687-4128-e186-1c538abea097"
      },
      "execution_count": null,
      "outputs": [
        {
          "output_type": "stream",
          "name": "stdout",
          "text": [
            "[20]\ttraining's l2: 8.94144e+06\tvalid_0's l2: 1.54945e+07\n",
            "[40]\ttraining's l2: 3.53078e+06\tvalid_0's l2: 9.178e+06\n",
            "[60]\ttraining's l2: 1.87234e+06\tvalid_0's l2: 6.8896e+06\n",
            "[80]\ttraining's l2: 1.18014e+06\tvalid_0's l2: 5.93435e+06\n",
            "[100]\ttraining's l2: 791707\tvalid_0's l2: 5.38188e+06\n",
            "[120]\ttraining's l2: 563745\tvalid_0's l2: 5.04142e+06\n",
            "[140]\ttraining's l2: 415566\tvalid_0's l2: 4.8344e+06\n",
            "[160]\ttraining's l2: 318528\tvalid_0's l2: 4.68487e+06\n",
            "[180]\ttraining's l2: 248563\tvalid_0's l2: 4.58188e+06\n",
            "[200]\ttraining's l2: 198150\tvalid_0's l2: 4.53668e+06\n"
          ]
        },
        {
          "output_type": "execute_result",
          "data": {
            "text/plain": [
              "LGBMRegressor(max_depth=25, n_estimators=200, num_leaves=300, random_state=0)"
            ]
          },
          "metadata": {},
          "execution_count": 113
        }
      ]
    },
    {
      "cell_type": "code",
      "source": [
        "#Creating a prediction from the model\n",
        "y_pred_lgbm = lgbm_model.predict(X_test)\n",
        "\n",
        "#Finding its accuracy scores\n",
        "from sklearn.metrics import mean_absolute_error\n",
        "print(\"MAE\",mean_absolute_error(y_test,y_pred_lgbm))"
      ],
      "metadata": {
        "colab": {
          "base_uri": "https://localhost:8080/"
        },
        "id": "ahSLPdZKum4m",
        "outputId": "d064d5b6-4f73-443b-cc0f-31ede87f6bc0"
      },
      "execution_count": null,
      "outputs": [
        {
          "output_type": "stream",
          "name": "stdout",
          "text": [
            "MAE 500.0834372638611\n"
          ]
        }
      ]
    },
    {
      "cell_type": "code",
      "source": [
        "# Make prediction on the test set\n",
        "test_df = test[main_cols]\n",
        "predictions = lgbm_model.predict(test_df)\n",
        "\n",
        "# # Create a submission file\n",
        "sub_file_9 = samplesubmission.copy()\n",
        "sub_file_9.target = predictions\n",
        "\n",
        "# Check the distribution of your predictions\n",
        "plt.figure(figsize=(12, 6))\n",
        "sns.boxplot(sub_file_9.target)\n",
        "plt.title('Predictions Data Distribution');"
      ],
      "metadata": {
        "colab": {
          "base_uri": "https://localhost:8080/",
          "height": 407
        },
        "id": "02xPcxmrvEB2",
        "outputId": "764266db-c501-474b-fcb9-9224225dd6d8"
      },
      "execution_count": null,
      "outputs": [
        {
          "output_type": "display_data",
          "data": {
            "text/plain": [
              "<Figure size 864x432 with 1 Axes>"
            ],
            "image/png": "[encoded data removed]"
          },
          "metadata": {
            "needs_background": "light"
          }
        }
      ]
    },
    {
      "cell_type": "code",
      "source": [
        "# Preview the sub_file\n",
        "sub_file_9.head()"
      ],
      "metadata": {
        "colab": {
          "base_uri": "https://localhost:8080/",
          "height": 206
        },
        "id": "Ihblo-2Bvhua",
        "outputId": "0825dc18-c278-4033-df1d-86cb363bfe78"
      },
      "execution_count": null,
      "outputs": [
        {
          "output_type": "execute_result",
          "data": {
            "text/plain": [
              "          claim_id      target\n",
              "0  ID_4RO0KZI9BBW2  4858.95823\n",
              "1  ID_GTE9ZUJ9GZ97 12159.57352\n",
              "2  ID_RUVIYRKWZ4RG  6721.63245\n",
              "3  ID_J81X8SWU6JYN -4232.27530\n",
              "4  ID_94NM3JJAWWOQ  7134.14667"
            ],
            "text/html": [
              "\n",
              "  <div id=\"df-f94386fc-5c66-489a-9131-3dc32b3ba244\">\n",
              "    <div class=\"colab-df-container\">\n",
              "      <div>\n",
              "<style scoped>\n",
              "    .dataframe tbody tr th:only-of-type {\n",
              "        vertical-align: middle;\n",
              "    }\n",
              "\n",
              "    .dataframe tbody tr th {\n",
              "        vertical-align: top;\n",
              "    }\n",
              "\n",
              "    .dataframe thead th {\n",
              "        text-align: right;\n",
              "    }\n",
              "</style>\n",
              "<table border=\"1\" class=\"dataframe\">\n",
              "  <thead>\n",
              "    <tr style=\"text-align: right;\">\n",
              "      <th></th>\n",
              "      <th>claim_id</th>\n",
              "      <th>target</th>\n",
              "    </tr>\n",
              "  </thead>\n",
              "  <tbody>\n",
              "    <tr>\n",
              "      <th>0</th>\n",
              "      <td>ID_4RO0KZI9BBW2</td>\n",
              "      <td>4858.95823</td>\n",
              "    </tr>\n",
              "    <tr>\n",
              "      <th>1</th>\n",
              "      <td>ID_GTE9ZUJ9GZ97</td>\n",
              "      <td>12159.57352</td>\n",
              "    </tr>\n",
              "    <tr>\n",
              "      <th>2</th>\n",
              "      <td>ID_RUVIYRKWZ4RG</td>\n",
              "      <td>6721.63245</td>\n",
              "    </tr>\n",
              "    <tr>\n",
              "      <th>3</th>\n",
              "      <td>ID_J81X8SWU6JYN</td>\n",
              "      <td>-4232.27530</td>\n",
              "    </tr>\n",
              "    <tr>\n",
              "      <th>4</th>\n",
              "      <td>ID_94NM3JJAWWOQ</td>\n",
              "      <td>7134.14667</td>\n",
              "    </tr>\n",
              "  </tbody>\n",
              "</table>\n",
              "</div>\n",
              "      <button class=\"colab-df-convert\" onclick=\"convertToInteractive('df-f94386fc-5c66-489a-9131-3dc32b3ba244')\"\n",
              "              title=\"Convert this dataframe to an interactive table.\"\n",
              "              style=\"display:none;\">\n",
              "        \n",
              "  <svg xmlns=\"http://www.w3.org/2000/svg\" height=\"24px\"viewBox=\"0 0 24 24\"\n",
              "       width=\"24px\">\n",
              "    <path d=\"M0 0h24v24H0V0z\" fill=\"none\"/>\n",
              "    <path d=\"M18.56 5.44l.94 2.06.94-2.06 2.06-.94-2.06-.94-.94-2.06-.94 2.06-2.06.94zm-11 1L8.5 8.5l.94-2.06 2.06-.94-2.06-.94L8.5 2.5l-.94 2.06-2.06.94zm10 10l.94 2.06.94-2.06 2.06-.94-2.06-.94-.94-2.06-.94 2.06-2.06.94z\"/><path d=\"M17.41 7.96l-1.37-1.37c-.4-.4-.92-.59-1.43-.59-.52 0-1.04.2-1.43.59L10.3 9.45l-7.72 7.72c-.78.78-.78 2.05 0 2.83L4 21.41c.39.39.9.59 1.41.59.51 0 1.02-.2 1.41-.59l7.78-7.78 2.81-2.81c.8-.78.8-2.07 0-2.86zM5.41 20L4 18.59l7.72-7.72 1.47 1.35L5.41 20z\"/>\n",
              "  </svg>\n",
              "      </button>\n",
              "      \n",
              "  <style>\n",
              "    .colab-df-container {\n",
              "      display:flex;\n",
              "      flex-wrap:wrap;\n",
              "      gap: 12px;\n",
              "    }\n",
              "\n",
              "    .colab-df-convert {\n",
              "      background-color: #E8F0FE;\n",
              "      border: none;\n",
              "      border-radius: 50%;\n",
              "      cursor: pointer;\n",
              "      display: none;\n",
              "      fill: #1967D2;\n",
              "      height: 32px;\n",
              "      padding: 0 0 0 0;\n",
              "      width: 32px;\n",
              "    }\n",
              "\n",
              "    .colab-df-convert:hover {\n",
              "      background-color: #E2EBFA;\n",
              "      box-shadow: 0px 1px 2px rgba(60, 64, 67, 0.3), 0px 1px 3px 1px rgba(60, 64, 67, 0.15);\n",
              "      fill: #174EA6;\n",
              "    }\n",
              "\n",
              "    [theme=dark] .colab-df-convert {\n",
              "      background-color: #3B4455;\n",
              "      fill: #D2E3FC;\n",
              "    }\n",
              "\n",
              "    [theme=dark] .colab-df-convert:hover {\n",
              "      background-color: #434B5C;\n",
              "      box-shadow: 0px 1px 3px 1px rgba(0, 0, 0, 0.15);\n",
              "      filter: drop-shadow(0px 1px 2px rgba(0, 0, 0, 0.3));\n",
              "      fill: #FFFFFF;\n",
              "    }\n",
              "  </style>\n",
              "\n",
              "      <script>\n",
              "        const buttonEl =\n",
              "          document.querySelector('#df-f94386fc-5c66-489a-9131-3dc32b3ba244 button.colab-df-convert');\n",
              "        buttonEl.style.display =\n",
              "          google.colab.kernel.accessAllowed ? 'block' : 'none';\n",
              "\n",
              "        async function convertToInteractive(key) {\n",
              "          const element = document.querySelector('#df-f94386fc-5c66-489a-9131-3dc32b3ba244');\n",
              "          const dataTable =\n",
              "            await google.colab.kernel.invokeFunction('convertToInteractive',\n",
              "                                                     [key], {});\n",
              "          if (!dataTable) return;\n",
              "\n",
              "          const docLinkHtml = 'Like what you see? Visit the ' +\n",
              "            '<a target=\"_blank\" href=https://colab.research.google.com/notebooks/data_table.ipynb>data table notebook</a>'\n",
              "            + ' to learn more about interactive tables.';\n",
              "          element.innerHTML = '';\n",
              "          dataTable['output_type'] = 'display_data';\n",
              "          await google.colab.output.renderOutput(dataTable, element);\n",
              "          const docLink = document.createElement('div');\n",
              "          docLink.innerHTML = docLinkHtml;\n",
              "          element.appendChild(docLink);\n",
              "        }\n",
              "      </script>\n",
              "    </div>\n",
              "  </div>\n",
              "  "
            ]
          },
          "metadata": {},
          "execution_count": 116
        }
      ]
    },
    {
      "cell_type": "code",
      "source": [
        "# Write to csv file to submit to Zindi\n",
        "sub_file_9.to_csv(\"CCI_9.csv\", index = False)"
      ],
      "metadata": {
        "id": "D3l5cDJev34W"
      },
      "execution_count": null,
      "outputs": []
    },
    {
      "cell_type": "markdown",
      "source": [
        "MLP"
      ],
      "metadata": {
        "id": "0_f_mV0nyaYf"
      }
    },
    {
      "cell_type": "code",
      "source": [
        "from sklearn.neural_network import MLPRegressor"
      ],
      "metadata": {
        "id": "M-JtpZ2MyZpw"
      },
      "execution_count": null,
      "outputs": []
    }
  ]
}